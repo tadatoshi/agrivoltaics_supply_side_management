{
 "cells": [
  {
   "cell_type": "markdown",
   "id": "39dbb330-b11c-4a63-a201-20462efcecb9",
   "metadata": {},
   "source": [
    "## Fixed-tilt Bifacial Modeling - modelchain, in order to find a way to calculate irradiance over crops between bifacial modules"
   ]
  },
  {
   "cell_type": "markdown",
   "id": "1193556b-cb41-44df-b207-c151cd0b9fc6",
   "metadata": {},
   "source": [
    "#### Based on https://pvlib-python.readthedocs.io/en/stable/gallery/bifacial/plot_pvfactors_fixed_tilt.html#sphx-glr-gallery-bifacial-plot-pvfactors-fixed-tilt-py and https://pvlib-python.readthedocs.io/en/stable/gallery/bifacial/plot_bifi_model_mc.html"
   ]
  },
  {
   "cell_type": "code",
   "execution_count": 1,
   "id": "a13fc6a6-a838-4504-a89c-877c8f07141f",
   "metadata": {},
   "outputs": [],
   "source": [
    "%load_ext autoreload\n",
    "%autoreload 2"
   ]
  },
  {
   "cell_type": "code",
   "execution_count": 2,
   "id": "699da5e9-1b29-4576-a80d-e3f5442290c3",
   "metadata": {},
   "outputs": [],
   "source": [
    "import pandas as pd\n",
    "from pvlib import location\n",
    "from pvlib.bifacial.pvfactors import pvfactors_timeseries\n",
    "import matplotlib.pyplot as plt\n",
    "import warnings\n",
    "\n",
    "# supressing shapely warnings that occur on import of pvfactors\n",
    "warnings.filterwarnings(action='ignore', module='pvfactors')"
   ]
  },
  {
   "cell_type": "code",
   "execution_count": 23,
   "id": "dbd5fdfb-33f7-4c07-a8ba-33b9007dc39c",
   "metadata": {},
   "outputs": [],
   "source": [
    "from pvlib import pvsystem\n",
    "from pvlib import modelchain\n",
    "from pvlib.temperature import TEMPERATURE_MODEL_PARAMETERS as PARAMS"
   ]
  },
  {
   "cell_type": "markdown",
   "id": "4b8ea8ab-9a86-42b9-9a78-0c56be1f727a",
   "metadata": {},
   "source": [
    "### Get irradiance"
   ]
  },
  {
   "cell_type": "code",
   "execution_count": 35,
   "id": "6aaa760a-11d1-42d0-9aad-3293d4ffba79",
   "metadata": {},
   "outputs": [],
   "source": [
    "times = pd.date_range('2021-06-21', '2021-06-22', freq='1T', tz='Etc/GMT+5')\n",
    "loc = location.Location(latitude=40, longitude=-80, tz=times.tz)\n",
    "sp = loc.get_solarposition(times)\n",
    "cs = loc.get_clearsky(times)\n",
    "\n",
    "# example array geometry\n",
    "pvrow_height = 1\n",
    "pvrow_width = 4\n",
    "pitch = 10\n",
    "gcr = pvrow_width / pitch\n",
    "axis_azimuth = 180\n",
    "albedo = 0.2"
   ]
  },
  {
   "cell_type": "code",
   "execution_count": 13,
   "id": "f514730f-4b99-46d5-bb20-e4bd3c53ec4e",
   "metadata": {},
   "outputs": [],
   "source": [
    "irrad = pvfactors_timeseries(\n",
    "    solar_azimuth=sp['azimuth'],\n",
    "    solar_zenith=sp['apparent_zenith'],\n",
    "    surface_azimuth=180,  # south-facing array\n",
    "    surface_tilt=20,\n",
    "    axis_azimuth=90,  # 90 degrees off from surface_azimuth.  270 is ok too\n",
    "    timestamps=times,\n",
    "    dni=cs['dni'],\n",
    "    dhi=cs['dhi'],\n",
    "    gcr=gcr,\n",
    "    pvrow_height=pvrow_height,\n",
    "    pvrow_width=pvrow_width,\n",
    "    albedo=albedo,\n",
    "    n_pvrows=3,\n",
    "    index_observed_pvrow=1\n",
    ")"
   ]
  },
  {
   "cell_type": "code",
   "execution_count": 14,
   "id": "bd71f79a-3aa1-4bb9-9859-66bfef4bbf4c",
   "metadata": {
    "collapsed": true,
    "jupyter": {
     "outputs_hidden": true
    },
    "tags": []
   },
   "outputs": [
    {
     "data": {
      "text/plain": [
       "(2021-06-21 00:00:00-05:00    0.0\n",
       " 2021-06-21 00:01:00-05:00    0.0\n",
       " 2021-06-21 00:02:00-05:00    0.0\n",
       " 2021-06-21 00:03:00-05:00    0.0\n",
       " 2021-06-21 00:04:00-05:00    0.0\n",
       "                             ... \n",
       " 2021-06-21 23:56:00-05:00    0.0\n",
       " 2021-06-21 23:57:00-05:00    0.0\n",
       " 2021-06-21 23:58:00-05:00    0.0\n",
       " 2021-06-21 23:59:00-05:00    0.0\n",
       " 2021-06-22 00:00:00-05:00    0.0\n",
       " Freq: T, Name: total_inc_front, Length: 1441, dtype: float64,\n",
       " 2021-06-21 00:00:00-05:00    0.0\n",
       " 2021-06-21 00:01:00-05:00    0.0\n",
       " 2021-06-21 00:02:00-05:00    0.0\n",
       " 2021-06-21 00:03:00-05:00    0.0\n",
       " 2021-06-21 00:04:00-05:00    0.0\n",
       "                             ... \n",
       " 2021-06-21 23:56:00-05:00    0.0\n",
       " 2021-06-21 23:57:00-05:00    0.0\n",
       " 2021-06-21 23:58:00-05:00    0.0\n",
       " 2021-06-21 23:59:00-05:00    0.0\n",
       " 2021-06-22 00:00:00-05:00    0.0\n",
       " Freq: T, Name: total_inc_back, Length: 1441, dtype: float64,\n",
       " 2021-06-21 00:00:00-05:00    0.0\n",
       " 2021-06-21 00:01:00-05:00    0.0\n",
       " 2021-06-21 00:02:00-05:00    0.0\n",
       " 2021-06-21 00:03:00-05:00    0.0\n",
       " 2021-06-21 00:04:00-05:00    0.0\n",
       "                             ... \n",
       " 2021-06-21 23:56:00-05:00    0.0\n",
       " 2021-06-21 23:57:00-05:00    0.0\n",
       " 2021-06-21 23:58:00-05:00    0.0\n",
       " 2021-06-21 23:59:00-05:00    0.0\n",
       " 2021-06-22 00:00:00-05:00    0.0\n",
       " Freq: T, Name: total_abs_front, Length: 1441, dtype: float64,\n",
       " 2021-06-21 00:00:00-05:00    0.0\n",
       " 2021-06-21 00:01:00-05:00    0.0\n",
       " 2021-06-21 00:02:00-05:00    0.0\n",
       " 2021-06-21 00:03:00-05:00    0.0\n",
       " 2021-06-21 00:04:00-05:00    0.0\n",
       "                             ... \n",
       " 2021-06-21 23:56:00-05:00    0.0\n",
       " 2021-06-21 23:57:00-05:00    0.0\n",
       " 2021-06-21 23:58:00-05:00    0.0\n",
       " 2021-06-21 23:59:00-05:00    0.0\n",
       " 2021-06-22 00:00:00-05:00    0.0\n",
       " Freq: T, Name: total_abs_back, Length: 1441, dtype: float64)"
      ]
     },
     "execution_count": 14,
     "metadata": {},
     "output_type": "execute_result"
    }
   ],
   "source": [
    "irrad"
   ]
  },
  {
   "cell_type": "code",
   "execution_count": 15,
   "id": "f606c5bd-2ab8-4b64-b258-8c52b6c73541",
   "metadata": {},
   "outputs": [
    {
     "data": {
      "text/plain": [
       "tuple"
      ]
     },
     "execution_count": 15,
     "metadata": {},
     "output_type": "execute_result"
    }
   ],
   "source": [
    "type(irrad)"
   ]
  },
  {
   "cell_type": "code",
   "execution_count": 16,
   "id": "d006c7b4-5a27-49d6-aa67-32aa65e8190a",
   "metadata": {
    "collapsed": true,
    "jupyter": {
     "outputs_hidden": true
    },
    "tags": []
   },
   "outputs": [
    {
     "data": {
      "text/plain": [
       "2021-06-21 00:00:00-05:00    0.0\n",
       "2021-06-21 00:01:00-05:00    0.0\n",
       "2021-06-21 00:02:00-05:00    0.0\n",
       "2021-06-21 00:03:00-05:00    0.0\n",
       "2021-06-21 00:04:00-05:00    0.0\n",
       "                            ... \n",
       "2021-06-21 23:56:00-05:00    0.0\n",
       "2021-06-21 23:57:00-05:00    0.0\n",
       "2021-06-21 23:58:00-05:00    0.0\n",
       "2021-06-21 23:59:00-05:00    0.0\n",
       "2021-06-22 00:00:00-05:00    0.0\n",
       "Freq: T, Name: total_inc_front, Length: 1441, dtype: float64"
      ]
     },
     "execution_count": 16,
     "metadata": {},
     "output_type": "execute_result"
    }
   ],
   "source": [
    "irrad[0]"
   ]
  },
  {
   "cell_type": "code",
   "execution_count": 17,
   "id": "c2d3e211-72ef-49eb-ade8-bdd79c3c9c36",
   "metadata": {},
   "outputs": [
    {
     "data": {
      "text/plain": [
       "pandas.core.series.Series"
      ]
     },
     "execution_count": 17,
     "metadata": {},
     "output_type": "execute_result"
    }
   ],
   "source": [
    "type(irrad[0])"
   ]
  },
  {
   "cell_type": "code",
   "execution_count": 18,
   "id": "8baad3f0-23ca-4248-aac5-89c4ab04fbdb",
   "metadata": {
    "collapsed": true,
    "jupyter": {
     "outputs_hidden": true
    },
    "tags": []
   },
   "outputs": [
    {
     "data": {
      "text/plain": [
       "2021-06-21 00:00:00-05:00    0.0\n",
       "2021-06-21 00:01:00-05:00    0.0\n",
       "2021-06-21 00:02:00-05:00    0.0\n",
       "2021-06-21 00:03:00-05:00    0.0\n",
       "2021-06-21 00:04:00-05:00    0.0\n",
       "                            ... \n",
       "2021-06-21 23:56:00-05:00    0.0\n",
       "2021-06-21 23:57:00-05:00    0.0\n",
       "2021-06-21 23:58:00-05:00    0.0\n",
       "2021-06-21 23:59:00-05:00    0.0\n",
       "2021-06-22 00:00:00-05:00    0.0\n",
       "Freq: T, Name: total_inc_back, Length: 1441, dtype: float64"
      ]
     },
     "execution_count": 18,
     "metadata": {},
     "output_type": "execute_result"
    }
   ],
   "source": [
    "irrad[1]"
   ]
  },
  {
   "cell_type": "code",
   "execution_count": 19,
   "id": "8f3c9615-5ea5-44b1-8796-e964da89fbc9",
   "metadata": {},
   "outputs": [],
   "source": [
    "# turn into pandas DataFrame\n",
    "irrad_df = pd.concat(irrad, axis=1)"
   ]
  },
  {
   "cell_type": "code",
   "execution_count": 20,
   "id": "4ec02581-d422-434e-b04d-cb43e05571bb",
   "metadata": {
    "collapsed": true,
    "jupyter": {
     "outputs_hidden": true
    },
    "tags": []
   },
   "outputs": [
    {
     "data": {
      "text/html": [
       "<div>\n",
       "<style scoped>\n",
       "    .dataframe tbody tr th:only-of-type {\n",
       "        vertical-align: middle;\n",
       "    }\n",
       "\n",
       "    .dataframe tbody tr th {\n",
       "        vertical-align: top;\n",
       "    }\n",
       "\n",
       "    .dataframe thead th {\n",
       "        text-align: right;\n",
       "    }\n",
       "</style>\n",
       "<table border=\"1\" class=\"dataframe\">\n",
       "  <thead>\n",
       "    <tr style=\"text-align: right;\">\n",
       "      <th></th>\n",
       "      <th>total_inc_front</th>\n",
       "      <th>total_inc_back</th>\n",
       "      <th>total_abs_front</th>\n",
       "      <th>total_abs_back</th>\n",
       "    </tr>\n",
       "  </thead>\n",
       "  <tbody>\n",
       "    <tr>\n",
       "      <th>2021-06-21 00:00:00-05:00</th>\n",
       "      <td>0.0</td>\n",
       "      <td>0.0</td>\n",
       "      <td>0.0</td>\n",
       "      <td>0.0</td>\n",
       "    </tr>\n",
       "    <tr>\n",
       "      <th>2021-06-21 00:01:00-05:00</th>\n",
       "      <td>0.0</td>\n",
       "      <td>0.0</td>\n",
       "      <td>0.0</td>\n",
       "      <td>0.0</td>\n",
       "    </tr>\n",
       "    <tr>\n",
       "      <th>2021-06-21 00:02:00-05:00</th>\n",
       "      <td>0.0</td>\n",
       "      <td>0.0</td>\n",
       "      <td>0.0</td>\n",
       "      <td>0.0</td>\n",
       "    </tr>\n",
       "    <tr>\n",
       "      <th>2021-06-21 00:03:00-05:00</th>\n",
       "      <td>0.0</td>\n",
       "      <td>0.0</td>\n",
       "      <td>0.0</td>\n",
       "      <td>0.0</td>\n",
       "    </tr>\n",
       "    <tr>\n",
       "      <th>2021-06-21 00:04:00-05:00</th>\n",
       "      <td>0.0</td>\n",
       "      <td>0.0</td>\n",
       "      <td>0.0</td>\n",
       "      <td>0.0</td>\n",
       "    </tr>\n",
       "    <tr>\n",
       "      <th>...</th>\n",
       "      <td>...</td>\n",
       "      <td>...</td>\n",
       "      <td>...</td>\n",
       "      <td>...</td>\n",
       "    </tr>\n",
       "    <tr>\n",
       "      <th>2021-06-21 23:56:00-05:00</th>\n",
       "      <td>0.0</td>\n",
       "      <td>0.0</td>\n",
       "      <td>0.0</td>\n",
       "      <td>0.0</td>\n",
       "    </tr>\n",
       "    <tr>\n",
       "      <th>2021-06-21 23:57:00-05:00</th>\n",
       "      <td>0.0</td>\n",
       "      <td>0.0</td>\n",
       "      <td>0.0</td>\n",
       "      <td>0.0</td>\n",
       "    </tr>\n",
       "    <tr>\n",
       "      <th>2021-06-21 23:58:00-05:00</th>\n",
       "      <td>0.0</td>\n",
       "      <td>0.0</td>\n",
       "      <td>0.0</td>\n",
       "      <td>0.0</td>\n",
       "    </tr>\n",
       "    <tr>\n",
       "      <th>2021-06-21 23:59:00-05:00</th>\n",
       "      <td>0.0</td>\n",
       "      <td>0.0</td>\n",
       "      <td>0.0</td>\n",
       "      <td>0.0</td>\n",
       "    </tr>\n",
       "    <tr>\n",
       "      <th>2021-06-22 00:00:00-05:00</th>\n",
       "      <td>0.0</td>\n",
       "      <td>0.0</td>\n",
       "      <td>0.0</td>\n",
       "      <td>0.0</td>\n",
       "    </tr>\n",
       "  </tbody>\n",
       "</table>\n",
       "<p>1441 rows × 4 columns</p>\n",
       "</div>"
      ],
      "text/plain": [
       "                           total_inc_front  total_inc_back  total_abs_front  \\\n",
       "2021-06-21 00:00:00-05:00              0.0             0.0              0.0   \n",
       "2021-06-21 00:01:00-05:00              0.0             0.0              0.0   \n",
       "2021-06-21 00:02:00-05:00              0.0             0.0              0.0   \n",
       "2021-06-21 00:03:00-05:00              0.0             0.0              0.0   \n",
       "2021-06-21 00:04:00-05:00              0.0             0.0              0.0   \n",
       "...                                    ...             ...              ...   \n",
       "2021-06-21 23:56:00-05:00              0.0             0.0              0.0   \n",
       "2021-06-21 23:57:00-05:00              0.0             0.0              0.0   \n",
       "2021-06-21 23:58:00-05:00              0.0             0.0              0.0   \n",
       "2021-06-21 23:59:00-05:00              0.0             0.0              0.0   \n",
       "2021-06-22 00:00:00-05:00              0.0             0.0              0.0   \n",
       "\n",
       "                           total_abs_back  \n",
       "2021-06-21 00:00:00-05:00             0.0  \n",
       "2021-06-21 00:01:00-05:00             0.0  \n",
       "2021-06-21 00:02:00-05:00             0.0  \n",
       "2021-06-21 00:03:00-05:00             0.0  \n",
       "2021-06-21 00:04:00-05:00             0.0  \n",
       "...                                   ...  \n",
       "2021-06-21 23:56:00-05:00             0.0  \n",
       "2021-06-21 23:57:00-05:00             0.0  \n",
       "2021-06-21 23:58:00-05:00             0.0  \n",
       "2021-06-21 23:59:00-05:00             0.0  \n",
       "2021-06-22 00:00:00-05:00             0.0  \n",
       "\n",
       "[1441 rows x 4 columns]"
      ]
     },
     "execution_count": 20,
     "metadata": {},
     "output_type": "execute_result"
    }
   ],
   "source": [
    "irrad_df"
   ]
  },
  {
   "cell_type": "code",
   "execution_count": 22,
   "id": "21372df7-2e32-4d8d-83db-153b3fb2b0b1",
   "metadata": {},
   "outputs": [
    {
     "data": {
      "text/plain": [
       "Text(0, 0.5, 'Irradiance [W m$^{-2}$]')"
      ]
     },
     "execution_count": 22,
     "metadata": {},
     "output_type": "execute_result"
    },
    {
     "data": {
      "image/png": "[encoded data removed]",
      "text/plain": [
       "<Figure size 432x288 with 1 Axes>"
      ]
     },
     "metadata": {
      "needs_background": "light"
     },
     "output_type": "display_data"
    }
   ],
   "source": [
    "irrad_df[['total_inc_back', 'total_abs_back']].plot()\n",
    "plt.ylabel('Irradiance [W m$^{-2}$]')"
   ]
  },
  {
   "cell_type": "code",
   "execution_count": 36,
   "id": "d22b7481-5b46-4170-8737-310a1aaab0dc",
   "metadata": {},
   "outputs": [],
   "source": [
    "# create bifacial effective irradiance using aoi-corrected timeseries values\n",
    "irrad_df['effective_irradiance'] = (\n",
    "    irrad_df['total_abs_front'] + (irrad_df['total_abs_back'] * bifaciality)\n",
    ")"
   ]
  },
  {
   "cell_type": "code",
   "execution_count": 37,
   "id": "82e94e79-5086-4ef7-a877-a9c50cfad122",
   "metadata": {
    "collapsed": true,
    "jupyter": {
     "outputs_hidden": true
    },
    "tags": []
   },
   "outputs": [
    {
     "data": {
      "text/html": [
       "<div>\n",
       "<style scoped>\n",
       "    .dataframe tbody tr th:only-of-type {\n",
       "        vertical-align: middle;\n",
       "    }\n",
       "\n",
       "    .dataframe tbody tr th {\n",
       "        vertical-align: top;\n",
       "    }\n",
       "\n",
       "    .dataframe thead th {\n",
       "        text-align: right;\n",
       "    }\n",
       "</style>\n",
       "<table border=\"1\" class=\"dataframe\">\n",
       "  <thead>\n",
       "    <tr style=\"text-align: right;\">\n",
       "      <th></th>\n",
       "      <th>total_inc_front</th>\n",
       "      <th>total_inc_back</th>\n",
       "      <th>total_abs_front</th>\n",
       "      <th>total_abs_back</th>\n",
       "      <th>effective_irradiance</th>\n",
       "    </tr>\n",
       "  </thead>\n",
       "  <tbody>\n",
       "    <tr>\n",
       "      <th>2021-06-21 00:00:00-05:00</th>\n",
       "      <td>0.0</td>\n",
       "      <td>0.0</td>\n",
       "      <td>0.0</td>\n",
       "      <td>0.0</td>\n",
       "      <td>0.0</td>\n",
       "    </tr>\n",
       "    <tr>\n",
       "      <th>2021-06-21 00:01:00-05:00</th>\n",
       "      <td>0.0</td>\n",
       "      <td>0.0</td>\n",
       "      <td>0.0</td>\n",
       "      <td>0.0</td>\n",
       "      <td>0.0</td>\n",
       "    </tr>\n",
       "    <tr>\n",
       "      <th>2021-06-21 00:02:00-05:00</th>\n",
       "      <td>0.0</td>\n",
       "      <td>0.0</td>\n",
       "      <td>0.0</td>\n",
       "      <td>0.0</td>\n",
       "      <td>0.0</td>\n",
       "    </tr>\n",
       "    <tr>\n",
       "      <th>2021-06-21 00:03:00-05:00</th>\n",
       "      <td>0.0</td>\n",
       "      <td>0.0</td>\n",
       "      <td>0.0</td>\n",
       "      <td>0.0</td>\n",
       "      <td>0.0</td>\n",
       "    </tr>\n",
       "    <tr>\n",
       "      <th>2021-06-21 00:04:00-05:00</th>\n",
       "      <td>0.0</td>\n",
       "      <td>0.0</td>\n",
       "      <td>0.0</td>\n",
       "      <td>0.0</td>\n",
       "      <td>0.0</td>\n",
       "    </tr>\n",
       "    <tr>\n",
       "      <th>...</th>\n",
       "      <td>...</td>\n",
       "      <td>...</td>\n",
       "      <td>...</td>\n",
       "      <td>...</td>\n",
       "      <td>...</td>\n",
       "    </tr>\n",
       "    <tr>\n",
       "      <th>2021-06-21 23:56:00-05:00</th>\n",
       "      <td>0.0</td>\n",
       "      <td>0.0</td>\n",
       "      <td>0.0</td>\n",
       "      <td>0.0</td>\n",
       "      <td>0.0</td>\n",
       "    </tr>\n",
       "    <tr>\n",
       "      <th>2021-06-21 23:57:00-05:00</th>\n",
       "      <td>0.0</td>\n",
       "      <td>0.0</td>\n",
       "      <td>0.0</td>\n",
       "      <td>0.0</td>\n",
       "      <td>0.0</td>\n",
       "    </tr>\n",
       "    <tr>\n",
       "      <th>2021-06-21 23:58:00-05:00</th>\n",
       "      <td>0.0</td>\n",
       "      <td>0.0</td>\n",
       "      <td>0.0</td>\n",
       "      <td>0.0</td>\n",
       "      <td>0.0</td>\n",
       "    </tr>\n",
       "    <tr>\n",
       "      <th>2021-06-21 23:59:00-05:00</th>\n",
       "      <td>0.0</td>\n",
       "      <td>0.0</td>\n",
       "      <td>0.0</td>\n",
       "      <td>0.0</td>\n",
       "      <td>0.0</td>\n",
       "    </tr>\n",
       "    <tr>\n",
       "      <th>2021-06-22 00:00:00-05:00</th>\n",
       "      <td>0.0</td>\n",
       "      <td>0.0</td>\n",
       "      <td>0.0</td>\n",
       "      <td>0.0</td>\n",
       "      <td>0.0</td>\n",
       "    </tr>\n",
       "  </tbody>\n",
       "</table>\n",
       "<p>1441 rows × 5 columns</p>\n",
       "</div>"
      ],
      "text/plain": [
       "                           total_inc_front  total_inc_back  total_abs_front  \\\n",
       "2021-06-21 00:00:00-05:00              0.0             0.0              0.0   \n",
       "2021-06-21 00:01:00-05:00              0.0             0.0              0.0   \n",
       "2021-06-21 00:02:00-05:00              0.0             0.0              0.0   \n",
       "2021-06-21 00:03:00-05:00              0.0             0.0              0.0   \n",
       "2021-06-21 00:04:00-05:00              0.0             0.0              0.0   \n",
       "...                                    ...             ...              ...   \n",
       "2021-06-21 23:56:00-05:00              0.0             0.0              0.0   \n",
       "2021-06-21 23:57:00-05:00              0.0             0.0              0.0   \n",
       "2021-06-21 23:58:00-05:00              0.0             0.0              0.0   \n",
       "2021-06-21 23:59:00-05:00              0.0             0.0              0.0   \n",
       "2021-06-22 00:00:00-05:00              0.0             0.0              0.0   \n",
       "\n",
       "                           total_abs_back  effective_irradiance  \n",
       "2021-06-21 00:00:00-05:00             0.0                   0.0  \n",
       "2021-06-21 00:01:00-05:00             0.0                   0.0  \n",
       "2021-06-21 00:02:00-05:00             0.0                   0.0  \n",
       "2021-06-21 00:03:00-05:00             0.0                   0.0  \n",
       "2021-06-21 00:04:00-05:00             0.0                   0.0  \n",
       "...                                   ...                   ...  \n",
       "2021-06-21 23:56:00-05:00             0.0                   0.0  \n",
       "2021-06-21 23:57:00-05:00             0.0                   0.0  \n",
       "2021-06-21 23:58:00-05:00             0.0                   0.0  \n",
       "2021-06-21 23:59:00-05:00             0.0                   0.0  \n",
       "2021-06-22 00:00:00-05:00             0.0                   0.0  \n",
       "\n",
       "[1441 rows x 5 columns]"
      ]
     },
     "execution_count": 37,
     "metadata": {},
     "output_type": "execute_result"
    }
   ],
   "source": [
    "irrad_df"
   ]
  },
  {
   "cell_type": "markdown",
   "id": "304e84b2-ce77-4af9-a437-a1a062380eb6",
   "metadata": {},
   "source": [
    "### Get module and inverter related data"
   ]
  },
  {
   "cell_type": "code",
   "execution_count": 24,
   "id": "6a3621d9-13d6-408a-adcd-0539d89c8af2",
   "metadata": {},
   "outputs": [],
   "source": [
    "bifaciality = 0.75"
   ]
  },
  {
   "cell_type": "code",
   "execution_count": 30,
   "id": "09045879-cdd5-414a-8dba-9d2afc0af176",
   "metadata": {},
   "outputs": [],
   "source": [
    "latitude=40\n",
    "longitude=-80"
   ]
  },
  {
   "cell_type": "code",
   "execution_count": 25,
   "id": "3e28c6d1-427d-444e-ac28-3467306ff3d9",
   "metadata": {},
   "outputs": [],
   "source": [
    "# load temperature parameters and module/inverter specifications\n",
    "temp_model_parameters = PARAMS['sapm']['open_rack_glass_glass']\n",
    "cec_modules = pvsystem.retrieve_sam('CECMod')\n",
    "cec_module = cec_modules['Trina_Solar_TSM_300DEG5C_07_II_']\n",
    "cec_inverters = pvsystem.retrieve_sam('cecinverter')\n",
    "cec_inverter = cec_inverters['ABB__MICRO_0_25_I_OUTD_US_208__208V_']"
   ]
  },
  {
   "cell_type": "code",
   "execution_count": 26,
   "id": "f1f31e43-750d-448f-aa3f-2addf40710ca",
   "metadata": {
    "collapsed": true,
    "jupyter": {
     "outputs_hidden": true
    },
    "tags": []
   },
   "outputs": [
    {
     "data": {
      "text/plain": [
       "{'a': -3.47, 'b': -0.0594, 'deltaT': 3}"
      ]
     },
     "execution_count": 26,
     "metadata": {},
     "output_type": "execute_result"
    }
   ],
   "source": [
    "temp_model_parameters"
   ]
  },
  {
   "cell_type": "code",
   "execution_count": 27,
   "id": "40c99828-2592-43c8-b438-db30c13714a4",
   "metadata": {
    "collapsed": true,
    "jupyter": {
     "outputs_hidden": true
    },
    "tags": []
   },
   "outputs": [
    {
     "data": {
      "text/plain": [
       "Technology            Mono-c-Si\n",
       "Bifacial                      1\n",
       "STC                     300.217\n",
       "PTC                       278.9\n",
       "A_c                        1.65\n",
       "Length                      NaN\n",
       "Width                       NaN\n",
       "N_s                          60\n",
       "I_sc_ref                   9.68\n",
       "V_oc_ref                   40.1\n",
       "I_mp_ref                   9.07\n",
       "V_mp_ref                   33.1\n",
       "alpha_sc               0.003775\n",
       "beta_oc               -0.109874\n",
       "T_NOCT                     43.4\n",
       "a_ref                  1.545676\n",
       "I_L_ref                 9.69201\n",
       "I_o_ref                     0.0\n",
       "R_s                    0.251086\n",
       "R_sh_ref             202.374603\n",
       "Adjust                13.491088\n",
       "gamma_r                  -0.384\n",
       "BIPV                          N\n",
       "Version       SAM 2018.11.11 r2\n",
       "Date                   1/3/2019\n",
       "Name: Trina_Solar_TSM_300DEG5C_07_II_, dtype: object"
      ]
     },
     "execution_count": 27,
     "metadata": {},
     "output_type": "execute_result"
    }
   ],
   "source": [
    "cec_module"
   ]
  },
  {
   "cell_type": "code",
   "execution_count": 28,
   "id": "473c8650-f59c-4fb7-9ca7-7fc3c97d768b",
   "metadata": {
    "collapsed": true,
    "jupyter": {
     "outputs_hidden": true
    },
    "tags": []
   },
   "outputs": [
    {
     "data": {
      "text/plain": [
       "Vac                          208\n",
       "Pso                     2.089607\n",
       "Paco                       250.0\n",
       "Pdco                  259.588593\n",
       "Vdco                        40.0\n",
       "C0                     -0.000041\n",
       "C1                     -0.000091\n",
       "C2                      0.000494\n",
       "C3                     -0.013171\n",
       "Pnt                        0.075\n",
       "Vdcmax                      50.0\n",
       "Idcmax                  6.489715\n",
       "Mppt_low                    30.0\n",
       "Mppt_high                   50.0\n",
       "CEC_Date                     NaN\n",
       "CEC_Type     Utility Interactive\n",
       "Name: ABB__MICRO_0_25_I_OUTD_US_208__208V_, dtype: object"
      ]
     },
     "execution_count": 28,
     "metadata": {},
     "output_type": "execute_result"
    }
   ],
   "source": [
    "cec_inverter"
   ]
  },
  {
   "cell_type": "markdown",
   "id": "4baaa2dd-294c-4299-822d-57e06b9b05b4",
   "metadata": {},
   "source": [
    "### Get model and perform bifacial simulation"
   ]
  },
  {
   "cell_type": "code",
   "execution_count": 39,
   "id": "0f481d2a-5252-4ef0-9245-a2ec89b80730",
   "metadata": {},
   "outputs": [],
   "source": [
    "surface_tilt=20\n",
    "surface_azimuth=180"
   ]
  },
  {
   "cell_type": "code",
   "execution_count": 40,
   "id": "d38e0707-dac9-4889-8e98-5b6cf373e7b7",
   "metadata": {},
   "outputs": [],
   "source": [
    "fixed_mount = pvsystem.FixedMount(surface_tilt, surface_azimuth)"
   ]
  },
  {
   "cell_type": "code",
   "execution_count": 41,
   "id": "fe877444-cde6-4dcc-a8e0-91962ae68d73",
   "metadata": {},
   "outputs": [],
   "source": [
    "# dc arrays\n",
    "array = pvsystem.Array(mount=fixed_mount,\n",
    "                       module_parameters=cec_module,\n",
    "                       temperature_model_parameters=temp_model_parameters)"
   ]
  },
  {
   "cell_type": "code",
   "execution_count": 43,
   "id": "25c47ebb-2016-4f0e-b149-58bf47b5c148",
   "metadata": {},
   "outputs": [],
   "source": [
    "# create system object\n",
    "system = pvsystem.PVSystem(arrays=[array],\n",
    "                           inverter_parameters=cec_inverter)"
   ]
  },
  {
   "cell_type": "code",
   "execution_count": 44,
   "id": "a5a11993-0303-40db-8651-08915eea7e5a",
   "metadata": {},
   "outputs": [],
   "source": [
    "# ModelChain requires the parameter aoi_loss to have a value. pvfactors\n",
    "# applies surface reflection models in the calculation of front and back\n",
    "# irradiance, so assign aoi_model='no_loss' to avoid double counting\n",
    "# reflections.\n",
    "mc_bifi = modelchain.ModelChain(system, site_location, aoi_model='no_loss')"
   ]
  },
  {
   "cell_type": "code",
   "execution_count": 45,
   "id": "2a9888eb-e2ea-4626-8f54-61853412f2e4",
   "metadata": {},
   "outputs": [
    {
     "data": {
      "text/plain": [
       "ModelChain: \n",
       "  name: None\n",
       "  clearsky_model: ineichen\n",
       "  transposition_model: haydavies\n",
       "  solar_position_method: nrel_numpy\n",
       "  airmass_model: kastenyoung1989\n",
       "  dc_model: cec\n",
       "  ac_model: sandia_inverter\n",
       "  aoi_model: no_aoi_loss\n",
       "  spectral_model: first_solar_spectral_loss\n",
       "  temperature_model: sapm_temp\n",
       "  losses_model: no_extra_losses"
      ]
     },
     "execution_count": 45,
     "metadata": {},
     "output_type": "execute_result"
    }
   ],
   "source": [
    "mc_bifi"
   ]
  },
  {
   "cell_type": "code",
   "execution_count": 46,
   "id": "a891f0d0-d99e-40f4-8622-1ec5c871a6d7",
   "metadata": {},
   "outputs": [
    {
     "name": "stderr",
     "output_type": "stream",
     "text": [
      "/Users/tadatoshi/Documents/development/projects/tadatoshi_solar_research_society/agrivoltaics_supply_side_management/venv/lib/python3.10/site-packages/pvlib/tools.py:340: RuntimeWarning: divide by zero encountered in true_divide\n",
      "  np.trunc(np.log(atol / (df['VH'] - df['VL'])) / np.log(phim1)))\n"
     ]
    },
    {
     "data": {
      "text/plain": [
       "ModelChain: \n",
       "  name: None\n",
       "  clearsky_model: ineichen\n",
       "  transposition_model: haydavies\n",
       "  solar_position_method: nrel_numpy\n",
       "  airmass_model: kastenyoung1989\n",
       "  dc_model: cec\n",
       "  ac_model: sandia_inverter\n",
       "  aoi_model: no_aoi_loss\n",
       "  spectral_model: first_solar_spectral_loss\n",
       "  temperature_model: sapm_temp\n",
       "  losses_model: no_extra_losses"
      ]
     },
     "execution_count": 46,
     "metadata": {},
     "output_type": "execute_result"
    }
   ],
   "source": [
    "mc_bifi.run_model_from_effective_irradiance(irrad_df)"
   ]
  },
  {
   "cell_type": "code",
   "execution_count": 47,
   "id": "21a97971-a34d-4d3a-8851-0df1011ba0b7",
   "metadata": {},
   "outputs": [
    {
     "data": {
      "text/plain": [
       "<AxesSubplot:title={'center':'Bifacial Simulation on June Solstice'}, ylabel='AC Power'>"
      ]
     },
     "execution_count": 47,
     "metadata": {},
     "output_type": "execute_result"
    },
    {
     "data": {
      "image/png": "[encoded data removed]",
      "text/plain": [
       "<Figure size 432x288 with 1 Axes>"
      ]
     },
     "metadata": {
      "needs_background": "light"
     },
     "output_type": "display_data"
    }
   ],
   "source": [
    "# plot results\n",
    "mc_bifi.results.ac.plot(title='Bifacial Simulation on June Solstice',\n",
    "                        ylabel='AC Power')"
   ]
  },
  {
   "cell_type": "code",
   "execution_count": null,
   "id": "c886403d-043b-4b5c-99df-18ffeb8d28b4",
   "metadata": {},
   "outputs": [],
   "source": []
  }
 ],
 "metadata": {
  "kernelspec": {
   "display_name": "Python 3 (ipykernel)",
   "language": "python",
   "name": "python3"
  },
  "language_info": {
   "codemirror_mode": {
    "name": "ipython",
    "version": 3
   },
   "file_extension": ".py",
   "mimetype": "text/x-python",
   "name": "python",
   "nbconvert_exporter": "python",
   "pygments_lexer": "ipython3",
   "version": "3.10.5"
  }
 },
 "nbformat": 4,
 "nbformat_minor": 5
}
