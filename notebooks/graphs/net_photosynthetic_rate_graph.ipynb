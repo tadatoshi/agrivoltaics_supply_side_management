{
 "cells": [
  {
   "cell_type": "markdown",
   "id": "b68ee505-9c50-4f4f-84b7-d6b05ebb3e0a",
   "metadata": {},
   "source": [
    "## Drawing graph for Net Photosynthetic Rate"
   ]
  },
  {
   "cell_type": "code",
   "execution_count": 1,
   "id": "7b3f1121-fd48-4587-a763-acd731251d02",
   "metadata": {},
   "outputs": [],
   "source": [
    "%load_ext autoreload\n",
    "%autoreload 2"
   ]
  },
  {
   "cell_type": "code",
   "execution_count": 2,
   "id": "1a466f45-747a-4b42-a589-9a6da6a9a5b8",
   "metadata": {},
   "outputs": [],
   "source": [
    "import numpy as np\n",
    "import pandas as pd\n",
    "import matplotlib.pyplot as plt"
   ]
  },
  {
   "cell_type": "code",
   "execution_count": 10,
   "id": "ea29306b-fa3b-412b-801c-039b1074c0c7",
   "metadata": {},
   "outputs": [],
   "source": [
    "plt.rcParams.update({'font.size': 16})"
   ]
  },
  {
   "cell_type": "code",
   "execution_count": 3,
   "id": "c5dbbeb7-09dc-4ca0-a400-8f737e31e680",
   "metadata": {},
   "outputs": [],
   "source": [
    "net_photosynthetic_rate = pd.read_csv(\"../../data/soybean_net_photosynthetic_rate.csv\", \n",
    "                                      index_col=\"Photosynthetically Active Radiation [micromol / m^2 / s]\")"
   ]
  },
  {
   "cell_type": "code",
   "execution_count": 4,
   "id": "d80098c1-34c7-45c6-b2be-759a11c8a592",
   "metadata": {},
   "outputs": [
    {
     "data": {
      "text/html": [
       "<div>\n",
       "<style scoped>\n",
       "    .dataframe tbody tr th:only-of-type {\n",
       "        vertical-align: middle;\n",
       "    }\n",
       "\n",
       "    .dataframe tbody tr th {\n",
       "        vertical-align: top;\n",
       "    }\n",
       "\n",
       "    .dataframe thead th {\n",
       "        text-align: right;\n",
       "    }\n",
       "</style>\n",
       "<table border=\"1\" class=\"dataframe\">\n",
       "  <thead>\n",
       "    <tr style=\"text-align: right;\">\n",
       "      <th></th>\n",
       "      <th>Monocropping - CO2 uptake [micromol / m^2 / s]</th>\n",
       "      <th>Intercropping - CO2 uptake [micromol / m^2 / s]</th>\n",
       "    </tr>\n",
       "    <tr>\n",
       "      <th>Photosynthetically Active Radiation [micromol / m^2 / s]</th>\n",
       "      <th></th>\n",
       "      <th></th>\n",
       "    </tr>\n",
       "  </thead>\n",
       "  <tbody>\n",
       "    <tr>\n",
       "      <th>0.0</th>\n",
       "      <td>-3.5</td>\n",
       "      <td>-2.5</td>\n",
       "    </tr>\n",
       "    <tr>\n",
       "      <th>25.0</th>\n",
       "      <td>-2.7</td>\n",
       "      <td>-0.7</td>\n",
       "    </tr>\n",
       "    <tr>\n",
       "      <th>50.0</th>\n",
       "      <td>-0.9</td>\n",
       "      <td>0.8</td>\n",
       "    </tr>\n",
       "    <tr>\n",
       "      <th>75.0</th>\n",
       "      <td>1.0</td>\n",
       "      <td>2.3</td>\n",
       "    </tr>\n",
       "    <tr>\n",
       "      <th>100.0</th>\n",
       "      <td>2.0</td>\n",
       "      <td>3.0</td>\n",
       "    </tr>\n",
       "    <tr>\n",
       "      <th>200.0</th>\n",
       "      <td>6.0</td>\n",
       "      <td>7.0</td>\n",
       "    </tr>\n",
       "    <tr>\n",
       "      <th>400.0</th>\n",
       "      <td>12.5</td>\n",
       "      <td>11.0</td>\n",
       "    </tr>\n",
       "    <tr>\n",
       "      <th>600.0</th>\n",
       "      <td>17.0</td>\n",
       "      <td>12.5</td>\n",
       "    </tr>\n",
       "    <tr>\n",
       "      <th>800.0</th>\n",
       "      <td>20.0</td>\n",
       "      <td>14.5</td>\n",
       "    </tr>\n",
       "    <tr>\n",
       "      <th>1000.0</th>\n",
       "      <td>22.0</td>\n",
       "      <td>15.5</td>\n",
       "    </tr>\n",
       "    <tr>\n",
       "      <th>1200.0</th>\n",
       "      <td>23.5</td>\n",
       "      <td>16.0</td>\n",
       "    </tr>\n",
       "    <tr>\n",
       "      <th>1500.0</th>\n",
       "      <td>25.0</td>\n",
       "      <td>17.0</td>\n",
       "    </tr>\n",
       "  </tbody>\n",
       "</table>\n",
       "</div>"
      ],
      "text/plain": [
       "                                                    Monocropping - CO2 uptake [micromol / m^2 / s]  \\\n",
       "Photosynthetically Active Radiation [micromol /...                                                   \n",
       "0.0                                                                                           -3.5   \n",
       "25.0                                                                                          -2.7   \n",
       "50.0                                                                                          -0.9   \n",
       "75.0                                                                                           1.0   \n",
       "100.0                                                                                          2.0   \n",
       "200.0                                                                                          6.0   \n",
       "400.0                                                                                         12.5   \n",
       "600.0                                                                                         17.0   \n",
       "800.0                                                                                         20.0   \n",
       "1000.0                                                                                        22.0   \n",
       "1200.0                                                                                        23.5   \n",
       "1500.0                                                                                        25.0   \n",
       "\n",
       "                                                    Intercropping - CO2 uptake [micromol / m^2 / s]  \n",
       "Photosynthetically Active Radiation [micromol /...                                                   \n",
       "0.0                                                                                            -2.5  \n",
       "25.0                                                                                           -0.7  \n",
       "50.0                                                                                            0.8  \n",
       "75.0                                                                                            2.3  \n",
       "100.0                                                                                           3.0  \n",
       "200.0                                                                                           7.0  \n",
       "400.0                                                                                          11.0  \n",
       "600.0                                                                                          12.5  \n",
       "800.0                                                                                          14.5  \n",
       "1000.0                                                                                         15.5  \n",
       "1200.0                                                                                         16.0  \n",
       "1500.0                                                                                         17.0  "
      ]
     },
     "execution_count": 4,
     "metadata": {},
     "output_type": "execute_result"
    }
   ],
   "source": [
    "net_photosynthetic_rate"
   ]
  },
  {
   "cell_type": "code",
   "execution_count": 18,
   "id": "8d59d92e-6559-4973-899f-2642d9ff7dcd",
   "metadata": {},
   "outputs": [],
   "source": [
    "index_label = \"Photosynthetically Active Radiation [μmol/m\\u00b2/s]\""
   ]
  },
  {
   "cell_type": "code",
   "execution_count": 19,
   "id": "9a211fcd-aa9b-4088-b573-31f02f2cd1c8",
   "metadata": {},
   "outputs": [
    {
     "data": {
      "text/plain": [
       "'Photosynthetically Active Radiation [μmol/m²/s]'"
      ]
     },
     "execution_count": 19,
     "metadata": {},
     "output_type": "execute_result"
    }
   ],
   "source": [
    "index_label"
   ]
  },
  {
   "cell_type": "code",
   "execution_count": 22,
   "id": "a677b27f-a626-4c10-a0f1-e859ad6ae7c6",
   "metadata": {},
   "outputs": [],
   "source": [
    "net_photosynthetic_rate.index.names = [index_label]"
   ]
  },
  {
   "cell_type": "code",
   "execution_count": 23,
   "id": "46bf6017-eabb-43d3-a7ad-7daaba7e57ee",
   "metadata": {},
   "outputs": [
    {
     "data": {
      "text/html": [
       "<div>\n",
       "<style scoped>\n",
       "    .dataframe tbody tr th:only-of-type {\n",
       "        vertical-align: middle;\n",
       "    }\n",
       "\n",
       "    .dataframe tbody tr th {\n",
       "        vertical-align: top;\n",
       "    }\n",
       "\n",
       "    .dataframe thead th {\n",
       "        text-align: right;\n",
       "    }\n",
       "</style>\n",
       "<table border=\"1\" class=\"dataframe\">\n",
       "  <thead>\n",
       "    <tr style=\"text-align: right;\">\n",
       "      <th></th>\n",
       "      <th>Monocropping - CO2 uptake [micromol / m^2 / s]</th>\n",
       "      <th>Intercropping - CO2 uptake [micromol / m^2 / s]</th>\n",
       "    </tr>\n",
       "    <tr>\n",
       "      <th>Photosynthetically Active Radiation [μmol/m²/s]</th>\n",
       "      <th></th>\n",
       "      <th></th>\n",
       "    </tr>\n",
       "  </thead>\n",
       "  <tbody>\n",
       "    <tr>\n",
       "      <th>0.0</th>\n",
       "      <td>-3.5</td>\n",
       "      <td>-2.5</td>\n",
       "    </tr>\n",
       "    <tr>\n",
       "      <th>25.0</th>\n",
       "      <td>-2.7</td>\n",
       "      <td>-0.7</td>\n",
       "    </tr>\n",
       "    <tr>\n",
       "      <th>50.0</th>\n",
       "      <td>-0.9</td>\n",
       "      <td>0.8</td>\n",
       "    </tr>\n",
       "    <tr>\n",
       "      <th>75.0</th>\n",
       "      <td>1.0</td>\n",
       "      <td>2.3</td>\n",
       "    </tr>\n",
       "    <tr>\n",
       "      <th>100.0</th>\n",
       "      <td>2.0</td>\n",
       "      <td>3.0</td>\n",
       "    </tr>\n",
       "    <tr>\n",
       "      <th>200.0</th>\n",
       "      <td>6.0</td>\n",
       "      <td>7.0</td>\n",
       "    </tr>\n",
       "    <tr>\n",
       "      <th>400.0</th>\n",
       "      <td>12.5</td>\n",
       "      <td>11.0</td>\n",
       "    </tr>\n",
       "    <tr>\n",
       "      <th>600.0</th>\n",
       "      <td>17.0</td>\n",
       "      <td>12.5</td>\n",
       "    </tr>\n",
       "    <tr>\n",
       "      <th>800.0</th>\n",
       "      <td>20.0</td>\n",
       "      <td>14.5</td>\n",
       "    </tr>\n",
       "    <tr>\n",
       "      <th>1000.0</th>\n",
       "      <td>22.0</td>\n",
       "      <td>15.5</td>\n",
       "    </tr>\n",
       "    <tr>\n",
       "      <th>1200.0</th>\n",
       "      <td>23.5</td>\n",
       "      <td>16.0</td>\n",
       "    </tr>\n",
       "    <tr>\n",
       "      <th>1500.0</th>\n",
       "      <td>25.0</td>\n",
       "      <td>17.0</td>\n",
       "    </tr>\n",
       "  </tbody>\n",
       "</table>\n",
       "</div>"
      ],
      "text/plain": [
       "                                                 Monocropping - CO2 uptake [micromol / m^2 / s]  \\\n",
       "Photosynthetically Active Radiation [μmol/m²/s]                                                   \n",
       "0.0                                                                                        -3.5   \n",
       "25.0                                                                                       -2.7   \n",
       "50.0                                                                                       -0.9   \n",
       "75.0                                                                                        1.0   \n",
       "100.0                                                                                       2.0   \n",
       "200.0                                                                                       6.0   \n",
       "400.0                                                                                      12.5   \n",
       "600.0                                                                                      17.0   \n",
       "800.0                                                                                      20.0   \n",
       "1000.0                                                                                     22.0   \n",
       "1200.0                                                                                     23.5   \n",
       "1500.0                                                                                     25.0   \n",
       "\n",
       "                                                 Intercropping - CO2 uptake [micromol / m^2 / s]  \n",
       "Photosynthetically Active Radiation [μmol/m²/s]                                                   \n",
       "0.0                                                                                         -2.5  \n",
       "25.0                                                                                        -0.7  \n",
       "50.0                                                                                         0.8  \n",
       "75.0                                                                                         2.3  \n",
       "100.0                                                                                        3.0  \n",
       "200.0                                                                                        7.0  \n",
       "400.0                                                                                       11.0  \n",
       "600.0                                                                                       12.5  \n",
       "800.0                                                                                       14.5  \n",
       "1000.0                                                                                      15.5  \n",
       "1200.0                                                                                      16.0  \n",
       "1500.0                                                                                      17.0  "
      ]
     },
     "execution_count": 23,
     "metadata": {},
     "output_type": "execute_result"
    }
   ],
   "source": [
    "net_photosynthetic_rate"
   ]
  },
  {
   "cell_type": "code",
   "execution_count": 25,
   "id": "08ad98a5-e7ae-41b7-b5f6-639527779d08",
   "metadata": {},
   "outputs": [],
   "source": [
    "net_photosynthetic_rate.rename(\n",
    "    columns={'Monocropping - CO2 uptake [micromol / m^2 / s]': 'Monocropping', \n",
    "             'Intercropping - CO2 uptake [micromol / m^2 / s]': 'Intercropping'}, \n",
    "    inplace=True)"
   ]
  },
  {
   "cell_type": "code",
   "execution_count": 26,
   "id": "12bdc030-ea3e-49cf-afc7-98c370e64ea5",
   "metadata": {},
   "outputs": [
    {
     "data": {
      "text/html": [
       "<div>\n",
       "<style scoped>\n",
       "    .dataframe tbody tr th:only-of-type {\n",
       "        vertical-align: middle;\n",
       "    }\n",
       "\n",
       "    .dataframe tbody tr th {\n",
       "        vertical-align: top;\n",
       "    }\n",
       "\n",
       "    .dataframe thead th {\n",
       "        text-align: right;\n",
       "    }\n",
       "</style>\n",
       "<table border=\"1\" class=\"dataframe\">\n",
       "  <thead>\n",
       "    <tr style=\"text-align: right;\">\n",
       "      <th></th>\n",
       "      <th>Monocropping</th>\n",
       "      <th>Intercropping</th>\n",
       "    </tr>\n",
       "    <tr>\n",
       "      <th>Photosynthetically Active Radiation [μmol/m²/s]</th>\n",
       "      <th></th>\n",
       "      <th></th>\n",
       "    </tr>\n",
       "  </thead>\n",
       "  <tbody>\n",
       "    <tr>\n",
       "      <th>0.0</th>\n",
       "      <td>-3.5</td>\n",
       "      <td>-2.5</td>\n",
       "    </tr>\n",
       "    <tr>\n",
       "      <th>25.0</th>\n",
       "      <td>-2.7</td>\n",
       "      <td>-0.7</td>\n",
       "    </tr>\n",
       "    <tr>\n",
       "      <th>50.0</th>\n",
       "      <td>-0.9</td>\n",
       "      <td>0.8</td>\n",
       "    </tr>\n",
       "    <tr>\n",
       "      <th>75.0</th>\n",
       "      <td>1.0</td>\n",
       "      <td>2.3</td>\n",
       "    </tr>\n",
       "    <tr>\n",
       "      <th>100.0</th>\n",
       "      <td>2.0</td>\n",
       "      <td>3.0</td>\n",
       "    </tr>\n",
       "    <tr>\n",
       "      <th>200.0</th>\n",
       "      <td>6.0</td>\n",
       "      <td>7.0</td>\n",
       "    </tr>\n",
       "    <tr>\n",
       "      <th>400.0</th>\n",
       "      <td>12.5</td>\n",
       "      <td>11.0</td>\n",
       "    </tr>\n",
       "    <tr>\n",
       "      <th>600.0</th>\n",
       "      <td>17.0</td>\n",
       "      <td>12.5</td>\n",
       "    </tr>\n",
       "    <tr>\n",
       "      <th>800.0</th>\n",
       "      <td>20.0</td>\n",
       "      <td>14.5</td>\n",
       "    </tr>\n",
       "    <tr>\n",
       "      <th>1000.0</th>\n",
       "      <td>22.0</td>\n",
       "      <td>15.5</td>\n",
       "    </tr>\n",
       "    <tr>\n",
       "      <th>1200.0</th>\n",
       "      <td>23.5</td>\n",
       "      <td>16.0</td>\n",
       "    </tr>\n",
       "    <tr>\n",
       "      <th>1500.0</th>\n",
       "      <td>25.0</td>\n",
       "      <td>17.0</td>\n",
       "    </tr>\n",
       "  </tbody>\n",
       "</table>\n",
       "</div>"
      ],
      "text/plain": [
       "                                                 Monocropping  Intercropping\n",
       "Photosynthetically Active Radiation [μmol/m²/s]                             \n",
       "0.0                                                      -3.5           -2.5\n",
       "25.0                                                     -2.7           -0.7\n",
       "50.0                                                     -0.9            0.8\n",
       "75.0                                                      1.0            2.3\n",
       "100.0                                                     2.0            3.0\n",
       "200.0                                                     6.0            7.0\n",
       "400.0                                                    12.5           11.0\n",
       "600.0                                                    17.0           12.5\n",
       "800.0                                                    20.0           14.5\n",
       "1000.0                                                   22.0           15.5\n",
       "1200.0                                                   23.5           16.0\n",
       "1500.0                                                   25.0           17.0"
      ]
     },
     "execution_count": 26,
     "metadata": {},
     "output_type": "execute_result"
    }
   ],
   "source": [
    "net_photosynthetic_rate"
   ]
  },
  {
   "cell_type": "code",
   "execution_count": 27,
   "id": "55335cb9-c579-4372-a85b-140c9bcb002e",
   "metadata": {},
   "outputs": [
    {
     "data": {
      "image/png": "[encoded data removed]",
      "text/plain": [
       "<Figure size 720x432 with 1 Axes>"
      ]
     },
     "metadata": {
      "needs_background": "light"
     },
     "output_type": "display_data"
    }
   ],
   "source": [
    "net_photosynthetic_rate.plot(\n",
    "    ylabel='Net Photosyntheric Rate [μmol/m\\u00b2/s]',\n",
    "    figsize=(10, 6))\n",
    "\n",
    "plt.savefig('../../plots/net_photosynthetic_rate/original_data_2.png')"
   ]
  },
  {
   "cell_type": "code",
   "execution_count": null,
   "id": "6a413fd8-2799-464f-a486-91f4eb01c2ce",
   "metadata": {},
   "outputs": [],
   "source": []
  }
 ],
 "metadata": {
  "kernelspec": {
   "display_name": "Python 3 (ipykernel)",
   "language": "python",
   "name": "python3"
  },
  "language_info": {
   "codemirror_mode": {
    "name": "ipython",
    "version": 3
   },
   "file_extension": ".py",
   "mimetype": "text/x-python",
   "name": "python",
   "nbconvert_exporter": "python",
   "pygments_lexer": "ipython3",
   "version": "3.10.5"
  }
 },
 "nbformat": 4,
 "nbformat_minor": 5
}
