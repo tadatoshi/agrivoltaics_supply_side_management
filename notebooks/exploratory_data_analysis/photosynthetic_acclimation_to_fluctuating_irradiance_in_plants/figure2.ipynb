{
 "cells": [
  {
   "cell_type": "markdown",
   "id": "f3aeeb8a-86c1-4da4-9392-a0dd563d0af7",
   "metadata": {},
   "source": [
    "## Modeling Figure 2 Biomass as Normal Distribution"
   ]
  },
  {
   "cell_type": "code",
   "execution_count": 1,
   "id": "bcf2a99b-1850-4b69-94a3-aaa153307dda",
   "metadata": {},
   "outputs": [],
   "source": [
    "%load_ext autoreload\n",
    "%autoreload 2"
   ]
  },
  {
   "cell_type": "code",
   "execution_count": 2,
   "id": "f95d9ba5-544f-4895-ac05-704f040aadca",
   "metadata": {},
   "outputs": [],
   "source": [
    "import numpy as np\n",
    "import pandas as pd\n",
    "import matplotlib.pyplot as plt\n",
    "\n",
    "import arviz as az\n",
    "\n",
    "import pymc3 as pm"
   ]
  },
  {
   "cell_type": "code",
   "execution_count": 15,
   "id": "409d94e8-b0ba-42ea-9eb1-3e4791533c9f",
   "metadata": {},
   "outputs": [],
   "source": [
    "import math"
   ]
  },
  {
   "cell_type": "code",
   "execution_count": 44,
   "id": "3c7a0e8d-b50d-48ab-a518-64093112c308",
   "metadata": {},
   "outputs": [],
   "source": [
    "from datetime import datetime"
   ]
  },
  {
   "cell_type": "markdown",
   "id": "ba0f75db-228e-4fda-861d-b3770093bbca",
   "metadata": {},
   "source": [
    "### Visually obtained values from graph"
   ]
  },
  {
   "cell_type": "markdown",
   "id": "860c34f0-99c9-484e-9bd5-67bf4ac3121e",
   "metadata": {},
   "source": [
    "#### Graph of Biomass: Average relative effect across experiments (red symbol and error bars)"
   ]
  },
  {
   "cell_type": "code",
   "execution_count": 4,
   "id": "ee903b7d-36ad-42dd-b30c-793eceec4a38",
   "metadata": {},
   "outputs": [],
   "source": [
    "bismass_number_of_data_sets = 12"
   ]
  },
  {
   "cell_type": "code",
   "execution_count": 22,
   "id": "b86b9c59-b808-4de8-95d2-c93c22339ba4",
   "metadata": {},
   "outputs": [],
   "source": [
    "# We assume since this is not given:\n",
    "sample_size_in_data_set = 100"
   ]
  },
  {
   "cell_type": "code",
   "execution_count": 23,
   "id": "a6d59481-b2e7-4074-bba8-a86b9612d31b",
   "metadata": {},
   "outputs": [],
   "source": [
    "biomass_total_sample_size = bismass_number_of_data_sets * sample_size_in_data_set"
   ]
  },
  {
   "cell_type": "code",
   "execution_count": 9,
   "id": "3243e35d-813e-4bf6-be11-6bf8d823fbad",
   "metadata": {},
   "outputs": [],
   "source": [
    "# As a start, take the value of median as mean:\n",
    "biomass_average_mean = biomass_average_median = -0.3"
   ]
  },
  {
   "cell_type": "code",
   "execution_count": 17,
   "id": "f97ba56f-cefd-4b0d-98d5-cd6742b8dc3b",
   "metadata": {},
   "outputs": [],
   "source": [
    "biomass_average_confidence_interval_upper_limit = 0.0"
   ]
  },
  {
   "cell_type": "code",
   "execution_count": 11,
   "id": "49c297ab-dc5d-4e17-a78f-ee101d69ac0f",
   "metadata": {},
   "outputs": [],
   "source": [
    "biomass_average_confidence_interval_lower_limit = -0.4"
   ]
  },
  {
   "cell_type": "markdown",
   "id": "406db834-6892-4c3a-a35d-8e70ffc2c545",
   "metadata": {},
   "source": [
    "##### Based on second equation from https://handbook-5-1.cochrane.org/chapter_7/7_7_3_2_obtaining_standard_deviations_from_standard_errors_and.htm"
   ]
  },
  {
   "cell_type": "code",
   "execution_count": 24,
   "id": "e6e778ba-429e-4af6-b7f2-7288c3c1e4ed",
   "metadata": {},
   "outputs": [],
   "source": [
    "biomass_average_standard_deviation = math.sqrt(biomass_total_sample_size) * (\n",
    "    biomass_average_confidence_interval_upper_limit - biomass_average_confidence_interval_lower_limit) / 3.92"
   ]
  },
  {
   "cell_type": "code",
   "execution_count": 25,
   "id": "28260e46-abc7-44f7-979b-0a251de5ce6d",
   "metadata": {},
   "outputs": [
    {
     "data": {
      "text/plain": [
       "3.5347975664670974"
      ]
     },
     "execution_count": 25,
     "metadata": {},
     "output_type": "execute_result"
    }
   ],
   "source": [
    "biomass_average_standard_deviation"
   ]
  },
  {
   "cell_type": "code",
   "execution_count": 48,
   "id": "a3b823e9-8d79-4492-9623-63602e472948",
   "metadata": {},
   "outputs": [],
   "source": [
    "from standard_deviation_from_confidence_interval import standard_deviation_from_confidence_interval"
   ]
  },
  {
   "cell_type": "code",
   "execution_count": 49,
   "id": "a7c642d8-faa8-4c70-9e71-6cf651a7622b",
   "metadata": {},
   "outputs": [],
   "source": [
    "biomass_average_standard_deviation_2 = standard_deviation_from_confidence_interval(\n",
    "    biomass_total_sample_size, biomass_average_confidence_interval_upper_limit, \n",
    "    biomass_average_confidence_interval_lower_limit)"
   ]
  },
  {
   "cell_type": "code",
   "execution_count": 50,
   "id": "bfd8c9c3-fcb8-4d9c-bb72-a9e8ff816e84",
   "metadata": {},
   "outputs": [
    {
     "data": {
      "text/plain": [
       "3.5347975664670974"
      ]
     },
     "execution_count": 50,
     "metadata": {},
     "output_type": "execute_result"
    }
   ],
   "source": [
    "biomass_average_standard_deviation_2"
   ]
  },
  {
   "cell_type": "code",
   "execution_count": 54,
   "id": "e80dda70-d362-401d-bdb2-567a295542a1",
   "metadata": {},
   "outputs": [],
   "source": [
    "assert biomass_average_standard_deviation == biomass_average_standard_deviation_2"
   ]
  },
  {
   "cell_type": "markdown",
   "id": "4ff2c2eb-4d65-407a-9892-c68beceafb86",
   "metadata": {},
   "source": [
    "##### Get synthetic data"
   ]
  },
  {
   "cell_type": "code",
   "execution_count": 35,
   "id": "c6d28bf4-6321-4234-b500-31fb67c7bc8d",
   "metadata": {},
   "outputs": [],
   "source": [
    "with pm.Model() as biomass_average_model:\n",
    "    biomass_average = pm.Normal(\"biomass_average\", mu=biomass_average_mean, \n",
    "                                sigma=biomass_average_standard_deviation)\n",
    "    \n",
    "    biomass_average_prior = pm.sample_prior_predictive(biomass_total_sample_size)"
   ]
  },
  {
   "cell_type": "code",
   "execution_count": 36,
   "id": "2af99fa9-2217-462b-a276-9eb8c446a30c",
   "metadata": {
    "tags": []
   },
   "outputs": [
    {
     "data": {
      "text/plain": [
       "{'biomass_average': array([-6.10875387, -1.71861535,  5.70923326, ...,  2.44792302,\n",
       "        -0.51252211,  2.84488161])}"
      ]
     },
     "execution_count": 36,
     "metadata": {},
     "output_type": "execute_result"
    }
   ],
   "source": [
    "biomass_average_prior"
   ]
  },
  {
   "cell_type": "code",
   "execution_count": 37,
   "id": "eea642c3-6763-4a35-9505-3c1296809b2e",
   "metadata": {},
   "outputs": [
    {
     "data": {
      "text/plain": [
       "(1200,)"
      ]
     },
     "execution_count": 37,
     "metadata": {},
     "output_type": "execute_result"
    }
   ],
   "source": [
    "biomass_average_prior['biomass_average'].shape"
   ]
  },
  {
   "cell_type": "code",
   "execution_count": 40,
   "id": "821cd85c-617e-4e3b-951e-986b5e917ab7",
   "metadata": {},
   "outputs": [],
   "source": [
    "biomass_average_prior_series = pd.Series(biomass_average_prior['biomass_average'])"
   ]
  },
  {
   "cell_type": "code",
   "execution_count": 45,
   "id": "5f06d99a-2492-469f-8929-9cd9e4d496d7",
   "metadata": {},
   "outputs": [],
   "source": [
    "current_time_string = datetime.now().strftime(\"%Y%m%d%H%M%S\")"
   ]
  },
  {
   "cell_type": "code",
   "execution_count": 47,
   "id": "9583982a-23dd-411b-b939-6ae21023de30",
   "metadata": {},
   "outputs": [],
   "source": [
    "biomass_average_prior_series.to_csv(f'../../../data/synthetic/photosynthetic_acclimation_to_fluctuating_irradiance_in_plants/figure2_biomass_average_prior_{current_time_string}.csv', \n",
    "                                    index=False, header=False)"
   ]
  },
  {
   "cell_type": "code",
   "execution_count": null,
   "id": "9de3be16-3657-4e5e-a2fe-084592958efe",
   "metadata": {},
   "outputs": [],
   "source": []
  }
 ],
 "metadata": {
  "kernelspec": {
   "display_name": "Python 3 (ipykernel)",
   "language": "python",
   "name": "python3"
  },
  "language_info": {
   "codemirror_mode": {
    "name": "ipython",
    "version": 3
   },
   "file_extension": ".py",
   "mimetype": "text/x-python",
   "name": "python",
   "nbconvert_exporter": "python",
   "pygments_lexer": "ipython3",
   "version": "3.10.5"
  }
 },
 "nbformat": 4,
 "nbformat_minor": 5
}
