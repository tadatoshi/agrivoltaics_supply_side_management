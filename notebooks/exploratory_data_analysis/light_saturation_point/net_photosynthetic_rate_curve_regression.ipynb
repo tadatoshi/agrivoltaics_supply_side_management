{
 "cells": [
  {
   "cell_type": "markdown",
   "id": "6c8fa662-5947-4ee6-a34a-e352aa5e4598",
   "metadata": {},
   "source": [
    "## Fit theoretical net photosynthetic rate equation to soybean experimental data, in order to generate synthetic data to be used in net_photosynthetic_rate_curve.ipynb"
   ]
  },
  {
   "cell_type": "code",
   "execution_count": 2,
   "id": "138834ae-5751-491f-8bab-0ef6d681af99",
   "metadata": {},
   "outputs": [],
   "source": [
    "%load_ext autoreload\n",
    "%autoreload 2"
   ]
  },
  {
   "cell_type": "code",
   "execution_count": 3,
   "id": "3d61ff05-e27d-4de0-a726-ecd6688802aa",
   "metadata": {},
   "outputs": [],
   "source": [
    "import numpy as np\n",
    "import pandas as pd\n",
    "import matplotlib.pyplot as plt\n",
    "from scipy import optimize"
   ]
  },
  {
   "cell_type": "markdown",
   "id": "6a384c2e-5cb3-405f-a53e-cfe627788e89",
   "metadata": {},
   "source": [
    "#### Try with simple example (\"Use optimize.curve_fit from scipy\" from https://pythonnumericalmethods.berkeley.edu/notebooks/chapter16.04-Least-Squares-Regression-in-Python.html)"
   ]
  },
  {
   "cell_type": "code",
   "execution_count": 4,
   "id": "b41dc64d-8944-475b-9d67-682c85852e7c",
   "metadata": {},
   "outputs": [],
   "source": [
    "x = np.linspace(0, 1, 101)"
   ]
  },
  {
   "cell_type": "code",
   "execution_count": 5,
   "id": "3454d934-e90c-4d8d-8697-0416028be3a5",
   "metadata": {},
   "outputs": [],
   "source": [
    "y = 1 + x + x * np.random.random(len(x))"
   ]
  },
  {
   "cell_type": "code",
   "execution_count": 6,
   "id": "3550d288-a292-459b-a854-6c531a9e4b9d",
   "metadata": {},
   "outputs": [],
   "source": [
    "def func(x, a, b):\n",
    "    y = a * x + b\n",
    "    return y"
   ]
  },
  {
   "cell_type": "code",
   "execution_count": 7,
   "id": "cb70b71e-6e1e-4d96-acfc-32356fca5464",
   "metadata": {},
   "outputs": [],
   "source": [
    "alpha = optimize.curve_fit(func, xdata = x, ydata = y)[0]"
   ]
  },
  {
   "cell_type": "code",
   "execution_count": 8,
   "id": "6ee6b308-c71f-4469-9e28-cbd213b604ed",
   "metadata": {},
   "outputs": [
    {
     "data": {
      "text/plain": [
       "array([1.50085551, 0.98900316])"
      ]
     },
     "execution_count": 8,
     "metadata": {},
     "output_type": "execute_result"
    }
   ],
   "source": [
    "alpha"
   ]
  },
  {
   "cell_type": "code",
   "execution_count": 11,
   "id": "c3458f68-a7b3-4690-bd54-8a2924a777cb",
   "metadata": {},
   "outputs": [
    {
     "data": {
      "text/plain": [
       "[<matplotlib.lines.Line2D at 0x11769b8e0>]"
      ]
     },
     "execution_count": 11,
     "metadata": {},
     "output_type": "execute_result"
    },
    {
     "data": {
      "image/png": "[encoded data removed]",
      "text/plain": [
       "<Figure size 432x288 with 1 Axes>"
      ]
     },
     "metadata": {
      "needs_background": "light"
     },
     "output_type": "display_data"
    }
   ],
   "source": [
    "plt.plot(x, y)\n",
    "plt.plot(x, func(x, alpha[0], alpha[1]))"
   ]
  },
  {
   "cell_type": "markdown",
   "id": "057eaa34-b193-4737-9e0d-20374ed717e2",
   "metadata": {},
   "source": [
    "#### Use net_photosynthetic_rate function"
   ]
  },
  {
   "cell_type": "code",
   "execution_count": 33,
   "id": "c4ae5cdd-0bd0-4f90-bfbd-808e201c625c",
   "metadata": {},
   "outputs": [],
   "source": [
    "from net_photosynthetic_rate import get_net_photosynthetic_rate_function"
   ]
  },
  {
   "cell_type": "code",
   "execution_count": 18,
   "id": "7d58447c-8663-49b1-a26b-ca22dfef1bf3",
   "metadata": {},
   "outputs": [],
   "source": [
    "soybean_net_photosynthetic_rate = pd.read_csv(\"../../../data/soybean_net_photosynthetic_rate.csv\", \n",
    "                    index_col=\"Photosynthetically Active Radiation [micromol / m^2 / s]\")"
   ]
  },
  {
   "cell_type": "code",
   "execution_count": 19,
   "id": "9dad4a39-3ef1-4d18-92e1-ae51de091b3d",
   "metadata": {},
   "outputs": [
    {
     "data": {
      "text/html": [
       "<div>\n",
       "<style scoped>\n",
       "    .dataframe tbody tr th:only-of-type {\n",
       "        vertical-align: middle;\n",
       "    }\n",
       "\n",
       "    .dataframe tbody tr th {\n",
       "        vertical-align: top;\n",
       "    }\n",
       "\n",
       "    .dataframe thead th {\n",
       "        text-align: right;\n",
       "    }\n",
       "</style>\n",
       "<table border=\"1\" class=\"dataframe\">\n",
       "  <thead>\n",
       "    <tr style=\"text-align: right;\">\n",
       "      <th></th>\n",
       "      <th>Monocropping - CO2 uptake [micromol / m^2 / s]</th>\n",
       "      <th>Intercropping - CO2 uptake [micromol / m^2 / s]</th>\n",
       "    </tr>\n",
       "    <tr>\n",
       "      <th>Photosynthetically Active Radiation [micromol / m^2 / s]</th>\n",
       "      <th></th>\n",
       "      <th></th>\n",
       "    </tr>\n",
       "  </thead>\n",
       "  <tbody>\n",
       "    <tr>\n",
       "      <th>0.0</th>\n",
       "      <td>-3.5</td>\n",
       "      <td>-2.5</td>\n",
       "    </tr>\n",
       "    <tr>\n",
       "      <th>25.0</th>\n",
       "      <td>-2.7</td>\n",
       "      <td>-0.7</td>\n",
       "    </tr>\n",
       "    <tr>\n",
       "      <th>50.0</th>\n",
       "      <td>-0.9</td>\n",
       "      <td>0.8</td>\n",
       "    </tr>\n",
       "    <tr>\n",
       "      <th>75.0</th>\n",
       "      <td>1.0</td>\n",
       "      <td>2.3</td>\n",
       "    </tr>\n",
       "    <tr>\n",
       "      <th>100.0</th>\n",
       "      <td>2.0</td>\n",
       "      <td>3.0</td>\n",
       "    </tr>\n",
       "    <tr>\n",
       "      <th>200.0</th>\n",
       "      <td>6.0</td>\n",
       "      <td>7.0</td>\n",
       "    </tr>\n",
       "    <tr>\n",
       "      <th>400.0</th>\n",
       "      <td>12.5</td>\n",
       "      <td>11.0</td>\n",
       "    </tr>\n",
       "    <tr>\n",
       "      <th>600.0</th>\n",
       "      <td>17.0</td>\n",
       "      <td>12.5</td>\n",
       "    </tr>\n",
       "    <tr>\n",
       "      <th>800.0</th>\n",
       "      <td>20.0</td>\n",
       "      <td>14.5</td>\n",
       "    </tr>\n",
       "    <tr>\n",
       "      <th>1000.0</th>\n",
       "      <td>22.0</td>\n",
       "      <td>15.5</td>\n",
       "    </tr>\n",
       "    <tr>\n",
       "      <th>1200.0</th>\n",
       "      <td>23.5</td>\n",
       "      <td>16.0</td>\n",
       "    </tr>\n",
       "    <tr>\n",
       "      <th>1500.0</th>\n",
       "      <td>25.0</td>\n",
       "      <td>17.0</td>\n",
       "    </tr>\n",
       "  </tbody>\n",
       "</table>\n",
       "</div>"
      ],
      "text/plain": [
       "                                                    Monocropping - CO2 uptake [micromol / m^2 / s]  \\\n",
       "Photosynthetically Active Radiation [micromol /...                                                   \n",
       "0.0                                                                                           -3.5   \n",
       "25.0                                                                                          -2.7   \n",
       "50.0                                                                                          -0.9   \n",
       "75.0                                                                                           1.0   \n",
       "100.0                                                                                          2.0   \n",
       "200.0                                                                                          6.0   \n",
       "400.0                                                                                         12.5   \n",
       "600.0                                                                                         17.0   \n",
       "800.0                                                                                         20.0   \n",
       "1000.0                                                                                        22.0   \n",
       "1200.0                                                                                        23.5   \n",
       "1500.0                                                                                        25.0   \n",
       "\n",
       "                                                    Intercropping - CO2 uptake [micromol / m^2 / s]  \n",
       "Photosynthetically Active Radiation [micromol /...                                                   \n",
       "0.0                                                                                            -2.5  \n",
       "25.0                                                                                           -0.7  \n",
       "50.0                                                                                            0.8  \n",
       "75.0                                                                                            2.3  \n",
       "100.0                                                                                           3.0  \n",
       "200.0                                                                                           7.0  \n",
       "400.0                                                                                          11.0  \n",
       "600.0                                                                                          12.5  \n",
       "800.0                                                                                          14.5  \n",
       "1000.0                                                                                         15.5  \n",
       "1200.0                                                                                         16.0  \n",
       "1500.0                                                                                         17.0  "
      ]
     },
     "execution_count": 19,
     "metadata": {},
     "output_type": "execute_result"
    }
   ],
   "source": [
    "soybean_net_photosynthetic_rate"
   ]
  },
  {
   "cell_type": "code",
   "execution_count": 20,
   "id": "6995f5e2-991a-43e0-9d80-8adcaf3c7b8a",
   "metadata": {},
   "outputs": [],
   "source": [
    "soybean_net_photosynthetic_rate.rename(columns ={'Monocropping - CO2 uptake [micromol / m^2 / s]': 'Monocropping', \n",
    "                                                 'Intercropping - CO2 uptake [micromol / m^2 / s]': 'Intercropping'},\n",
    "                               inplace=True)"
   ]
  },
  {
   "cell_type": "code",
   "execution_count": 21,
   "id": "b9f1266d-f02a-42f1-a416-8388ca537ec8",
   "metadata": {},
   "outputs": [],
   "source": [
    "soybean_net_photosynthetic_rate.index.names = ['PAR']"
   ]
  },
  {
   "cell_type": "code",
   "execution_count": 22,
   "id": "ea5e9112-58b3-45e2-96fa-073650c7ea62",
   "metadata": {},
   "outputs": [
    {
     "data": {
      "text/html": [
       "<div>\n",
       "<style scoped>\n",
       "    .dataframe tbody tr th:only-of-type {\n",
       "        vertical-align: middle;\n",
       "    }\n",
       "\n",
       "    .dataframe tbody tr th {\n",
       "        vertical-align: top;\n",
       "    }\n",
       "\n",
       "    .dataframe thead th {\n",
       "        text-align: right;\n",
       "    }\n",
       "</style>\n",
       "<table border=\"1\" class=\"dataframe\">\n",
       "  <thead>\n",
       "    <tr style=\"text-align: right;\">\n",
       "      <th></th>\n",
       "      <th>Monocropping</th>\n",
       "      <th>Intercropping</th>\n",
       "    </tr>\n",
       "    <tr>\n",
       "      <th>PAR</th>\n",
       "      <th></th>\n",
       "      <th></th>\n",
       "    </tr>\n",
       "  </thead>\n",
       "  <tbody>\n",
       "    <tr>\n",
       "      <th>0.0</th>\n",
       "      <td>-3.5</td>\n",
       "      <td>-2.5</td>\n",
       "    </tr>\n",
       "    <tr>\n",
       "      <th>25.0</th>\n",
       "      <td>-2.7</td>\n",
       "      <td>-0.7</td>\n",
       "    </tr>\n",
       "    <tr>\n",
       "      <th>50.0</th>\n",
       "      <td>-0.9</td>\n",
       "      <td>0.8</td>\n",
       "    </tr>\n",
       "    <tr>\n",
       "      <th>75.0</th>\n",
       "      <td>1.0</td>\n",
       "      <td>2.3</td>\n",
       "    </tr>\n",
       "    <tr>\n",
       "      <th>100.0</th>\n",
       "      <td>2.0</td>\n",
       "      <td>3.0</td>\n",
       "    </tr>\n",
       "    <tr>\n",
       "      <th>200.0</th>\n",
       "      <td>6.0</td>\n",
       "      <td>7.0</td>\n",
       "    </tr>\n",
       "    <tr>\n",
       "      <th>400.0</th>\n",
       "      <td>12.5</td>\n",
       "      <td>11.0</td>\n",
       "    </tr>\n",
       "    <tr>\n",
       "      <th>600.0</th>\n",
       "      <td>17.0</td>\n",
       "      <td>12.5</td>\n",
       "    </tr>\n",
       "    <tr>\n",
       "      <th>800.0</th>\n",
       "      <td>20.0</td>\n",
       "      <td>14.5</td>\n",
       "    </tr>\n",
       "    <tr>\n",
       "      <th>1000.0</th>\n",
       "      <td>22.0</td>\n",
       "      <td>15.5</td>\n",
       "    </tr>\n",
       "    <tr>\n",
       "      <th>1200.0</th>\n",
       "      <td>23.5</td>\n",
       "      <td>16.0</td>\n",
       "    </tr>\n",
       "    <tr>\n",
       "      <th>1500.0</th>\n",
       "      <td>25.0</td>\n",
       "      <td>17.0</td>\n",
       "    </tr>\n",
       "  </tbody>\n",
       "</table>\n",
       "</div>"
      ],
      "text/plain": [
       "        Monocropping  Intercropping\n",
       "PAR                                \n",
       "0.0             -3.5           -2.5\n",
       "25.0            -2.7           -0.7\n",
       "50.0            -0.9            0.8\n",
       "75.0             1.0            2.3\n",
       "100.0            2.0            3.0\n",
       "200.0            6.0            7.0\n",
       "400.0           12.5           11.0\n",
       "600.0           17.0           12.5\n",
       "800.0           20.0           14.5\n",
       "1000.0          22.0           15.5\n",
       "1200.0          23.5           16.0\n",
       "1500.0          25.0           17.0"
      ]
     },
     "execution_count": 22,
     "metadata": {},
     "output_type": "execute_result"
    }
   ],
   "source": [
    "soybean_net_photosynthetic_rate"
   ]
  },
  {
   "cell_type": "code",
   "execution_count": 25,
   "id": "956c8266-9a41-4976-82e5-7ff691f5da00",
   "metadata": {},
   "outputs": [],
   "source": [
    "xdata = soybean_net_photosynthetic_rate.index.values"
   ]
  },
  {
   "cell_type": "code",
   "execution_count": 26,
   "id": "87038e52-4c77-4ba3-a963-18032a5c3d25",
   "metadata": {},
   "outputs": [],
   "source": [
    "ydata = soybean_net_photosynthetic_rate.Monocropping.values"
   ]
  },
  {
   "cell_type": "code",
   "execution_count": 27,
   "id": "1bad4839-7172-4090-8a2f-bbb2ff9429fd",
   "metadata": {},
   "outputs": [],
   "source": [
    "p_max = max(xdata)"
   ]
  },
  {
   "cell_type": "code",
   "execution_count": 28,
   "id": "108fda63-cde4-4643-b1d5-1409aea74382",
   "metadata": {},
   "outputs": [
    {
     "data": {
      "text/plain": [
       "1500.0"
      ]
     },
     "execution_count": 28,
     "metadata": {},
     "output_type": "execute_result"
    }
   ],
   "source": [
    "p_max"
   ]
  },
  {
   "cell_type": "code",
   "execution_count": 34,
   "id": "96430ebb-aa09-414e-a4ea-f3939fcf6358",
   "metadata": {},
   "outputs": [],
   "source": [
    "net_photosynthetic_rate = get_net_photosynthetic_rate_function(p_max)"
   ]
  },
  {
   "cell_type": "code",
   "execution_count": 35,
   "id": "2b39859a-14a6-4f98-97bb-ab84ee7a11a2",
   "metadata": {},
   "outputs": [],
   "source": [
    "popt, pcov = optimize.curve_fit(net_photosynthetic_rate, xdata, ydata)"
   ]
  },
  {
   "cell_type": "code",
   "execution_count": 36,
   "id": "82605973-807d-4bc8-89f3-8c781d427a39",
   "metadata": {},
   "outputs": [
    {
     "data": {
      "text/plain": [
       "array([ 1.66546275e-01,  2.84853287e-03, -3.16349545e+02])"
      ]
     },
     "execution_count": 36,
     "metadata": {},
     "output_type": "execute_result"
    }
   ],
   "source": [
    "popt"
   ]
  },
  {
   "cell_type": "code",
   "execution_count": 37,
   "id": "9a735bd5-45b1-4170-a0d5-17bd24398ee0",
   "metadata": {},
   "outputs": [
    {
     "data": {
      "text/plain": [
       "array([[ 2.71350549e-02,  1.29615493e-04, -5.61054739e+01],\n",
       "       [ 1.29615493e-04,  8.10550567e-07, -2.59135838e-01],\n",
       "       [-5.61054739e+01, -2.59135838e-01,  1.16674039e+05]])"
      ]
     },
     "execution_count": 37,
     "metadata": {},
     "output_type": "execute_result"
    }
   ],
   "source": [
    "pcov"
   ]
  },
  {
   "cell_type": "code",
   "execution_count": 42,
   "id": "3c620926-21f6-4364-aba0-afe7690f663d",
   "metadata": {},
   "outputs": [
    {
     "data": {
      "text/plain": [
       "[<matplotlib.lines.Line2D at 0x11e427b80>]"
      ]
     },
     "execution_count": 42,
     "metadata": {},
     "output_type": "execute_result"
    },
    {
     "data": {
      "image/png": "[encoded data removed]",
      "text/plain": [
       "<Figure size 432x288 with 1 Axes>"
      ]
     },
     "metadata": {
      "needs_background": "light"
     },
     "output_type": "display_data"
    }
   ],
   "source": [
    "plt.plot(xdata, ydata)\n",
    "plt.plot(xdata, net_photosynthetic_rate(xdata, popt[0], popt[1], popt[2]))"
   ]
  },
  {
   "cell_type": "markdown",
   "id": "3967321a-9095-4e4a-934f-98d2afc56718",
   "metadata": {},
   "source": [
    "##### Cannot have value negative or absolute value greater than 1"
   ]
  },
  {
   "cell_type": "markdown",
   "id": "ed7be0d0-8e2a-45b0-9c48-9efe428f8cd9",
   "metadata": {},
   "source": [
    "##### Constrain optimization to the region of 0 < phi, alpha, theta < 1"
   ]
  },
  {
   "cell_type": "code",
   "execution_count": 38,
   "id": "88eb6216-1222-4d80-9fdb-1058bad34425",
   "metadata": {},
   "outputs": [],
   "source": [
    "popt_2, pcov_2 = optimize.curve_fit(net_photosynthetic_rate, xdata, ydata, \n",
    "                                    bounds=(0, 1))"
   ]
  },
  {
   "cell_type": "code",
   "execution_count": 39,
   "id": "63c25761-8095-47cd-8016-dfed4bd9d955",
   "metadata": {},
   "outputs": [
    {
     "data": {
      "text/plain": [
       "array([2.07141025e-02, 2.28078265e-10, 9.42610479e-08])"
      ]
     },
     "execution_count": 39,
     "metadata": {},
     "output_type": "execute_result"
    }
   ],
   "source": [
    "popt_2"
   ]
  },
  {
   "cell_type": "code",
   "execution_count": 40,
   "id": "67510d49-7784-499e-926e-0cd95ec914dc",
   "metadata": {},
   "outputs": [
    {
     "data": {
      "text/plain": [
       "array([[ 5.49430633e-06,  1.60456232e-06, -2.67708855e-05],\n",
       "       [ 1.60456232e-06,  9.67689527e-07, -4.56363875e-06],\n",
       "       [-2.67708855e-05, -4.56363875e-06,  7.55104031e-04]])"
      ]
     },
     "execution_count": 40,
     "metadata": {},
     "output_type": "execute_result"
    }
   ],
   "source": [
    "pcov_2"
   ]
  },
  {
   "cell_type": "code",
   "execution_count": 41,
   "id": "15ae5546-c339-48c7-9464-4558953d43bd",
   "metadata": {},
   "outputs": [
    {
     "data": {
      "text/plain": [
       "[<matplotlib.lines.Line2D at 0x11e0c9d80>]"
      ]
     },
     "execution_count": 41,
     "metadata": {},
     "output_type": "execute_result"
    },
    {
     "data": {
      "image/png": "[encoded data removed]",
      "text/plain": [
       "<Figure size 432x288 with 1 Axes>"
      ]
     },
     "metadata": {
      "needs_background": "light"
     },
     "output_type": "display_data"
    }
   ],
   "source": [
    "plt.plot(xdata, ydata)\n",
    "plt.plot(xdata, net_photosynthetic_rate(xdata, popt_2[0], popt_2[1], popt_2[2]))"
   ]
  },
  {
   "cell_type": "markdown",
   "id": "dbc355a7-dd61-47b1-8042-3f380a60b32f",
   "metadata": {},
   "source": [
    "##### I might have misunderstood p_max. I used max photosynthetic active radiation (as max PPFD). But it seems that it should be max photosynthetic rate. I try with that assumption. "
   ]
  },
  {
   "cell_type": "code",
   "execution_count": 43,
   "id": "246c334c-7811-4a74-b6c5-cd440db80cec",
   "metadata": {},
   "outputs": [],
   "source": [
    "p_max_2 = max(ydata)"
   ]
  },
  {
   "cell_type": "code",
   "execution_count": 48,
   "id": "1276ede3-9459-417f-9475-56f2d5a0f49c",
   "metadata": {},
   "outputs": [
    {
     "data": {
      "text/plain": [
       "25.0"
      ]
     },
     "execution_count": 48,
     "metadata": {},
     "output_type": "execute_result"
    }
   ],
   "source": [
    "p_max_2"
   ]
  },
  {
   "cell_type": "code",
   "execution_count": 44,
   "id": "86372bcc-a38b-444c-8519-b2973406a0bf",
   "metadata": {},
   "outputs": [],
   "source": [
    "net_photosynthetic_rate_2 = get_net_photosynthetic_rate_function(p_max_2)"
   ]
  },
  {
   "cell_type": "markdown",
   "id": "8fae27e7-2c4b-4afd-b0f5-8d30c40f4e9b",
   "metadata": {},
   "source": [
    "##### Without bounds"
   ]
  },
  {
   "cell_type": "code",
   "execution_count": 45,
   "id": "d5481820-7f4c-4e50-8e8a-2d255402e981",
   "metadata": {},
   "outputs": [
    {
     "name": "stderr",
     "output_type": "stream",
     "text": [
      "/Users/tadatoshi/Documents/development/projects/tadatoshi_solar_research_society/agrivoltaics_supply_side_management/notebooks/exploratory_data_analysis/light_saturation_point/net_photosynthetic_rate.py:31: RuntimeWarning: invalid value encountered in sqrt\n",
      "  return (phi * l + (1 + alpha) * p_max - sqrt(\n",
      "/Users/tadatoshi/Documents/development/projects/tadatoshi_solar_research_society/agrivoltaics_supply_side_management/venv/lib/python3.10/site-packages/scipy/optimize/minpack.py:833: OptimizeWarning: Covariance of the parameters could not be estimated\n",
      "  warnings.warn('Covariance of the parameters could not be estimated',\n"
     ]
    }
   ],
   "source": [
    "popt_3, pcov_3 = optimize.curve_fit(net_photosynthetic_rate_2, xdata, ydata)"
   ]
  },
  {
   "cell_type": "code",
   "execution_count": 46,
   "id": "b46dde30-ff83-4de7-8016-d8a38b29f92a",
   "metadata": {},
   "outputs": [
    {
     "data": {
      "text/plain": [
       "array([nan, nan, nan])"
      ]
     },
     "execution_count": 46,
     "metadata": {},
     "output_type": "execute_result"
    }
   ],
   "source": [
    "popt_3"
   ]
  },
  {
   "cell_type": "code",
   "execution_count": 47,
   "id": "a865b03b-e763-49c4-8f5f-32da814e029b",
   "metadata": {},
   "outputs": [
    {
     "data": {
      "text/plain": [
       "array([[inf, inf, inf],\n",
       "       [inf, inf, inf],\n",
       "       [inf, inf, inf]])"
      ]
     },
     "execution_count": 47,
     "metadata": {},
     "output_type": "execute_result"
    }
   ],
   "source": [
    "pcov_3"
   ]
  },
  {
   "cell_type": "markdown",
   "id": "3c42aa70-64f9-4ca6-aeef-2e466b6415d9",
   "metadata": {},
   "source": [
    "##### Investigate it"
   ]
  },
  {
   "cell_type": "code",
   "execution_count": 54,
   "id": "9e243917-82d4-452a-b16d-9d41386b4f1e",
   "metadata": {},
   "outputs": [],
   "source": [
    "def inside_sqrt(l, p_max, phi, alpha, theta):\n",
    "    return (phi * l + (1 + alpha) * p_max)**2 - 4 * theta * phi * l * (1 + alpha) * p_max"
   ]
  },
  {
   "cell_type": "code",
   "execution_count": 51,
   "id": "0e8d5b62-274a-4298-8ac0-aa4a6d358d36",
   "metadata": {},
   "outputs": [],
   "source": [
    "phi_1, alpha_1, theta_1 = 0.055, 0.2, 0.96"
   ]
  },
  {
   "cell_type": "code",
   "execution_count": 55,
   "id": "67d14e74-d30b-491a-ad4e-4fa03a18f1dd",
   "metadata": {},
   "outputs": [
    {
     "name": "stdout",
     "output_type": "stream",
     "text": [
      "l: 0.0, inside_sqrt_result: 900.0\n",
      "l: 25.0, inside_sqrt_result: 825.990625\n",
      "l: 50.0, inside_sqrt_result: 755.7625\n",
      "l: 75.0, inside_sqrt_result: 689.315625\n",
      "l: 100.0, inside_sqrt_result: 626.65\n",
      "l: 200.0, inside_sqrt_result: 413.79999999999995\n",
      "l: 400.0, inside_sqrt_result: 169.5999999999999\n",
      "l: 600.0, inside_sqrt_result: 167.4000000000001\n",
      "l: 800.0, inside_sqrt_result: 407.1999999999998\n",
      "l: 1000.0, inside_sqrt_result: 889.0000000000009\n",
      "l: 1200.0, inside_sqrt_result: 1612.8000000000002\n",
      "l: 1500.0, inside_sqrt_result: 3152.25\n"
     ]
    }
   ],
   "source": [
    "for l in xdata:\n",
    "    inside_sqrt_result = inside_sqrt(l, p_max_2, phi_1, alpha_1, theta_1)\n",
    "    print(f\"l: {l}, inside_sqrt_result: {inside_sqrt_result}\")"
   ]
  },
  {
   "cell_type": "markdown",
   "id": "f3804399-089c-4050-9a17-df1563b60649",
   "metadata": {},
   "source": [
    "##### Put print statement inside net_photosynthetic_rate function"
   ]
  },
  {
   "cell_type": "code",
   "execution_count": 57,
   "id": "4b1bafe3-f5c0-4d4c-a9b5-1c9d54bc6ea8",
   "metadata": {},
   "outputs": [],
   "source": [
    "from net_photosynthetic_rate import get_net_photosynthetic_rate_function"
   ]
  },
  {
   "cell_type": "code",
   "execution_count": 58,
   "id": "2170eb5d-01fc-4310-a8de-d84f71f9995d",
   "metadata": {},
   "outputs": [],
   "source": [
    "net_photosynthetic_rate_3 = get_net_photosynthetic_rate_function(p_max_2)"
   ]
  },
  {
   "cell_type": "code",
   "execution_count": 60,
   "id": "fce725c5-a8e1-4412-9d4a-a7ea11732bd6",
   "metadata": {},
   "outputs": [
    {
     "name": "stdout",
     "output_type": "stream",
     "text": [
      "l: [   0.   25.   50.   75.  100.  200.  400.  600.  800. 1000. 1200. 1500.], inside_sqrt: [2.5000e+03 6.2500e+02 0.0000e+00 6.2500e+02 2.5000e+03 2.2500e+04\n",
      " 1.2250e+05 3.0250e+05 5.6250e+05 9.0250e+05 1.3225e+06 2.1025e+06]\n",
      "l: [   0.   25.   50.   75.  100.  200.  400.  600.  800. 1000. 1200. 1500.], inside_sqrt: [2.5000e+03 6.2500e+02 0.0000e+00 6.2500e+02 2.5000e+03 2.2500e+04\n",
      " 1.2250e+05 3.0250e+05 5.6250e+05 9.0250e+05 1.3225e+06 2.1025e+06]\n",
      "l: [   0.   25.   50.   75.  100.  200.  400.  600.  800. 1000. 1200. 1500.], inside_sqrt: [2.5000e+03 6.2500e+02 0.0000e+00 6.2500e+02 2.5000e+03 2.2500e+04\n",
      " 1.2250e+05 3.0250e+05 5.6250e+05 9.0250e+05 1.3225e+06 2.1025e+06]\n",
      "l: [   0.   25.   50.   75.  100.  200.  400.  600.  800. 1000. 1200. 1500.], inside_sqrt: [2.50000000e+03 6.24999981e+02 0.00000000e+00 6.25000056e+02\n",
      " 2.50000015e+03 2.25000009e+04 1.22500004e+05 3.02500010e+05\n",
      " 5.62500018e+05 9.02500028e+05 1.32250004e+06 2.10250006e+06]\n",
      "l: [   0.   25.   50.   75.  100.  200.  400.  600.  800. 1000. 1200. 1500.], inside_sqrt: [2.50000004e+03 6.25000019e+02 0.00000000e+00 6.24999981e+02\n",
      " 2.49999996e+03 2.24999999e+04 1.22500000e+05 3.02500000e+05\n",
      " 5.62499999e+05 9.02499999e+05 1.32250000e+06 2.10250000e+06]\n",
      "l: [   0.   25.   50.   75.  100.  200.  400.  600.  800. 1000. 1200. 1500.], inside_sqrt: [ 2.50000000e+03  6.24999925e+02 -1.49011612e-04  6.24999776e+02\n",
      "  2.49999970e+03  2.24999994e+04  1.22499999e+05  3.02499998e+05\n",
      "  5.62499998e+05  9.02499997e+05  1.32250000e+06  2.10250000e+06]\n",
      "l: [   0.   25.   50.   75.  100.  200.  400.  600.  800. 1000. 1200. 1500.], inside_sqrt: [nan nan nan nan nan nan nan nan nan nan nan nan]\n",
      "l: [   0.   25.   50.   75.  100.  200.  400.  600.  800. 1000. 1200. 1500.], inside_sqrt: [nan nan nan nan nan nan nan nan nan nan nan nan]\n",
      "l: [   0.   25.   50.   75.  100.  200.  400.  600.  800. 1000. 1200. 1500.], inside_sqrt: [nan nan nan nan nan nan nan nan nan nan nan nan]\n",
      "l: [   0.   25.   50.   75.  100.  200.  400.  600.  800. 1000. 1200. 1500.], inside_sqrt: [nan nan nan nan nan nan nan nan nan nan nan nan]\n"
     ]
    },
    {
     "name": "stderr",
     "output_type": "stream",
     "text": [
      "/Users/tadatoshi/Documents/development/projects/tadatoshi_solar_research_society/agrivoltaics_supply_side_management/notebooks/exploratory_data_analysis/light_saturation_point/net_photosynthetic_rate.py:35: RuntimeWarning: invalid value encountered in sqrt\n",
      "  \n"
     ]
    }
   ],
   "source": [
    "popt_4, pcov_4 = optimize.curve_fit(net_photosynthetic_rate_3, xdata, ydata)"
   ]
  },
  {
   "cell_type": "code",
   "execution_count": 61,
   "id": "478212e3-b836-4a8d-af73-f43d9c3fe3b9",
   "metadata": {},
   "outputs": [],
   "source": [
    "from net_photosynthetic_rate import get_net_photosynthetic_rate_function"
   ]
  },
  {
   "cell_type": "code",
   "execution_count": 62,
   "id": "87e2c6ea-4780-420e-87f1-cdc8758536d6",
   "metadata": {},
   "outputs": [],
   "source": [
    "net_photosynthetic_rate_4 = get_net_photosynthetic_rate_function(p_max_2)"
   ]
  },
  {
   "cell_type": "code",
   "execution_count": 63,
   "id": "996d1f59-66a7-4660-8f36-908bd7da1179",
   "metadata": {},
   "outputs": [
    {
     "name": "stdout",
     "output_type": "stream",
     "text": [
      "l: [   0.   25.   50.   75.  100.  200.  400.  600.  800. 1000. 1200. 1500.], phi: 1.0, alpha: 1.0, theta: 1.0, inside_sqrt: [2.5000e+03 6.2500e+02 0.0000e+00 6.2500e+02 2.5000e+03 2.2500e+04\n",
      " 1.2250e+05 3.0250e+05 5.6250e+05 9.0250e+05 1.3225e+06 2.1025e+06]\n",
      "l: [   0.   25.   50.   75.  100.  200.  400.  600.  800. 1000. 1200. 1500.], phi: 1.0, alpha: 1.0, theta: 1.0, inside_sqrt: [2.5000e+03 6.2500e+02 0.0000e+00 6.2500e+02 2.5000e+03 2.2500e+04\n",
      " 1.2250e+05 3.0250e+05 5.6250e+05 9.0250e+05 1.3225e+06 2.1025e+06]\n",
      "l: [   0.   25.   50.   75.  100.  200.  400.  600.  800. 1000. 1200. 1500.], phi: 1.0, alpha: 1.0, theta: 1.0, inside_sqrt: [2.5000e+03 6.2500e+02 0.0000e+00 6.2500e+02 2.5000e+03 2.2500e+04\n",
      " 1.2250e+05 3.0250e+05 5.6250e+05 9.0250e+05 1.3225e+06 2.1025e+06]\n",
      "l: [   0.   25.   50.   75.  100.  200.  400.  600.  800. 1000. 1200. 1500.], phi: 1.0000000149011612, alpha: 1.0, theta: 1.0, inside_sqrt: [2.50000000e+03 6.24999981e+02 0.00000000e+00 6.25000056e+02\n",
      " 2.50000015e+03 2.25000009e+04 1.22500004e+05 3.02500010e+05\n",
      " 5.62500018e+05 9.02500028e+05 1.32250004e+06 2.10250006e+06]\n",
      "l: [   0.   25.   50.   75.  100.  200.  400.  600.  800. 1000. 1200. 1500.], phi: 1.0, alpha: 1.0000000149011612, theta: 1.0, inside_sqrt: [2.50000004e+03 6.25000019e+02 0.00000000e+00 6.24999981e+02\n",
      " 2.49999996e+03 2.24999999e+04 1.22500000e+05 3.02500000e+05\n",
      " 5.62499999e+05 9.02499999e+05 1.32250000e+06 2.10250000e+06]\n",
      "l: [   0.   25.   50.   75.  100.  200.  400.  600.  800. 1000. 1200. 1500.], phi: 1.0, alpha: 1.0, theta: 1.0000000149011612, inside_sqrt: [ 2.50000000e+03  6.24999925e+02 -1.49011612e-04  6.24999776e+02\n",
      "  2.49999970e+03  2.24999994e+04  1.22499999e+05  3.02499998e+05\n",
      "  5.62499998e+05  9.02499997e+05  1.32250000e+06  2.10250000e+06]\n",
      "l: [   0.   25.   50.   75.  100.  200.  400.  600.  800. 1000. 1200. 1500.], phi: nan, alpha: nan, theta: nan, inside_sqrt: [nan nan nan nan nan nan nan nan nan nan nan nan]\n",
      "l: [   0.   25.   50.   75.  100.  200.  400.  600.  800. 1000. 1200. 1500.], phi: nan, alpha: nan, theta: nan, inside_sqrt: [nan nan nan nan nan nan nan nan nan nan nan nan]\n",
      "l: [   0.   25.   50.   75.  100.  200.  400.  600.  800. 1000. 1200. 1500.], phi: nan, alpha: nan, theta: nan, inside_sqrt: [nan nan nan nan nan nan nan nan nan nan nan nan]\n",
      "l: [   0.   25.   50.   75.  100.  200.  400.  600.  800. 1000. 1200. 1500.], phi: nan, alpha: nan, theta: nan, inside_sqrt: [nan nan nan nan nan nan nan nan nan nan nan nan]\n"
     ]
    },
    {
     "name": "stderr",
     "output_type": "stream",
     "text": [
      "/Users/tadatoshi/Documents/development/projects/tadatoshi_solar_research_society/agrivoltaics_supply_side_management/notebooks/exploratory_data_analysis/light_saturation_point/net_photosynthetic_rate.py:35: RuntimeWarning: invalid value encountered in sqrt\n",
      "  \n"
     ]
    }
   ],
   "source": [
    "popt_5, pcov_5 = optimize.curve_fit(net_photosynthetic_rate_4, xdata, ydata)"
   ]
  },
  {
   "cell_type": "code",
   "execution_count": 64,
   "id": "dc4ce49a-80db-47c0-ae7c-ff815af31ff5",
   "metadata": {},
   "outputs": [],
   "source": [
    "from net_photosynthetic_rate import get_net_photosynthetic_rate_function"
   ]
  },
  {
   "cell_type": "code",
   "execution_count": 65,
   "id": "c33cc8b9-f682-4e3e-a8f2-85d53000f164",
   "metadata": {},
   "outputs": [],
   "source": [
    "net_photosynthetic_rate_5 = get_net_photosynthetic_rate_function(p_max_2)"
   ]
  },
  {
   "cell_type": "code",
   "execution_count": 66,
   "id": "54bd9b2e-4d88-4c23-8257-4d4c3f4d12d9",
   "metadata": {
    "collapsed": true,
    "jupyter": {
     "outputs_hidden": true
    },
    "tags": []
   },
   "outputs": [
    {
     "name": "stdout",
     "output_type": "stream",
     "text": [
      "l: [   0.   25.   50.   75.  100.  200.  400.  600.  800. 1000. 1200. 1500.], phi: 1.0, alpha: 1.0, theta: 1.0, inside_sqrt: [2.5000e+03 6.2500e+02 0.0000e+00 6.2500e+02 2.5000e+03 2.2500e+04\n",
      " 1.2250e+05 3.0250e+05 5.6250e+05 9.0250e+05 1.3225e+06 2.1025e+06]\n",
      "net_photosynthetic_rate_result: [-25.   0.  25.  25.  25.  25.  25.  25.  25.  25.  25.  25.]\n",
      "l: [   0.   25.   50.   75.  100.  200.  400.  600.  800. 1000. 1200. 1500.], phi: 1.0, alpha: 1.0, theta: 1.0, inside_sqrt: [2.5000e+03 6.2500e+02 0.0000e+00 6.2500e+02 2.5000e+03 2.2500e+04\n",
      " 1.2250e+05 3.0250e+05 5.6250e+05 9.0250e+05 1.3225e+06 2.1025e+06]\n",
      "net_photosynthetic_rate_result: [-25.   0.  25.  25.  25.  25.  25.  25.  25.  25.  25.  25.]\n",
      "l: [   0.   25.   50.   75.  100.  200.  400.  600.  800. 1000. 1200. 1500.], phi: 1.0, alpha: 1.0, theta: 1.0, inside_sqrt: [2.5000e+03 6.2500e+02 0.0000e+00 6.2500e+02 2.5000e+03 2.2500e+04\n",
      " 1.2250e+05 3.0250e+05 5.6250e+05 9.0250e+05 1.3225e+06 2.1025e+06]\n",
      "net_photosynthetic_rate_result: [-25.   0.  25.  25.  25.  25.  25.  25.  25.  25.  25.  25.]\n",
      "l: [   0.   25.   50.   75.  100.  200.  400.  600.  800. 1000. 1200. 1500.], phi: 1.0000000149011612, alpha: 1.0, theta: 1.0, inside_sqrt: [2.50000000e+03 6.24999981e+02 0.00000000e+00 6.25000056e+02\n",
      " 2.50000015e+03 2.25000009e+04 1.22500004e+05 3.02500010e+05\n",
      " 5.62500018e+05 9.02500028e+05 1.32250004e+06 2.10250006e+06]\n",
      "net_photosynthetic_rate_result: [-2.50000000e+01  3.72529030e-07  2.50000004e+01  2.50000000e+01\n",
      "  2.50000000e+01  2.50000000e+01  2.50000000e+01  2.50000000e+01\n",
      "  2.50000000e+01  2.50000000e+01  2.50000000e+01  2.50000000e+01]\n",
      "l: [   0.   25.   50.   75.  100.  200.  400.  600.  800. 1000. 1200. 1500.], phi: 1.0, alpha: 1.0000000149011612, theta: 1.0, inside_sqrt: [2.50000004e+03 6.25000019e+02 0.00000000e+00 6.24999981e+02\n",
      " 2.49999996e+03 2.24999999e+04 1.22500000e+05 3.02500000e+05\n",
      " 5.62499999e+05 9.02499999e+05 1.32250000e+06 2.10250000e+06]\n",
      "net_photosynthetic_rate_result: [-2.50000004e+01 -3.72529030e-07  2.49999998e+01  2.50000000e+01\n",
      "  2.50000000e+01  2.50000000e+01  2.50000000e+01  2.50000000e+01\n",
      "  2.50000000e+01  2.50000000e+01  2.50000000e+01  2.50000000e+01]\n",
      "l: [   0.   25.   50.   75.  100.  200.  400.  600.  800. 1000. 1200. 1500.], phi: 1.0, alpha: 1.0, theta: 1.0000000149011612, inside_sqrt: [ 2.50000000e+03  6.24999925e+02 -1.49011612e-04  6.24999776e+02\n",
      "  2.49999970e+03  2.24999994e+04  1.22499999e+05  3.02499998e+05\n",
      "  5.62499998e+05  9.02499997e+05  1.32250000e+06  2.10250000e+06]\n",
      "net_photosynthetic_rate_result: [-2.50000000e+01  3.72529044e-07             nan  2.50000015e+01\n",
      "  2.50000007e+01  2.50000002e+01  2.50000001e+01  2.50000001e+01\n",
      "  2.50000000e+01  2.50000000e+01  2.50000000e+01  2.50000000e+01]\n",
      "l: [   0.   25.   50.   75.  100.  200.  400.  600.  800. 1000. 1200. 1500.], phi: nan, alpha: nan, theta: nan, inside_sqrt: [nan nan nan nan nan nan nan nan nan nan nan nan]\n",
      "net_photosynthetic_rate_result: [nan nan nan nan nan nan nan nan nan nan nan nan]\n",
      "l: [   0.   25.   50.   75.  100.  200.  400.  600.  800. 1000. 1200. 1500.], phi: nan, alpha: nan, theta: nan, inside_sqrt: [nan nan nan nan nan nan nan nan nan nan nan nan]\n",
      "net_photosynthetic_rate_result: [nan nan nan nan nan nan nan nan nan nan nan nan]\n",
      "l: [   0.   25.   50.   75.  100.  200.  400.  600.  800. 1000. 1200. 1500.], phi: nan, alpha: nan, theta: nan, inside_sqrt: [nan nan nan nan nan nan nan nan nan nan nan nan]\n",
      "net_photosynthetic_rate_result: [nan nan nan nan nan nan nan nan nan nan nan nan]\n",
      "l: [   0.   25.   50.   75.  100.  200.  400.  600.  800. 1000. 1200. 1500.], phi: nan, alpha: nan, theta: nan, inside_sqrt: [nan nan nan nan nan nan nan nan nan nan nan nan]\n",
      "net_photosynthetic_rate_result: [nan nan nan nan nan nan nan nan nan nan nan nan]\n"
     ]
    },
    {
     "name": "stderr",
     "output_type": "stream",
     "text": [
      "/Users/tadatoshi/Documents/development/projects/tadatoshi_solar_research_society/agrivoltaics_supply_side_management/notebooks/exploratory_data_analysis/light_saturation_point/net_photosynthetic_rate.py:35: RuntimeWarning: invalid value encountered in sqrt\n",
      "  \n"
     ]
    }
   ],
   "source": [
    "popt_6, pcov_6 = optimize.curve_fit(net_photosynthetic_rate_5, xdata, ydata)"
   ]
  },
  {
   "cell_type": "code",
   "execution_count": 67,
   "id": "c87a6efa-a23a-4200-b4d2-54dcdc81c6a5",
   "metadata": {},
   "outputs": [
    {
     "data": {
      "text/plain": [
       "-0.00014901161193847656"
      ]
     },
     "execution_count": 67,
     "metadata": {},
     "output_type": "execute_result"
    }
   ],
   "source": [
    "inside_sqrt(50, 25, 1.0, 1.0, 1.0000000149011612)"
   ]
  },
  {
   "cell_type": "markdown",
   "id": "19eaf99b-0328-43e3-97f2-5f1060d0873f",
   "metadata": {},
   "source": [
    "##### Temporarily make inside_sqrt 0 if it's negative and see how it goes. "
   ]
  },
  {
   "cell_type": "code",
   "execution_count": 72,
   "id": "a81fc569-cb71-44d6-97de-565586c7f47b",
   "metadata": {},
   "outputs": [],
   "source": [
    "from net_photosynthetic_rate import get_net_photosynthetic_rate_function"
   ]
  },
  {
   "cell_type": "code",
   "execution_count": 73,
   "id": "77ad2699-a236-4b87-ad6b-3a7693983acd",
   "metadata": {},
   "outputs": [],
   "source": [
    "net_photosynthetic_rate_6 = get_net_photosynthetic_rate_function(p_max_2)"
   ]
  },
  {
   "cell_type": "code",
   "execution_count": 74,
   "id": "2ebee08d-e2d2-4e55-b89f-e8815bc76991",
   "metadata": {
    "collapsed": true,
    "jupyter": {
     "outputs_hidden": true
    },
    "tags": []
   },
   "outputs": [
    {
     "name": "stdout",
     "output_type": "stream",
     "text": [
      "l: [   0.   25.   50.   75.  100.  200.  400.  600.  800. 1000. 1200. 1500.], phi: 1.0, alpha: 1.0, theta: 1.0, inside_sqrt: [2.5000e+03 6.2500e+02 0.0000e+00 6.2500e+02 2.5000e+03 2.2500e+04\n",
      " 1.2250e+05 3.0250e+05 5.6250e+05 9.0250e+05 1.3225e+06 2.1025e+06]\n",
      "net_photosynthetic_rate_result: [-25.   0.  25.  25.  25.  25.  25.  25.  25.  25.  25.  25.]\n",
      "l: [   0.   25.   50.   75.  100.  200.  400.  600.  800. 1000. 1200. 1500.], phi: 1.0, alpha: 1.0, theta: 1.0, inside_sqrt: [2.5000e+03 6.2500e+02 0.0000e+00 6.2500e+02 2.5000e+03 2.2500e+04\n",
      " 1.2250e+05 3.0250e+05 5.6250e+05 9.0250e+05 1.3225e+06 2.1025e+06]\n",
      "net_photosynthetic_rate_result: [-25.   0.  25.  25.  25.  25.  25.  25.  25.  25.  25.  25.]\n",
      "l: [   0.   25.   50.   75.  100.  200.  400.  600.  800. 1000. 1200. 1500.], phi: 1.0, alpha: 1.0, theta: 1.0, inside_sqrt: [2.5000e+03 6.2500e+02 0.0000e+00 6.2500e+02 2.5000e+03 2.2500e+04\n",
      " 1.2250e+05 3.0250e+05 5.6250e+05 9.0250e+05 1.3225e+06 2.1025e+06]\n",
      "net_photosynthetic_rate_result: [-25.   0.  25.  25.  25.  25.  25.  25.  25.  25.  25.  25.]\n",
      "l: [   0.   25.   50.   75.  100.  200.  400.  600.  800. 1000. 1200. 1500.], phi: 1.0000000149011612, alpha: 1.0, theta: 1.0, inside_sqrt: [2.50000000e+03 6.24999981e+02 0.00000000e+00 6.25000056e+02\n",
      " 2.50000015e+03 2.25000009e+04 1.22500004e+05 3.02500010e+05\n",
      " 5.62500018e+05 9.02500028e+05 1.32250004e+06 2.10250006e+06]\n",
      "net_photosynthetic_rate_result: [-2.50000000e+01  3.72529030e-07  2.50000004e+01  2.50000000e+01\n",
      "  2.50000000e+01  2.50000000e+01  2.50000000e+01  2.50000000e+01\n",
      "  2.50000000e+01  2.50000000e+01  2.50000000e+01  2.50000000e+01]\n",
      "l: [   0.   25.   50.   75.  100.  200.  400.  600.  800. 1000. 1200. 1500.], phi: 1.0, alpha: 1.0000000149011612, theta: 1.0, inside_sqrt: [2.50000004e+03 6.25000019e+02 0.00000000e+00 6.24999981e+02\n",
      " 2.49999996e+03 2.24999999e+04 1.22500000e+05 3.02500000e+05\n",
      " 5.62499999e+05 9.02499999e+05 1.32250000e+06 2.10250000e+06]\n",
      "net_photosynthetic_rate_result: [-2.50000004e+01 -3.72529030e-07  2.49999998e+01  2.50000000e+01\n",
      "  2.50000000e+01  2.50000000e+01  2.50000000e+01  2.50000000e+01\n",
      "  2.50000000e+01  2.50000000e+01  2.50000000e+01  2.50000000e+01]\n",
      "l: [   0.   25.   50.   75.  100.  200.  400.  600.  800. 1000. 1200. 1500.], phi: 1.0, alpha: 1.0, theta: 1.0000000149011612, inside_sqrt: [2.50000000e+03 6.24999925e+02 0.00000000e+00 6.24999776e+02\n",
      " 2.49999970e+03 2.24999994e+04 1.22499999e+05 3.02499998e+05\n",
      " 5.62499998e+05 9.02499997e+05 1.32250000e+06 2.10250000e+06]\n",
      "net_photosynthetic_rate_result: [-2.50000000e+01  3.72529044e-07  2.49999993e+01  2.50000015e+01\n",
      "  2.50000007e+01  2.50000002e+01  2.50000001e+01  2.50000001e+01\n",
      "  2.50000000e+01  2.50000000e+01  2.50000000e+01  2.50000000e+01]\n",
      "l: [   0.   25.   50.   75.  100.  200.  400.  600.  800. 1000. 1200. 1500.], phi: -0.5344775483949662, alpha: -0.12698503822661045, theta: 0.7655224336389342, inside_sqrt: [4.76346952e+02 9.64624855e+02 1.80998557e+03 3.01242910e+03\n",
      " 4.57195544e+03 1.43808889e+04 5.11387309e+04 1.10749873e+05\n",
      " 1.93214315e+05 2.98532057e+05 4.26703098e+05 6.61809599e+05]\n",
      "net_photosynthetic_rate_result: [    3.17462596   -11.58325314   -27.81233568   -44.60061809\n",
      "   -61.6429502   -130.71464409  -269.90972105  -409.38819516\n",
      "  -548.94385566  -688.53145551  -828.13532624 -1037.55761625]\n",
      "l: [   0.   25.   50.   75.  100.  200.  400.  600.  800. 1000. 1200. 1500.], phi: 0.8561364006972187, alpha: 0.9541360521781711, theta: 0.9586675660090422, inside_sqrt: [2.38665482e+03 9.26375651e+02 3.82308403e+02 7.54453077e+02\n",
      " 2.04280967e+03 1.63583553e+04 8.89676186e+04 2.20214445e+05\n",
      " 4.10098834e+05 6.58620786e+05 9.65780301e+05 1.53646500e+06]\n",
      "net_photosynthetic_rate_result: [-23.8534013   -3.08478822  13.75479342  20.78997934  22.70579841\n",
      "  24.22421117  24.66892454  24.78969756  24.84592346  24.87843033\n",
      "  24.8996115   24.92041229]\n",
      "l: [   0.   25.   50.   75.  100.  200.  400.  600.  800. 1000. 1200. 1500.], phi: 0.8561364134546453, alpha: 0.9541360521781711, theta: 0.9586675660090422, inside_sqrt: [2.38665482e+03 9.26375636e+02 3.82308401e+02 7.54453114e+02\n",
      " 2.04280977e+03 1.63583559e+04 8.89676217e+04 2.20214452e+05\n",
      " 4.10098847e+05 6.58620807e+05 9.65780331e+05 1.53646505e+06]\n",
      "net_photosynthetic_rate_result: [-23.8534013   -3.08478792  13.75479379  20.78997949  22.70579848\n",
      "  24.22421119  24.66892455  24.78969756  24.84592347  24.87843033\n",
      "  24.8996115   24.92041229]\n",
      "l: [   0.   25.   50.   75.  100.  200.  400.  600.  800. 1000. 1200. 1500.], phi: 0.8561364006972187, alpha: 0.9541360663959062, theta: 0.9586675660090422, inside_sqrt: [2.38665485e+03 9.26375672e+02 3.82308410e+02 7.54453069e+02\n",
      " 2.04280965e+03 1.63583552e+04 8.89676184e+04 2.20214445e+05\n",
      " 4.10098834e+05 6.58620786e+05 9.65780301e+05 1.53646500e+06]\n",
      "net_photosynthetic_rate_result: [-23.85340166  -3.08478857  13.75479316  20.78997924  22.70579837\n",
      "  24.22421116  24.66892454  24.78969756  24.84592346  24.87843033\n",
      "  24.8996115   24.92041229]\n",
      "l: [   0.   25.   50.   75.  100.  200.  400.  600.  800. 1000. 1200. 1500.], phi: 0.8561364006972187, alpha: 0.9541360521781711, theta: 0.9586675802943022, inside_sqrt: [2.38665482e+03 9.26375591e+02 3.82308284e+02 7.54452897e+02\n",
      " 2.04280943e+03 1.63583548e+04 8.89676177e+04 2.20214443e+05\n",
      " 4.10098832e+05 6.58620784e+05 9.65780298e+05 1.53646500e+06]\n",
      "net_photosynthetic_rate_result: [-23.8534013   -3.08478802  13.75479446  20.78998038  22.7057991\n",
      "  24.22421143  24.66892466  24.78969763  24.84592352  24.87843037\n",
      "  24.89961154  24.92041232]\n",
      "l: [   0.   25.   50.   75.  100.  200.  400.  600.  800. 1000. 1200. 1500.], phi: 0.7067397695227013, alpha: 0.8425036707728639, theta: 0.8552611352164117, inside_sqrt: [   2121.76236051    1277.41151771    1057.4120522     1461.76396397\n",
      "    2490.46725302   12848.79418203   63534.31414955  154178.32226306\n",
      "  284780.81852258  455341.8029281   665861.27547962 1056562.64958065]\n",
      "net_photosynthetic_rate_result: [-21.06259177  -4.69905632   7.51447401  14.5026      18.00850856\n",
      "  22.23297078  23.77655529  24.21654873  24.42399316  24.54463057\n",
      "  24.62350307  24.70115756]\n",
      "l: [   0.   25.   50.   75.  100.  200.  400.  600.  800. 1000. 1200. 1500.], phi: 0.7067397800539446, alpha: 0.8425036707728639, theta: 0.8552611352164117, inside_sqrt: [   2121.76236051    1277.41150978    1057.41205495    1461.763996\n",
      "    2490.46733294   12848.79463959   63534.31625552  154178.32720831\n",
      "  284780.82749795  455341.81712446  665861.29608781 1056562.68203945]\n",
      "net_photosynthetic_rate_result: [-21.06259177  -4.6990561    7.51447429  14.50260022  18.0085087\n",
      "  22.23297083  23.77655531  24.21654874  24.42399317  24.54463058\n",
      "  24.62350308  24.70115756]\n",
      "l: [   0.   25.   50.   75.  100.  200.  400.  600.  800. 1000. 1200. 1500.], phi: 0.7067397695227013, alpha: 0.842503683327147, theta: 0.8552611352164117, inside_sqrt: [   2121.76238942    1277.41153875    1057.41206535    1461.76396924\n",
      "    2490.46725041   12848.7941479    63534.31405238  154178.32210285\n",
      "  284780.81829933  455341.80264181  665861.27513028 1056562.64913675]\n",
      "net_photosynthetic_rate_result: [-21.06259208  -4.69905662   7.51447376  14.50259983  18.00850844\n",
      "  22.23297073  23.77655527  24.21654872  24.42399315  24.54463057\n",
      "  24.62350307  24.70115755]\n",
      "l: [   0.   25.   50.   75.  100.  200.  400.  600.  800. 1000. 1200. 1500.], phi: 0.7067397695227013, alpha: 0.8425036707728639, theta: 0.8552611479607957, inside_sqrt: [   2121.76236051    1277.41147622    1057.41196922    1461.7638395\n",
      "    2490.46708706   12848.79385012   63534.31348573  154178.32126734\n",
      "  284780.81719495  455341.80126857  665861.27348818 1056562.64709135]\n",
      "net_photosynthetic_rate_result: [-21.06259177  -4.69905622   7.51447433  14.50260042  18.00850895\n",
      "  22.23297099  23.77655539  24.2165488   24.42399321  24.54463061\n",
      "  24.62350311  24.70115758]\n",
      "l: [   0.   25.   50.   75.  100.  200.  400.  600.  800. 1000. 1200. 1500.], phi: 0.286435297765775, alpha: 0.507951378070719, theta: 0.6831867956545262, inside_sqrt: [  1421.19834914   1274.66667501   1230.69147563   1289.27275101\n",
      "   1450.41050115   3120.52624927  11383.4685339   26210.02520302\n",
      "  47600.19625663  75553.98169474 110071.38151734 174154.25822216]\n",
      "net_photosynthetic_rate_result: [-12.69878445  -5.99696249  -0.30148925   4.335347     7.982279\n",
      "  15.9347998   20.65927011  22.18542135  22.92275486  23.35521795\n",
      "  23.63905815  23.91916338]\n",
      "l: [   0.   25.   50.   75.  100.  200.  400.  600.  800. 1000. 1200. 1500.], phi: 0.28643530203399353, alpha: 0.507951378070719, theta: 0.6831867956545262, inside_sqrt: [  1421.19834914   1274.66667359   1230.69147585   1289.27275592\n",
      "   1450.41051381   3120.5263235   11383.46887796  26210.02601252\n",
      "  47600.19772719  75553.98402197 110071.38489685 174154.26354686]\n",
      "net_photosynthetic_rate_result: [-12.69878445  -5.9969624   -0.3014891    4.33534718   7.98227919\n",
      "  15.93479994  20.65927018  22.18542139  22.9227549   23.35521797\n",
      "  23.63905817  23.91916339]\n",
      "l: [   0.   25.   50.   75.  100.  200.  400.  600.  800. 1000. 1200. 1500.], phi: 0.286435297765775, alpha: 0.5079513856397844, theta: 0.6831867956545262, inside_sqrt: [  1421.19836341   1274.66668828   1230.69148791   1289.2727623\n",
      "   1450.41051144   3120.5262556   11383.46853228  26210.02519346\n",
      "  47600.19623912  75553.98166929 110071.38148394 174154.25817685]\n",
      "net_photosynthetic_rate_result: [-12.69878464  -5.99696268  -0.30148943   4.33534683   7.98227885\n",
      "  15.9347997   20.65927006  22.18542132  22.92275484  23.35521793\n",
      "  23.63905814  23.91916337]\n",
      "l: [   0.   25.   50.   75.  100.  200.  400.  600.  800. 1000. 1200. 1500.], phi: 0.286435297765775, alpha: 0.507951378070719, theta: 0.6831868058348028, inside_sqrt: [  1421.19834914   1274.66666401   1230.69145364   1289.27271803\n",
      "   1450.41045717   3120.52616133  11383.46835801  26210.02493919\n",
      "  47600.19590486  75553.98125502 110071.38098967 174154.25756258]\n",
      "net_photosynthetic_rate_result: [-12.69878445  -5.99696248  -0.30148921   4.33534708   7.98227911\n",
      "  15.93479995  20.65927021  22.18542142  22.92275492  23.35521799\n",
      "  23.63905819  23.91916341]\n",
      "l: [   0.   25.   50.   75.  100.  200.  400.  600.  800. 1000. 1200. 1500.], phi: 0.09349984376519185, alpha: 0.1512506274134266, theta: 0.22054361527353689, inside_sqrt: [  828.36125445   909.02808084  1000.62268322  1103.14506158\n",
      "  1216.59521591  1779.67359305  3430.36359439  5780.43125845\n",
      "  8829.87658524 12578.69957476 17026.90022701 25010.534323  ]\n",
      "net_photosynthetic_rate_result: [-3.78126569 -1.58517121  0.35314853  2.06820385  3.5903489   8.22329106\n",
      " 13.47585889 16.28738266 18.0142365  19.17634205 20.00974999 20.89376144]\n",
      "l: [   0.   25.   50.   75.  100.  200.  400.  600.  800. 1000. 1200. 1500.], phi: 0.0934998451584481, alpha: 0.1512506274134266, theta: 0.22054361527353689, inside_sqrt: [  828.36125445   909.02808213  1000.62268611  1103.1450664\n",
      "  1216.595223    1779.67361244  3430.363654    5780.43137914\n",
      "  8829.87678784 12578.69988012 17026.90065597 25010.53497645]\n",
      "net_photosynthetic_rate_result: [-3.78126569 -1.58517118  0.35314859  2.06820393  3.59034899  8.22329117\n",
      " 13.475859   16.28738275 18.01423658 19.17634212 20.00975005 20.8937615 ]\n",
      "l: [   0.   25.   50.   75.  100.  200.  400.  600.  800. 1000. 1200. 1500.], phi: 0.09349984376519185, alpha: 0.15125062966723657, theta: 0.22054361527353689, inside_sqrt: [  828.36125769   909.02808424  1000.62268676  1103.14506526\n",
      "  1216.59521974  1779.67359747  3430.36359998  5780.43126522\n",
      "  8829.87659319 12578.69958389 17026.90023732 25010.53433508]\n",
      "net_photosynthetic_rate_result: [-3.78126574 -1.58517127  0.35314848  2.0682038   3.59034885  8.22329101\n",
      " 13.47585885 16.28738263 18.01423648 19.17634203 20.00974997 20.89376143]\n",
      "l: [   0.   25.   50.   75.  100.  200.  400.  600.  800. 1000. 1200. 1500.], phi: 0.09349984376519185, alpha: 0.1512506274134266, theta: 0.22054361855989285, inside_sqrt: [  828.36125445   909.02807996  1000.62268145  1103.14505892\n",
      "  1216.59521237  1779.67358598  3430.36358024  5780.43123722\n",
      "  8829.87655694 12578.69953938 17026.90018456 25010.53426994]\n",
      "net_photosynthetic_rate_result: [-3.78126569 -1.58517121  0.35314854  2.06820386  3.59034891  8.22329107\n",
      " 13.4758589  16.28738267 18.01423652 19.17634206 20.00975    20.89376145]\n",
      "l: [   0.   25.   50.   75.  100.  200.  400.  600.  800. 1000. 1200. 1500.], phi: 0.03630748521518926, alpha: 0.1434626802619157, theta: 1.2245045979415343, inside_sqrt: [817.19181322 742.81891622 670.09381107 599.01649777 529.58697633\n",
      " 268.3468091    0.           0.           0.           0.\n",
      "   0.           0.        ]\n",
      "net_photosynthetic_rate_result: [-3.58656701 -2.67209528 -1.74264947 -0.79571801  0.1719157   4.36226781\n",
      " 14.01629098 16.98136643 19.94644188 22.91151733 25.87659278 30.32420596]\n",
      "l: [   0.   25.   50.   75.  100.  200.  400.  600.  800. 1000. 1200. 1500.], phi: 0.036307485756212954, alpha: 0.1434626802619157, theta: 1.2245045979415343, inside_sqrt: [817.19181322 742.81891512 670.09380893 599.01649463 529.58697224\n",
      " 268.3468017    0.           0.           0.           0.\n",
      "   0.           0.        ]\n",
      "net_photosynthetic_rate_result: [-3.58656701 -2.67209527 -1.74264944 -0.79571797  0.17191576  4.36226795\n",
      " 14.01629107 16.98136657 19.94644206 22.91151755 25.87659305 30.32420629]\n",
      "l: [   0.   25.   50.   75.  100.  200.  400.  600.  800. 1000. 1200. 1500.], phi: 0.03630748521518926, alpha: 0.14346268239967622, theta: 1.2245045979415343, inside_sqrt: [817.19181628 742.81891913 670.09381384 599.01650041 529.58697882\n",
      " 268.34681103   0.           0.           0.           0.\n",
      "   0.           0.        ]\n",
      "net_photosynthetic_rate_result: [-3.58656706 -2.67209534 -1.74264952 -0.79571806  0.17191565  4.36226775\n",
      " 14.01629095 16.9813664  19.94644185 22.9115173  25.87659275 30.32420593]\n",
      "l: [   0.   25.   50.   75.  100.  200.  400.  600.  800. 1000. 1200. 1500.], phi: 0.03630748521518926, alpha: 0.1434626802619157, theta: 1.2245046161880748, inside_sqrt: [817.19181322 742.81891432 670.09380728 599.01649209 529.58696876\n",
      " 268.34679395   0.           0.           0.           0.\n",
      "   0.           0.        ]\n",
      "net_photosynthetic_rate_result: [-3.58656701 -2.67209528 -1.74264947 -0.795718    0.17191571  4.36226788\n",
      " 14.01629072 16.98136613 19.94644153 22.91151694 25.87659234 30.32420545]\n",
      "l: [   0.   25.   50.   75.  100.  200.  400.  600.  800. 1000. 1200. 1500.], phi: 0.03409114178000738, alpha: 0.0937306454776325, theta: 1.3095053494520288, inside_sqrt: [747.65420304 672.92147508 599.64150457 527.81429149 457.43983584\n",
      " 190.4695876    0.           0.           0.           0.\n",
      "   0.           0.        ]\n",
      "net_photosynthetic_rate_result: [-2.34326614 -1.48232477 -0.60205727  0.30120282  1.23233481  5.43082296\n",
      " 13.30375771 15.90711796 18.51047821 21.11383846 23.71719872 27.6222391 ]\n",
      "l: [   0.   25.   50.   75.  100.  200.  400.  600.  800. 1000. 1200. 1500.], phi: 0.03409114228800498, alpha: 0.0937306454776325, theta: 1.3095053494520288, inside_sqrt: [747.65420304 672.92147398 599.64150241 527.81428831 457.43983169\n",
      " 190.46957999   0.           0.           0.           0.\n",
      "   0.           0.        ]\n",
      "net_photosynthetic_rate_result: [-2.34326614 -1.48232476 -0.60205724  0.30120287  1.23233487  5.4308231\n",
      " 13.30375778 15.90711807 18.51047837 21.11383866 23.71719895 27.62223939]\n",
      "l: [   0.   25.   50.   75.  100.  200.  400.  600.  800. 1000. 1200. 1500.], phi: 0.03409114178000738, alpha: 0.09373064687432796, theta: 1.3095053494520288, inside_sqrt: [747.65420495 672.9214769  599.64150628 527.81429311 457.43983736\n",
      " 190.46958874   0.           0.           0.           0.\n",
      "   0.           0.        ]\n",
      "net_photosynthetic_rate_result: [-2.34326617 -1.48232481 -0.60205731  0.30120279  1.23233478  5.43082292\n",
      " 13.30375768 15.90711794 18.51047819 21.11383844 23.7171987  27.62223908]\n",
      "l: [   0.   25.   50.   75.  100.  200.  400.  600.  800. 1000. 1200. 1500.], phi: 0.03409114178000738, alpha: 0.0937306454776325, theta: 1.309505368965179, inside_sqrt: [747.65420304 672.92147327 599.64150093 527.81428603 457.43982856\n",
      " 190.46957305   0.           0.           0.           0.\n",
      "   0.           0.        ]\n",
      "net_photosynthetic_rate_result: [-2.34326614 -1.48232477 -0.60205727  0.30120283  1.23233482  5.43082305\n",
      " 13.30375747 15.90711769 18.5104779  21.11383812 23.71719833 27.62223865]\n",
      "l: [   0.   25.   50.   75.  100.  200.  400.  600.  800. 1000. 1200. 1500.], phi: 0.03432663079015167, alpha: 0.0947592051398761, theta: 1.3254832773125962, inside_sqrt: [749.06107327 672.24461632 596.90105635 523.03039335 450.63262733\n",
      " 175.77053301   0.           0.           0.           0.\n",
      "   0.           0.        ]\n",
      "net_photosynthetic_rate_result: [-2.36898013 -1.50157371 -0.6134872   0.29933709  1.24235696  5.54377844\n",
      " 13.13466037 15.72440491 18.31414945 20.90389399 23.49363853 27.37825534]\n",
      "l: [   0.   25.   50.   75.  100.  200.  400.  600.  800. 1000. 1200. 1500.], phi: 0.03432663130165833, alpha: 0.0947592051398761, theta: 1.3254832773125962, inside_sqrt: [749.06107327 672.24461519 596.90105412 523.03039008 450.63262305\n",
      " 175.77052517   0.           0.           0.           0.\n",
      "   0.           0.        ]\n",
      "net_photosynthetic_rate_result: [-2.36898013 -1.5015737  -0.61348717  0.29933713  1.24235702  5.54377859\n",
      " 13.13466045 15.72440503 18.31414961 20.90389418 23.49363876 27.37825563]\n",
      "l: [   0.   25.   50.   75.  100.  200.  400.  600.  800. 1000. 1200. 1500.], phi: 0.03432663079015167, alpha: 0.09475920655189829, theta: 1.3254832773125962, inside_sqrt: [749.06107521 672.24461815 596.90105808 523.03039498 450.63262886\n",
      " 175.77053414   0.           0.           0.           0.\n",
      "   0.           0.        ]\n",
      "net_photosynthetic_rate_result: [-2.36898016 -1.50157375 -0.61348723  0.29933705  1.24235692  5.5437784\n",
      " 13.13466035 15.72440489 18.31414943 20.90389397 23.49363851 27.37825532]\n",
      "l: [   0.   25.   50.   75.  100.  200.  400.  600.  800. 1000. 1200. 1500.], phi: 0.03432663079015167, alpha: 0.0947592051398761, theta: 1.3254832970638362, inside_sqrt: [749.06107327 672.24461447 596.90105264 523.03038778 450.6326199\n",
      " 175.77051816   0.           0.           0.           0.\n",
      "   0.           0.        ]\n",
      "net_photosynthetic_rate_result: [-2.36898013 -1.50157371 -0.61348719  0.29933709  1.24235697  5.54377853\n",
      " 13.13466014 15.72440464 18.31414914 20.90389364 23.49363814 27.37825489]\n",
      "l: [   0.   25.   50.   75.  100.  200.  400.  600.  800. 1000. 1200. 1500.], phi: 0.0344109061442963, alpha: 0.09505213383184768, theta: 1.327232227664068, inside_sqrt: [749.46198488 672.27318747 596.56452814 522.33600688 449.5876237\n",
      " 173.39547176   0.           0.           0.           0.\n",
      "   0.           0.        ]\n",
      "net_photosynthetic_rate_result: [-2.37630335 -1.50669497 -0.61618252  0.29935872  1.24548655  5.56899541\n",
      " 13.12236559 15.71504722 18.30772885 20.90041048 23.49309211 27.38211455]\n",
      "l: [   0.   25.   50.   75.  100.  200.  400.  600.  800. 1000. 1200. 1500.], phi: 0.03441090665705876, alpha: 0.09505213383184768, theta: 1.327232227664068, inside_sqrt: [749.46198488 672.27318633 596.5645259  522.3360036  449.58761941\n",
      " 173.39546388   0.           0.           0.           0.\n",
      "   0.           0.        ]\n",
      "net_photosynthetic_rate_result: [-2.37630335 -1.50669496 -0.61618249  0.29935877  1.24548661  5.56899556\n",
      " 13.12236567 15.71504734 18.30772901 20.90041067 23.49309234 27.38211484]\n",
      "l: [   0.   25.   50.   75.  100.  200.  400.  600.  800. 1000. 1200. 1500.], phi: 0.0344109061442963, alpha: 0.09505213524823486, theta: 1.327232227664068, inside_sqrt: [749.46198682 672.27318931 596.56452988 522.33600852 449.58762524\n",
      " 173.39547289   0.           0.           0.           0.\n",
      "   0.           0.        ]\n",
      "net_photosynthetic_rate_result: [-2.37630338 -1.50669501 -0.61618255  0.29935869  1.24548652  5.56899537\n",
      " 13.12236557 15.7150472  18.30772883 20.90041046 23.49309209 27.38211453]\n",
      "l: [   0.   25.   50.   75.  100.  200.  400.  600.  800. 1000. 1200. 1500.], phi: 0.0344109061442963, alpha: 0.09505213383184768, theta: 1.3272322474413694, inside_sqrt: [749.46198488 672.27318561 596.56452441 522.33600129 449.58761625\n",
      " 173.39545686   0.           0.           0.           0.\n",
      "   0.           0.        ]\n",
      "net_photosynthetic_rate_result: [-2.37630335 -1.50669497 -0.61618252  0.29935873  1.24548657  5.56899551\n",
      " 13.12236536 15.71504695 18.30772854 20.90041013 23.49309172 27.38211411]\n",
      "l: [   0.   25.   50.   75.  100.  200.  400.  600.  800. 1000. 1200. 1500.], phi: 0.0344254850760049, alpha: 0.09509883280591348, theta: 1.3275208995336352, inside_sqrt: [749.52590851 672.27419052 596.50386505 522.21493211 449.40739171\n",
      " 172.99115536   0.           0.           0.           0.\n",
      "   0.           0.        ]\n",
      "net_photosynthetic_rate_result: [-2.37747082 -1.50748183 -0.61655072  0.29945868  1.24612125  5.57342383\n",
      " 13.12046404 15.71368009 18.30689615 20.9001122  23.49332825 27.38315233]\n",
      "l: [   0.   25.   50.   75.  100.  200.  400.  600.  800. 1000. 1200. 1500.], phi: 0.0344254855889846, alpha: 0.09509883280591348, theta: 1.3275208995336352, inside_sqrt: [749.52590851 672.27418938 596.50386281 522.21492883 449.40738741\n",
      " 172.99114748   0.           0.           0.           0.\n",
      "   0.           0.        ]\n",
      "net_photosynthetic_rate_result: [-2.37747082 -1.50748182 -0.6165507   0.29945872  1.24612131  5.57342398\n",
      " 13.12046412 15.71368021 18.3068963  20.90011239 23.49332848 27.38315262]\n",
      "l: [   0.   25.   50.   75.  100.  200.  400.  600.  800. 1000. 1200. 1500.], phi: 0.0344254850760049, alpha: 0.09509883422299652, theta: 1.3275208995336352, inside_sqrt: [749.52591045 672.27419235 596.50386679 522.21493375 449.40739324\n",
      " 172.99115649   0.           0.           0.           0.\n",
      "   0.           0.        ]\n",
      "net_photosynthetic_rate_result: [-2.37747086 -1.50748187 -0.61655076  0.29945864  1.24612121  5.57342379\n",
      " 13.12046402 15.71368007 18.30689612 20.90011218 23.49332823 27.38315231]\n",
      "l: [   0.   25.   50.   75.  100.  200.  400.  600.  800. 1000. 1200. 1500.], phi: 0.0344254850760049, alpha: 0.09509883280591348, theta: 1.3275209193152382, inside_sqrt: [749.52590851 672.27418865 596.50386132 522.21492652 449.40738425\n",
      " 172.99114045   0.           0.           0.           0.\n",
      "   0.           0.        ]\n",
      "net_photosynthetic_rate_result: [-2.37747082 -1.50748183 -0.61655072  0.29945868  1.24612126  5.57342392\n",
      " 13.12046381 15.71367982 18.30689584 20.90011185 23.49332787 27.38315189]\n",
      "l: [   0.   25.   50.   75.  100.  200.  400.  600.  800. 1000. 1200. 1500.], phi: 0.034427986529652094, alpha: 0.09510674269737739, theta: 1.3275705840864858, inside_sqrt: [749.53673619 672.27421225 596.49329614 522.19398785 449.37628737\n",
      " 172.92156369   0.           0.           0.           0.\n",
      "   0.           0.        ]\n",
      "net_photosynthetic_rate_result: [-2.37766857 -1.50761427 -0.6166113   0.29947847  1.24623288  5.5741879\n",
      " 13.1201376  15.71344503 18.30675245 20.90005988 23.4933673  27.38332844]\n",
      "l: [   0.   25.   50.   75.  100.  200.  400.  600.  800. 1000. 1200. 1500.], phi: 0.03442798704266907, alpha: 0.09510674269737739, theta: 1.3275705840864858, inside_sqrt: [749.53673619 672.27421111 596.4932939  522.19398456 449.37628308\n",
      " 172.92155581   0.           0.           0.           0.\n",
      "   0.           0.        ]\n",
      "net_photosynthetic_rate_result: [-2.37766857 -1.50761425 -0.61661127  0.29947852  1.24623294  5.57418805\n",
      " 13.12013768 15.71344514 18.30675261 20.90006007 23.49336753 27.38332873]\n",
      "l: [   0.   25.   50.   75.  100.  200.  400.  600.  800. 1000. 1200. 1500.], phi: 0.034427986529652094, alpha: 0.09510674411457828, theta: 1.3275705840864858, inside_sqrt: [749.53673813 672.27421409 596.49329788 522.19398948 449.37628891\n",
      " 172.92156482   0.           0.           0.           0.\n",
      "   0.           0.        ]\n",
      "net_photosynthetic_rate_result: [-2.3776686  -1.5076143  -0.61661133  0.29947844  1.24623285  5.57418786\n",
      " 13.12013758 15.71344501 18.30675243 20.90005986 23.49336728 27.38332842]\n",
      "l: [   0.   25.   50.   75.  100.  200.  400.  600.  800. 1000. 1200. 1500.], phi: 0.034427986529652094, alpha: 0.09510674269737739, theta: 1.327570603868829, inside_sqrt: [749.53673619 672.27421039 596.49329241 522.19398225 449.37627992\n",
      " 172.92154877   0.           0.           0.           0.\n",
      "   0.           0.        ]\n",
      "net_photosynthetic_rate_result: [-2.37766857 -1.50761427 -0.6166113   0.29947848  1.2462329   5.574188\n",
      " 13.12013737 15.71344476 18.30675214 20.90005953 23.49336692 27.383328  ]\n",
      "l: [   0.   25.   50.   75.  100.  200.  400.  600.  800. 1000. 1200. 1500.], phi: 0.03442841710379512, alpha: 0.09510809834054065, theta: 1.327579142408395, inside_sqrt: [749.53859191 672.27420771 596.49146839 522.19037395 449.37092439\n",
      " 172.90957496   0.           0.           0.           0.\n",
      "   0.           0.        ]\n",
      "net_photosynthetic_rate_result: [-2.37770246 -1.50763692 -0.61662158  0.29948203  1.24625225  5.57431963\n",
      " 13.12008143 15.71340457 18.30672771 20.90005086 23.493374   27.38335871]\n"
     ]
    }
   ],
   "source": [
    "popt_7, pcov_7 = optimize.curve_fit(net_photosynthetic_rate_6, xdata, ydata)"
   ]
  },
  {
   "cell_type": "code",
   "execution_count": 75,
   "id": "7584b78d-580d-4ab0-b30c-2109b95e72ad",
   "metadata": {},
   "outputs": [
    {
     "data": {
      "text/plain": [
       "array([0.03442842, 0.0951081 , 1.32757914])"
      ]
     },
     "execution_count": 75,
     "metadata": {},
     "output_type": "execute_result"
    }
   ],
   "source": [
    "popt_7"
   ]
  },
  {
   "cell_type": "code",
   "execution_count": 76,
   "id": "8f5d2471-e04f-47d9-b4b3-8a93396ca6da",
   "metadata": {},
   "outputs": [
    {
     "data": {
      "text/plain": [
       "array([[1.39549921e-05, 6.13369611e-05, 2.34703763e-04],\n",
       "       [6.13369611e-05, 6.85653547e-04, 7.02600961e-04],\n",
       "       [2.34703763e-04, 7.02600961e-04, 5.19480653e-03]])"
      ]
     },
     "execution_count": 76,
     "metadata": {},
     "output_type": "execute_result"
    }
   ],
   "source": [
    "pcov_7"
   ]
  },
  {
   "cell_type": "code",
   "execution_count": 77,
   "id": "0ff954bf-dd8f-4351-95a0-1409833fa1cd",
   "metadata": {},
   "outputs": [
    {
     "name": "stdout",
     "output_type": "stream",
     "text": [
      "l: [   0.   25.   50.   75.  100.  200.  400.  600.  800. 1000. 1200. 1500.], phi: 0.03442841710379512, alpha: 0.09510809834054065, theta: 1.327579142408395, inside_sqrt: [749.53859191 672.27420771 596.49146839 522.19037395 449.37092439\n",
      " 172.90957496   0.           0.           0.           0.\n",
      "   0.           0.        ]\n",
      "net_photosynthetic_rate_result: [-2.37770246 -1.50763692 -0.61662158  0.29948203  1.24625225  5.57431963\n",
      " 13.12008143 15.71340457 18.30672771 20.90005086 23.493374   27.38335871]\n"
     ]
    },
    {
     "data": {
      "text/plain": [
       "[<matplotlib.lines.Line2D at 0x11e50e350>]"
      ]
     },
     "execution_count": 77,
     "metadata": {},
     "output_type": "execute_result"
    },
    {
     "data": {
      "image/png": "[encoded data removed]",
      "text/plain": [
       "<Figure size 432x288 with 1 Axes>"
      ]
     },
     "metadata": {
      "needs_background": "light"
     },
     "output_type": "display_data"
    }
   ],
   "source": [
    "plt.plot(xdata, ydata)\n",
    "plt.plot(xdata, net_photosynthetic_rate_6(xdata, popt_7[0], popt_7[1], popt_7[2]))"
   ]
  },
  {
   "cell_type": "markdown",
   "id": "36166453-3fb8-4d34-b33b-6479a010f29a",
   "metadata": {},
   "source": [
    "#### Try with the other data (Intercropping)"
   ]
  },
  {
   "cell_type": "code",
   "execution_count": 78,
   "id": "f886111f-87d7-4427-8ada-920eacc5325d",
   "metadata": {},
   "outputs": [],
   "source": [
    "ydata_intercropping = soybean_net_photosynthetic_rate.Intercropping.values"
   ]
  },
  {
   "cell_type": "code",
   "execution_count": 79,
   "id": "5dac96d9-a1c3-4f7c-986b-82cdda9b932c",
   "metadata": {
    "collapsed": true,
    "jupyter": {
     "outputs_hidden": true
    },
    "tags": []
   },
   "outputs": [
    {
     "name": "stdout",
     "output_type": "stream",
     "text": [
      "l: [   0.   25.   50.   75.  100.  200.  400.  600.  800. 1000. 1200. 1500.], phi: 1.0, alpha: 1.0, theta: 1.0, inside_sqrt: [2.5000e+03 6.2500e+02 0.0000e+00 6.2500e+02 2.5000e+03 2.2500e+04\n",
      " 1.2250e+05 3.0250e+05 5.6250e+05 9.0250e+05 1.3225e+06 2.1025e+06]\n",
      "net_photosynthetic_rate_result: [-25.   0.  25.  25.  25.  25.  25.  25.  25.  25.  25.  25.]\n",
      "l: [   0.   25.   50.   75.  100.  200.  400.  600.  800. 1000. 1200. 1500.], phi: 1.0, alpha: 1.0, theta: 1.0, inside_sqrt: [2.5000e+03 6.2500e+02 0.0000e+00 6.2500e+02 2.5000e+03 2.2500e+04\n",
      " 1.2250e+05 3.0250e+05 5.6250e+05 9.0250e+05 1.3225e+06 2.1025e+06]\n",
      "net_photosynthetic_rate_result: [-25.   0.  25.  25.  25.  25.  25.  25.  25.  25.  25.  25.]\n",
      "l: [   0.   25.   50.   75.  100.  200.  400.  600.  800. 1000. 1200. 1500.], phi: 1.0, alpha: 1.0, theta: 1.0, inside_sqrt: [2.5000e+03 6.2500e+02 0.0000e+00 6.2500e+02 2.5000e+03 2.2500e+04\n",
      " 1.2250e+05 3.0250e+05 5.6250e+05 9.0250e+05 1.3225e+06 2.1025e+06]\n",
      "net_photosynthetic_rate_result: [-25.   0.  25.  25.  25.  25.  25.  25.  25.  25.  25.  25.]\n",
      "l: [   0.   25.   50.   75.  100.  200.  400.  600.  800. 1000. 1200. 1500.], phi: 1.0000000149011612, alpha: 1.0, theta: 1.0, inside_sqrt: [2.50000000e+03 6.24999981e+02 0.00000000e+00 6.25000056e+02\n",
      " 2.50000015e+03 2.25000009e+04 1.22500004e+05 3.02500010e+05\n",
      " 5.62500018e+05 9.02500028e+05 1.32250004e+06 2.10250006e+06]\n",
      "net_photosynthetic_rate_result: [-2.50000000e+01  3.72529030e-07  2.50000004e+01  2.50000000e+01\n",
      "  2.50000000e+01  2.50000000e+01  2.50000000e+01  2.50000000e+01\n",
      "  2.50000000e+01  2.50000000e+01  2.50000000e+01  2.50000000e+01]\n",
      "l: [   0.   25.   50.   75.  100.  200.  400.  600.  800. 1000. 1200. 1500.], phi: 1.0, alpha: 1.0000000149011612, theta: 1.0, inside_sqrt: [2.50000004e+03 6.25000019e+02 0.00000000e+00 6.24999981e+02\n",
      " 2.49999996e+03 2.24999999e+04 1.22500000e+05 3.02500000e+05\n",
      " 5.62499999e+05 9.02499999e+05 1.32250000e+06 2.10250000e+06]\n",
      "net_photosynthetic_rate_result: [-2.50000004e+01 -3.72529030e-07  2.49999998e+01  2.50000000e+01\n",
      "  2.50000000e+01  2.50000000e+01  2.50000000e+01  2.50000000e+01\n",
      "  2.50000000e+01  2.50000000e+01  2.50000000e+01  2.50000000e+01]\n",
      "l: [   0.   25.   50.   75.  100.  200.  400.  600.  800. 1000. 1200. 1500.], phi: 1.0, alpha: 1.0, theta: 1.0000000149011612, inside_sqrt: [2.50000000e+03 6.24999925e+02 0.00000000e+00 6.24999776e+02\n",
      " 2.49999970e+03 2.24999994e+04 1.22499999e+05 3.02499998e+05\n",
      " 5.62499998e+05 9.02499997e+05 1.32250000e+06 2.10250000e+06]\n",
      "net_photosynthetic_rate_result: [-2.50000000e+01  3.72529044e-07  2.49999993e+01  2.50000015e+01\n",
      "  2.50000007e+01  2.50000002e+01  2.50000001e+01  2.50000001e+01\n",
      "  2.50000000e+01  2.50000000e+01  2.50000000e+01  2.50000000e+01]\n",
      "l: [   0.   25.   50.   75.  100.  200.  400.  600.  800. 1000. 1200. 1500.], phi: -0.4830763165263876, alpha: -0.16116199460450398, theta: 0.7715903334658982, inside_sqrt: [4.39780750e+02 8.60768925e+02 1.57346051e+03 2.57785550e+03\n",
      " 3.87395391e+03 1.19753816e+04 4.21800007e+04 9.10536380e+04\n",
      " 1.58596293e+05 2.44807967e+05 3.49688659e+05 5.42014106e+05]\n",
      "net_photosynthetic_rate_result: [   4.02904987   -9.21944524  -23.7381039   -38.76072917  -54.01844804\n",
      " -115.90272736 -240.68453882 -365.74346321 -490.87839739 -616.04487488\n",
      " -741.22744731 -929.01762993]\n",
      "l: [   0.   25.   50.   75.  100.  200.  400.  600.  800. 1000. 1200. 1500.], phi: 0.8669475998061931, alpha: 0.9384837771405108, theta: 0.9586175524865849, inside_sqrt: [2.34857460e+03 8.91483226e+02 3.73889532e+02 7.95793514e+02\n",
      " 2.15719517e+03 1.69977786e+04 9.17748338e+04 2.26679740e+05\n",
      " 4.21712498e+05 6.76873107e+05 9.92161567e+05 1.57783398e+06]\n",
      "net_photosynthetic_rate_result: [-23.46209443  -2.45368082  14.33882572  21.01515921  22.80830766\n",
      "  24.25040841  24.67885565  24.79578258  24.85030466  24.88185191\n",
      "  24.90241791  24.92262235]\n",
      "l: [   0.   25.   50.   75.  100.  200.  400.  600.  800. 1000. 1200. 1500.], phi: 0.866947612724719, alpha: 0.9384837771405108, theta: 0.9586175524865849, inside_sqrt: [2.34857460e+03 8.91483211e+02 3.73889531e+02 7.95793554e+02\n",
      " 2.15719528e+03 1.69977792e+04 9.17748369e+04 2.26679748e+05\n",
      " 4.21712511e+05 6.76873128e+05 9.92161598e+05 1.57783403e+06]\n",
      "net_photosynthetic_rate_result: [-23.46209443  -2.45368053  14.33882607  21.01515935  22.80830772\n",
      "  24.25040842  24.67885565  24.79578258  24.85030466  24.88185192\n",
      "  24.90241791  24.92262235]\n",
      "l: [   0.   25.   50.   75.  100.  200.  400.  600.  800. 1000. 1200. 1500.], phi: 0.8669475998061931, alpha: 0.9384837911250088, theta: 0.9586175524865849, inside_sqrt: [2.34857463e+03 8.91483246e+02 3.73889538e+02 7.95793506e+02\n",
      " 2.15719515e+03 1.69977785e+04 9.17748336e+04 2.26679740e+05\n",
      " 4.21712498e+05 6.76873107e+05 9.92161567e+05 1.57783398e+06]\n",
      "net_photosynthetic_rate_result: [-23.46209478  -2.45368116  14.33882547  21.01515911  22.80830761\n",
      "  24.2504084   24.67885564  24.79578258  24.85030466  24.88185191\n",
      "  24.90241791  24.92262235]\n",
      "l: [   0.   25.   50.   75.  100.  200.  400.  600.  800. 1000. 1200. 1500.], phi: 0.8669475998061931, alpha: 0.9384837771405108, theta: 0.9586175667710995, inside_sqrt: [2.34857460e+03 8.91483166e+02 3.73889412e+02 7.95793334e+02\n",
      " 2.15719493e+03 1.69977781e+04 9.17748328e+04 2.26679739e+05\n",
      " 4.21712496e+05 6.76873105e+05 9.92161564e+05 1.57783398e+06]\n",
      "net_photosynthetic_rate_result: [-23.46209443  -2.45368061  14.33882677  21.01516021  22.80830832\n",
      "  24.25040866  24.67885576  24.79578265  24.85030471  24.88185195\n",
      "  24.90241794  24.92262238]\n",
      "l: [   0.   25.   50.   75.  100.  200.  400.  600.  800. 1000. 1200. 1500.], phi: 0.7394805426222071, alpha: 0.82727060620869, theta: 0.866663623501689, inside_sqrt: [2.08682367e+03 1.18997515e+03 9.76665968e+02 1.44689613e+03\n",
      " 2.60066563e+03 1.40511371e+04 6.97619683e+04 1.69219317e+05\n",
      " 3.12423184e+05 4.99373569e+05 7.30070471e+05 1.15814055e+06]\n",
      "net_photosynthetic_rate_result: [-20.68176516  -3.5628037    8.97457177  15.72493074  18.91439175\n",
      "  22.61091464  23.94285606  24.32262423  24.50180613  24.60605871\n",
      "  24.67424167  24.74139065]\n",
      "l: [   0.   25.   50.   75.  100.  200.  400.  600.  800. 1000. 1200. 1500.], phi: 0.7394805536413258, alpha: 0.82727060620869, theta: 0.866663623501689, inside_sqrt: [2.08682367e+03 1.18997514e+03 9.76665972e+02 1.44689617e+03\n",
      " 2.60066572e+03 1.40511376e+04 6.97619706e+04 1.69219323e+05\n",
      " 3.12423194e+05 4.99373585e+05 7.30070494e+05 1.15814058e+06]\n",
      "net_photosynthetic_rate_result: [-20.68176516  -3.56280348   8.97457206  15.72493094  18.91439188\n",
      "  22.61091468  23.94285608  24.32262424  24.50180614  24.60605872\n",
      "  24.67424167  24.74139065]\n",
      "l: [   0.   25.   50.   75.  100.  200.  400.  600.  800. 1000. 1200. 1500.], phi: 0.7394805426222071, alpha: 0.8272706185359826, theta: 0.866663623501689, inside_sqrt: [2.08682370e+03 1.18997517e+03 9.76665979e+02 1.44689613e+03\n",
      " 2.60066563e+03 1.40511370e+04 6.97619682e+04 1.69219317e+05\n",
      " 3.12423184e+05 4.99373569e+05 7.30070471e+05 1.15814055e+06]\n",
      "net_photosynthetic_rate_result: [-20.68176546  -3.562804     8.97457154  15.72493059  18.91439165\n",
      "  22.6109146   23.94285604  24.32262422  24.50180612  24.60605871\n",
      "  24.67424166  24.74139064]\n",
      "l: [   0.   25.   50.   75.  100.  200.  400.  600.  800. 1000. 1200. 1500.], phi: 0.7394805426222071, alpha: 0.82727060620869, theta: 0.8666636364159833, inside_sqrt: [2.08682367e+03 1.18997510e+03 9.76665881e+02 1.44689600e+03\n",
      " 2.60066546e+03 1.40511367e+04 6.97619676e+04 1.69219316e+05\n",
      " 3.12423183e+05 4.99373567e+05 7.30070469e+05 1.15814054e+06]\n",
      "net_photosynthetic_rate_result: [-20.68176516  -3.56280359   8.97457214  15.72493119  18.91439214\n",
      "  22.61091484  23.94285615  24.32262429  24.50180618  24.60605875\n",
      "  24.6742417   24.74139067]\n",
      "l: [   0.   25.   50.   75.  100.  200.  400.  600.  800. 1000. 1200. 1500.], phi: 0.37097249323021797, alpha: 0.5334144194971586, theta: 0.7100952802783309, inside_sqrt: [  1469.5998637    1256.82858192   1216.08303855   1347.3632336\n",
      "   1650.66916707   4584.15028511  18708.34796519  43842.19290395\n",
      "  79985.68510138 127138.82455749 185301.61127227 293188.87995447]\n",
      "net_photosynthetic_rate_result: [-13.33536049  -4.77461174   2.16368843   7.40259647  11.17133792\n",
      "  18.22625316  21.83308527  22.9510253   23.48783112  23.80228794\n",
      "  24.00865326  24.2123569 ]\n",
      "l: [   0.   25.   50.   75.  100.  200.  400.  600.  800. 1000. 1200. 1500.], phi: 0.37097249875813887, alpha: 0.5334144194971586, theta: 0.7100952802783309, inside_sqrt: [  1469.5998637    1256.82858003   1216.0830399    1347.36324332\n",
      "   1650.66919028   4584.15041355  18708.34855018  43842.1942736\n",
      "  79985.68758381 127138.82848081 185301.6169646  293188.88891551]\n",
      "net_photosynthetic_rate_result: [-13.33536049  -4.77461163   2.16368861   7.40259667  11.17133811\n",
      "  18.22625327  21.83308532  22.95102534  23.48783115  23.80228796\n",
      "  24.00865328  24.21235692]\n",
      "l: [   0.   25.   50.   75.  100.  200.  400.  600.  800. 1000. 1200. 1500.], phi: 0.37097249323021797, alpha: 0.5334144274456528, theta: 0.7100952802783309, inside_sqrt: [  1469.59987894   1256.8285956    1216.08305069   1347.36324419\n",
      "   1650.66917611   4584.15028795  18708.34795565  43842.19288201\n",
      "  79985.68506706 127138.82451077 185301.61121317 293188.87987678]\n",
      "net_photosynthetic_rate_result: [-13.33536069  -4.77461194   2.16368825   7.40259631  11.17133778\n",
      "  18.22625308  21.83308523  22.95102528  23.48783111  23.80228793\n",
      "  24.00865325  24.2123569 ]\n",
      "l: [   0.   25.   50.   75.  100.  200.  400.  600.  800. 1000. 1200. 1500.], phi: 0.37097249323021797, alpha: 0.5334144194971586, theta: 0.7100952908595751, inside_sqrt: [  1469.5998637    1256.82856687   1216.08300846   1347.36318846\n",
      "   1650.66910688   4584.15016472  18708.34772442  43842.1925428\n",
      "  79985.68461985 127138.82395557 185301.61054997 293188.87905159]\n",
      "net_photosynthetic_rate_result: [-13.33536049  -4.77461172   2.16368851   7.4025966   11.17133807\n",
      "  18.22625331  21.83308536  22.95102537  23.48783117  23.80228798\n",
      "  24.00865329  24.21235693]\n",
      "l: [   0.   25.   50.   75.  100.  200.  400.  600.  800. 1000. 1200. 1500.], phi: 0.05750864356733254, alpha: 0.11901726648536681, theta: 0.3343588733943653, inside_sqrt: [ 782.62477668  811.34063117  844.19054075  881.17450545  922.29252525\n",
      " 1128.10515552 1738.16506115 2612.80449357 3752.0234528  5155.82193881\n",
      " 6824.19995163 9822.8535836 ]\n",
      "net_photosynthetic_rate_result: [-2.97543166 -1.58604718 -0.28983434  0.91858238  2.04466331  5.83229583\n",
      " 10.91321172 14.01980817 16.05888261 17.48166389 18.52405457 19.64709766]\n",
      "l: [   0.   25.   50.   75.  100.  200.  400.  600.  800. 1000. 1200. 1500.], phi: 0.05750864442427811, alpha: 0.11901726648536681, theta: 0.3343588733943653, inside_sqrt: [ 782.62477668  811.34063162  844.19054179  881.17450719  922.29252782\n",
      " 1128.10516264 1738.16508327 2612.80453859 3752.02352858 5155.82205326\n",
      " 6824.20011262 9822.85382919]\n",
      "net_photosynthetic_rate_result: [-2.97543166 -1.58604716 -0.2898343   0.91858243  2.04466337  5.83229593\n",
      " 10.91321183 14.01980828 16.05888271 17.48166398 18.52405465 19.64709773]\n",
      "l: [   0.   25.   50.   75.  100.  200.  400.  600.  800. 1000. 1200. 1500.], phi: 0.05750864356733254, alpha: 0.11901726825886229, theta: 0.3343588733943653, inside_sqrt: [ 782.62477916  811.34063369  844.19054332  881.17450806  922.2925279\n",
      " 1128.10515834 1738.1650643  2612.80449707 3752.02345663 5155.82194299\n",
      " 6824.19995614 9822.85358861]\n",
      "net_photosynthetic_rate_result: [-2.97543171 -1.58604723 -0.28983438  0.91858234  2.04466326  5.83229579\n",
      " 10.91321168 14.01980814 16.05888259 17.48166387 18.52405455 19.64709764]\n",
      "l: [   0.   25.   50.   75.  100.  200.  400.  600.  800. 1000. 1200. 1500.], phi: 0.05750864356733254, alpha: 0.11901726648536681, theta: 0.3343588783767008, inside_sqrt: [ 782.62477668  811.34063036  844.19053915  881.17450304  922.29252204\n",
      " 1128.1051491  1738.16504832 2612.80447434 3752.02342715 5155.82190675\n",
      " 6824.19991316 9822.8535355 ]\n",
      "net_photosynthetic_rate_result: [-2.97543166 -1.58604718 -0.28983434  0.91858238  2.04466331  5.83229584\n",
      " 10.91321174 14.0198082  16.05888264 17.48166392 18.5240546  19.64709769]\n",
      "l: [   0.   25.   50.   75.  100.  200.  400.  600.  800. 1000. 1200. 1500.], phi: 0.0821228934783515, alpha: 0.10746364602804935, theta: -0.5021879216365396, inside_sqrt: [  766.54732955   998.63020155  1239.14328559  1488.08658167\n",
      "  1745.46008979  2859.2562427   5491.49872652  8663.274781\n",
      " 12374.58440614 16625.42760194 21415.8043684  29612.99496308]\n",
      "net_photosynthetic_rate_result: [-2.68659115 -0.83325379  0.70728903  2.02271878  3.16761505  6.63346952\n",
      " 10.82319075 13.35958057 15.09181672 16.36020616 17.33313896 18.43432271]\n",
      "l: [   0.   25.   50.   75.  100.  200.  400.  600.  800. 1000. 1200. 1500.], phi: 0.08212289470207797, alpha: 0.10746364602804935, theta: -0.5021879216365396, inside_sqrt: [  766.54732955   998.63020507  1239.14329288  1488.08659299\n",
      "  1745.46010538  2859.25627791  5491.49881301  8663.27493485\n",
      " 12374.58464343 16625.42793875 21415.80482081 29612.99561904]\n",
      "net_photosynthetic_rate_result: [-2.68659115 -0.83325376  0.70728907  2.02271883  3.16761511  6.6334696\n",
      " 10.82319084 13.35958066 15.09181681 16.36020624 17.33313903 18.43432278]\n",
      "l: [   0.   25.   50.   75.  100.  200.  400.  600.  800. 1000. 1200. 1500.], phi: 0.0821228934783515, alpha: 0.10746364762938246, theta: -0.5021879216365396, inside_sqrt: [  766.54733176   998.63020409  1239.14328846  1488.08658487\n",
      "  1745.46009333  2859.25624756  5491.49873401  8663.27479112\n",
      " 12374.5844189  16625.42761733 21415.80438643 29612.99498506]\n",
      "net_photosynthetic_rate_result: [-2.68659119 -0.83325383  0.70728899  2.02271874  3.16761501  6.63346948\n",
      " 10.82319072 13.35958055 15.0918167  16.36020614 17.33313894 18.4343227 ]\n",
      "l: [   0.   25.   50.   75.  100.  200.  400.  600.  800. 1000. 1200. 1500.], phi: 0.0821228934783515, alpha: 0.10746364602804935, theta: -0.5021879141533564, inside_sqrt: [  766.54732955   998.63019984  1239.14328218  1488.08657656\n",
      "  1745.46008299  2859.25622909  5491.4986993   8663.27474016\n",
      " 12374.58435169 16625.42753388 21415.80428673 29612.99486099]\n",
      "net_photosynthetic_rate_result: [-2.68659115 -0.83325379  0.70728903  2.02271878  3.16761505  6.63346953\n",
      " 10.82319077 13.35958059 15.09181675 16.36020618 17.33313898 18.43432273]\n",
      "l: [   0.   25.   50.   75.  100.  200.  400.  600.  800. 1000. 1200. 1500.], phi: 0.10246755234628643, alpha: 0.11194752497029427, theta: -1.296141807290105, inside_sqrt: [  772.76706143  1290.95375435  1822.26494638  2366.70063752\n",
      "  2924.26082776  5285.74657976 10638.69404081 16831.60944456\n",
      " 23864.49279101 31737.34408018 40450.16331205 55094.33205243]\n",
      "net_photosynthetic_rate_result: [-2.79868812 -0.65020872  0.96861941  2.27984299  3.38543139  6.61808301\n",
      " 10.45539251 12.80819724 14.44812734 15.67287848 16.62916629 17.73216795]\n",
      "l: [   0.   25.   50.   75.  100.  200.  400.  600.  800. 1000. 1200. 1500.], phi: 0.10246755387317195, alpha: 0.11194752497029427, theta: -1.296141807290105, inside_sqrt: [  772.76706143  1290.95376217  1822.26496241  2366.70066215\n",
      "  2924.26086138  5285.74665327 10638.69421285 16831.60974018\n",
      " 23864.49323524 31737.34469804 40450.16412858 55094.33321391]\n",
      "net_photosynthetic_rate_result: [-2.79868812 -0.65020869  0.96861946  2.27984304  3.38543145  6.61808308\n",
      " 10.45539259 12.80819733 14.44812742 15.67287856 16.62916637 17.73216802]\n",
      "l: [   0.   25.   50.   75.  100.  200.  400.  600.  800. 1000. 1200. 1500.], phi: 0.10246755234628643, alpha: 0.11194752663844239, theta: -1.296141807290105, inside_sqrt: [  772.76706375  1290.95375744  1822.26495024  2366.70064214\n",
      "  2924.26083315  5285.74658822 10638.69405541 16831.6094653\n",
      " 23864.49281789 31737.3441132  40450.16335121 55094.3321008 ]\n",
      "net_photosynthetic_rate_result: [-2.79868817 -0.65020876  0.96861937  2.27984295  3.38543135  6.61808297\n",
      " 10.45539248 12.80819722 14.44812732 15.67287845 16.62916627 17.73216793]\n",
      "l: [   0.   25.   50.   75.  100.  200.  400.  600.  800. 1000. 1200. 1500.], phi: 0.10246755234628643, alpha: 0.11194752497029427, theta: -1.296141787976087, inside_sqrt: [  772.76706143  1290.95374885  1822.26493538  2366.70062101\n",
      "  2924.26080575  5285.74653575 10638.69395278 16831.60931252\n",
      " 23864.49261496 31737.34386012 40450.16304797 55094.33172234]\n",
      "net_photosynthetic_rate_result: [-2.79868812 -0.65020871  0.96861942  2.279843    3.38543141  6.61808303\n",
      " 10.45539254 12.80819728 14.44812738 15.67287851 16.62916633 17.73216799]\n",
      "l: [   0.   25.   50.   75.  100.  200.  400.  600.  800. 1000. 1200. 1500.], phi: 0.10595096807356305, alpha: 0.10960324461099398, theta: -1.523380471654058, inside_sqrt: [  769.51210028  1371.21752219  1986.95495364  2616.72439464\n",
      "  3260.52584519  5976.0517428  12080.63999618 19083.27686042\n",
      " 26983.96233552 35782.69642147 45479.47911828 61708.49430886]\n",
      "net_photosynthetic_rate_result: [-2.74008112 -0.56035675  1.04677437  2.33662986  3.41919322  6.5729739\n",
      " 10.32018096 12.63085644 14.25078372 15.46682762 16.42057548 17.52583823]\n",
      "l: [   0.   25.   50.   75.  100.  200.  400.  600.  800. 1000. 1200. 1500.], phi: 0.10595096965235551, alpha: 0.10960324461099398, theta: -1.523380471654058, inside_sqrt: [  769.51210028  1371.21753126  1986.9549722   2616.72442311\n",
      "  3260.52588398  5976.05182708 12080.6401915  19083.27719354\n",
      " 26983.9628332  35782.69711048 45479.48002539 61708.49559329]\n",
      "net_photosynthetic_rate_result: [-2.74008112 -0.56035672  1.04677441  2.33662991  3.41919328  6.57297398\n",
      " 10.32018105 12.63085653 14.2507838  15.4668277  16.42057556 17.52583831]\n",
      "l: [   0.   25.   50.   75.  100.  200.  400.  600.  800. 1000. 1200. 1500.], phi: 0.10595096807356305, alpha: 0.1096032462442096, theta: -1.523380471654058, inside_sqrt: [  769.51210255  1371.21752533  1986.95495766  2616.72439953\n",
      "  3260.52585095  5976.05175207 12080.64001245 19083.2768837\n",
      " 26983.96236579 35782.69645875 45479.47916257 61708.49436365]\n",
      "net_photosynthetic_rate_result: [-2.74008116 -0.56035679  1.04677433  2.33662982  3.41919318  6.57297387\n",
      " 10.32018093 12.63085641 14.25078369 15.4668276  16.42057546 17.52583822]\n",
      "l: [   0.   25.   50.   75.  100.  200.  400.  600.  800. 1000. 1200. 1500.], phi: 0.10595096807356305, alpha: 0.10960324461099398, theta: -1.52338044895392, inside_sqrt: [  769.51210028  1371.21751552  1986.9549403   2616.72437463\n",
      "  3260.5258185   5976.05168943 12080.63988944 19083.2767003\n",
      " 26983.96212202 35782.6961546  45479.47879804 61708.49390856]\n",
      "net_photosynthetic_rate_result: [-2.74008112 -0.56035674  1.04677437  2.33662987  3.41919323  6.57297393\n",
      " 10.320181   12.63085648 14.25078376 15.46682766 16.42057552 17.52583827]\n",
      "l: [   0.   25.   50.   75.  100.  200.  400.  600.  800. 1000. 1200. 1500.], phi: 0.1053479702877496, alpha: 0.10902906150983299, theta: -1.5195826318928634, inside_sqrt: [  768.71591205  1365.54187803  1976.24058757  2600.81204067\n",
      "  3239.25623732  5931.76045947 11982.6605944  18921.41631682\n",
      " 26748.02762675 35462.49452417 45064.8170091  61133.02996305]\n",
      "net_photosynthetic_rate_result: [-2.72572654 -0.55611327  1.0456388   2.33202175  3.41212351  6.56057412\n",
      " 10.30430691 12.61421928 14.23423953 15.45070669 16.40500793 17.51116682]\n",
      "l: [   0.   25.   50.   75.  100.  200.  400.  600.  800. 1000. 1200. 1500.], phi: 0.10534797185755669, alpha: 0.10902906150983299, theta: -1.5195826318928634, inside_sqrt: [  768.71591205  1365.54188703  1976.24060598  2600.8120689\n",
      "  3239.25627579  5931.76054302 11982.66078796 18921.41664685\n",
      " 26748.02811971 35462.49520653 45064.8179073  61133.03123464]\n",
      "net_photosynthetic_rate_result: [-2.72572654 -0.55611324  1.04563885  2.33202181  3.41212357  6.56057419\n",
      " 10.30430699 12.61421936 14.23423961 15.45070677 16.405008   17.5111669 ]\n",
      "l: [   0.   25.   50.   75.  100.  200.  400.  600.  800. 1000. 1200. 1500.], phi: 0.1053479702877496, alpha: 0.10902906313449261, theta: -1.5195826318928634, inside_sqrt: [  768.7159143   1365.54188115  1976.24059155  2600.81204552\n",
      "  3239.25624303  5931.76046864 11982.66061048 18921.41633981\n",
      " 26748.02765665 35462.49456099 45064.81705283 61133.03001715]\n",
      "net_photosynthetic_rate_result: [-2.72572658 -0.55611331  1.04563876  2.33202171  3.41212347  6.56057408\n",
      " 10.30430688 12.61421925 14.2342395  15.45070667 16.40500791 17.51116681]\n",
      "l: [   0.   25.   50.   75.  100.  200.  400.  600.  800. 1000. 1200. 1500.], phi: 0.1053479702877496, alpha: 0.10902906150983299, theta: -1.5195826092493177, inside_sqrt: [  768.71591205  1365.54187142  1976.24057435  2600.81202083\n",
      "  3239.25621087  5931.76040656 11982.66048858 18921.41615809\n",
      " 26748.02741511 35462.49425962 45064.81669163 61133.02956622]\n",
      "net_photosynthetic_rate_result: [-2.72572654 -0.55611327  1.04563881  2.33202176  3.41212352  6.56057414\n",
      " 10.30430695 12.61421932 14.23423957 15.45070673 16.40500797 17.51116686]\n",
      "l: [   0.   25.   50.   75.  100.  200.  400.  600.  800. 1000. 1200. 1500.], phi: 0.10544740245243353, alpha: 0.10908151883887542, theta: -1.5222895540937909, inside_sqrt: [  768.78863464  1367.00382797  1979.11796465  2605.13104468\n",
      "  3245.04306807  5943.68059517 12008.10493041 18962.06164037\n",
      " 26805.55072505 35538.57218444 45161.12601856 61262.82997232]\n",
      "net_photosynthetic_rate_result: [-2.72703797 -0.55603449  1.04618328  2.33273899  3.41289159  6.56119207\n",
      " 10.30448418 12.61410468 14.23394285 15.45029511 16.4045233  17.51062007]\n",
      "l: [   0.   25.   50.   75.  100.  200.  400.  600.  800. 1000. 1200. 1500.], phi: 0.10544740402372227, alpha: 0.10908151883887542, theta: -1.5222895540937909, inside_sqrt: [  768.78863464  1367.00383698  1979.11798309  2605.13107297\n",
      "  3245.04310662  5943.68067891 12008.1051244  18962.06197112\n",
      " 26805.55121907 35538.57286824 45161.12691864 61262.83124655]\n",
      "net_photosynthetic_rate_result: [-2.72703797 -0.55603447  1.04618332  2.33273904  3.41289165  6.56119215\n",
      " 10.30448426 12.61410477 14.23394293 15.45029519 16.40452338 17.51062014]\n",
      "l: [   0.   25.   50.   75.  100.  200.  400.  600.  800. 1000. 1200. 1500.], phi: 0.10544740245243353, alpha: 0.10908152046431671, theta: -1.5222895540937909, inside_sqrt: [  768.7886369   1367.00383109  1979.11796863  2605.13104953\n",
      "  3245.04307379  5943.68060436 12008.10494653 18962.06166342\n",
      " 26805.55075503 35538.57222136 45161.1260624  61262.83002656]\n",
      "net_photosynthetic_rate_result: [-2.72703801 -0.55603453  1.04618324  2.33273895  3.41289156  6.56119204\n",
      " 10.30448415 12.61410466 14.23394282 15.45029509 16.40452328 17.51062005]\n",
      "l: [   0.   25.   50.   75.  100.  200.  400.  600.  800. 1000. 1200. 1500.], phi: 0.10544740245243353, alpha: 0.10908151883887542, theta: -1.5222895314099087, inside_sqrt: [  768.78863464  1367.00382133  1979.11795138  2605.13102478\n",
      "  3245.04304154  5943.68054211 12008.1048243  18962.0614812\n",
      " 26805.55051282 35538.57191916 45161.12570021 61262.82957439]\n",
      "net_photosynthetic_rate_result: [-2.72703797 -0.55603449  1.04618329  2.332739    3.41289161  6.5611921\n",
      " 10.30448421 12.61410472 14.23394289 15.45029515 16.40452334 17.51062011]\n",
      "l: [   0.   25.   50.   75.  100.  200.  400.  600.  800. 1000. 1200. 1500.], phi: 0.10542900733014515, alpha: 0.10907042725108357, theta: -1.5218142862004778, inside_sqrt: [  768.77325788  1366.73803887  1978.59691435  2604.34988432\n",
      "  3243.99694876  5941.52615138 12003.50109181 18954.69807917\n",
      " 26795.11711346 35524.75819468 45143.62132284 61239.20735305]\n",
      "net_photosynthetic_rate_result: [-2.72676068 -0.556018    1.04610805  2.33262644  3.41276483  6.56107879\n",
      " 10.30443744 12.61410497 14.23397336 15.45034519 16.40458617 17.51069434]\n",
      "l: [   0.   25.   50.   75.  100.  200.  400.  600.  800. 1000. 1200. 1500.], phi: 0.10542900890115979, alpha: 0.10907042725108357, theta: -1.5218142862004778, inside_sqrt: [  768.77325788  1366.73804789  1978.59693279  2604.3499126\n",
      "  3243.9969873   5941.52623508 12003.50128572 18954.69840979\n",
      " 26795.11760729 35524.75887822 45143.62222258 61239.2086268 ]\n",
      "net_photosynthetic_rate_result: [-2.72676068 -0.55601797  1.04610809  2.33262649  3.41276489  6.56107886\n",
      " 10.30443753 12.61410506 14.23397344 15.45034526 16.40458625 17.51069441]\n",
      "l: [   0.   25.   50.   75.  100.  200.  400.  600.  800. 1000. 1200. 1500.], phi: 0.10542900733014515, alpha: 0.10907042887635959, theta: -1.5218142862004778, inside_sqrt: [  768.77326013  1366.73804199  1978.59691834  2604.34988917\n",
      "  3243.99695448  5941.52616056 12003.50110792 18954.69810221\n",
      " 26795.11714343 35524.75823158 45143.62136666 61239.20740727]\n",
      "net_photosynthetic_rate_result: [-2.72676072 -0.55601804  1.04610801  2.3326264   3.41276479  6.56107875\n",
      " 10.30443741 12.61410495 14.23397333 15.45034516 16.40458615 17.51069432]\n",
      "l: [   0.   25.   50.   75.  100.  200.  400.  600.  800. 1000. 1200. 1500.], phi: 0.10542900733014515, alpha: 0.10907042725108357, theta: -1.5218142635236778, inside_sqrt: [  768.77325788  1366.73803224  1978.59690109  2604.34986443\n",
      "  3243.99692225  5941.52609835 12003.50098575 18954.69792008\n",
      " 26795.11690134 35524.75792953 45143.62100465 61239.20695532]\n",
      "net_photosynthetic_rate_result: [-2.72676068 -0.55601799  1.04610806  2.33262645  3.41276484  6.56107881\n",
      " 10.30443748 12.61410501 14.2339734  15.45034522 16.40458621 17.51069438]\n",
      "l: [   0.   25.   50.   75.  100.  200.  400.  600.  800. 1000. 1200. 1500.], phi: 0.1054323842436448, alpha: 0.10907244047636042, theta: -1.5219018990808402, inside_sqrt: [  768.77604889  1366.78689013  1978.69271592  2604.49352627\n",
      "  3244.18932119  5941.92234643 12004.34765576 18956.05197687\n",
      " 26797.03530976 35527.29765444 45146.8390109  61243.54919269]\n",
      "net_photosynthetic_rate_result: [-2.72681101 -0.5560205   1.04612231  2.33264747  3.4127884   6.56109967\n",
      " 10.30444588 12.61410468 14.23396745 15.45033566 16.40457429 17.51068036]\n"
     ]
    }
   ],
   "source": [
    "popt_8, pcov_8 = optimize.curve_fit(net_photosynthetic_rate_6, xdata, ydata_intercropping)"
   ]
  },
  {
   "cell_type": "code",
   "execution_count": 80,
   "id": "7a031690-c56a-4b2a-82ea-1d9556206760",
   "metadata": {},
   "outputs": [
    {
     "data": {
      "text/plain": [
       "array([ 0.10543238,  0.10907244, -1.5219019 ])"
      ]
     },
     "execution_count": 80,
     "metadata": {},
     "output_type": "execute_result"
    }
   ],
   "source": [
    "popt_8"
   ]
  },
  {
   "cell_type": "code",
   "execution_count": 81,
   "id": "26298b12-d500-46d1-a710-6a950dbc122c",
   "metadata": {},
   "outputs": [
    {
     "data": {
      "text/plain": [
       "array([[ 4.02531137e-04,  2.49237314e-04, -1.03171283e-02],\n",
       "       [ 2.49237314e-04,  2.23231738e-04, -5.64725791e-03],\n",
       "       [-1.03171283e-02, -5.64725791e-03,  2.81006377e-01]])"
      ]
     },
     "execution_count": 81,
     "metadata": {},
     "output_type": "execute_result"
    }
   ],
   "source": [
    "pcov_8"
   ]
  },
  {
   "cell_type": "code",
   "execution_count": 82,
   "id": "8305d323-3459-4f64-8717-3f1c8222414d",
   "metadata": {},
   "outputs": [
    {
     "name": "stdout",
     "output_type": "stream",
     "text": [
      "l: [   0.   25.   50.   75.  100.  200.  400.  600.  800. 1000. 1200. 1500.], phi: 0.1054323842436448, alpha: 0.10907244047636042, theta: -1.5219018990808402, inside_sqrt: [  768.77604889  1366.78689013  1978.69271592  2604.49352627\n",
      "  3244.18932119  5941.92234643 12004.34765576 18956.05197687\n",
      " 26797.03530976 35527.29765444 45146.8390109  61243.54919269]\n",
      "net_photosynthetic_rate_result: [-2.72681101 -0.5560205   1.04612231  2.33264747  3.4127884   6.56109967\n",
      " 10.30444588 12.61410468 14.23396745 15.45033566 16.40457429 17.51068036]\n"
     ]
    },
    {
     "data": {
      "text/plain": [
       "[<matplotlib.lines.Line2D at 0x11e561030>]"
      ]
     },
     "execution_count": 82,
     "metadata": {},
     "output_type": "execute_result"
    },
    {
     "data": {
      "image/png": "[encoded data removed]",
      "text/plain": [
       "<Figure size 432x288 with 1 Axes>"
      ]
     },
     "metadata": {
      "needs_background": "light"
     },
     "output_type": "display_data"
    }
   ],
   "source": [
    "plt.plot(xdata, ydata_intercropping)\n",
    "plt.plot(xdata, net_photosynthetic_rate_6(xdata, popt_8[0], popt_8[1], popt_8[2]))"
   ]
  },
  {
   "cell_type": "markdown",
   "id": "2141d735-bb7b-4677-b556-7383a13e397a",
   "metadata": {},
   "source": [
    "##### With p_max from intercropping data"
   ]
  },
  {
   "cell_type": "code",
   "execution_count": 83,
   "id": "eb83b39f-7150-4646-b759-8e6822bd74b1",
   "metadata": {},
   "outputs": [],
   "source": [
    "p_max_intercropping = max(ydata_intercropping)"
   ]
  },
  {
   "cell_type": "code",
   "execution_count": 84,
   "id": "58958b7c-0ee8-48d2-a593-4090a38ec8d9",
   "metadata": {},
   "outputs": [
    {
     "data": {
      "text/plain": [
       "17.0"
      ]
     },
     "execution_count": 84,
     "metadata": {},
     "output_type": "execute_result"
    }
   ],
   "source": [
    "p_max_intercropping"
   ]
  },
  {
   "cell_type": "code",
   "execution_count": 85,
   "id": "9bb29b3c-388d-44d9-8b66-b0c1563f289b",
   "metadata": {},
   "outputs": [],
   "source": [
    "net_photosynthetic_rate_7 = get_net_photosynthetic_rate_function(p_max_intercropping)"
   ]
  },
  {
   "cell_type": "code",
   "execution_count": 86,
   "id": "47cd5d2f-834a-4b3b-a24a-0ffedaf1c28c",
   "metadata": {
    "collapsed": true,
    "jupyter": {
     "outputs_hidden": true
    },
    "tags": []
   },
   "outputs": [
    {
     "name": "stdout",
     "output_type": "stream",
     "text": [
      "l: [   0.   25.   50.   75.  100.  200.  400.  600.  800. 1000. 1200. 1500.], phi: 1.0, alpha: 1.0, theta: 1.0, inside_sqrt: [1.156000e+03 8.100000e+01 2.560000e+02 1.681000e+03 4.356000e+03\n",
      " 2.755600e+04 1.339560e+05 3.203560e+05 5.867560e+05 9.331560e+05\n",
      " 1.359556e+06 2.149156e+06]\n",
      "net_photosynthetic_rate_result: [-17.   8.  17.  17.  17.  17.  17.  17.  17.  17.  17.  17.]\n",
      "l: [   0.   25.   50.   75.  100.  200.  400.  600.  800. 1000. 1200. 1500.], phi: 1.0, alpha: 1.0, theta: 1.0, inside_sqrt: [1.156000e+03 8.100000e+01 2.560000e+02 1.681000e+03 4.356000e+03\n",
      " 2.755600e+04 1.339560e+05 3.203560e+05 5.867560e+05 9.331560e+05\n",
      " 1.359556e+06 2.149156e+06]\n",
      "net_photosynthetic_rate_result: [-17.   8.  17.  17.  17.  17.  17.  17.  17.  17.  17.  17.]\n",
      "l: [   0.   25.   50.   75.  100.  200.  400.  600.  800. 1000. 1200. 1500.], phi: 1.0, alpha: 1.0, theta: 1.0, inside_sqrt: [1.156000e+03 8.100000e+01 2.560000e+02 1.681000e+03 4.356000e+03\n",
      " 2.755600e+04 1.339560e+05 3.203560e+05 5.867560e+05 9.331560e+05\n",
      " 1.359556e+06 2.149156e+06]\n",
      "net_photosynthetic_rate_result: [-17.   8.  17.  17.  17.  17.  17.  17.  17.  17.  17.  17.]\n",
      "l: [   0.   25.   50.   75.  100.  200.  400.  600.  800. 1000. 1200. 1500.], phi: 1.0000000149011612, alpha: 1.0, theta: 1.0, inside_sqrt: [1.15600000e+03 8.09999933e+01 2.56000024e+02 1.68100009e+03\n",
      " 4.35600020e+03 2.75560010e+04 1.33956004e+05 3.20356010e+05\n",
      " 5.86756018e+05 9.33156029e+05 1.35955604e+06 2.14915607e+06]\n",
      "net_photosynthetic_rate_result: [-17.           8.00000037  17.          17.          17.\n",
      "  17.          17.          17.          17.          17.\n",
      "  17.          17.        ]\n",
      "l: [   0.   25.   50.   75.  100.  200.  400.  600.  800. 1000. 1200. 1500.], phi: 1.0, alpha: 1.0000000149011612, theta: 1.0, inside_sqrt: [1.15600002e+03 8.10000046e+01 2.55999992e+02 1.68099998e+03\n",
      " 4.35599997e+03 2.75559999e+04 1.33956000e+05 3.20356000e+05\n",
      " 5.86756000e+05 9.33156000e+05 1.35955600e+06 2.14915600e+06]\n",
      "net_photosynthetic_rate_result: [-17.00000025   7.99999975  17.          17.          17.\n",
      "  17.          17.          17.          17.          17.\n",
      "  17.          17.        ]\n",
      "l: [   0.   25.   50.   75.  100.  200.  400.  600.  800. 1000. 1200. 1500.], phi: 1.0, alpha: 1.0, theta: 1.0000000149011612, inside_sqrt: [1.15600000e+03 8.09999493e+01 2.55999899e+02 1.68099985e+03\n",
      " 4.35599980e+03 2.75559996e+04 1.33955999e+05 3.20355999e+05\n",
      " 5.86755998e+05 9.33155998e+05 1.35955600e+06 2.14915600e+06]\n",
      "net_photosynthetic_rate_result: [-17.           8.00000103  17.00000108  17.00000042  17.00000026\n",
      "  17.0000001   17.00000005  17.00000003  17.00000002  17.00000002\n",
      "  17.00000001  17.00000001]\n",
      "l: [   0.   25.   50.   75.  100.  200.  400.  600.  800. 1000. 1200. 1500.], phi: 0.9129586344183872, alpha: 0.1470588269204347, theta: 0.6972549537379251, inside_sqrt: [3.80250002e+02 5.50016473e+02 1.76164978e+03 4.01514992e+03\n",
      " 7.31051690e+03 3.09106532e+04 1.28120534e+05 2.92009892e+05\n",
      " 5.22578727e+05 8.19827040e+05 1.18375483e+06 1.85467054e+06]\n",
      "net_photosynthetic_rate_result: [-2.50000006 11.03273701 14.11940135 15.14540128 15.63848901 16.34351569\n",
      " 16.67818281 16.78690811 16.84072884 16.87284669 16.89418558 16.91546595]\n",
      "l: [   0.   25.   50.   75.  100.  200.  400.  600.  800. 1000. 1200. 1500.], phi: 0.912958648022531, alpha: 0.1470588269204347, theta: 0.6972549537379251, inside_sqrt: [3.80250002e+02 5.50016483e+02 1.76164983e+03 4.01515004e+03\n",
      " 7.31051712e+03 3.09106541e+04 1.28120538e+05 2.92009901e+05\n",
      " 5.22578743e+05 8.19827065e+05 1.18375487e+06 1.85467059e+06]\n",
      "net_photosynthetic_rate_result: [-2.50000006 11.0327371  14.1194014  15.14540131 15.63848903 16.3435157\n",
      " 16.67818281 16.78690812 16.84072885 16.87284669 16.89418559 16.91546595]\n",
      "l: [   0.   25.   50.   75.  100.  200.  400.  600.  800. 1000. 1200. 1500.], phi: 0.9129586344183872, alpha: 0.147058829111782, theta: 0.6972549537379251, inside_sqrt: [3.80250004e+02 5.50016474e+02 1.76164978e+03 4.01514992e+03\n",
      " 7.31051690e+03 3.09106532e+04 1.28120534e+05 2.92009892e+05\n",
      " 5.22578727e+05 8.19827040e+05 1.18375483e+06 1.85467054e+06]\n",
      "net_photosynthetic_rate_result: [-2.50000009 11.03273699 14.11940134 15.14540128 15.63848901 16.34351569\n",
      " 16.67818281 16.78690811 16.84072884 16.87284669 16.89418558 16.91546595]\n",
      "l: [   0.   25.   50.   75.  100.  200.  400.  600.  800. 1000. 1200. 1500.], phi: 0.9129586344183872, alpha: 0.1470588269204347, theta: 0.6972549641278336, inside_sqrt: [3.80250002e+02 5.50016455e+02 1.76164974e+03 4.01514986e+03\n",
      " 7.31051682e+03 3.09106530e+04 1.28120533e+05 2.92009891e+05\n",
      " 5.22578727e+05 8.19827040e+05 1.18375483e+06 1.85467054e+06]\n",
      "net_photosynthetic_rate_result: [-2.50000006 11.03273709 14.11940142 15.14540133 15.63848905 16.34351571\n",
      " 16.67818282 16.78690812 16.84072885 16.87284669 16.89418559 16.91546595]\n",
      "l: [   0.   25.   50.   75.  100.  200.  400.  600.  800. 1000. 1200. 1500.], phi: -0.8909781248594538, alpha: 0.18528216712770657, theta: 0.06347652171515983, inside_sqrt: [4.06014313e+02 1.18473743e+02 8.23235697e+02 2.52030017e+03\n",
      " 5.20966718e+03 2.58901604e+04 1.14881668e+05 2.67380537e+05\n",
      " 4.83386768e+05 7.62900360e+05 1.10592131e+06 1.73952905e+06]\n",
      "net_photosynthetic_rate_result: [-3.14979684e+00 -1.05622493e+02 -4.21345314e+02 -7.66236299e+02\n",
      " -1.11478947e+03 -2.51549622e+03 -5.32152121e+03 -8.12840280e+03\n",
      " -1.09354826e+04 -1.37426393e+04 -1.65498338e+04 -2.07606629e+04]\n",
      "l: [   0.   25.   50.   75.  100.  200.  400.  600.  800. 1000. 1200. 1500.], phi: 0.7171827694768288, alpha: 0.37910141783155854, theta: 0.6769949271782392, inside_sqrt: [5.49655088e+02 5.73522578e+02 1.24032897e+03 2.55007427e+03\n",
      " 4.50275848e+03 1.87428844e+04 7.80842036e+04 1.78573613e+05\n",
      " 3.20211112e+05 5.02996701e+05 7.26930381e+05 1.13998357e+06]\n",
      "net_photosynthetic_rate_result: [-6.4447241   6.42535898 11.3438568  13.30075007 14.27951122 15.69475027\n",
      " 16.36366171 16.57957981 16.68613383 16.74960777 16.79173082 16.83369853]\n",
      "l: [   0.   25.   50.   75.  100.  200.  400.  600.  800. 1000. 1200. 1500.], phi: 0.7171827801636849, alpha: 0.37910141783155854, theta: 0.6769949271782392, inside_sqrt: [5.49655088e+02 5.73522583e+02 1.24032900e+03 2.55007435e+03\n",
      " 4.50275862e+03 1.87428849e+04 7.80842060e+04 1.78573618e+05\n",
      " 3.20211122e+05 5.02996717e+05 7.26930402e+05 1.13998360e+06]\n",
      "net_photosynthetic_rate_result: [-6.4447241   6.4253591  11.34385688 13.30075013 14.27951126 15.6947503\n",
      " 16.36366172 16.57957982 16.68613384 16.74960778 16.79173082 16.83369853]\n",
      "l: [   0.   25.   50.   75.  100.  200.  400.  600.  800. 1000. 1200. 1500.], phi: 0.7171827694768288, alpha: 0.3791014234806099, theta: 0.6769949271782392, inside_sqrt: [5.49655093e+02 5.73522581e+02 1.24032897e+03 2.55007428e+03\n",
      " 4.50275848e+03 1.87428844e+04 7.80842036e+04 1.78573613e+05\n",
      " 3.20211112e+05 5.02996701e+05 7.26930381e+05 1.13998357e+06]\n",
      "net_photosynthetic_rate_result: [-6.4447242   6.42535891 11.34385675 13.30075004 14.2795112  15.69475026\n",
      " 16.3636617  16.57957981 16.68613383 16.74960777 16.79173082 16.83369853]\n",
      "l: [   0.   25.   50.   75.  100.  200.  400.  600.  800. 1000. 1200. 1500.], phi: 0.7171827694768288, alpha: 0.37910141783155854, theta: 0.6769949372662497, inside_sqrt: [5.49655088e+02 5.73522561e+02 1.24032894e+03 2.55007422e+03\n",
      " 4.50275841e+03 1.87428842e+04 7.80842034e+04 1.78573612e+05\n",
      " 3.20211112e+05 5.02996701e+05 7.26930380e+05 1.13998357e+06]\n",
      "net_photosynthetic_rate_result: [-6.4447241   6.42535905 11.34385689 13.30075015 14.27951129 15.69475031\n",
      " 16.36366173 16.57957982 16.68613384 16.74960778 16.79173082 16.83369853]\n",
      "l: [   0.   25.   50.   75.  100.  200.  400.  600.  800. 1000. 1200. 1500.], phi: 0.12386162287151614, alpha: 0.47968654079346945, theta: 0.6257330435460258, inside_sqrt: [  632.75748285   603.17142214   592.76248846   601.53068181\n",
      "   629.47600217   933.0285539   2460.63575458  5215.57908489\n",
      "  9197.85854483 14407.4741344  20844.4258536  32801.10867545]\n",
      "net_photosynthetic_rate_result: [-8.15467119 -5.20480039 -2.56040197 -0.22943009  1.79483784  7.33234828\n",
      " 11.89743003 13.62193063 14.48957228 15.00628872 15.34786806 15.68643985]\n",
      "l: [   0.   25.   50.   75.  100.  200.  400.  600.  800. 1000. 1200. 1500.], phi: 0.12386162471719815, alpha: 0.47968654079346945, theta: 0.6257330435460258, inside_sqrt: [  632.75748285   603.17142185   592.76248844   601.53068263\n",
      "   629.47600441   933.02856752  2460.6358184   5215.57923548\n",
      "  9197.85881877 14407.47456827 20844.42648397 32801.10966917]\n",
      "net_photosynthetic_rate_result: [-8.15467119 -5.20480035 -2.56040189 -0.22942999  1.79483795  7.3323484\n",
      " 11.89743011 13.62193068 14.48957232 15.00628875 15.34786809 15.68643987]\n",
      "l: [   0.   25.   50.   75.  100.  200.  400.  600.  800. 1000. 1200. 1500.], phi: 0.12386162287151614, alpha: 0.4796865479413559, theta: 0.6257330435460258, inside_sqrt: [  632.75748897   603.17142807   592.7624942    601.53068735\n",
      "   629.47600753   933.0285585   2460.63575767  5215.57908647\n",
      "  9197.85854489 14407.47413294 20844.42585063 32801.10867021]\n",
      "net_photosynthetic_rate_result: [-8.15467132 -5.20480051 -2.56040209 -0.22943021  1.79483773  7.3323482\n",
      " 11.89742998 13.6219306  14.48957226 15.0062887  15.34786805 15.68643983]\n",
      "l: [   0.   25.   50.   75.  100.  200.  400.  600.  800. 1000. 1200. 1500.], phi: 0.12386162287151614, alpha: 0.47968654079346945, theta: 0.6257330528701747, inside_sqrt: [  632.75748285   603.17141924   592.76248265   601.53067309\n",
      "   629.47599055   933.02853066  2460.6357081   5215.57901517\n",
      "  9197.85845187 14407.4740182  20844.42571415 32801.10850114]\n",
      "net_photosynthetic_rate_result: [-8.15467119 -5.20480039 -2.56040196 -0.22943007  1.79483788  7.33234836\n",
      " 11.89743011 13.62193069 14.48957233 15.00628876 15.3478681  15.68643988]\n",
      "l: [   0.   25.   50.   75.  100.  200.  400.  600.  800. 1000. 1200. 1500.], phi: 0.05804327547329062, alpha: 0.13000652210066588, theta: 0.6204329706984464, inside_sqrt: [ 369.02835986  357.70550841  350.59393424  347.69363737  349.00461777\n",
      "  396.36131224  693.21601083 1259.59245564 2095.49064666 3200.91058389\n",
      " 4575.85226734 7143.61806666]\n",
      "net_photosynthetic_rate_result: [-2.21011088 -0.80134579  0.52033789  1.75229268  2.89340025  6.58208869\n",
      " 10.76343034 12.73537029 13.80145102 14.45308797 14.88842862 15.3220788 ]\n",
      "l: [   0.   25.   50.   75.  100.  200.  400.  600.  800. 1000. 1200. 1500.], phi: 0.058043276338202825, alpha: 0.13000652210066588, theta: 0.6204329706984464, inside_sqrt: [ 369.02835986  357.70550827  350.5939341   347.69363733  349.00461797\n",
      "  396.36131465  693.21602369 1259.59248698 2095.49070451 3200.91067629\n",
      " 4575.85240231 7143.61828056]\n",
      "net_photosynthetic_rate_result: [-2.21011088 -0.80134577  0.52033793  1.75229273  2.89340032  6.58208878\n",
      " 10.76343042 12.73537035 13.80145107 14.45308801 14.88842865 15.32207883]\n",
      "l: [   0.   25.   50.   75.  100.  200.  400.  600.  800. 1000. 1200. 1500.], phi: 0.05804327547329062, alpha: 0.13000652403791402, theta: 0.6204329706984464, inside_sqrt: [ 369.02836112  357.70550965  350.59393546  347.69363856  349.00461894\n",
      "  396.36131332  693.21601173 1259.59245635 2095.49064718 3200.91058423\n",
      " 4575.8522675  7143.61806654]\n",
      "net_photosynthetic_rate_result: [-2.21011091 -0.80134582  0.52033786  1.75229265  2.89340022  6.58208866\n",
      " 10.76343032 12.73537028 13.80145101 14.45308796 14.88842861 15.32207879]\n",
      "l: [   0.   25.   50.   75.  100.  200.  400.  600.  800. 1000. 1200. 1500.], phi: 0.05804327547329062, alpha: 0.13000652210066588, theta: 0.6204329799436181, inside_sqrt: [ 369.02835986  357.70550738  350.59393218  347.69363427  349.00461365\n",
      "  396.36130399  693.21599434 1259.5924309  2095.49061367 3200.91054266\n",
      " 4575.85221786 7143.61800481]\n",
      "net_photosynthetic_rate_result: [-2.21011088 -0.80134579  0.5203379   1.75229269  2.89340026  6.58208872\n",
      " 10.7634304  12.73537035 13.80145107 14.45308802 14.88842866 15.32207883]\n",
      "l: [   0.   25.   50.   75.  100.  200.  400.  600.  800. 1000. 1200. 1500.], phi: 0.05479764790233275, alpha: 0.12124065004595261, theta: 0.7694598649179516, inside_sqrt: [ 363.32519205  337.05676839  314.5418225   295.78035438  280.77236403\n",
      "  258.27518032  393.44774584  768.84288862 1384.46060864 2240.30090592\n",
      " 3336.36378044 5430.87542457]\n",
      "net_photosynthetic_rate_result: [-2.06109105 -0.71473988  0.58079235  1.81997467  2.99738748  7.00350033\n",
      " 11.67882827 13.67180457 14.63300176 15.17627447 15.52072469 15.84958283]\n",
      "l: [   0.   25.   50.   75.  100.  200.  400.  600.  800. 1000. 1200. 1500.], phi: 0.054797648718881334, alpha: 0.12124065004595261, theta: 0.7694598649179516, inside_sqrt: [ 363.32519205  337.05676802  314.54182188  295.78035362  280.77236324\n",
      "  258.27518054  393.44775345  768.84291077 1384.46065249 2240.30097863\n",
      " 3336.36388917 5430.87560076]\n",
      "net_photosynthetic_rate_result: [-2.06109105 -0.71473986  0.58079238  1.81997473  2.99738755  7.00350043\n",
      " 11.67882836 13.67180463 14.6330018  15.17627451 15.52072472 15.84958284]\n",
      "l: [   0.   25.   50.   75.  100.  200.  400.  600.  800. 1000. 1200. 1500.], phi: 0.05479764790233275, alpha: 0.12124065185257908, theta: 0.7694598649179516, inside_sqrt: [ 363.32519322  337.05676951  314.54182358  295.78035541  280.77236502\n",
      "  258.27518113  393.44774629  768.8428887  1384.46060836 2240.30090527\n",
      " 3336.36377943 5430.87542302]\n",
      "net_photosynthetic_rate_result: [-2.06109108 -0.71473991  0.58079232  1.81997464  2.99738745  7.0035003\n",
      " 11.67882825 13.67180456 14.63300175 15.17627447 15.52072469 15.84958282]\n",
      "l: [   0.   25.   50.   75.  100.  200.  400.  600.  800. 1000. 1200. 1500.], phi: 0.05479764790233275, alpha: 0.12124065004595261, theta: 0.7694598763837971, inside_sqrt: [ 363.32519205  337.05676719  314.5418201   295.78035078  280.77235924\n",
      "  258.27517074  393.44772668  768.84285987 1384.46057032 2240.30085801\n",
      " 3336.36372296 5430.87535272]\n",
      "net_photosynthetic_rate_result: [-2.06109105 -0.71473988  0.58079235  1.81997468  2.9973875   7.00350039\n",
      " 11.67882838 13.67180467 14.63300184 15.17627455 15.52072475 15.84958288]\n",
      "l: [   0.   25.   50.   75.  100.  200.  400.  600.  800. 1000. 1200. 1500.], phi: 0.055101630813595634, alpha: 0.12021940929051134, theta: 0.7425695453083377, inside_sqrt: [ 362.66365071  339.10746261  319.34651166  303.38079785  291.2103212\n",
      "  280.48078605  441.19309885  844.80058911 1491.30325684 2380.70110204\n",
      " 3512.9941247  5666.86211644]\n",
      "net_photosynthetic_rate_result: [-2.04372996 -0.69274536  0.60150549  1.83369972  2.99890037  6.92276726\n",
      " 11.47674454 13.46946679 14.4581849  15.02735261 15.39246212 15.74424215]\n",
      "l: [   0.   25.   50.   75.  100.  200.  400.  600.  800. 1000. 1200. 1500.], phi: 0.055101631634673916, alpha: 0.12021940929051134, theta: 0.7425695453083377, inside_sqrt: [ 362.66365071  339.10746229  319.34651112  303.38079722  291.21032058\n",
      "  280.48078663  441.19310726  844.80061258 1491.30330262 2380.70117735\n",
      " 3512.9942368  5666.86229728]\n",
      "net_photosynthetic_rate_result: [-2.04372996 -0.69274534  0.60150553  1.83369977  2.99890044  6.92276736\n",
      " 11.47674462 13.46946685 14.45818495 15.02735264 15.39246215 15.74424217]\n",
      "l: [   0.   25.   50.   75.  100.  200.  400.  600.  800. 1000. 1200. 1500.], phi: 0.055101630813595634, alpha: 0.12021941108192014, theta: 0.7425695453083377, inside_sqrt: [ 362.66365187  339.10746373  319.34651274  303.38079889  291.21032219\n",
      "  280.48078688  441.19309935  844.8005893  1491.3032567  2380.70110157\n",
      " 3512.99412391 5666.86211516]\n",
      "net_photosynthetic_rate_result: [-2.04372999 -0.69274539  0.60150546  1.83369969  2.99890034  6.92276723\n",
      " 11.47674452 13.46946678 14.45818489 15.0273526  15.39246211 15.74424215]\n",
      "l: [   0.   25.   50.   75.  100.  200.  400.  600.  800. 1000. 1200. 1500.], phi: 0.055101630813595634, alpha: 0.12021940929051134, theta: 0.7425695563734862, inside_sqrt: [ 362.66365071  339.10746145  319.34650934  303.38079437  291.21031655\n",
      "  280.48077676  441.19308027  844.80056125 1491.30321969 2380.7010556\n",
      " 3512.99406897 5666.86204678]\n",
      "net_photosynthetic_rate_result: [-2.04372996 -0.69274536  0.60150549  1.83369973  2.99890039  6.92276731\n",
      " 11.47674463 13.46946688 14.45818498 15.02735267 15.39246218 15.7442422 ]\n",
      "l: [   0.   25.   50.   75.  100.  200.  400.  600.  800. 1000. 1200. 1500.], phi: 0.055005830077735275, alpha: 0.12019406162773347, theta: 0.7441836416932325, inside_sqrt: [ 362.64723862  338.96021182  319.05523671  302.93231327  290.59144151\n",
      "  279.04847124  437.50101127  838.0048587  1480.56001354 2365.16647578\n",
      " 3491.82424542 5635.65710126]\n",
      "net_photosynthetic_rate_result: [-2.04329905 -0.69445679  0.59816804  1.82925683  2.99385764  6.91935502\n",
      " 11.48098791 13.47604472 14.46466745 15.03323318 15.3977155  15.74870078]\n",
      "l: [   0.   25.   50.   75.  100.  200.  400.  600.  800. 1000. 1200. 1500.], phi: 0.05500583089738602, alpha: 0.12019406162773347, theta: 0.7441836416932325, inside_sqrt: [ 362.64723862  338.9602115   319.05523617  302.93231263  290.59144088\n",
      "  279.0484718   437.5010196   838.00488202 1480.56005905 2365.1665507\n",
      " 3491.82435697 5635.65728128]\n",
      "net_photosynthetic_rate_result: [-2.04329905 -0.69445677  0.59816807  1.82925689  2.99385771  6.91935512\n",
      " 11.480988   13.47604478 14.46466749 15.03323321 15.39771553 15.7487008 ]\n",
      "l: [   0.   25.   50.   75.  100.  200.  400.  600.  800. 1000. 1200. 1500.], phi: 0.055005830077735275, alpha: 0.12019406341876455, theta: 0.7441836416932325, inside_sqrt: [ 362.64723978  338.96021294  319.05523778  302.9323143   290.5914425\n",
      "  279.04847208  437.50101178  838.00485888 1480.56001339 2365.1664753\n",
      " 3491.82424461 5635.65709997]\n",
      "net_photosynthetic_rate_result: [-2.04329908 -0.69445682  0.59816801  1.8292568   2.99385761  6.91935499\n",
      " 11.48098789 13.47604471 14.46466744 15.03323317 15.3977155  15.74870077]\n",
      "l: [   0.   25.   50.   75.  100.  200.  400.  600.  800. 1000. 1200. 1500.], phi: 0.055005830077735275, alpha: 0.12019406162773347, theta: 0.7441836527824329, inside_sqrt: [ 362.64723862  338.96021066  319.05523438  302.93230978  290.59143686\n",
      "  279.04846195  437.50099269  838.00483083 1480.55997637 2365.16642931\n",
      " 3491.82418966 5635.65703157]\n",
      "net_photosynthetic_rate_result: [-2.04329905 -0.69445679  0.59816804  1.82925684  2.99385766  6.91935507\n",
      " 11.48098801 13.47604481 14.46466753 15.03323325 15.39771556 15.74870082]\n",
      "l: [   0.   25.   50.   75.  100.  200.  400.  600.  800. 1000. 1200. 1500.], phi: 0.054990324255841966, alpha: 0.12014604996180123, theta: 0.7442264375443951, inside_sqrt: [ 362.61615307  338.93188518  319.02753699  302.90310851  290.55859973\n",
      "  278.97976163  437.25823113  837.45156157 1479.55975295 2363.58280528\n",
      " 3489.52071854 5632.0179527 ]\n",
      "net_photosynthetic_rate_result: [-2.04248285 -0.69401009  0.59828406  1.82908436  2.99344128  6.91840578\n",
      " 11.48021068 13.47559128 14.464386   15.03304226 15.39757659 15.74860608]\n",
      "l: [   0.   25.   50.   75.  100.  200.  400.  600.  800. 1000. 1200. 1500.], phi: 0.05499032507526165, alpha: 0.12014604996180123, theta: 0.7442264375443951, inside_sqrt: [ 362.61615307  338.93188486  319.02753646  302.90310787  290.55859911\n",
      "  278.97976218  437.25823945  837.45158487 1479.55979844 2363.58288015\n",
      " 3489.52083002 5632.01813261]\n",
      "net_photosynthetic_rate_result: [-2.04248285 -0.69401007  0.59828409  1.82908441  2.99344135  6.91840588\n",
      " 11.48021077 13.47559134 14.46438604 15.03304229 15.39757661 15.7486061 ]\n",
      "l: [   0.   25.   50.   75.  100.  200.  400.  600.  800. 1000. 1200. 1500.], phi: 0.054990324255841966, alpha: 0.12014605175211689, theta: 0.7442264375443951, inside_sqrt: [ 362.61615423  338.9318863   319.02753807  302.90310955  290.55860073\n",
      "  278.97976246  437.25823163  837.45156175 1479.5597528  2363.5828048\n",
      " 3489.52071774 5632.01795141]\n",
      "net_photosynthetic_rate_result: [-2.04248288 -0.69401012  0.59828402  1.82908433  2.99344125  6.91840575\n",
      " 11.48021067 13.47559126 14.46438599 15.03304225 15.39757658 15.74860607]\n",
      "l: [   0.   25.   50.   75.  100.  200.  400.  600.  800. 1000. 1200. 1500.], phi: 0.054990324255841966, alpha: 0.12014604996180123, theta: 0.7442264486342333, inside_sqrt: [ 362.61615307  338.93188402  319.02753467  302.90310503  290.55859509\n",
      "  278.97975234  437.25821255  837.4515337  1479.55971579 2363.58275883\n",
      " 3489.5206628  5632.01788303]\n",
      "net_photosynthetic_rate_result: [-2.04248285 -0.69401009  0.59828406  1.82908437  2.99344129  6.91840583\n",
      " 11.48021078 13.47559137 14.46438608 15.03304233 15.39757665 15.74860613]\n",
      "l: [   0.   25.   50.   75.  100.  200.  400.  600.  800. 1000. 1200. 1500.], phi: 0.054986912006437794, alpha: 0.12013801894729269, theta: 0.7442555113579987, inside_sqrt: [ 362.61095345  338.92517703  319.01885123  302.89197604  290.54455147\n",
      "  278.94935932  437.17260456  837.28068915 1479.2736131  2363.15137642\n",
      " 3488.91397909 5631.0919569 ]\n",
      "net_photosynthetic_rate_result: [-2.04234632 -0.69395288  0.59827443  1.82902086  2.99333696  6.91825349\n",
      " 11.48018584 13.47563794 14.46445098 15.03310863 15.39763954 15.74866219]\n",
      "l: [   0.   25.   50.   75.  100.  200.  400.  600.  800. 1000. 1200. 1500.], phi: 0.05498691282580663, alpha: 0.12013801894729269, theta: 0.7442555113579987, inside_sqrt: [ 362.61095345  338.92517671  319.01885069  302.8919754   290.54455084\n",
      "  278.94935988  437.17261288  837.28071244 1479.27365858 2363.15145128\n",
      " 3488.91409055 5631.09213678]\n",
      "net_photosynthetic_rate_result: [-2.04234632 -0.69395286  0.59827447  1.82902091  2.99333703  6.91825359\n",
      " 11.48018592 13.475638   14.46445102 15.03310866 15.39763956 15.74866221]\n",
      "l: [   0.   25.   50.   75.  100.  200.  400.  600.  800. 1000. 1200. 1500.], phi: 0.054986912006437794, alpha: 0.12013802073748868, theta: 0.7442555113579987, inside_sqrt: [ 362.61095461  338.92517815  319.01885231  302.89197708  290.54455246\n",
      "  278.94936016  437.17260506  837.28068933 1479.27361295 2363.15137594\n",
      " 3488.91397829 5631.09195561]\n",
      "net_photosynthetic_rate_result: [-2.04234635 -0.69395291  0.5982744   1.82902083  2.99333693  6.91825346\n",
      " 11.48018582 13.47563793 14.46445097 15.03310862 15.39763953 15.74866219]\n",
      "l: [   0.   25.   50.   75.  100.  200.  400.  600.  800. 1000. 1200. 1500.], phi: 0.054986912006437794, alpha: 0.12013801894729269, theta: 0.7442555224482701, inside_sqrt: [ 362.61095345  338.92517587  319.01884891  302.89197256  290.54454682\n",
      "  278.94935003  437.17258598  837.28066128 1479.27357594 2363.15132997\n",
      " 3488.91392335 5631.09188723]\n",
      "net_photosynthetic_rate_result: [-2.04234632 -0.69395287  0.59827444  1.82902087  2.99333698  6.91825354\n",
      " 11.48018593 13.47563804 14.46445105 15.0331087  15.39763959 15.74866224]\n",
      "l: [   0.   25.   50.   75.  100.  200.  400.  600.  800. 1000. 1200. 1500.], phi: 0.05498625745316387, alpha: 0.12013631354448669, theta: 0.7442598071555129, inside_sqrt: [ 362.60984931  338.92392148  319.0173543   302.89014775  290.54230183\n",
      "  278.94452453  437.15828045  837.25111707 1479.22303438 2363.07403239\n",
      " 3488.8041111  5630.92250547]\n",
      "net_photosynthetic_rate_result: [-2.04231733 -0.69393923  0.59827487  1.82901034  2.99331777  6.91822058\n",
      " 11.48017153 13.47563734 14.46445516 15.03311429 15.39764551 15.74866794]\n"
     ]
    }
   ],
   "source": [
    "popt_9, pcov_9 = optimize.curve_fit(net_photosynthetic_rate_7, xdata, ydata_intercropping)"
   ]
  },
  {
   "cell_type": "code",
   "execution_count": 87,
   "id": "93a5ad8c-fa89-41b0-841c-2827de1ff95a",
   "metadata": {},
   "outputs": [
    {
     "data": {
      "text/plain": [
       "array([0.05498626, 0.12013631, 0.74425981])"
      ]
     },
     "execution_count": 87,
     "metadata": {},
     "output_type": "execute_result"
    }
   ],
   "source": [
    "popt_9"
   ]
  },
  {
   "cell_type": "code",
   "execution_count": 88,
   "id": "52c7f0f2-6a4d-482f-acb0-74db095d5da6",
   "metadata": {},
   "outputs": [
    {
     "data": {
      "text/plain": [
       "array([[ 6.55406741e-05,  1.77234574e-04, -4.90868988e-04],\n",
       "       [ 1.77234574e-04,  7.72375137e-04, -9.92244368e-04],\n",
       "       [-4.90868988e-04, -9.92244368e-04,  5.45902851e-03]])"
      ]
     },
     "execution_count": 88,
     "metadata": {},
     "output_type": "execute_result"
    }
   ],
   "source": [
    "pcov_9"
   ]
  },
  {
   "cell_type": "code",
   "execution_count": 89,
   "id": "52a04561-b9f4-43eb-afce-ac3d34756580",
   "metadata": {},
   "outputs": [
    {
     "name": "stdout",
     "output_type": "stream",
     "text": [
      "l: [   0.   25.   50.   75.  100.  200.  400.  600.  800. 1000. 1200. 1500.], phi: 0.05498625745316387, alpha: 0.12013631354448669, theta: 0.7442598071555129, inside_sqrt: [ 784.19085058  748.46934245  716.52719496  688.36440811  663.9809819\n",
      "  604.24088339  666.1699969   969.9781911  1515.66546601 2303.23182161\n",
      " 3332.6772579  5330.36868865]\n",
      "net_photosynthetic_rate_result: [-3.00340784 -1.64642436 -0.32645614  0.95399887  2.19249625  6.68363123\n",
      " 13.24605329 17.05053646 19.20715964 20.50831984 21.35473402 22.17155101]\n"
     ]
    },
    {
     "data": {
      "text/plain": [
       "[<matplotlib.lines.Line2D at 0x11e5cd1b0>]"
      ]
     },
     "execution_count": 89,
     "metadata": {},
     "output_type": "execute_result"
    },
    {
     "data": {
      "image/png": "[encoded data removed]",
      "text/plain": [
       "<Figure size 432x288 with 1 Axes>"
      ]
     },
     "metadata": {
      "needs_background": "light"
     },
     "output_type": "display_data"
    }
   ],
   "source": [
    "plt.plot(xdata, ydata_intercropping)\n",
    "plt.plot(xdata, net_photosynthetic_rate_6(xdata, popt_9[0], popt_9[1], popt_9[2]))"
   ]
  },
  {
   "cell_type": "code",
   "execution_count": null,
   "id": "401ca125-a500-4af9-aced-bc2b6915daca",
   "metadata": {},
   "outputs": [],
   "source": []
  }
 ],
 "metadata": {
  "kernelspec": {
   "display_name": "Python 3 (ipykernel)",
   "language": "python",
   "name": "python3"
  },
  "language_info": {
   "codemirror_mode": {
    "name": "ipython",
    "version": 3
   },
   "file_extension": ".py",
   "mimetype": "text/x-python",
   "name": "python",
   "nbconvert_exporter": "python",
   "pygments_lexer": "ipython3",
   "version": "3.10.5"
  }
 },
 "nbformat": 4,
 "nbformat_minor": 5
}
