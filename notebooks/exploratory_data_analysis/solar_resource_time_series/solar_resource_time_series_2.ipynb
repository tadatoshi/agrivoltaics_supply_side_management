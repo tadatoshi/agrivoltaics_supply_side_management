{
 "cells": [
  {
   "cell_type": "markdown",
   "id": "2f61cb24-7926-4d07-81ad-2e9a332432a8",
   "metadata": {},
   "source": [
    "## Based on the findings from solar_resource_time_series.ipynb, explore more."
   ]
  },
  {
   "cell_type": "code",
   "execution_count": 7,
   "id": "e0eedfb9-58ce-49ff-996b-775ca90d3062",
   "metadata": {},
   "outputs": [
    {
     "name": "stdout",
     "output_type": "stream",
     "text": [
      "The autoreload extension is already loaded. To reload it, use:\n",
      "  %reload_ext autoreload\n"
     ]
    }
   ],
   "source": [
    "%load_ext autoreload\n",
    "%autoreload 2"
   ]
  },
  {
   "cell_type": "code",
   "execution_count": 2,
   "id": "e16ad166-51ae-4045-a384-2a4453d852a0",
   "metadata": {},
   "outputs": [],
   "source": [
    "import numpy as np\n",
    "import pandas as pd\n",
    "import matplotlib.pyplot as plt"
   ]
  },
  {
   "cell_type": "code",
   "execution_count": 3,
   "id": "0a4d2dea-49cf-49c4-835a-b00602b7932e",
   "metadata": {},
   "outputs": [],
   "source": [
    "import pymc3 as pm\n",
    "import statsmodels.api as sm\n",
    "import theano\n",
    "import theano.tensor as tt\n",
    "from pandas.plotting import register_matplotlib_converters\n",
    "\n",
    "plt.style.use(\"seaborn\")\n",
    "register_matplotlib_converters()"
   ]
  },
  {
   "cell_type": "code",
   "execution_count": 4,
   "id": "880c3a6d-6d14-46ee-81ba-f9f3a80ef864",
   "metadata": {},
   "outputs": [],
   "source": [
    "from agrivoltaics_supply_side_management.solar_irradiation.clearsky import get_clearsky"
   ]
  },
  {
   "cell_type": "markdown",
   "id": "9d29368a-60a5-4e96-a0f4-7a381aebfe28",
   "metadata": {},
   "source": [
    "#### Use minute interval data"
   ]
  },
  {
   "cell_type": "code",
   "execution_count": 5,
   "id": "5baca0ea-5787-44c3-a6c2-5034e24b90e7",
   "metadata": {},
   "outputs": [],
   "source": [
    "varrennes_data = pd.read_csv(\"../../../data/weather_data/solar_irradiance_20140717_var01.csv\",\n",
    "                             header=[0])"
   ]
  },
  {
   "cell_type": "code",
   "execution_count": 6,
   "id": "002df670-84ee-4f4b-a9d3-476b41915905",
   "metadata": {
    "collapsed": true,
    "jupyter": {
     "outputs_hidden": true
    },
    "tags": []
   },
   "outputs": [
    {
     "data": {
      "text/html": [
       "<div>\n",
       "<style scoped>\n",
       "    .dataframe tbody tr th:only-of-type {\n",
       "        vertical-align: middle;\n",
       "    }\n",
       "\n",
       "    .dataframe tbody tr th {\n",
       "        vertical-align: top;\n",
       "    }\n",
       "\n",
       "    .dataframe thead th {\n",
       "        text-align: right;\n",
       "    }\n",
       "</style>\n",
       "<table border=\"1\" class=\"dataframe\">\n",
       "  <thead>\n",
       "    <tr style=\"text-align: right;\">\n",
       "      <th></th>\n",
       "      <th>Date (yyyy-mm-dd)</th>\n",
       "      <th>Timestamp (hh:mm:ss.nnn)</th>\n",
       "      <th>G1 (W/m2)</th>\n",
       "      <th>G2 (W/m2)</th>\n",
       "    </tr>\n",
       "  </thead>\n",
       "  <tbody>\n",
       "    <tr>\n",
       "      <th>0</th>\n",
       "      <td>2014-07-17</td>\n",
       "      <td>03:46:00.000</td>\n",
       "      <td>0</td>\n",
       "      <td>0</td>\n",
       "    </tr>\n",
       "    <tr>\n",
       "      <th>1</th>\n",
       "      <td>2014-07-17</td>\n",
       "      <td>03:47:00.000</td>\n",
       "      <td>0</td>\n",
       "      <td>0</td>\n",
       "    </tr>\n",
       "    <tr>\n",
       "      <th>2</th>\n",
       "      <td>2014-07-17</td>\n",
       "      <td>03:48:00.000</td>\n",
       "      <td>0</td>\n",
       "      <td>0</td>\n",
       "    </tr>\n",
       "    <tr>\n",
       "      <th>3</th>\n",
       "      <td>2014-07-17</td>\n",
       "      <td>03:49:00.000</td>\n",
       "      <td>0</td>\n",
       "      <td>0</td>\n",
       "    </tr>\n",
       "    <tr>\n",
       "      <th>4</th>\n",
       "      <td>2014-07-17</td>\n",
       "      <td>03:50:00.000</td>\n",
       "      <td>0</td>\n",
       "      <td>0</td>\n",
       "    </tr>\n",
       "    <tr>\n",
       "      <th>...</th>\n",
       "      <td>...</td>\n",
       "      <td>...</td>\n",
       "      <td>...</td>\n",
       "      <td>...</td>\n",
       "    </tr>\n",
       "    <tr>\n",
       "      <th>72669</th>\n",
       "      <td>2014-07-17</td>\n",
       "      <td>20:10:00.000</td>\n",
       "      <td>0</td>\n",
       "      <td>0</td>\n",
       "    </tr>\n",
       "    <tr>\n",
       "      <th>72670</th>\n",
       "      <td>2014-07-17</td>\n",
       "      <td>20:11:00.000</td>\n",
       "      <td>0</td>\n",
       "      <td>0</td>\n",
       "    </tr>\n",
       "    <tr>\n",
       "      <th>72671</th>\n",
       "      <td>2014-07-17</td>\n",
       "      <td>20:12:00.000</td>\n",
       "      <td>0</td>\n",
       "      <td>0</td>\n",
       "    </tr>\n",
       "    <tr>\n",
       "      <th>72672</th>\n",
       "      <td>2014-07-17</td>\n",
       "      <td>20:13:00.000</td>\n",
       "      <td>0</td>\n",
       "      <td>0</td>\n",
       "    </tr>\n",
       "    <tr>\n",
       "      <th>72673</th>\n",
       "      <td>2014-07-17</td>\n",
       "      <td>20:14:00.000</td>\n",
       "      <td>0</td>\n",
       "      <td>0</td>\n",
       "    </tr>\n",
       "  </tbody>\n",
       "</table>\n",
       "<p>72674 rows × 4 columns</p>\n",
       "</div>"
      ],
      "text/plain": [
       "      Date (yyyy-mm-dd) Timestamp (hh:mm:ss.nnn)  G1 (W/m2)  G2 (W/m2)\n",
       "0            2014-07-17             03:46:00.000          0          0\n",
       "1            2014-07-17             03:47:00.000          0          0\n",
       "2            2014-07-17             03:48:00.000          0          0\n",
       "3            2014-07-17             03:49:00.000          0          0\n",
       "4            2014-07-17             03:50:00.000          0          0\n",
       "...                 ...                      ...        ...        ...\n",
       "72669        2014-07-17             20:10:00.000          0          0\n",
       "72670        2014-07-17             20:11:00.000          0          0\n",
       "72671        2014-07-17             20:12:00.000          0          0\n",
       "72672        2014-07-17             20:13:00.000          0          0\n",
       "72673        2014-07-17             20:14:00.000          0          0\n",
       "\n",
       "[72674 rows x 4 columns]"
      ]
     },
     "execution_count": 6,
     "metadata": {},
     "output_type": "execute_result"
    }
   ],
   "source": [
    "varrennes_data"
   ]
  },
  {
   "cell_type": "code",
   "execution_count": 7,
   "id": "035b922f-0b75-4b6a-9790-1161a85bdc77",
   "metadata": {},
   "outputs": [],
   "source": [
    "varrennes_data['Datetime'] = pd.to_datetime(varrennes_data['Date (yyyy-mm-dd)'] \n",
    "                                            + ' ' + varrennes_data['Timestamp (hh:mm:ss.nnn)'])"
   ]
  },
  {
   "cell_type": "code",
   "execution_count": 8,
   "id": "013b90a4-ed7c-4fbd-876a-e5e974b09d08",
   "metadata": {},
   "outputs": [],
   "source": [
    "varrennes_data.set_index('Datetime', inplace=True)"
   ]
  },
  {
   "cell_type": "code",
   "execution_count": 9,
   "id": "0d0a6e23-40b9-43b4-844b-d2398d3258df",
   "metadata": {},
   "outputs": [],
   "source": [
    "varrennes_data.drop(columns=['Date (yyyy-mm-dd)', 'Timestamp (hh:mm:ss.nnn)'], inplace=True)"
   ]
  },
  {
   "cell_type": "markdown",
   "id": "2c9ba00d-bd85-45d3-a2b6-c7bea51478e8",
   "metadata": {},
   "source": [
    "#### Since this data set contains within minute data when the difference is significant, take only minute interval data"
   ]
  },
  {
   "cell_type": "code",
   "execution_count": 10,
   "id": "a98dc57d-823c-4f35-b0e0-bd7eecbd4734",
   "metadata": {},
   "outputs": [],
   "source": [
    "varrennes_data_by_minite = varrennes_data[(varrennes_data.index.second == 0) & (varrennes_data.index.microsecond == 0)]"
   ]
  },
  {
   "cell_type": "markdown",
   "id": "a2549cb9-f1b7-43f6-9cda-e318d8f3647d",
   "metadata": {},
   "source": [
    "#### Localize time while taking care of Daylight Saving Time issue."
   ]
  },
  {
   "cell_type": "code",
   "execution_count": 11,
   "id": "38c2a2f7-06f6-4cb5-b600-46b1f54648b1",
   "metadata": {},
   "outputs": [],
   "source": [
    "varrennes_data_by_minite.index = varrennes_data_by_minite.index.tz_localize('Canada/Eastern', \n",
    "                                                        ambiguous='NaT', nonexistent='shift_forward')"
   ]
  },
  {
   "cell_type": "code",
   "execution_count": 12,
   "id": "a9b157af-6ea2-4daf-acc7-86ce086c5dd3",
   "metadata": {},
   "outputs": [
    {
     "data": {
      "text/plain": [
       "<AxesSubplot:xlabel='Datetime'>"
      ]
     },
     "execution_count": 12,
     "metadata": {},
     "output_type": "execute_result"
    },
    {
     "data": {
      "image/png": "[encoded data removed]",
      "text/plain": [
       "<Figure size 432x288 with 1 Axes>"
      ]
     },
     "metadata": {
      "needs_background": "light"
     },
     "output_type": "display_data"
    }
   ],
   "source": [
    "varrennes_data_by_minite.plot()"
   ]
  },
  {
   "cell_type": "code",
   "execution_count": 13,
   "id": "84f0e740-580b-456e-93bf-c819afd8fe0e",
   "metadata": {},
   "outputs": [],
   "source": [
    "varrennes_data_ghi_0717 = varrennes_data_by_minite['G1 (W/m2)']"
   ]
  },
  {
   "cell_type": "code",
   "execution_count": 38,
   "id": "459dd6ee-1e7f-4cf0-a128-47adbd6b5a49",
   "metadata": {},
   "outputs": [
    {
     "data": {
      "text/plain": [
       "Datetime\n",
       "2014-07-17 03:46:00-04:00    0\n",
       "2014-07-17 03:47:00-04:00    0\n",
       "2014-07-17 03:48:00-04:00    0\n",
       "2014-07-17 03:49:00-04:00    0\n",
       "2014-07-17 03:50:00-04:00    0\n",
       "                            ..\n",
       "2014-07-17 20:10:00-04:00    0\n",
       "2014-07-17 20:11:00-04:00    0\n",
       "2014-07-17 20:12:00-04:00    0\n",
       "2014-07-17 20:13:00-04:00    0\n",
       "2014-07-17 20:14:00-04:00    0\n",
       "Name: G1 (W/m2), Length: 989, dtype: int64"
      ]
     },
     "execution_count": 38,
     "metadata": {},
     "output_type": "execute_result"
    }
   ],
   "source": [
    "varrennes_data_ghi_0717"
   ]
  },
  {
   "cell_type": "code",
   "execution_count": 14,
   "id": "02108b0d-d35c-482a-a0bb-ca213bc39a78",
   "metadata": {},
   "outputs": [
    {
     "data": {
      "text/plain": [
       "<AxesSubplot:xlabel='Datetime'>"
      ]
     },
     "execution_count": 14,
     "metadata": {},
     "output_type": "execute_result"
    },
    {
     "data": {
      "image/png": "[encoded data removed]",
      "text/plain": [
       "<Figure size 432x288 with 1 Axes>"
      ]
     },
     "metadata": {
      "needs_background": "light"
     },
     "output_type": "display_data"
    }
   ],
   "source": [
    "varrennes_data_ghi_0717.plot()"
   ]
  },
  {
   "cell_type": "code",
   "execution_count": 15,
   "id": "11544ea7-8bba-4d08-b6d4-50439d7c0ef5",
   "metadata": {},
   "outputs": [],
   "source": [
    "varrennes_clearsky_ghi_0717 = get_clearsky(45.616084, -73.386362, \n",
    "                                           'Canada/Eastern', varrennes_data_by_minite.index,\n",
    "                                           location_name='Varrennes, QC, Canada')['ghi']"
   ]
  },
  {
   "cell_type": "code",
   "execution_count": 37,
   "id": "634638a1-d9ff-42f2-9ad9-bd0bc66c1a38",
   "metadata": {},
   "outputs": [
    {
     "data": {
      "text/plain": [
       "Datetime\n",
       "2014-07-17 03:46:00-04:00     0.000000\n",
       "2014-07-17 03:47:00-04:00     0.000000\n",
       "2014-07-17 03:48:00-04:00     0.000000\n",
       "2014-07-17 03:49:00-04:00     0.000000\n",
       "2014-07-17 03:50:00-04:00     0.000000\n",
       "                               ...    \n",
       "2014-07-17 20:10:00-04:00    11.336059\n",
       "2014-07-17 20:11:00-04:00    10.258105\n",
       "2014-07-17 20:12:00-04:00     9.238108\n",
       "2014-07-17 20:13:00-04:00     8.276628\n",
       "2014-07-17 20:14:00-04:00     7.374060\n",
       "Name: ghi, Length: 989, dtype: float64"
      ]
     },
     "execution_count": 37,
     "metadata": {},
     "output_type": "execute_result"
    }
   ],
   "source": [
    "varrennes_clearsky_ghi_0717"
   ]
  },
  {
   "cell_type": "code",
   "execution_count": 16,
   "id": "6b06a17e-8b48-4f5e-a3f1-6336bac9bd17",
   "metadata": {},
   "outputs": [
    {
     "data": {
      "text/plain": [
       "<AxesSubplot:xlabel='Datetime'>"
      ]
     },
     "execution_count": 16,
     "metadata": {},
     "output_type": "execute_result"
    },
    {
     "data": {
      "image/png": "[encoded data removed]",
      "text/plain": [
       "<Figure size 432x288 with 1 Axes>"
      ]
     },
     "metadata": {
      "needs_background": "light"
     },
     "output_type": "display_data"
    }
   ],
   "source": [
    "varrennes_clearsky_ghi_0717.plot()"
   ]
  },
  {
   "cell_type": "code",
   "execution_count": 23,
   "id": "f03489d3-fe01-4842-a355-c935391466ee",
   "metadata": {},
   "outputs": [],
   "source": [
    "varrennes_data_ghi_residual_0717_1 = varrennes_data_ghi_0717 - varrennes_clearsky_ghi_0717"
   ]
  },
  {
   "cell_type": "code",
   "execution_count": 24,
   "id": "36033ee9-d52b-4c53-9be3-c96e0d2c04a4",
   "metadata": {},
   "outputs": [
    {
     "data": {
      "text/plain": [
       "<AxesSubplot:xlabel='Datetime'>"
      ]
     },
     "execution_count": 24,
     "metadata": {},
     "output_type": "execute_result"
    },
    {
     "data": {
      "image/png": "[encoded data removed]",
      "text/plain": [
       "<Figure size 432x288 with 1 Axes>"
      ]
     },
     "metadata": {
      "needs_background": "light"
     },
     "output_type": "display_data"
    }
   ],
   "source": [
    "varrennes_data_ghi_residual_0717_1.plot()"
   ]
  },
  {
   "cell_type": "markdown",
   "id": "13fbcae9-b424-4d6d-9aea-4d4ff730533e",
   "metadata": {},
   "source": [
    "#### Take the difference."
   ]
  },
  {
   "cell_type": "code",
   "execution_count": 25,
   "id": "4ab6f637-5670-4dd1-9ac1-e31cfb818dd5",
   "metadata": {},
   "outputs": [],
   "source": [
    "varrennes_data_ghi_residual_diff_0717_1 = varrennes_data_ghi_residual_0717_1.diff()"
   ]
  },
  {
   "cell_type": "code",
   "execution_count": 26,
   "id": "01b163cb-18de-4cbb-9666-232c561824c8",
   "metadata": {},
   "outputs": [
    {
     "data": {
      "text/plain": [
       "<AxesSubplot:xlabel='Datetime'>"
      ]
     },
     "execution_count": 26,
     "metadata": {},
     "output_type": "execute_result"
    },
    {
     "data": {
      "image/png": "[encoded data removed]",
      "text/plain": [
       "<Figure size 432x288 with 1 Axes>"
      ]
     },
     "metadata": {
      "needs_background": "light"
     },
     "output_type": "display_data"
    }
   ],
   "source": [
    "varrennes_data_ghi_residual_diff_0717_1.plot()"
   ]
  },
  {
   "cell_type": "markdown",
   "id": "099e5c7b-1e3e-4442-8e30-d5a8b3d9cbb9",
   "metadata": {},
   "source": [
    "#### Since the variance changes, without monotonically increasing or monotonically decreasing, try to divide the original measurement data by clearsky data, instead o subtracting clearsky data from the measurement data."
   ]
  },
  {
   "cell_type": "code",
   "execution_count": 27,
   "id": "c9237f05-77fa-46e2-af41-8758cd143870",
   "metadata": {},
   "outputs": [],
   "source": [
    "varrennes_data_ghi_scale_adjusted_0717_1 = varrennes_data_ghi_0717 / varrennes_clearsky_ghi_0717"
   ]
  },
  {
   "cell_type": "code",
   "execution_count": 28,
   "id": "7c3b173a-a058-440a-9c3e-34ff66052ae8",
   "metadata": {},
   "outputs": [
    {
     "data": {
      "text/plain": [
       "Datetime\n",
       "2014-07-17 03:46:00-04:00    NaN\n",
       "2014-07-17 03:47:00-04:00    NaN\n",
       "2014-07-17 03:48:00-04:00    NaN\n",
       "2014-07-17 03:49:00-04:00    NaN\n",
       "2014-07-17 03:50:00-04:00    NaN\n",
       "                            ... \n",
       "2014-07-17 20:10:00-04:00    0.0\n",
       "2014-07-17 20:11:00-04:00    0.0\n",
       "2014-07-17 20:12:00-04:00    0.0\n",
       "2014-07-17 20:13:00-04:00    0.0\n",
       "2014-07-17 20:14:00-04:00    0.0\n",
       "Length: 989, dtype: float64"
      ]
     },
     "execution_count": 28,
     "metadata": {},
     "output_type": "execute_result"
    }
   ],
   "source": [
    "varrennes_data_ghi_scale_adjusted_0717_1"
   ]
  },
  {
   "cell_type": "code",
   "execution_count": 29,
   "id": "9a439e28-b360-4f62-993e-e735e4e4f8f3",
   "metadata": {},
   "outputs": [],
   "source": [
    "varrennes_data_ghi_scale_adjusted_0717_1.fillna(0, inplace=True)"
   ]
  },
  {
   "cell_type": "code",
   "execution_count": 30,
   "id": "8fa0e79c-2829-4ff1-af6b-97c5b629894a",
   "metadata": {},
   "outputs": [
    {
     "data": {
      "text/plain": [
       "Datetime\n",
       "2014-07-17 03:46:00-04:00    0.0\n",
       "2014-07-17 03:47:00-04:00    0.0\n",
       "2014-07-17 03:48:00-04:00    0.0\n",
       "2014-07-17 03:49:00-04:00    0.0\n",
       "2014-07-17 03:50:00-04:00    0.0\n",
       "                            ... \n",
       "2014-07-17 20:10:00-04:00    0.0\n",
       "2014-07-17 20:11:00-04:00    0.0\n",
       "2014-07-17 20:12:00-04:00    0.0\n",
       "2014-07-17 20:13:00-04:00    0.0\n",
       "2014-07-17 20:14:00-04:00    0.0\n",
       "Length: 989, dtype: float64"
      ]
     },
     "execution_count": 30,
     "metadata": {},
     "output_type": "execute_result"
    }
   ],
   "source": [
    "varrennes_data_ghi_scale_adjusted_0717_1"
   ]
  },
  {
   "cell_type": "code",
   "execution_count": 31,
   "id": "b039d54a-f67a-41c3-a18a-cc5ad6b83338",
   "metadata": {},
   "outputs": [
    {
     "data": {
      "text/plain": [
       "<AxesSubplot:xlabel='Datetime'>"
      ]
     },
     "execution_count": 31,
     "metadata": {},
     "output_type": "execute_result"
    },
    {
     "data": {
      "image/png": "[encoded data removed]",
      "text/plain": [
       "<Figure size 432x288 with 1 Axes>"
      ]
     },
     "metadata": {
      "needs_background": "light"
     },
     "output_type": "display_data"
    }
   ],
   "source": [
    "varrennes_data_ghi_scale_adjusted_0717_1.plot()"
   ]
  },
  {
   "cell_type": "code",
   "execution_count": 35,
   "id": "9066a534-3b44-43a3-abb5-a23e8d0e82f0",
   "metadata": {},
   "outputs": [],
   "source": [
    "varrennes_data_ghi_scale_adjusted_0717_2 = varrennes_data_ghi_0717.div(varrennes_clearsky_ghi_0717)"
   ]
  },
  {
   "cell_type": "code",
   "execution_count": 36,
   "id": "d8c8f743-325c-424a-a707-6bc690093fc1",
   "metadata": {},
   "outputs": [
    {
     "data": {
      "text/plain": [
       "<AxesSubplot:xlabel='Datetime'>"
      ]
     },
     "execution_count": 36,
     "metadata": {},
     "output_type": "execute_result"
    },
    {
     "data": {
      "image/png": "[encoded data removed]",
      "text/plain": [
       "<Figure size 432x288 with 1 Axes>"
      ]
     },
     "metadata": {
      "needs_background": "light"
     },
     "output_type": "display_data"
    }
   ],
   "source": [
    "varrennes_data_ghi_scale_adjusted_0717_2.plot()"
   ]
  },
  {
   "cell_type": "code",
   "execution_count": 39,
   "id": "78b7e7f8-f898-48d3-a9ea-192f5f7d0a30",
   "metadata": {},
   "outputs": [
    {
     "data": {
      "text/plain": [
       "355"
      ]
     },
     "execution_count": 39,
     "metadata": {},
     "output_type": "execute_result"
    }
   ],
   "source": [
    "varrennes_data_ghi_0717[200]"
   ]
  },
  {
   "cell_type": "code",
   "execution_count": 40,
   "id": "a2e085c9-2133-4bc3-add5-aad3b7e86b33",
   "metadata": {},
   "outputs": [
    {
     "data": {
      "text/plain": [
       "191.95623435864093"
      ]
     },
     "execution_count": 40,
     "metadata": {},
     "output_type": "execute_result"
    }
   ],
   "source": [
    "varrennes_clearsky_ghi_0717[200]"
   ]
  },
  {
   "cell_type": "code",
   "execution_count": 41,
   "id": "84cb6eff-b1e0-4af3-be75-7e2a0121b617",
   "metadata": {},
   "outputs": [
    {
     "data": {
      "text/plain": [
       "1.8493798921723827"
      ]
     },
     "execution_count": 41,
     "metadata": {},
     "output_type": "execute_result"
    }
   ],
   "source": [
    "varrennes_data_ghi_0717[200] / varrennes_clearsky_ghi_0717[200]"
   ]
  },
  {
   "cell_type": "markdown",
   "id": "68d8e7e7-036f-4366-aae6-9cff72544310",
   "metadata": {},
   "source": [
    "#### So, the problem is with an outlier. Remove it. "
   ]
  },
  {
   "cell_type": "code",
   "execution_count": 42,
   "id": "37cd741b-5a9e-4b2c-a3a1-da2c426dd462",
   "metadata": {},
   "outputs": [],
   "source": [
    "percentile_25 = varrennes_data_ghi_scale_adjusted_0717_1.quantile(0.25)"
   ]
  },
  {
   "cell_type": "code",
   "execution_count": 43,
   "id": "923d068a-076a-4790-a06a-e72d57cadb4a",
   "metadata": {},
   "outputs": [
    {
     "data": {
      "text/plain": [
       "0.33986794120001496"
      ]
     },
     "execution_count": 43,
     "metadata": {},
     "output_type": "execute_result"
    }
   ],
   "source": [
    "percentile_25"
   ]
  },
  {
   "cell_type": "code",
   "execution_count": 44,
   "id": "fdeda964-b7b9-4feb-b88d-f2772acc54b9",
   "metadata": {},
   "outputs": [],
   "source": [
    "percentile_75 = varrennes_data_ghi_scale_adjusted_0717_1.quantile(0.75)"
   ]
  },
  {
   "cell_type": "code",
   "execution_count": 45,
   "id": "b738adcd-7082-4e3f-a6ba-9ad637912f8e",
   "metadata": {},
   "outputs": [
    {
     "data": {
      "text/plain": [
       "1.2212577248319998"
      ]
     },
     "execution_count": 45,
     "metadata": {},
     "output_type": "execute_result"
    }
   ],
   "source": [
    "percentile_75"
   ]
  },
  {
   "cell_type": "code",
   "execution_count": 46,
   "id": "4fd46ac3-f7ee-4590-a536-1f884b780b92",
   "metadata": {},
   "outputs": [],
   "source": [
    "interquartile_range = percentile_75 - percentile_25"
   ]
  },
  {
   "cell_type": "code",
   "execution_count": 47,
   "id": "dc51b3fd-e51e-4f2c-8e77-ef40b970db7b",
   "metadata": {},
   "outputs": [
    {
     "data": {
      "text/plain": [
       "0.8813897836319848"
      ]
     },
     "execution_count": 47,
     "metadata": {},
     "output_type": "execute_result"
    }
   ],
   "source": [
    "interquartile_range"
   ]
  },
  {
   "cell_type": "code",
   "execution_count": 48,
   "id": "fc19fc5f-8111-48a0-a10a-1be81a358413",
   "metadata": {},
   "outputs": [],
   "source": [
    "upper_limit = percentile_75 + 1.5 * interquartile_range"
   ]
  },
  {
   "cell_type": "code",
   "execution_count": 49,
   "id": "504d884d-2d59-4a96-80f8-a22ac272789a",
   "metadata": {},
   "outputs": [
    {
     "data": {
      "text/plain": [
       "2.543342400279977"
      ]
     },
     "execution_count": 49,
     "metadata": {},
     "output_type": "execute_result"
    }
   ],
   "source": [
    "upper_limit"
   ]
  },
  {
   "cell_type": "code",
   "execution_count": 50,
   "id": "8c9ebd17-03a9-41f6-9f89-8b6f1c3c7a8e",
   "metadata": {},
   "outputs": [],
   "source": [
    "lower_limit = percentile_25 - 1.5 * interquartile_range"
   ]
  },
  {
   "cell_type": "code",
   "execution_count": 51,
   "id": "18ab5fde-e16c-4983-85fc-1f34e3b8c397",
   "metadata": {},
   "outputs": [
    {
     "data": {
      "text/plain": [
       "-0.9822167342479624"
      ]
     },
     "execution_count": 51,
     "metadata": {},
     "output_type": "execute_result"
    }
   ],
   "source": [
    "lower_limit"
   ]
  },
  {
   "cell_type": "code",
   "execution_count": 52,
   "id": "28551f22-936f-43b6-9e7b-23ada95f5507",
   "metadata": {},
   "outputs": [],
   "source": [
    "median = varrennes_data_ghi_scale_adjusted_0717_1.median()"
   ]
  },
  {
   "cell_type": "code",
   "execution_count": 53,
   "id": "6df4c747-31f0-4299-8dfc-04d410b7cdab",
   "metadata": {},
   "outputs": [
    {
     "data": {
      "text/plain": [
       "0.625784878658687"
      ]
     },
     "execution_count": 53,
     "metadata": {},
     "output_type": "execute_result"
    }
   ],
   "source": [
    "median"
   ]
  },
  {
   "cell_type": "code",
   "execution_count": 54,
   "id": "06a99960-89ef-46e0-8f1e-bce298634238",
   "metadata": {},
   "outputs": [],
   "source": [
    "varrennes_data_ghi_scale_adjusted_0717_1.loc[(varrennes_data_ghi_scale_adjusted_0717_1 < lower_limit) | \n",
    "                                             (varrennes_data_ghi_scale_adjusted_0717_1 > upper_limit)] = median"
   ]
  },
  {
   "cell_type": "code",
   "execution_count": 55,
   "id": "245a0a4e-84f8-4cc9-bfcc-2d4c8aaf7fbc",
   "metadata": {},
   "outputs": [
    {
     "data": {
      "text/plain": [
       "<AxesSubplot:xlabel='Datetime'>"
      ]
     },
     "execution_count": 55,
     "metadata": {},
     "output_type": "execute_result"
    },
    {
     "data": {
      "image/png": "[encoded data removed]",
      "text/plain": [
       "<Figure size 432x288 with 1 Axes>"
      ]
     },
     "metadata": {
      "needs_background": "light"
     },
     "output_type": "display_data"
    }
   ],
   "source": [
    "varrennes_data_ghi_scale_adjusted_0717_1.plot()"
   ]
  },
  {
   "cell_type": "code",
   "execution_count": 58,
   "id": "5984ec5f-d645-4685-9d00-f07df3bf85d7",
   "metadata": {},
   "outputs": [
    {
     "data": {
      "text/plain": [
       "Datetime\n",
       "2014-07-17 04:15:00-04:00         inf\n",
       "2014-07-17 04:17:00-04:00         inf\n",
       "2014-07-17 04:18:00-04:00         inf\n",
       "2014-07-17 04:19:00-04:00         inf\n",
       "2014-07-17 04:20:00-04:00         inf\n",
       "                               ...   \n",
       "2014-07-17 06:37:00-04:00    2.546571\n",
       "2014-07-17 06:38:00-04:00    2.583828\n",
       "2014-07-17 06:39:00-04:00    2.567195\n",
       "2014-07-17 06:40:00-04:00    2.551028\n",
       "2014-07-17 06:41:00-04:00    2.543567\n",
       "Length: 146, dtype: float64"
      ]
     },
     "execution_count": 58,
     "metadata": {},
     "output_type": "execute_result"
    }
   ],
   "source": [
    "varrennes_data_ghi_scale_adjusted_0717_2.loc[(varrennes_data_ghi_scale_adjusted_0717_2 > upper_limit)]"
   ]
  },
  {
   "cell_type": "markdown",
   "id": "048acda6-506e-469a-aafb-cb535e4c5771",
   "metadata": {},
   "source": [
    "#### Variance still changes. "
   ]
  },
  {
   "cell_type": "markdown",
   "id": "8e373db7-756f-4d4c-87b4-ea18dc94a419",
   "metadata": {},
   "source": [
    "### In order to make a progress, come back to this issue later. "
   ]
  },
  {
   "cell_type": "code",
   "execution_count": null,
   "id": "6d4355b4-14ce-4064-9a7c-c4a4fc101c81",
   "metadata": {},
   "outputs": [],
   "source": []
  }
 ],
 "metadata": {
  "kernelspec": {
   "display_name": "Python 3 (ipykernel)",
   "language": "python",
   "name": "python3"
  },
  "language_info": {
   "codemirror_mode": {
    "name": "ipython",
    "version": 3
   },
   "file_extension": ".py",
   "mimetype": "text/x-python",
   "name": "python",
   "nbconvert_exporter": "python",
   "pygments_lexer": "ipython3",
   "version": "3.10.5"
  }
 },
 "nbformat": 4,
 "nbformat_minor": 5
}
