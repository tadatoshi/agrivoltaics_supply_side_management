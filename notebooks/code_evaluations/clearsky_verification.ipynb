{
 "cells": [
  {
   "cell_type": "markdown",
   "id": "741d6a2c-7fd1-438f-9ed3-632f94bc0d87",
   "metadata": {},
   "source": [
    "## Notebook to verify some codes in Python package"
   ]
  },
  {
   "cell_type": "code",
   "execution_count": 1,
   "id": "067b91b9-9b7c-424d-9a33-a23ed27b8771",
   "metadata": {},
   "outputs": [],
   "source": [
    "import pandas as pd\n",
    "import matplotlib.pyplot as plt\n",
    "from agrivoltaics_supply_side_management.solar_irradiation.clearsky import get_clearsky"
   ]
  },
  {
   "cell_type": "code",
   "execution_count": 2,
   "id": "189a5dbc-231f-4a61-9f7a-515856241672",
   "metadata": {},
   "outputs": [],
   "source": [
    "lattitude, longitude = 49.26757152616243, -123.25266177347093\n",
    "timezone = 'Canada/Pacific'\n",
    "times = pd.date_range('2022-07-06', '2022-07-07', freq='1T', tz=timezone)"
   ]
  },
  {
   "cell_type": "code",
   "execution_count": 3,
   "id": "090e16aa-eceb-45c2-8550-9c12f8396dfd",
   "metadata": {},
   "outputs": [],
   "source": [
    "clearsky = get_clearsky(lattitude, longitude, timezone, times)"
   ]
  },
  {
   "cell_type": "code",
   "execution_count": 4,
   "id": "ddc13f05-f5cc-494b-88a1-a4bc488d80b0",
   "metadata": {},
   "outputs": [
    {
     "data": {
      "text/plain": [
       "<AxesSubplot:>"
      ]
     },
     "execution_count": 4,
     "metadata": {},
     "output_type": "execute_result"
    },
    {
     "data": {
      "image/png": "[encoded data removed]",
      "text/plain": [
       "<Figure size 432x288 with 1 Axes>"
      ]
     },
     "metadata": {
      "needs_background": "light"
     },
     "output_type": "display_data"
    }
   ],
   "source": [
    "clearsky.plot()"
   ]
  },
  {
   "cell_type": "code",
   "execution_count": 5,
   "id": "59b49c87-6755-4401-b849-f17868ef9e2a",
   "metadata": {},
   "outputs": [
    {
     "data": {
      "text/html": [
       "<div>\n",
       "<style scoped>\n",
       "    .dataframe tbody tr th:only-of-type {\n",
       "        vertical-align: middle;\n",
       "    }\n",
       "\n",
       "    .dataframe tbody tr th {\n",
       "        vertical-align: top;\n",
       "    }\n",
       "\n",
       "    .dataframe thead th {\n",
       "        text-align: right;\n",
       "    }\n",
       "</style>\n",
       "<table border=\"1\" class=\"dataframe\">\n",
       "  <thead>\n",
       "    <tr style=\"text-align: right;\">\n",
       "      <th></th>\n",
       "      <th>ghi</th>\n",
       "      <th>dni</th>\n",
       "      <th>dhi</th>\n",
       "    </tr>\n",
       "  </thead>\n",
       "  <tbody>\n",
       "    <tr>\n",
       "      <th>2022-07-06 00:00:00-07:00</th>\n",
       "      <td>0.0</td>\n",
       "      <td>0.0</td>\n",
       "      <td>0.0</td>\n",
       "    </tr>\n",
       "    <tr>\n",
       "      <th>2022-07-06 00:01:00-07:00</th>\n",
       "      <td>0.0</td>\n",
       "      <td>0.0</td>\n",
       "      <td>0.0</td>\n",
       "    </tr>\n",
       "    <tr>\n",
       "      <th>2022-07-06 00:02:00-07:00</th>\n",
       "      <td>0.0</td>\n",
       "      <td>0.0</td>\n",
       "      <td>0.0</td>\n",
       "    </tr>\n",
       "    <tr>\n",
       "      <th>2022-07-06 00:03:00-07:00</th>\n",
       "      <td>0.0</td>\n",
       "      <td>0.0</td>\n",
       "      <td>0.0</td>\n",
       "    </tr>\n",
       "    <tr>\n",
       "      <th>2022-07-06 00:04:00-07:00</th>\n",
       "      <td>0.0</td>\n",
       "      <td>0.0</td>\n",
       "      <td>0.0</td>\n",
       "    </tr>\n",
       "    <tr>\n",
       "      <th>...</th>\n",
       "      <td>...</td>\n",
       "      <td>...</td>\n",
       "      <td>...</td>\n",
       "    </tr>\n",
       "    <tr>\n",
       "      <th>2022-07-06 23:56:00-07:00</th>\n",
       "      <td>0.0</td>\n",
       "      <td>0.0</td>\n",
       "      <td>0.0</td>\n",
       "    </tr>\n",
       "    <tr>\n",
       "      <th>2022-07-06 23:57:00-07:00</th>\n",
       "      <td>0.0</td>\n",
       "      <td>0.0</td>\n",
       "      <td>0.0</td>\n",
       "    </tr>\n",
       "    <tr>\n",
       "      <th>2022-07-06 23:58:00-07:00</th>\n",
       "      <td>0.0</td>\n",
       "      <td>0.0</td>\n",
       "      <td>0.0</td>\n",
       "    </tr>\n",
       "    <tr>\n",
       "      <th>2022-07-06 23:59:00-07:00</th>\n",
       "      <td>0.0</td>\n",
       "      <td>0.0</td>\n",
       "      <td>0.0</td>\n",
       "    </tr>\n",
       "    <tr>\n",
       "      <th>2022-07-07 00:00:00-07:00</th>\n",
       "      <td>0.0</td>\n",
       "      <td>0.0</td>\n",
       "      <td>0.0</td>\n",
       "    </tr>\n",
       "  </tbody>\n",
       "</table>\n",
       "<p>1441 rows × 3 columns</p>\n",
       "</div>"
      ],
      "text/plain": [
       "                           ghi  dni  dhi\n",
       "2022-07-06 00:00:00-07:00  0.0  0.0  0.0\n",
       "2022-07-06 00:01:00-07:00  0.0  0.0  0.0\n",
       "2022-07-06 00:02:00-07:00  0.0  0.0  0.0\n",
       "2022-07-06 00:03:00-07:00  0.0  0.0  0.0\n",
       "2022-07-06 00:04:00-07:00  0.0  0.0  0.0\n",
       "...                        ...  ...  ...\n",
       "2022-07-06 23:56:00-07:00  0.0  0.0  0.0\n",
       "2022-07-06 23:57:00-07:00  0.0  0.0  0.0\n",
       "2022-07-06 23:58:00-07:00  0.0  0.0  0.0\n",
       "2022-07-06 23:59:00-07:00  0.0  0.0  0.0\n",
       "2022-07-07 00:00:00-07:00  0.0  0.0  0.0\n",
       "\n",
       "[1441 rows x 3 columns]"
      ]
     },
     "execution_count": 5,
     "metadata": {},
     "output_type": "execute_result"
    }
   ],
   "source": [
    "clearsky"
   ]
  },
  {
   "cell_type": "code",
   "execution_count": 6,
   "id": "67c3314d-2e2c-41af-98ea-690a6e0ef0c1",
   "metadata": {},
   "outputs": [],
   "source": [
    "clearsky_ghi = clearsky['ghi']"
   ]
  },
  {
   "cell_type": "code",
   "execution_count": 7,
   "id": "c58876f5-a090-4832-a492-8e8d0493492f",
   "metadata": {},
   "outputs": [
    {
     "data": {
      "text/plain": [
       "2022-07-06 00:00:00-07:00    0.0\n",
       "2022-07-06 00:01:00-07:00    0.0\n",
       "2022-07-06 00:02:00-07:00    0.0\n",
       "2022-07-06 00:03:00-07:00    0.0\n",
       "2022-07-06 00:04:00-07:00    0.0\n",
       "                            ... \n",
       "2022-07-06 23:56:00-07:00    0.0\n",
       "2022-07-06 23:57:00-07:00    0.0\n",
       "2022-07-06 23:58:00-07:00    0.0\n",
       "2022-07-06 23:59:00-07:00    0.0\n",
       "2022-07-07 00:00:00-07:00    0.0\n",
       "Freq: T, Name: ghi, Length: 1441, dtype: float64"
      ]
     },
     "execution_count": 7,
     "metadata": {},
     "output_type": "execute_result"
    }
   ],
   "source": [
    "clearsky_ghi"
   ]
  },
  {
   "cell_type": "code",
   "execution_count": 8,
   "id": "49e13dec-3b32-4c75-81f8-fe5f78e13cc0",
   "metadata": {},
   "outputs": [
    {
     "data": {
      "text/plain": [
       "<AxesSubplot:>"
      ]
     },
     "execution_count": 8,
     "metadata": {},
     "output_type": "execute_result"
    },
    {
     "data": {
      "image/png": "[encoded data removed]",
      "text/plain": [
       "<Figure size 432x288 with 1 Axes>"
      ]
     },
     "metadata": {
      "needs_background": "light"
     },
     "output_type": "display_data"
    }
   ],
   "source": [
    "clearsky_ghi.plot()"
   ]
  },
  {
   "cell_type": "code",
   "execution_count": null,
   "id": "e110392f-0f2d-41f2-81ce-fdf7f00d142a",
   "metadata": {},
   "outputs": [],
   "source": []
  }
 ],
 "metadata": {
  "kernelspec": {
   "display_name": "Python 3 (ipykernel)",
   "language": "python",
   "name": "python3"
  },
  "language_info": {
   "codemirror_mode": {
    "name": "ipython",
    "version": 3
   },
   "file_extension": ".py",
   "mimetype": "text/x-python",
   "name": "python",
   "nbconvert_exporter": "python",
   "pygments_lexer": "ipython3",
   "version": "3.10.5"
  }
 },
 "nbformat": 4,
 "nbformat_minor": 5
}
