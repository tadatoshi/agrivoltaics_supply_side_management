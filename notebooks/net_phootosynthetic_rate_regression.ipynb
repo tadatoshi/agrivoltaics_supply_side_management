{
 "cells": [
  {
   "cell_type": "markdown",
   "id": "4b4b604e-f6a5-4396-8857-04b742741ede",
   "metadata": {},
   "source": [
    "## Performs regressiono on net photosynthetic rate data, in order to use it as continuous data."
   ]
  },
  {
   "cell_type": "code",
   "execution_count": 1,
   "id": "66a34428-e640-4cfe-8e6a-155e6f05324a",
   "metadata": {},
   "outputs": [],
   "source": [
    "%load_ext autoreload\n",
    "%autoreload 2"
   ]
  },
  {
   "cell_type": "code",
   "execution_count": 2,
   "id": "dd8c542a-157a-4a04-8d39-7084e482202d",
   "metadata": {},
   "outputs": [],
   "source": [
    "import numpy as np\n",
    "import pandas as pd\n",
    "import matplotlib.pyplot as plt\n",
    "\n",
    "import pymc3 as pm\n",
    "import arviz as az"
   ]
  },
  {
   "cell_type": "code",
   "execution_count": 3,
   "id": "7426a122-1ccb-40c6-942f-7c2b01a943c6",
   "metadata": {},
   "outputs": [],
   "source": [
    "net_photosynthetic_rate = pd.read_csv(\"../data/soybean_net_photosynthetic_rate.csv\", \n",
    "                                      index_col=\"Photosynthetically Active Radiation [micromol / m^2 / s]\")"
   ]
  },
  {
   "cell_type": "code",
   "execution_count": 4,
   "id": "3d46e803-33b6-44f4-9794-ef54b02ff2f0",
   "metadata": {},
   "outputs": [
    {
     "data": {
      "text/html": [
       "<div>\n",
       "<style scoped>\n",
       "    .dataframe tbody tr th:only-of-type {\n",
       "        vertical-align: middle;\n",
       "    }\n",
       "\n",
       "    .dataframe tbody tr th {\n",
       "        vertical-align: top;\n",
       "    }\n",
       "\n",
       "    .dataframe thead th {\n",
       "        text-align: right;\n",
       "    }\n",
       "</style>\n",
       "<table border=\"1\" class=\"dataframe\">\n",
       "  <thead>\n",
       "    <tr style=\"text-align: right;\">\n",
       "      <th></th>\n",
       "      <th>Monocropping - CO2 uptake [micromol / m^2 / s]</th>\n",
       "      <th>Intercropping - CO2 uptake [micromol / m^2 / s]</th>\n",
       "    </tr>\n",
       "    <tr>\n",
       "      <th>Photosynthetically Active Radiation [micromol / m^2 / s]</th>\n",
       "      <th></th>\n",
       "      <th></th>\n",
       "    </tr>\n",
       "  </thead>\n",
       "  <tbody>\n",
       "    <tr>\n",
       "      <th>0.0</th>\n",
       "      <td>-3.5</td>\n",
       "      <td>-2.5</td>\n",
       "    </tr>\n",
       "    <tr>\n",
       "      <th>25.0</th>\n",
       "      <td>-2.7</td>\n",
       "      <td>-0.7</td>\n",
       "    </tr>\n",
       "    <tr>\n",
       "      <th>50.0</th>\n",
       "      <td>-0.9</td>\n",
       "      <td>0.8</td>\n",
       "    </tr>\n",
       "    <tr>\n",
       "      <th>75.0</th>\n",
       "      <td>1.0</td>\n",
       "      <td>2.3</td>\n",
       "    </tr>\n",
       "    <tr>\n",
       "      <th>100.0</th>\n",
       "      <td>2.0</td>\n",
       "      <td>3.0</td>\n",
       "    </tr>\n",
       "    <tr>\n",
       "      <th>200.0</th>\n",
       "      <td>6.0</td>\n",
       "      <td>7.0</td>\n",
       "    </tr>\n",
       "    <tr>\n",
       "      <th>400.0</th>\n",
       "      <td>12.5</td>\n",
       "      <td>11.0</td>\n",
       "    </tr>\n",
       "    <tr>\n",
       "      <th>600.0</th>\n",
       "      <td>17.0</td>\n",
       "      <td>12.5</td>\n",
       "    </tr>\n",
       "    <tr>\n",
       "      <th>800.0</th>\n",
       "      <td>20.0</td>\n",
       "      <td>14.5</td>\n",
       "    </tr>\n",
       "    <tr>\n",
       "      <th>1000.0</th>\n",
       "      <td>22.0</td>\n",
       "      <td>15.5</td>\n",
       "    </tr>\n",
       "    <tr>\n",
       "      <th>1200.0</th>\n",
       "      <td>23.5</td>\n",
       "      <td>16.0</td>\n",
       "    </tr>\n",
       "    <tr>\n",
       "      <th>1500.0</th>\n",
       "      <td>25.0</td>\n",
       "      <td>17.0</td>\n",
       "    </tr>\n",
       "  </tbody>\n",
       "</table>\n",
       "</div>"
      ],
      "text/plain": [
       "                                                    Monocropping - CO2 uptake [micromol / m^2 / s]  \\\n",
       "Photosynthetically Active Radiation [micromol /...                                                   \n",
       "0.0                                                                                           -3.5   \n",
       "25.0                                                                                          -2.7   \n",
       "50.0                                                                                          -0.9   \n",
       "75.0                                                                                           1.0   \n",
       "100.0                                                                                          2.0   \n",
       "200.0                                                                                          6.0   \n",
       "400.0                                                                                         12.5   \n",
       "600.0                                                                                         17.0   \n",
       "800.0                                                                                         20.0   \n",
       "1000.0                                                                                        22.0   \n",
       "1200.0                                                                                        23.5   \n",
       "1500.0                                                                                        25.0   \n",
       "\n",
       "                                                    Intercropping - CO2 uptake [micromol / m^2 / s]  \n",
       "Photosynthetically Active Radiation [micromol /...                                                   \n",
       "0.0                                                                                            -2.5  \n",
       "25.0                                                                                           -0.7  \n",
       "50.0                                                                                            0.8  \n",
       "75.0                                                                                            2.3  \n",
       "100.0                                                                                           3.0  \n",
       "200.0                                                                                           7.0  \n",
       "400.0                                                                                          11.0  \n",
       "600.0                                                                                          12.5  \n",
       "800.0                                                                                          14.5  \n",
       "1000.0                                                                                         15.5  \n",
       "1200.0                                                                                         16.0  \n",
       "1500.0                                                                                         17.0  "
      ]
     },
     "execution_count": 4,
     "metadata": {},
     "output_type": "execute_result"
    }
   ],
   "source": [
    "net_photosynthetic_rate"
   ]
  },
  {
   "cell_type": "code",
   "execution_count": 5,
   "id": "4938bf6a-1f88-40dc-afda-f3ab640a9f4f",
   "metadata": {},
   "outputs": [
    {
     "data": {
      "text/plain": [
       "<matplotlib.legend.Legend at 0x125b1b010>"
      ]
     },
     "execution_count": 5,
     "metadata": {},
     "output_type": "execute_result"
    },
    {
     "data": {
      "image/png": "[encoded data removed]",
      "text/plain": [
       "<Figure size 432x288 with 1 Axes>"
      ]
     },
     "metadata": {
      "needs_background": "light"
     },
     "output_type": "display_data"
    }
   ],
   "source": [
    "fig, ax = plt.subplots()\n",
    "net_photosynthetic_rate.plot(ylabel='CO2 uptake [micromol / m^2 / s]', ax=ax)\n",
    "ax.legend(['Monocropping', 'Intercropping'])"
   ]
  },
  {
   "cell_type": "code",
   "execution_count": 10,
   "id": "ea4e37a1-37b7-45bb-8cfb-b7eeffa13896",
   "metadata": {},
   "outputs": [],
   "source": [
    "net_photosynthetic_rate.rename(columns ={'Monocropping - CO2 uptake [micromol / m^2 / s]': 'Monocropping', \n",
    "                                         'Intercropping - CO2 uptake [micromol / m^2 / s]': 'Intercropping'},\n",
    "                               inplace=True)"
   ]
  },
  {
   "cell_type": "code",
   "execution_count": 11,
   "id": "009dba0f-8bc9-4f02-9f9e-0cb1289dfeb3",
   "metadata": {},
   "outputs": [
    {
     "data": {
      "text/html": [
       "<div>\n",
       "<style scoped>\n",
       "    .dataframe tbody tr th:only-of-type {\n",
       "        vertical-align: middle;\n",
       "    }\n",
       "\n",
       "    .dataframe tbody tr th {\n",
       "        vertical-align: top;\n",
       "    }\n",
       "\n",
       "    .dataframe thead th {\n",
       "        text-align: right;\n",
       "    }\n",
       "</style>\n",
       "<table border=\"1\" class=\"dataframe\">\n",
       "  <thead>\n",
       "    <tr style=\"text-align: right;\">\n",
       "      <th></th>\n",
       "      <th>Monocropping</th>\n",
       "      <th>Intercropping</th>\n",
       "    </tr>\n",
       "    <tr>\n",
       "      <th>Photosynthetically Active Radiation [micromol / m^2 / s]</th>\n",
       "      <th></th>\n",
       "      <th></th>\n",
       "    </tr>\n",
       "  </thead>\n",
       "  <tbody>\n",
       "    <tr>\n",
       "      <th>0.0</th>\n",
       "      <td>-3.5</td>\n",
       "      <td>-2.5</td>\n",
       "    </tr>\n",
       "    <tr>\n",
       "      <th>25.0</th>\n",
       "      <td>-2.7</td>\n",
       "      <td>-0.7</td>\n",
       "    </tr>\n",
       "    <tr>\n",
       "      <th>50.0</th>\n",
       "      <td>-0.9</td>\n",
       "      <td>0.8</td>\n",
       "    </tr>\n",
       "    <tr>\n",
       "      <th>75.0</th>\n",
       "      <td>1.0</td>\n",
       "      <td>2.3</td>\n",
       "    </tr>\n",
       "    <tr>\n",
       "      <th>100.0</th>\n",
       "      <td>2.0</td>\n",
       "      <td>3.0</td>\n",
       "    </tr>\n",
       "    <tr>\n",
       "      <th>200.0</th>\n",
       "      <td>6.0</td>\n",
       "      <td>7.0</td>\n",
       "    </tr>\n",
       "    <tr>\n",
       "      <th>400.0</th>\n",
       "      <td>12.5</td>\n",
       "      <td>11.0</td>\n",
       "    </tr>\n",
       "    <tr>\n",
       "      <th>600.0</th>\n",
       "      <td>17.0</td>\n",
       "      <td>12.5</td>\n",
       "    </tr>\n",
       "    <tr>\n",
       "      <th>800.0</th>\n",
       "      <td>20.0</td>\n",
       "      <td>14.5</td>\n",
       "    </tr>\n",
       "    <tr>\n",
       "      <th>1000.0</th>\n",
       "      <td>22.0</td>\n",
       "      <td>15.5</td>\n",
       "    </tr>\n",
       "    <tr>\n",
       "      <th>1200.0</th>\n",
       "      <td>23.5</td>\n",
       "      <td>16.0</td>\n",
       "    </tr>\n",
       "    <tr>\n",
       "      <th>1500.0</th>\n",
       "      <td>25.0</td>\n",
       "      <td>17.0</td>\n",
       "    </tr>\n",
       "  </tbody>\n",
       "</table>\n",
       "</div>"
      ],
      "text/plain": [
       "                                                    Monocropping  \\\n",
       "Photosynthetically Active Radiation [micromol /...                 \n",
       "0.0                                                         -3.5   \n",
       "25.0                                                        -2.7   \n",
       "50.0                                                        -0.9   \n",
       "75.0                                                         1.0   \n",
       "100.0                                                        2.0   \n",
       "200.0                                                        6.0   \n",
       "400.0                                                       12.5   \n",
       "600.0                                                       17.0   \n",
       "800.0                                                       20.0   \n",
       "1000.0                                                      22.0   \n",
       "1200.0                                                      23.5   \n",
       "1500.0                                                      25.0   \n",
       "\n",
       "                                                    Intercropping  \n",
       "Photosynthetically Active Radiation [micromol /...                 \n",
       "0.0                                                          -2.5  \n",
       "25.0                                                         -0.7  \n",
       "50.0                                                          0.8  \n",
       "75.0                                                          2.3  \n",
       "100.0                                                         3.0  \n",
       "200.0                                                         7.0  \n",
       "400.0                                                        11.0  \n",
       "600.0                                                        12.5  \n",
       "800.0                                                        14.5  \n",
       "1000.0                                                       15.5  \n",
       "1200.0                                                       16.0  \n",
       "1500.0                                                       17.0  "
      ]
     },
     "execution_count": 11,
     "metadata": {},
     "output_type": "execute_result"
    }
   ],
   "source": [
    "net_photosynthetic_rate"
   ]
  },
  {
   "cell_type": "code",
   "execution_count": 12,
   "id": "250b7d07-24f7-4801-a63c-e9f519b0deba",
   "metadata": {},
   "outputs": [],
   "source": [
    "net_photosynthetic_rate.index.names = ['PAR']"
   ]
  },
  {
   "cell_type": "code",
   "execution_count": 13,
   "id": "8313421f-125d-418b-b1e3-069ce000de6c",
   "metadata": {},
   "outputs": [
    {
     "data": {
      "text/html": [
       "<div>\n",
       "<style scoped>\n",
       "    .dataframe tbody tr th:only-of-type {\n",
       "        vertical-align: middle;\n",
       "    }\n",
       "\n",
       "    .dataframe tbody tr th {\n",
       "        vertical-align: top;\n",
       "    }\n",
       "\n",
       "    .dataframe thead th {\n",
       "        text-align: right;\n",
       "    }\n",
       "</style>\n",
       "<table border=\"1\" class=\"dataframe\">\n",
       "  <thead>\n",
       "    <tr style=\"text-align: right;\">\n",
       "      <th></th>\n",
       "      <th>Monocropping</th>\n",
       "      <th>Intercropping</th>\n",
       "    </tr>\n",
       "    <tr>\n",
       "      <th>PAR</th>\n",
       "      <th></th>\n",
       "      <th></th>\n",
       "    </tr>\n",
       "  </thead>\n",
       "  <tbody>\n",
       "    <tr>\n",
       "      <th>0.0</th>\n",
       "      <td>-3.5</td>\n",
       "      <td>-2.5</td>\n",
       "    </tr>\n",
       "    <tr>\n",
       "      <th>25.0</th>\n",
       "      <td>-2.7</td>\n",
       "      <td>-0.7</td>\n",
       "    </tr>\n",
       "    <tr>\n",
       "      <th>50.0</th>\n",
       "      <td>-0.9</td>\n",
       "      <td>0.8</td>\n",
       "    </tr>\n",
       "    <tr>\n",
       "      <th>75.0</th>\n",
       "      <td>1.0</td>\n",
       "      <td>2.3</td>\n",
       "    </tr>\n",
       "    <tr>\n",
       "      <th>100.0</th>\n",
       "      <td>2.0</td>\n",
       "      <td>3.0</td>\n",
       "    </tr>\n",
       "    <tr>\n",
       "      <th>200.0</th>\n",
       "      <td>6.0</td>\n",
       "      <td>7.0</td>\n",
       "    </tr>\n",
       "    <tr>\n",
       "      <th>400.0</th>\n",
       "      <td>12.5</td>\n",
       "      <td>11.0</td>\n",
       "    </tr>\n",
       "    <tr>\n",
       "      <th>600.0</th>\n",
       "      <td>17.0</td>\n",
       "      <td>12.5</td>\n",
       "    </tr>\n",
       "    <tr>\n",
       "      <th>800.0</th>\n",
       "      <td>20.0</td>\n",
       "      <td>14.5</td>\n",
       "    </tr>\n",
       "    <tr>\n",
       "      <th>1000.0</th>\n",
       "      <td>22.0</td>\n",
       "      <td>15.5</td>\n",
       "    </tr>\n",
       "    <tr>\n",
       "      <th>1200.0</th>\n",
       "      <td>23.5</td>\n",
       "      <td>16.0</td>\n",
       "    </tr>\n",
       "    <tr>\n",
       "      <th>1500.0</th>\n",
       "      <td>25.0</td>\n",
       "      <td>17.0</td>\n",
       "    </tr>\n",
       "  </tbody>\n",
       "</table>\n",
       "</div>"
      ],
      "text/plain": [
       "        Monocropping  Intercropping\n",
       "PAR                                \n",
       "0.0             -3.5           -2.5\n",
       "25.0            -2.7           -0.7\n",
       "50.0            -0.9            0.8\n",
       "75.0             1.0            2.3\n",
       "100.0            2.0            3.0\n",
       "200.0            6.0            7.0\n",
       "400.0           12.5           11.0\n",
       "600.0           17.0           12.5\n",
       "800.0           20.0           14.5\n",
       "1000.0          22.0           15.5\n",
       "1200.0          23.5           16.0\n",
       "1500.0          25.0           17.0"
      ]
     },
     "execution_count": 13,
     "metadata": {},
     "output_type": "execute_result"
    }
   ],
   "source": [
    "net_photosynthetic_rate"
   ]
  },
  {
   "cell_type": "code",
   "execution_count": 16,
   "id": "4b4e2fb2-6353-4042-a37e-742444419863",
   "metadata": {},
   "outputs": [
    {
     "data": {
      "text/plain": [
       "array([   0.,   25.,   50.,   75.,  100.,  200.,  400.,  600.,  800.,\n",
       "       1000., 1200., 1500.])"
      ]
     },
     "execution_count": 16,
     "metadata": {},
     "output_type": "execute_result"
    }
   ],
   "source": [
    "net_photosynthetic_rate.index.values"
   ]
  },
  {
   "cell_type": "markdown",
   "id": "1969a61f-1940-4322-9203-06feabf3f1a5",
   "metadata": {},
   "source": [
    "### Use sqrt for regression (extension of linear regression)"
   ]
  },
  {
   "cell_type": "code",
   "execution_count": 17,
   "id": "ac33ad64-f85b-42f9-b950-2e45fc87bc94",
   "metadata": {},
   "outputs": [
    {
     "name": "stderr",
     "output_type": "stream",
     "text": [
      "/Users/tadatoshi/Documents/development/projects/tadatoshi_solar_research_society/agrivoltaics_supply_side_management/venv/lib/python3.10/site-packages/deprecat/classic.py:215: FutureWarning: In v4.0, pm.sample will return an `arviz.InferenceData` object instead of a `MultiTrace` by default. You can pass return_inferencedata=True or return_inferencedata=False to be safe and silence this warning.\n",
      "  return wrapped_(*args_, **kwargs_)\n",
      "Auto-assigning NUTS sampler...\n",
      "Initializing NUTS using jitter+adapt_diag...\n",
      "Multiprocess sampling (2 chains in 2 jobs)\n",
      "NUTS: [σ, β]\n"
     ]
    },
    {
     "data": {
      "text/html": [
       "\n",
       "<style>\n",
       "    /* Turns off some styling */\n",
       "    progress {\n",
       "        /* gets rid of default border in Firefox and Opera. */\n",
       "        border: none;\n",
       "        /* Needs to be in here for Safari polyfill so background images work as expected. */\n",
       "        background-size: auto;\n",
       "    }\n",
       "    progress:not([value]), progress:not([value])::-webkit-progress-bar {\n",
       "        background: repeating-linear-gradient(45deg, #7e7e7e, #7e7e7e 10px, #5c5c5c 10px, #5c5c5c 20px);\n",
       "    }\n",
       "    .progress-bar-interrupted, .progress-bar-interrupted::-webkit-progress-bar {\n",
       "        background: #F44336;\n",
       "    }\n",
       "</style>\n"
      ],
      "text/plain": [
       "<IPython.core.display.HTML object>"
      ]
     },
     "metadata": {},
     "output_type": "display_data"
    },
    {
     "data": {
      "text/html": [
       "\n",
       "    <div>\n",
       "      <progress value='12000' class='' max='12000' style='width:300px; height:20px; vertical-align: middle;'></progress>\n",
       "      100.00% [12000/12000 00:28&lt;00:00 Sampling 2 chains, 10 divergences]\n",
       "    </div>\n",
       "    "
      ],
      "text/plain": [
       "<IPython.core.display.HTML object>"
      ]
     },
     "metadata": {},
     "output_type": "display_data"
    },
    {
     "name": "stderr",
     "output_type": "stream",
     "text": [
      "Sampling 2 chains for 4_000 tune and 2_000 draw iterations (8_000 + 4_000 draws total) took 57 seconds.\n",
      "There were 10 divergences after tuning. Increase `target_accept` or reparameterize.\n"
     ]
    },
    {
     "data": {
      "text/html": [
       "\n",
       "<style>\n",
       "    /* Turns off some styling */\n",
       "    progress {\n",
       "        /* gets rid of default border in Firefox and Opera. */\n",
       "        border: none;\n",
       "        /* Needs to be in here for Safari polyfill so background images work as expected. */\n",
       "        background-size: auto;\n",
       "    }\n",
       "    progress:not([value]), progress:not([value])::-webkit-progress-bar {\n",
       "        background: repeating-linear-gradient(45deg, #7e7e7e, #7e7e7e 10px, #5c5c5c 10px, #5c5c5c 20px);\n",
       "    }\n",
       "    .progress-bar-interrupted, .progress-bar-interrupted::-webkit-progress-bar {\n",
       "        background: #F44336;\n",
       "    }\n",
       "</style>\n"
      ],
      "text/plain": [
       "<IPython.core.display.HTML object>"
      ]
     },
     "metadata": {},
     "output_type": "display_data"
    },
    {
     "data": {
      "text/html": [
       "\n",
       "    <div>\n",
       "      <progress value='4000' class='' max='4000' style='width:300px; height:20px; vertical-align: middle;'></progress>\n",
       "      100.00% [4000/4000 00:07&lt;00:00]\n",
       "    </div>\n",
       "    "
      ],
      "text/plain": [
       "<IPython.core.display.HTML object>"
      ]
     },
     "metadata": {},
     "output_type": "display_data"
    }
   ],
   "source": [
    "with pm.Model() as model_sqrt:\n",
    "    β = pm.Normal(\"β\", sigma=10, shape=2)\n",
    "    μ = pm.Deterministic(\"μ\", β[0] + β[1] * np.sqrt(\n",
    "        net_photosynthetic_rate.index.values))\n",
    "    σ = pm.HalfNormal(\"σ\", sigma=10)\n",
    "    co2_updake = pm.Normal(\"co2_updake\", mu=μ, sigma=σ, \n",
    "                           observed=net_photosynthetic_rate[\"Monocropping\"])\n",
    "    inf_data_sqrt = pm.sample(draws=2000, tune=4000)\n",
    "    ppc_data_sqrt = pm.sample_posterior_predictive(inf_data_sqrt)\n",
    "    inf_data_sqrt = az.from_pymc3(trace=inf_data_sqrt,\n",
    "                                  posterior_predictive=ppc_data_sqrt)"
   ]
  },
  {
   "cell_type": "code",
   "execution_count": 18,
   "id": "4a285c36-d283-4f3b-be7b-0b9730bacfae",
   "metadata": {},
   "outputs": [],
   "source": [
    "μ_m = inf_data_sqrt.posterior[\"μ\"].values.reshape(-1, net_photosynthetic_rate[\"Monocropping\"].shape[0]).mean(axis=0)"
   ]
  },
  {
   "cell_type": "code",
   "execution_count": 24,
   "id": "b8374c0b-fa57-405c-be82-5ca5b22b3372",
   "metadata": {},
   "outputs": [
    {
     "name": "stderr",
     "output_type": "stream",
     "text": [
      "/var/folders/8n/f15shvd92vv8t4gykc82yrdm0000gn/T/ipykernel_7692/2472243848.py:3: UserWarning: marker is redundantly defined by the 'marker' keyword argument and the fmt string \"C0.\" (-> marker='.'). The keyword argument will take precedence.\n",
      "  ax.plot(net_photosynthetic_rate.index, net_photosynthetic_rate[\"Monocropping\"], 'C0.',\n"
     ]
    },
    {
     "data": {
      "image/png": "[encoded data removed]",
      "text/plain": [
       "<Figure size 864x576 with 1 Axes>"
      ]
     },
     "metadata": {
      "needs_background": "light"
     },
     "output_type": "display_data"
    }
   ],
   "source": [
    "fig, ax = plt.subplots(figsize=(12,8))\n",
    "\n",
    "ax.plot(net_photosynthetic_rate.index, net_photosynthetic_rate[\"Monocropping\"], 'C0.', \n",
    "        marker='o')\n",
    "\n",
    "ax.set_ylabel(\"CO2 uptake\")\n",
    "ax.set_xlabel(\"Photosynthetically Active Radiation (PAR)\");\n",
    "\n",
    "az.plot_hdi(net_photosynthetic_rate.index, \n",
    "            inf_data_sqrt.posterior_predictive[\"co2_updake\"], hdi_prob=.50, ax=ax)\n",
    "az.plot_hdi(net_photosynthetic_rate.index, \n",
    "            inf_data_sqrt.posterior_predictive[\"co2_updake\"], hdi_prob=.94, ax=ax)\n",
    "\n",
    "ax.plot(net_photosynthetic_rate.index, μ_m, c='C4')\n",
    "\n",
    "plt.savefig('../plots/net_photosynthetic_rate/monocropping_co2_uptake_sqrt_fit.png', dpi=300)"
   ]
  },
  {
   "cell_type": "code",
   "execution_count": null,
   "id": "59c837bf-8a29-498e-8236-e16469838902",
   "metadata": {},
   "outputs": [],
   "source": []
  }
 ],
 "metadata": {
  "kernelspec": {
   "display_name": "Python 3 (ipykernel)",
   "language": "python",
   "name": "python3"
  },
  "language_info": {
   "codemirror_mode": {
    "name": "ipython",
    "version": 3
   },
   "file_extension": ".py",
   "mimetype": "text/x-python",
   "name": "python",
   "nbconvert_exporter": "python",
   "pygments_lexer": "ipython3",
   "version": "3.10.5"
  }
 },
 "nbformat": 4,
 "nbformat_minor": 5
}
