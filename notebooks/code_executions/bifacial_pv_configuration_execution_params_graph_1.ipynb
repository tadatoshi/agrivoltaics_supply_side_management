{
 "cells": [
  {
   "cell_type": "markdown",
   "id": "b0d29623-1080-41b4-83f2-0c11b641b22f",
   "metadata": {},
   "source": [
    "## Drawing graph for bifacial_pv_configuration_execution_params_1.ipynb"
   ]
  },
  {
   "cell_type": "code",
   "execution_count": 1,
   "id": "47905915-6f31-4944-a9c0-638724481878",
   "metadata": {},
   "outputs": [],
   "source": [
    "%load_ext autoreload\n",
    "%autoreload 2"
   ]
  },
  {
   "cell_type": "code",
   "execution_count": 2,
   "id": "4b9eabcd-3f4f-4a98-9f0a-840d825ea34e",
   "metadata": {},
   "outputs": [],
   "source": [
    "import numpy as np\n",
    "import pandas as pd\n",
    "import matplotlib.pyplot as plt"
   ]
  },
  {
   "cell_type": "code",
   "execution_count": 3,
   "id": "430c58ba-a7b0-4e0b-9faf-26ace507e35e",
   "metadata": {},
   "outputs": [],
   "source": [
    "plt.rcParams.update({'font.size': 14})"
   ]
  },
  {
   "cell_type": "markdown",
   "id": "a8c6fc7f-3942-451b-893d-4dae84bdf693",
   "metadata": {},
   "source": [
    "### With three categories"
   ]
  },
  {
   "cell_type": "code",
   "execution_count": 4,
   "id": "86d13a3c-68a0-4cbe-bbb1-a9d521541ec3",
   "metadata": {},
   "outputs": [],
   "source": [
    "cases = np.array([\"Control\", \"Case 1\", \"Case 2\"])"
   ]
  },
  {
   "cell_type": "code",
   "execution_count": 5,
   "id": "b5eb7749-4c91-459b-bcb6-3f9001b1d58c",
   "metadata": {},
   "outputs": [],
   "source": [
    "total_electricity_supply = np.array([1.00, 0.92, 1.02])"
   ]
  },
  {
   "cell_type": "code",
   "execution_count": 6,
   "id": "64c43c87-8b05-4361-a89e-280c429426c1",
   "metadata": {},
   "outputs": [],
   "source": [
    "total_crop_yield = np.array([1.00, 1.00, 0.79])"
   ]
  },
  {
   "cell_type": "code",
   "execution_count": 7,
   "id": "ee0625ed-46d3-4d28-91e3-b761ad98f6fb",
   "metadata": {},
   "outputs": [],
   "source": [
    "electricity_supply_morning_peak = np.array([1.00, 1.01, 1.01])"
   ]
  },
  {
   "cell_type": "code",
   "execution_count": 8,
   "id": "e7cc33ed-2ae3-4e07-bdac-b1b6e352c465",
   "metadata": {},
   "outputs": [],
   "source": [
    "electricity_supply_afternoon_peak = np.array([1.00, 1.34, 1.34])"
   ]
  },
  {
   "cell_type": "code",
   "execution_count": 9,
   "id": "c8058c66-ffa0-4274-9a13-a8f7a9ba22d6",
   "metadata": {},
   "outputs": [],
   "source": [
    "df = pd.DataFrame(data={'Total Electricity Supply': total_electricity_supply, \n",
    "                        'Total Crop Yield': total_crop_yield, \n",
    "                        'Electricity Supply In Morning Peak': electricity_supply_morning_peak, \n",
    "                        'Electricity Supply In Afternoon Paek': electricity_supply_afternoon_peak}, \n",
    "                  index=cases)"
   ]
  },
  {
   "cell_type": "code",
   "execution_count": 10,
   "id": "5b2eea2c-2511-470e-aa3c-63c45573db86",
   "metadata": {},
   "outputs": [
    {
     "data": {
      "text/html": [
       "<div>\n",
       "<style scoped>\n",
       "    .dataframe tbody tr th:only-of-type {\n",
       "        vertical-align: middle;\n",
       "    }\n",
       "\n",
       "    .dataframe tbody tr th {\n",
       "        vertical-align: top;\n",
       "    }\n",
       "\n",
       "    .dataframe thead th {\n",
       "        text-align: right;\n",
       "    }\n",
       "</style>\n",
       "<table border=\"1\" class=\"dataframe\">\n",
       "  <thead>\n",
       "    <tr style=\"text-align: right;\">\n",
       "      <th></th>\n",
       "      <th>Total Electricity Supply</th>\n",
       "      <th>Total Crop Yield</th>\n",
       "      <th>Electricity Supply In Morning Peak</th>\n",
       "      <th>Electricity Supply In Afternoon Paek</th>\n",
       "    </tr>\n",
       "  </thead>\n",
       "  <tbody>\n",
       "    <tr>\n",
       "      <th>Control</th>\n",
       "      <td>1.00</td>\n",
       "      <td>1.00</td>\n",
       "      <td>1.00</td>\n",
       "      <td>1.00</td>\n",
       "    </tr>\n",
       "    <tr>\n",
       "      <th>Case 1</th>\n",
       "      <td>0.92</td>\n",
       "      <td>1.00</td>\n",
       "      <td>1.01</td>\n",
       "      <td>1.34</td>\n",
       "    </tr>\n",
       "    <tr>\n",
       "      <th>Case 2</th>\n",
       "      <td>1.02</td>\n",
       "      <td>0.79</td>\n",
       "      <td>1.01</td>\n",
       "      <td>1.34</td>\n",
       "    </tr>\n",
       "  </tbody>\n",
       "</table>\n",
       "</div>"
      ],
      "text/plain": [
       "         Total Electricity Supply  Total Crop Yield   \n",
       "Control                      1.00              1.00  \\\n",
       "Case 1                       0.92              1.00   \n",
       "Case 2                       1.02              0.79   \n",
       "\n",
       "         Electricity Supply In Morning Peak   \n",
       "Control                                1.00  \\\n",
       "Case 1                                 1.01   \n",
       "Case 2                                 1.01   \n",
       "\n",
       "         Electricity Supply In Afternoon Paek  \n",
       "Control                                  1.00  \n",
       "Case 1                                   1.34  \n",
       "Case 2                                   1.34  "
      ]
     },
     "execution_count": 10,
     "metadata": {},
     "output_type": "execute_result"
    }
   ],
   "source": [
    "df"
   ]
  },
  {
   "cell_type": "code",
   "execution_count": 11,
   "id": "a84ca1cf-c8fd-4a30-a517-e384a6e42b8b",
   "metadata": {},
   "outputs": [
    {
     "data": {
      "image/png": "[encoded data removed]",
      "text/plain": [
       "<Figure size 1008x432 with 1 Axes>"
      ]
     },
     "metadata": {
      "needs_background": "light"
     },
     "output_type": "display_data"
    }
   ],
   "source": [
    "ax = df.plot(kind='bar', rot=0, xlabel='Cases', \n",
    "             ylabel='Value relative to Control', \n",
    "             #title='Preliminary Result: Electricity Supply and Crop Yield (Biomass) Per Day (Relative Values to Control)', \n",
    "             figsize=(14, 6))\n",
    "\n",
    "for c in ax.containers:\n",
    "    ax.bar_label(c, fmt='%.2f', label_type='edge')\n",
    "\n",
    "ax.margins(y=0.1)\n",
    "\n",
    "plt.savefig('../../plots/pv_configuration_results/preliminary_bifacial_result_1.png')"
   ]
  },
  {
   "cell_type": "code",
   "execution_count": null,
   "id": "6bd21b3f-62a7-48ec-a077-a292e4f7a4e6",
   "metadata": {},
   "outputs": [],
   "source": []
  }
 ],
 "metadata": {
  "kernelspec": {
   "display_name": "Python 3 (ipykernel)",
   "language": "python",
   "name": "python3"
  },
  "language_info": {
   "codemirror_mode": {
    "name": "ipython",
    "version": 3
   },
   "file_extension": ".py",
   "mimetype": "text/x-python",
   "name": "python",
   "nbconvert_exporter": "python",
   "pygments_lexer": "ipython3",
   "version": "3.10.5"
  }
 },
 "nbformat": 4,
 "nbformat_minor": 5
}
