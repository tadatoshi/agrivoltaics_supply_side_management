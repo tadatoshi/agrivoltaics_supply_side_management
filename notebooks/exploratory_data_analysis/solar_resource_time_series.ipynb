{
 "cells": [
  {
   "cell_type": "markdown",
   "id": "d4b95372-494f-4b54-ba9c-292c703b6b83",
   "metadata": {},
   "source": [
    "## Trial of as many Time Series Analysis as possible for solar resource from SAM (System Advisor Model)"
   ]
  },
  {
   "cell_type": "code",
   "execution_count": 1,
   "id": "73224350-77c0-4a76-8896-22300e355164",
   "metadata": {},
   "outputs": [],
   "source": [
    "%load_ext autoreload\n",
    "%autoreload 2"
   ]
  },
  {
   "cell_type": "code",
   "execution_count": 2,
   "id": "ea6648a4-2a51-4aea-adb7-ba0ad82075cb",
   "metadata": {},
   "outputs": [],
   "source": [
    "import numpy as np\n",
    "import pandas as pd\n",
    "import matplotlib.pyplot as plt"
   ]
  },
  {
   "cell_type": "code",
   "execution_count": 3,
   "id": "384670c3-9045-4636-ad29-77d19a8f9b76",
   "metadata": {},
   "outputs": [],
   "source": [
    "from agrivoltaics_supply_side_management.solar_irradiation.clearsky import get_clearsky"
   ]
  },
  {
   "cell_type": "code",
   "execution_count": 4,
   "id": "7d273d23-4cf6-48e1-b215-7c9d9f27b7aa",
   "metadata": {},
   "outputs": [],
   "source": [
    "vancouver_data = pd.read_csv(\"../../data/weather_data/vancouver_bc_canada_49.263566_-123.138572_psm3_60_tmy.csv\",\n",
    "                             header=[2])"
   ]
  },
  {
   "cell_type": "code",
   "execution_count": 5,
   "id": "c7835f3d-fd62-4f38-a6c8-6c9577a53c6e",
   "metadata": {
    "collapsed": true,
    "jupyter": {
     "outputs_hidden": true
    },
    "tags": []
   },
   "outputs": [
    {
     "data": {
      "text/html": [
       "<div>\n",
       "<style scoped>\n",
       "    .dataframe tbody tr th:only-of-type {\n",
       "        vertical-align: middle;\n",
       "    }\n",
       "\n",
       "    .dataframe tbody tr th {\n",
       "        vertical-align: top;\n",
       "    }\n",
       "\n",
       "    .dataframe thead th {\n",
       "        text-align: right;\n",
       "    }\n",
       "</style>\n",
       "<table border=\"1\" class=\"dataframe\">\n",
       "  <thead>\n",
       "    <tr style=\"text-align: right;\">\n",
       "      <th></th>\n",
       "      <th>Year</th>\n",
       "      <th>Month</th>\n",
       "      <th>Day</th>\n",
       "      <th>Hour</th>\n",
       "      <th>Minute</th>\n",
       "      <th>DNI</th>\n",
       "      <th>DHI</th>\n",
       "      <th>GHI</th>\n",
       "      <th>Dew Point</th>\n",
       "      <th>Temperature</th>\n",
       "      <th>Pressure</th>\n",
       "      <th>Wind Direction</th>\n",
       "      <th>Wind Speed</th>\n",
       "    </tr>\n",
       "  </thead>\n",
       "  <tbody>\n",
       "    <tr>\n",
       "      <th>0</th>\n",
       "      <td>2011</td>\n",
       "      <td>1</td>\n",
       "      <td>1</td>\n",
       "      <td>0</td>\n",
       "      <td>30</td>\n",
       "      <td>0</td>\n",
       "      <td>0</td>\n",
       "      <td>0</td>\n",
       "      <td>-8</td>\n",
       "      <td>-2</td>\n",
       "      <td>1020</td>\n",
       "      <td>75</td>\n",
       "      <td>2.1</td>\n",
       "    </tr>\n",
       "    <tr>\n",
       "      <th>1</th>\n",
       "      <td>2011</td>\n",
       "      <td>1</td>\n",
       "      <td>1</td>\n",
       "      <td>1</td>\n",
       "      <td>30</td>\n",
       "      <td>0</td>\n",
       "      <td>0</td>\n",
       "      <td>0</td>\n",
       "      <td>-8</td>\n",
       "      <td>-3</td>\n",
       "      <td>1020</td>\n",
       "      <td>74</td>\n",
       "      <td>2.1</td>\n",
       "    </tr>\n",
       "    <tr>\n",
       "      <th>2</th>\n",
       "      <td>2011</td>\n",
       "      <td>1</td>\n",
       "      <td>1</td>\n",
       "      <td>2</td>\n",
       "      <td>30</td>\n",
       "      <td>0</td>\n",
       "      <td>0</td>\n",
       "      <td>0</td>\n",
       "      <td>-8</td>\n",
       "      <td>-3</td>\n",
       "      <td>1020</td>\n",
       "      <td>74</td>\n",
       "      <td>2.0</td>\n",
       "    </tr>\n",
       "    <tr>\n",
       "      <th>3</th>\n",
       "      <td>2011</td>\n",
       "      <td>1</td>\n",
       "      <td>1</td>\n",
       "      <td>3</td>\n",
       "      <td>30</td>\n",
       "      <td>0</td>\n",
       "      <td>0</td>\n",
       "      <td>0</td>\n",
       "      <td>-8</td>\n",
       "      <td>-3</td>\n",
       "      <td>1020</td>\n",
       "      <td>70</td>\n",
       "      <td>1.9</td>\n",
       "    </tr>\n",
       "    <tr>\n",
       "      <th>4</th>\n",
       "      <td>2011</td>\n",
       "      <td>1</td>\n",
       "      <td>1</td>\n",
       "      <td>4</td>\n",
       "      <td>30</td>\n",
       "      <td>0</td>\n",
       "      <td>0</td>\n",
       "      <td>0</td>\n",
       "      <td>-9</td>\n",
       "      <td>-3</td>\n",
       "      <td>1020</td>\n",
       "      <td>64</td>\n",
       "      <td>1.8</td>\n",
       "    </tr>\n",
       "    <tr>\n",
       "      <th>...</th>\n",
       "      <td>...</td>\n",
       "      <td>...</td>\n",
       "      <td>...</td>\n",
       "      <td>...</td>\n",
       "      <td>...</td>\n",
       "      <td>...</td>\n",
       "      <td>...</td>\n",
       "      <td>...</td>\n",
       "      <td>...</td>\n",
       "      <td>...</td>\n",
       "      <td>...</td>\n",
       "      <td>...</td>\n",
       "      <td>...</td>\n",
       "    </tr>\n",
       "    <tr>\n",
       "      <th>8755</th>\n",
       "      <td>2011</td>\n",
       "      <td>12</td>\n",
       "      <td>31</td>\n",
       "      <td>19</td>\n",
       "      <td>30</td>\n",
       "      <td>0</td>\n",
       "      <td>0</td>\n",
       "      <td>0</td>\n",
       "      <td>-8</td>\n",
       "      <td>-2</td>\n",
       "      <td>1020</td>\n",
       "      <td>66</td>\n",
       "      <td>2.2</td>\n",
       "    </tr>\n",
       "    <tr>\n",
       "      <th>8756</th>\n",
       "      <td>2011</td>\n",
       "      <td>12</td>\n",
       "      <td>31</td>\n",
       "      <td>20</td>\n",
       "      <td>30</td>\n",
       "      <td>0</td>\n",
       "      <td>0</td>\n",
       "      <td>0</td>\n",
       "      <td>-8</td>\n",
       "      <td>-2</td>\n",
       "      <td>1020</td>\n",
       "      <td>69</td>\n",
       "      <td>2.2</td>\n",
       "    </tr>\n",
       "    <tr>\n",
       "      <th>8757</th>\n",
       "      <td>2011</td>\n",
       "      <td>12</td>\n",
       "      <td>31</td>\n",
       "      <td>21</td>\n",
       "      <td>30</td>\n",
       "      <td>0</td>\n",
       "      <td>0</td>\n",
       "      <td>0</td>\n",
       "      <td>-8</td>\n",
       "      <td>-2</td>\n",
       "      <td>1020</td>\n",
       "      <td>72</td>\n",
       "      <td>2.2</td>\n",
       "    </tr>\n",
       "    <tr>\n",
       "      <th>8758</th>\n",
       "      <td>2011</td>\n",
       "      <td>12</td>\n",
       "      <td>31</td>\n",
       "      <td>22</td>\n",
       "      <td>30</td>\n",
       "      <td>0</td>\n",
       "      <td>0</td>\n",
       "      <td>0</td>\n",
       "      <td>-8</td>\n",
       "      <td>-2</td>\n",
       "      <td>1020</td>\n",
       "      <td>76</td>\n",
       "      <td>2.2</td>\n",
       "    </tr>\n",
       "    <tr>\n",
       "      <th>8759</th>\n",
       "      <td>2011</td>\n",
       "      <td>12</td>\n",
       "      <td>31</td>\n",
       "      <td>23</td>\n",
       "      <td>30</td>\n",
       "      <td>0</td>\n",
       "      <td>0</td>\n",
       "      <td>0</td>\n",
       "      <td>-8</td>\n",
       "      <td>-2</td>\n",
       "      <td>1020</td>\n",
       "      <td>77</td>\n",
       "      <td>2.1</td>\n",
       "    </tr>\n",
       "  </tbody>\n",
       "</table>\n",
       "<p>8760 rows × 13 columns</p>\n",
       "</div>"
      ],
      "text/plain": [
       "      Year  Month  Day  Hour  Minute  DNI  DHI  GHI  Dew Point  Temperature  \\\n",
       "0     2011      1    1     0      30    0    0    0         -8           -2   \n",
       "1     2011      1    1     1      30    0    0    0         -8           -3   \n",
       "2     2011      1    1     2      30    0    0    0         -8           -3   \n",
       "3     2011      1    1     3      30    0    0    0         -8           -3   \n",
       "4     2011      1    1     4      30    0    0    0         -9           -3   \n",
       "...    ...    ...  ...   ...     ...  ...  ...  ...        ...          ...   \n",
       "8755  2011     12   31    19      30    0    0    0         -8           -2   \n",
       "8756  2011     12   31    20      30    0    0    0         -8           -2   \n",
       "8757  2011     12   31    21      30    0    0    0         -8           -2   \n",
       "8758  2011     12   31    22      30    0    0    0         -8           -2   \n",
       "8759  2011     12   31    23      30    0    0    0         -8           -2   \n",
       "\n",
       "      Pressure  Wind Direction  Wind Speed  \n",
       "0         1020              75         2.1  \n",
       "1         1020              74         2.1  \n",
       "2         1020              74         2.0  \n",
       "3         1020              70         1.9  \n",
       "4         1020              64         1.8  \n",
       "...        ...             ...         ...  \n",
       "8755      1020              66         2.2  \n",
       "8756      1020              69         2.2  \n",
       "8757      1020              72         2.2  \n",
       "8758      1020              76         2.2  \n",
       "8759      1020              77         2.1  \n",
       "\n",
       "[8760 rows x 13 columns]"
      ]
     },
     "execution_count": 5,
     "metadata": {},
     "output_type": "execute_result"
    }
   ],
   "source": [
    "vancouver_data"
   ]
  },
  {
   "cell_type": "code",
   "execution_count": 6,
   "id": "c41bbb51-454c-409f-9651-31539355ecb7",
   "metadata": {},
   "outputs": [],
   "source": [
    "vancouver_meta_data = pd.read_csv(\"../../data/weather_data/vancouver_bc_canada_49.263566_-123.138572_psm3_60_tmy.csv\",\n",
    "                                  header=[0], skiprows=lambda x: x not in [0, 1])"
   ]
  },
  {
   "cell_type": "code",
   "execution_count": 7,
   "id": "312b1fc6-a058-4ac7-a29c-e80a2c578efe",
   "metadata": {
    "collapsed": true,
    "jupyter": {
     "outputs_hidden": true
    },
    "tags": []
   },
   "outputs": [
    {
     "data": {
      "text/html": [
       "<div>\n",
       "<style scoped>\n",
       "    .dataframe tbody tr th:only-of-type {\n",
       "        vertical-align: middle;\n",
       "    }\n",
       "\n",
       "    .dataframe tbody tr th {\n",
       "        vertical-align: top;\n",
       "    }\n",
       "\n",
       "    .dataframe thead th {\n",
       "        text-align: right;\n",
       "    }\n",
       "</style>\n",
       "<table border=\"1\" class=\"dataframe\">\n",
       "  <thead>\n",
       "    <tr style=\"text-align: right;\">\n",
       "      <th></th>\n",
       "      <th>Source</th>\n",
       "      <th>Location ID</th>\n",
       "      <th>City</th>\n",
       "      <th>State</th>\n",
       "      <th>Country</th>\n",
       "      <th>Latitude</th>\n",
       "      <th>Longitude</th>\n",
       "      <th>Time Zone</th>\n",
       "      <th>Elevation</th>\n",
       "      <th>Local Time Zone</th>\n",
       "      <th>Dew Point Units</th>\n",
       "      <th>DHI Units</th>\n",
       "      <th>DNI Units</th>\n",
       "      <th>GHI Units</th>\n",
       "      <th>Temperature Units</th>\n",
       "      <th>Pressure Units</th>\n",
       "      <th>Wind Direction Units</th>\n",
       "      <th>Wind Speed</th>\n",
       "      <th>Surface Albedo Units</th>\n",
       "      <th>Version</th>\n",
       "    </tr>\n",
       "  </thead>\n",
       "  <tbody>\n",
       "    <tr>\n",
       "      <th>0</th>\n",
       "      <td>NSRDB</td>\n",
       "      <td>262015</td>\n",
       "      <td>-</td>\n",
       "      <td>-</td>\n",
       "      <td>-</td>\n",
       "      <td>49.25</td>\n",
       "      <td>-123.14</td>\n",
       "      <td>-8</td>\n",
       "      <td>39</td>\n",
       "      <td>-8</td>\n",
       "      <td>c</td>\n",
       "      <td>w/m2</td>\n",
       "      <td>w/m2</td>\n",
       "      <td>w/m2</td>\n",
       "      <td>c</td>\n",
       "      <td>mbar</td>\n",
       "      <td>Degrees</td>\n",
       "      <td>m/s</td>\n",
       "      <td>NaN</td>\n",
       "      <td>3.1.1</td>\n",
       "    </tr>\n",
       "  </tbody>\n",
       "</table>\n",
       "</div>"
      ],
      "text/plain": [
       "  Source  Location ID City State Country  Latitude  Longitude  Time Zone  \\\n",
       "0  NSRDB       262015    -     -       -     49.25    -123.14         -8   \n",
       "\n",
       "   Elevation  Local Time Zone Dew Point Units DHI Units DNI Units GHI Units  \\\n",
       "0         39               -8               c      w/m2      w/m2      w/m2   \n",
       "\n",
       "  Temperature Units Pressure Units Wind Direction Units Wind Speed  \\\n",
       "0                 c           mbar              Degrees        m/s   \n",
       "\n",
       "   Surface Albedo Units Version  \n",
       "0                   NaN   3.1.1  "
      ]
     },
     "execution_count": 7,
     "metadata": {},
     "output_type": "execute_result"
    }
   ],
   "source": [
    "vancouver_meta_data"
   ]
  },
  {
   "cell_type": "code",
   "execution_count": 8,
   "id": "6da1027c-11c7-4cfa-9b8f-8a568708aee1",
   "metadata": {},
   "outputs": [],
   "source": [
    "vancouver_data['Datetime'] = pd.to_datetime(vancouver_data[['Year', 'Month', 'Day', 'Hour', 'Minute']])"
   ]
  },
  {
   "cell_type": "code",
   "execution_count": 9,
   "id": "5f344a7f-c64f-4b2e-bb74-e646a05570b5",
   "metadata": {
    "collapsed": true,
    "jupyter": {
     "outputs_hidden": true
    },
    "tags": []
   },
   "outputs": [
    {
     "data": {
      "text/html": [
       "<div>\n",
       "<style scoped>\n",
       "    .dataframe tbody tr th:only-of-type {\n",
       "        vertical-align: middle;\n",
       "    }\n",
       "\n",
       "    .dataframe tbody tr th {\n",
       "        vertical-align: top;\n",
       "    }\n",
       "\n",
       "    .dataframe thead th {\n",
       "        text-align: right;\n",
       "    }\n",
       "</style>\n",
       "<table border=\"1\" class=\"dataframe\">\n",
       "  <thead>\n",
       "    <tr style=\"text-align: right;\">\n",
       "      <th></th>\n",
       "      <th>Year</th>\n",
       "      <th>Month</th>\n",
       "      <th>Day</th>\n",
       "      <th>Hour</th>\n",
       "      <th>Minute</th>\n",
       "      <th>DNI</th>\n",
       "      <th>DHI</th>\n",
       "      <th>GHI</th>\n",
       "      <th>Dew Point</th>\n",
       "      <th>Temperature</th>\n",
       "      <th>Pressure</th>\n",
       "      <th>Wind Direction</th>\n",
       "      <th>Wind Speed</th>\n",
       "      <th>Datetime</th>\n",
       "    </tr>\n",
       "  </thead>\n",
       "  <tbody>\n",
       "    <tr>\n",
       "      <th>0</th>\n",
       "      <td>2011</td>\n",
       "      <td>1</td>\n",
       "      <td>1</td>\n",
       "      <td>0</td>\n",
       "      <td>30</td>\n",
       "      <td>0</td>\n",
       "      <td>0</td>\n",
       "      <td>0</td>\n",
       "      <td>-8</td>\n",
       "      <td>-2</td>\n",
       "      <td>1020</td>\n",
       "      <td>75</td>\n",
       "      <td>2.1</td>\n",
       "      <td>2011-01-01 00:30:00</td>\n",
       "    </tr>\n",
       "    <tr>\n",
       "      <th>1</th>\n",
       "      <td>2011</td>\n",
       "      <td>1</td>\n",
       "      <td>1</td>\n",
       "      <td>1</td>\n",
       "      <td>30</td>\n",
       "      <td>0</td>\n",
       "      <td>0</td>\n",
       "      <td>0</td>\n",
       "      <td>-8</td>\n",
       "      <td>-3</td>\n",
       "      <td>1020</td>\n",
       "      <td>74</td>\n",
       "      <td>2.1</td>\n",
       "      <td>2011-01-01 01:30:00</td>\n",
       "    </tr>\n",
       "    <tr>\n",
       "      <th>2</th>\n",
       "      <td>2011</td>\n",
       "      <td>1</td>\n",
       "      <td>1</td>\n",
       "      <td>2</td>\n",
       "      <td>30</td>\n",
       "      <td>0</td>\n",
       "      <td>0</td>\n",
       "      <td>0</td>\n",
       "      <td>-8</td>\n",
       "      <td>-3</td>\n",
       "      <td>1020</td>\n",
       "      <td>74</td>\n",
       "      <td>2.0</td>\n",
       "      <td>2011-01-01 02:30:00</td>\n",
       "    </tr>\n",
       "    <tr>\n",
       "      <th>3</th>\n",
       "      <td>2011</td>\n",
       "      <td>1</td>\n",
       "      <td>1</td>\n",
       "      <td>3</td>\n",
       "      <td>30</td>\n",
       "      <td>0</td>\n",
       "      <td>0</td>\n",
       "      <td>0</td>\n",
       "      <td>-8</td>\n",
       "      <td>-3</td>\n",
       "      <td>1020</td>\n",
       "      <td>70</td>\n",
       "      <td>1.9</td>\n",
       "      <td>2011-01-01 03:30:00</td>\n",
       "    </tr>\n",
       "    <tr>\n",
       "      <th>4</th>\n",
       "      <td>2011</td>\n",
       "      <td>1</td>\n",
       "      <td>1</td>\n",
       "      <td>4</td>\n",
       "      <td>30</td>\n",
       "      <td>0</td>\n",
       "      <td>0</td>\n",
       "      <td>0</td>\n",
       "      <td>-9</td>\n",
       "      <td>-3</td>\n",
       "      <td>1020</td>\n",
       "      <td>64</td>\n",
       "      <td>1.8</td>\n",
       "      <td>2011-01-01 04:30:00</td>\n",
       "    </tr>\n",
       "    <tr>\n",
       "      <th>...</th>\n",
       "      <td>...</td>\n",
       "      <td>...</td>\n",
       "      <td>...</td>\n",
       "      <td>...</td>\n",
       "      <td>...</td>\n",
       "      <td>...</td>\n",
       "      <td>...</td>\n",
       "      <td>...</td>\n",
       "      <td>...</td>\n",
       "      <td>...</td>\n",
       "      <td>...</td>\n",
       "      <td>...</td>\n",
       "      <td>...</td>\n",
       "      <td>...</td>\n",
       "    </tr>\n",
       "    <tr>\n",
       "      <th>8755</th>\n",
       "      <td>2011</td>\n",
       "      <td>12</td>\n",
       "      <td>31</td>\n",
       "      <td>19</td>\n",
       "      <td>30</td>\n",
       "      <td>0</td>\n",
       "      <td>0</td>\n",
       "      <td>0</td>\n",
       "      <td>-8</td>\n",
       "      <td>-2</td>\n",
       "      <td>1020</td>\n",
       "      <td>66</td>\n",
       "      <td>2.2</td>\n",
       "      <td>2011-12-31 19:30:00</td>\n",
       "    </tr>\n",
       "    <tr>\n",
       "      <th>8756</th>\n",
       "      <td>2011</td>\n",
       "      <td>12</td>\n",
       "      <td>31</td>\n",
       "      <td>20</td>\n",
       "      <td>30</td>\n",
       "      <td>0</td>\n",
       "      <td>0</td>\n",
       "      <td>0</td>\n",
       "      <td>-8</td>\n",
       "      <td>-2</td>\n",
       "      <td>1020</td>\n",
       "      <td>69</td>\n",
       "      <td>2.2</td>\n",
       "      <td>2011-12-31 20:30:00</td>\n",
       "    </tr>\n",
       "    <tr>\n",
       "      <th>8757</th>\n",
       "      <td>2011</td>\n",
       "      <td>12</td>\n",
       "      <td>31</td>\n",
       "      <td>21</td>\n",
       "      <td>30</td>\n",
       "      <td>0</td>\n",
       "      <td>0</td>\n",
       "      <td>0</td>\n",
       "      <td>-8</td>\n",
       "      <td>-2</td>\n",
       "      <td>1020</td>\n",
       "      <td>72</td>\n",
       "      <td>2.2</td>\n",
       "      <td>2011-12-31 21:30:00</td>\n",
       "    </tr>\n",
       "    <tr>\n",
       "      <th>8758</th>\n",
       "      <td>2011</td>\n",
       "      <td>12</td>\n",
       "      <td>31</td>\n",
       "      <td>22</td>\n",
       "      <td>30</td>\n",
       "      <td>0</td>\n",
       "      <td>0</td>\n",
       "      <td>0</td>\n",
       "      <td>-8</td>\n",
       "      <td>-2</td>\n",
       "      <td>1020</td>\n",
       "      <td>76</td>\n",
       "      <td>2.2</td>\n",
       "      <td>2011-12-31 22:30:00</td>\n",
       "    </tr>\n",
       "    <tr>\n",
       "      <th>8759</th>\n",
       "      <td>2011</td>\n",
       "      <td>12</td>\n",
       "      <td>31</td>\n",
       "      <td>23</td>\n",
       "      <td>30</td>\n",
       "      <td>0</td>\n",
       "      <td>0</td>\n",
       "      <td>0</td>\n",
       "      <td>-8</td>\n",
       "      <td>-2</td>\n",
       "      <td>1020</td>\n",
       "      <td>77</td>\n",
       "      <td>2.1</td>\n",
       "      <td>2011-12-31 23:30:00</td>\n",
       "    </tr>\n",
       "  </tbody>\n",
       "</table>\n",
       "<p>8760 rows × 14 columns</p>\n",
       "</div>"
      ],
      "text/plain": [
       "      Year  Month  Day  Hour  Minute  DNI  DHI  GHI  Dew Point  Temperature  \\\n",
       "0     2011      1    1     0      30    0    0    0         -8           -2   \n",
       "1     2011      1    1     1      30    0    0    0         -8           -3   \n",
       "2     2011      1    1     2      30    0    0    0         -8           -3   \n",
       "3     2011      1    1     3      30    0    0    0         -8           -3   \n",
       "4     2011      1    1     4      30    0    0    0         -9           -3   \n",
       "...    ...    ...  ...   ...     ...  ...  ...  ...        ...          ...   \n",
       "8755  2011     12   31    19      30    0    0    0         -8           -2   \n",
       "8756  2011     12   31    20      30    0    0    0         -8           -2   \n",
       "8757  2011     12   31    21      30    0    0    0         -8           -2   \n",
       "8758  2011     12   31    22      30    0    0    0         -8           -2   \n",
       "8759  2011     12   31    23      30    0    0    0         -8           -2   \n",
       "\n",
       "      Pressure  Wind Direction  Wind Speed            Datetime  \n",
       "0         1020              75         2.1 2011-01-01 00:30:00  \n",
       "1         1020              74         2.1 2011-01-01 01:30:00  \n",
       "2         1020              74         2.0 2011-01-01 02:30:00  \n",
       "3         1020              70         1.9 2011-01-01 03:30:00  \n",
       "4         1020              64         1.8 2011-01-01 04:30:00  \n",
       "...        ...             ...         ...                 ...  \n",
       "8755      1020              66         2.2 2011-12-31 19:30:00  \n",
       "8756      1020              69         2.2 2011-12-31 20:30:00  \n",
       "8757      1020              72         2.2 2011-12-31 21:30:00  \n",
       "8758      1020              76         2.2 2011-12-31 22:30:00  \n",
       "8759      1020              77         2.1 2011-12-31 23:30:00  \n",
       "\n",
       "[8760 rows x 14 columns]"
      ]
     },
     "execution_count": 9,
     "metadata": {},
     "output_type": "execute_result"
    }
   ],
   "source": [
    "vancouver_data"
   ]
  },
  {
   "cell_type": "code",
   "execution_count": 10,
   "id": "b3565f25-9a6f-4765-ba15-6a6078e4454d",
   "metadata": {},
   "outputs": [],
   "source": [
    "vancouver_data.set_index('Datetime', inplace=True)"
   ]
  },
  {
   "cell_type": "code",
   "execution_count": 11,
   "id": "0849d552-991a-4259-8a6f-fa7f4a1fab9e",
   "metadata": {
    "collapsed": true,
    "jupyter": {
     "outputs_hidden": true
    },
    "tags": []
   },
   "outputs": [
    {
     "data": {
      "text/html": [
       "<div>\n",
       "<style scoped>\n",
       "    .dataframe tbody tr th:only-of-type {\n",
       "        vertical-align: middle;\n",
       "    }\n",
       "\n",
       "    .dataframe tbody tr th {\n",
       "        vertical-align: top;\n",
       "    }\n",
       "\n",
       "    .dataframe thead th {\n",
       "        text-align: right;\n",
       "    }\n",
       "</style>\n",
       "<table border=\"1\" class=\"dataframe\">\n",
       "  <thead>\n",
       "    <tr style=\"text-align: right;\">\n",
       "      <th></th>\n",
       "      <th>Year</th>\n",
       "      <th>Month</th>\n",
       "      <th>Day</th>\n",
       "      <th>Hour</th>\n",
       "      <th>Minute</th>\n",
       "      <th>DNI</th>\n",
       "      <th>DHI</th>\n",
       "      <th>GHI</th>\n",
       "      <th>Dew Point</th>\n",
       "      <th>Temperature</th>\n",
       "      <th>Pressure</th>\n",
       "      <th>Wind Direction</th>\n",
       "      <th>Wind Speed</th>\n",
       "    </tr>\n",
       "    <tr>\n",
       "      <th>Datetime</th>\n",
       "      <th></th>\n",
       "      <th></th>\n",
       "      <th></th>\n",
       "      <th></th>\n",
       "      <th></th>\n",
       "      <th></th>\n",
       "      <th></th>\n",
       "      <th></th>\n",
       "      <th></th>\n",
       "      <th></th>\n",
       "      <th></th>\n",
       "      <th></th>\n",
       "      <th></th>\n",
       "    </tr>\n",
       "  </thead>\n",
       "  <tbody>\n",
       "    <tr>\n",
       "      <th>2011-01-01 00:30:00</th>\n",
       "      <td>2011</td>\n",
       "      <td>1</td>\n",
       "      <td>1</td>\n",
       "      <td>0</td>\n",
       "      <td>30</td>\n",
       "      <td>0</td>\n",
       "      <td>0</td>\n",
       "      <td>0</td>\n",
       "      <td>-8</td>\n",
       "      <td>-2</td>\n",
       "      <td>1020</td>\n",
       "      <td>75</td>\n",
       "      <td>2.1</td>\n",
       "    </tr>\n",
       "    <tr>\n",
       "      <th>2011-01-01 01:30:00</th>\n",
       "      <td>2011</td>\n",
       "      <td>1</td>\n",
       "      <td>1</td>\n",
       "      <td>1</td>\n",
       "      <td>30</td>\n",
       "      <td>0</td>\n",
       "      <td>0</td>\n",
       "      <td>0</td>\n",
       "      <td>-8</td>\n",
       "      <td>-3</td>\n",
       "      <td>1020</td>\n",
       "      <td>74</td>\n",
       "      <td>2.1</td>\n",
       "    </tr>\n",
       "    <tr>\n",
       "      <th>2011-01-01 02:30:00</th>\n",
       "      <td>2011</td>\n",
       "      <td>1</td>\n",
       "      <td>1</td>\n",
       "      <td>2</td>\n",
       "      <td>30</td>\n",
       "      <td>0</td>\n",
       "      <td>0</td>\n",
       "      <td>0</td>\n",
       "      <td>-8</td>\n",
       "      <td>-3</td>\n",
       "      <td>1020</td>\n",
       "      <td>74</td>\n",
       "      <td>2.0</td>\n",
       "    </tr>\n",
       "    <tr>\n",
       "      <th>2011-01-01 03:30:00</th>\n",
       "      <td>2011</td>\n",
       "      <td>1</td>\n",
       "      <td>1</td>\n",
       "      <td>3</td>\n",
       "      <td>30</td>\n",
       "      <td>0</td>\n",
       "      <td>0</td>\n",
       "      <td>0</td>\n",
       "      <td>-8</td>\n",
       "      <td>-3</td>\n",
       "      <td>1020</td>\n",
       "      <td>70</td>\n",
       "      <td>1.9</td>\n",
       "    </tr>\n",
       "    <tr>\n",
       "      <th>2011-01-01 04:30:00</th>\n",
       "      <td>2011</td>\n",
       "      <td>1</td>\n",
       "      <td>1</td>\n",
       "      <td>4</td>\n",
       "      <td>30</td>\n",
       "      <td>0</td>\n",
       "      <td>0</td>\n",
       "      <td>0</td>\n",
       "      <td>-9</td>\n",
       "      <td>-3</td>\n",
       "      <td>1020</td>\n",
       "      <td>64</td>\n",
       "      <td>1.8</td>\n",
       "    </tr>\n",
       "    <tr>\n",
       "      <th>...</th>\n",
       "      <td>...</td>\n",
       "      <td>...</td>\n",
       "      <td>...</td>\n",
       "      <td>...</td>\n",
       "      <td>...</td>\n",
       "      <td>...</td>\n",
       "      <td>...</td>\n",
       "      <td>...</td>\n",
       "      <td>...</td>\n",
       "      <td>...</td>\n",
       "      <td>...</td>\n",
       "      <td>...</td>\n",
       "      <td>...</td>\n",
       "    </tr>\n",
       "    <tr>\n",
       "      <th>2011-12-31 19:30:00</th>\n",
       "      <td>2011</td>\n",
       "      <td>12</td>\n",
       "      <td>31</td>\n",
       "      <td>19</td>\n",
       "      <td>30</td>\n",
       "      <td>0</td>\n",
       "      <td>0</td>\n",
       "      <td>0</td>\n",
       "      <td>-8</td>\n",
       "      <td>-2</td>\n",
       "      <td>1020</td>\n",
       "      <td>66</td>\n",
       "      <td>2.2</td>\n",
       "    </tr>\n",
       "    <tr>\n",
       "      <th>2011-12-31 20:30:00</th>\n",
       "      <td>2011</td>\n",
       "      <td>12</td>\n",
       "      <td>31</td>\n",
       "      <td>20</td>\n",
       "      <td>30</td>\n",
       "      <td>0</td>\n",
       "      <td>0</td>\n",
       "      <td>0</td>\n",
       "      <td>-8</td>\n",
       "      <td>-2</td>\n",
       "      <td>1020</td>\n",
       "      <td>69</td>\n",
       "      <td>2.2</td>\n",
       "    </tr>\n",
       "    <tr>\n",
       "      <th>2011-12-31 21:30:00</th>\n",
       "      <td>2011</td>\n",
       "      <td>12</td>\n",
       "      <td>31</td>\n",
       "      <td>21</td>\n",
       "      <td>30</td>\n",
       "      <td>0</td>\n",
       "      <td>0</td>\n",
       "      <td>0</td>\n",
       "      <td>-8</td>\n",
       "      <td>-2</td>\n",
       "      <td>1020</td>\n",
       "      <td>72</td>\n",
       "      <td>2.2</td>\n",
       "    </tr>\n",
       "    <tr>\n",
       "      <th>2011-12-31 22:30:00</th>\n",
       "      <td>2011</td>\n",
       "      <td>12</td>\n",
       "      <td>31</td>\n",
       "      <td>22</td>\n",
       "      <td>30</td>\n",
       "      <td>0</td>\n",
       "      <td>0</td>\n",
       "      <td>0</td>\n",
       "      <td>-8</td>\n",
       "      <td>-2</td>\n",
       "      <td>1020</td>\n",
       "      <td>76</td>\n",
       "      <td>2.2</td>\n",
       "    </tr>\n",
       "    <tr>\n",
       "      <th>2011-12-31 23:30:00</th>\n",
       "      <td>2011</td>\n",
       "      <td>12</td>\n",
       "      <td>31</td>\n",
       "      <td>23</td>\n",
       "      <td>30</td>\n",
       "      <td>0</td>\n",
       "      <td>0</td>\n",
       "      <td>0</td>\n",
       "      <td>-8</td>\n",
       "      <td>-2</td>\n",
       "      <td>1020</td>\n",
       "      <td>77</td>\n",
       "      <td>2.1</td>\n",
       "    </tr>\n",
       "  </tbody>\n",
       "</table>\n",
       "<p>8760 rows × 13 columns</p>\n",
       "</div>"
      ],
      "text/plain": [
       "                     Year  Month  Day  Hour  Minute  DNI  DHI  GHI  Dew Point  \\\n",
       "Datetime                                                                        \n",
       "2011-01-01 00:30:00  2011      1    1     0      30    0    0    0         -8   \n",
       "2011-01-01 01:30:00  2011      1    1     1      30    0    0    0         -8   \n",
       "2011-01-01 02:30:00  2011      1    1     2      30    0    0    0         -8   \n",
       "2011-01-01 03:30:00  2011      1    1     3      30    0    0    0         -8   \n",
       "2011-01-01 04:30:00  2011      1    1     4      30    0    0    0         -9   \n",
       "...                   ...    ...  ...   ...     ...  ...  ...  ...        ...   \n",
       "2011-12-31 19:30:00  2011     12   31    19      30    0    0    0         -8   \n",
       "2011-12-31 20:30:00  2011     12   31    20      30    0    0    0         -8   \n",
       "2011-12-31 21:30:00  2011     12   31    21      30    0    0    0         -8   \n",
       "2011-12-31 22:30:00  2011     12   31    22      30    0    0    0         -8   \n",
       "2011-12-31 23:30:00  2011     12   31    23      30    0    0    0         -8   \n",
       "\n",
       "                     Temperature  Pressure  Wind Direction  Wind Speed  \n",
       "Datetime                                                                \n",
       "2011-01-01 00:30:00           -2      1020              75         2.1  \n",
       "2011-01-01 01:30:00           -3      1020              74         2.1  \n",
       "2011-01-01 02:30:00           -3      1020              74         2.0  \n",
       "2011-01-01 03:30:00           -3      1020              70         1.9  \n",
       "2011-01-01 04:30:00           -3      1020              64         1.8  \n",
       "...                          ...       ...             ...         ...  \n",
       "2011-12-31 19:30:00           -2      1020              66         2.2  \n",
       "2011-12-31 20:30:00           -2      1020              69         2.2  \n",
       "2011-12-31 21:30:00           -2      1020              72         2.2  \n",
       "2011-12-31 22:30:00           -2      1020              76         2.2  \n",
       "2011-12-31 23:30:00           -2      1020              77         2.1  \n",
       "\n",
       "[8760 rows x 13 columns]"
      ]
     },
     "execution_count": 11,
     "metadata": {},
     "output_type": "execute_result"
    }
   ],
   "source": [
    "vancouver_data"
   ]
  },
  {
   "cell_type": "code",
   "execution_count": 12,
   "id": "95f64f49-001f-4491-9508-6c7fcc56f496",
   "metadata": {
    "tags": []
   },
   "outputs": [],
   "source": [
    "vancouver_data.index = vancouver_data.index.tz_localize('Canada/Pacific', \n",
    "                                                        ambiguous='NaT', nonexistent='shift_forward')"
   ]
  },
  {
   "cell_type": "code",
   "execution_count": 13,
   "id": "2090a561-b8c3-410e-8c39-f7813ca4c890",
   "metadata": {
    "collapsed": true,
    "jupyter": {
     "outputs_hidden": true
    },
    "tags": []
   },
   "outputs": [
    {
     "data": {
      "text/html": [
       "<div>\n",
       "<style scoped>\n",
       "    .dataframe tbody tr th:only-of-type {\n",
       "        vertical-align: middle;\n",
       "    }\n",
       "\n",
       "    .dataframe tbody tr th {\n",
       "        vertical-align: top;\n",
       "    }\n",
       "\n",
       "    .dataframe thead th {\n",
       "        text-align: right;\n",
       "    }\n",
       "</style>\n",
       "<table border=\"1\" class=\"dataframe\">\n",
       "  <thead>\n",
       "    <tr style=\"text-align: right;\">\n",
       "      <th></th>\n",
       "      <th>Year</th>\n",
       "      <th>Month</th>\n",
       "      <th>Day</th>\n",
       "      <th>Hour</th>\n",
       "      <th>Minute</th>\n",
       "      <th>DNI</th>\n",
       "      <th>DHI</th>\n",
       "      <th>GHI</th>\n",
       "      <th>Dew Point</th>\n",
       "      <th>Temperature</th>\n",
       "      <th>Pressure</th>\n",
       "      <th>Wind Direction</th>\n",
       "      <th>Wind Speed</th>\n",
       "    </tr>\n",
       "    <tr>\n",
       "      <th>Datetime</th>\n",
       "      <th></th>\n",
       "      <th></th>\n",
       "      <th></th>\n",
       "      <th></th>\n",
       "      <th></th>\n",
       "      <th></th>\n",
       "      <th></th>\n",
       "      <th></th>\n",
       "      <th></th>\n",
       "      <th></th>\n",
       "      <th></th>\n",
       "      <th></th>\n",
       "      <th></th>\n",
       "    </tr>\n",
       "  </thead>\n",
       "  <tbody>\n",
       "    <tr>\n",
       "      <th>2011-01-01 00:30:00-08:00</th>\n",
       "      <td>2011</td>\n",
       "      <td>1</td>\n",
       "      <td>1</td>\n",
       "      <td>0</td>\n",
       "      <td>30</td>\n",
       "      <td>0</td>\n",
       "      <td>0</td>\n",
       "      <td>0</td>\n",
       "      <td>-8</td>\n",
       "      <td>-2</td>\n",
       "      <td>1020</td>\n",
       "      <td>75</td>\n",
       "      <td>2.1</td>\n",
       "    </tr>\n",
       "    <tr>\n",
       "      <th>2011-01-01 01:30:00-08:00</th>\n",
       "      <td>2011</td>\n",
       "      <td>1</td>\n",
       "      <td>1</td>\n",
       "      <td>1</td>\n",
       "      <td>30</td>\n",
       "      <td>0</td>\n",
       "      <td>0</td>\n",
       "      <td>0</td>\n",
       "      <td>-8</td>\n",
       "      <td>-3</td>\n",
       "      <td>1020</td>\n",
       "      <td>74</td>\n",
       "      <td>2.1</td>\n",
       "    </tr>\n",
       "    <tr>\n",
       "      <th>2011-01-01 02:30:00-08:00</th>\n",
       "      <td>2011</td>\n",
       "      <td>1</td>\n",
       "      <td>1</td>\n",
       "      <td>2</td>\n",
       "      <td>30</td>\n",
       "      <td>0</td>\n",
       "      <td>0</td>\n",
       "      <td>0</td>\n",
       "      <td>-8</td>\n",
       "      <td>-3</td>\n",
       "      <td>1020</td>\n",
       "      <td>74</td>\n",
       "      <td>2.0</td>\n",
       "    </tr>\n",
       "    <tr>\n",
       "      <th>2011-01-01 03:30:00-08:00</th>\n",
       "      <td>2011</td>\n",
       "      <td>1</td>\n",
       "      <td>1</td>\n",
       "      <td>3</td>\n",
       "      <td>30</td>\n",
       "      <td>0</td>\n",
       "      <td>0</td>\n",
       "      <td>0</td>\n",
       "      <td>-8</td>\n",
       "      <td>-3</td>\n",
       "      <td>1020</td>\n",
       "      <td>70</td>\n",
       "      <td>1.9</td>\n",
       "    </tr>\n",
       "    <tr>\n",
       "      <th>2011-01-01 04:30:00-08:00</th>\n",
       "      <td>2011</td>\n",
       "      <td>1</td>\n",
       "      <td>1</td>\n",
       "      <td>4</td>\n",
       "      <td>30</td>\n",
       "      <td>0</td>\n",
       "      <td>0</td>\n",
       "      <td>0</td>\n",
       "      <td>-9</td>\n",
       "      <td>-3</td>\n",
       "      <td>1020</td>\n",
       "      <td>64</td>\n",
       "      <td>1.8</td>\n",
       "    </tr>\n",
       "    <tr>\n",
       "      <th>...</th>\n",
       "      <td>...</td>\n",
       "      <td>...</td>\n",
       "      <td>...</td>\n",
       "      <td>...</td>\n",
       "      <td>...</td>\n",
       "      <td>...</td>\n",
       "      <td>...</td>\n",
       "      <td>...</td>\n",
       "      <td>...</td>\n",
       "      <td>...</td>\n",
       "      <td>...</td>\n",
       "      <td>...</td>\n",
       "      <td>...</td>\n",
       "    </tr>\n",
       "    <tr>\n",
       "      <th>2011-12-31 19:30:00-08:00</th>\n",
       "      <td>2011</td>\n",
       "      <td>12</td>\n",
       "      <td>31</td>\n",
       "      <td>19</td>\n",
       "      <td>30</td>\n",
       "      <td>0</td>\n",
       "      <td>0</td>\n",
       "      <td>0</td>\n",
       "      <td>-8</td>\n",
       "      <td>-2</td>\n",
       "      <td>1020</td>\n",
       "      <td>66</td>\n",
       "      <td>2.2</td>\n",
       "    </tr>\n",
       "    <tr>\n",
       "      <th>2011-12-31 20:30:00-08:00</th>\n",
       "      <td>2011</td>\n",
       "      <td>12</td>\n",
       "      <td>31</td>\n",
       "      <td>20</td>\n",
       "      <td>30</td>\n",
       "      <td>0</td>\n",
       "      <td>0</td>\n",
       "      <td>0</td>\n",
       "      <td>-8</td>\n",
       "      <td>-2</td>\n",
       "      <td>1020</td>\n",
       "      <td>69</td>\n",
       "      <td>2.2</td>\n",
       "    </tr>\n",
       "    <tr>\n",
       "      <th>2011-12-31 21:30:00-08:00</th>\n",
       "      <td>2011</td>\n",
       "      <td>12</td>\n",
       "      <td>31</td>\n",
       "      <td>21</td>\n",
       "      <td>30</td>\n",
       "      <td>0</td>\n",
       "      <td>0</td>\n",
       "      <td>0</td>\n",
       "      <td>-8</td>\n",
       "      <td>-2</td>\n",
       "      <td>1020</td>\n",
       "      <td>72</td>\n",
       "      <td>2.2</td>\n",
       "    </tr>\n",
       "    <tr>\n",
       "      <th>2011-12-31 22:30:00-08:00</th>\n",
       "      <td>2011</td>\n",
       "      <td>12</td>\n",
       "      <td>31</td>\n",
       "      <td>22</td>\n",
       "      <td>30</td>\n",
       "      <td>0</td>\n",
       "      <td>0</td>\n",
       "      <td>0</td>\n",
       "      <td>-8</td>\n",
       "      <td>-2</td>\n",
       "      <td>1020</td>\n",
       "      <td>76</td>\n",
       "      <td>2.2</td>\n",
       "    </tr>\n",
       "    <tr>\n",
       "      <th>2011-12-31 23:30:00-08:00</th>\n",
       "      <td>2011</td>\n",
       "      <td>12</td>\n",
       "      <td>31</td>\n",
       "      <td>23</td>\n",
       "      <td>30</td>\n",
       "      <td>0</td>\n",
       "      <td>0</td>\n",
       "      <td>0</td>\n",
       "      <td>-8</td>\n",
       "      <td>-2</td>\n",
       "      <td>1020</td>\n",
       "      <td>77</td>\n",
       "      <td>2.1</td>\n",
       "    </tr>\n",
       "  </tbody>\n",
       "</table>\n",
       "<p>8760 rows × 13 columns</p>\n",
       "</div>"
      ],
      "text/plain": [
       "                           Year  Month  Day  Hour  Minute  DNI  DHI  GHI  \\\n",
       "Datetime                                                                   \n",
       "2011-01-01 00:30:00-08:00  2011      1    1     0      30    0    0    0   \n",
       "2011-01-01 01:30:00-08:00  2011      1    1     1      30    0    0    0   \n",
       "2011-01-01 02:30:00-08:00  2011      1    1     2      30    0    0    0   \n",
       "2011-01-01 03:30:00-08:00  2011      1    1     3      30    0    0    0   \n",
       "2011-01-01 04:30:00-08:00  2011      1    1     4      30    0    0    0   \n",
       "...                         ...    ...  ...   ...     ...  ...  ...  ...   \n",
       "2011-12-31 19:30:00-08:00  2011     12   31    19      30    0    0    0   \n",
       "2011-12-31 20:30:00-08:00  2011     12   31    20      30    0    0    0   \n",
       "2011-12-31 21:30:00-08:00  2011     12   31    21      30    0    0    0   \n",
       "2011-12-31 22:30:00-08:00  2011     12   31    22      30    0    0    0   \n",
       "2011-12-31 23:30:00-08:00  2011     12   31    23      30    0    0    0   \n",
       "\n",
       "                           Dew Point  Temperature  Pressure  Wind Direction  \\\n",
       "Datetime                                                                      \n",
       "2011-01-01 00:30:00-08:00         -8           -2      1020              75   \n",
       "2011-01-01 01:30:00-08:00         -8           -3      1020              74   \n",
       "2011-01-01 02:30:00-08:00         -8           -3      1020              74   \n",
       "2011-01-01 03:30:00-08:00         -8           -3      1020              70   \n",
       "2011-01-01 04:30:00-08:00         -9           -3      1020              64   \n",
       "...                              ...          ...       ...             ...   \n",
       "2011-12-31 19:30:00-08:00         -8           -2      1020              66   \n",
       "2011-12-31 20:30:00-08:00         -8           -2      1020              69   \n",
       "2011-12-31 21:30:00-08:00         -8           -2      1020              72   \n",
       "2011-12-31 22:30:00-08:00         -8           -2      1020              76   \n",
       "2011-12-31 23:30:00-08:00         -8           -2      1020              77   \n",
       "\n",
       "                           Wind Speed  \n",
       "Datetime                               \n",
       "2011-01-01 00:30:00-08:00         2.1  \n",
       "2011-01-01 01:30:00-08:00         2.1  \n",
       "2011-01-01 02:30:00-08:00         2.0  \n",
       "2011-01-01 03:30:00-08:00         1.9  \n",
       "2011-01-01 04:30:00-08:00         1.8  \n",
       "...                               ...  \n",
       "2011-12-31 19:30:00-08:00         2.2  \n",
       "2011-12-31 20:30:00-08:00         2.2  \n",
       "2011-12-31 21:30:00-08:00         2.2  \n",
       "2011-12-31 22:30:00-08:00         2.2  \n",
       "2011-12-31 23:30:00-08:00         2.1  \n",
       "\n",
       "[8760 rows x 13 columns]"
      ]
     },
     "execution_count": 13,
     "metadata": {},
     "output_type": "execute_result"
    }
   ],
   "source": [
    "vancouver_data"
   ]
  },
  {
   "cell_type": "code",
   "execution_count": 14,
   "id": "f99ae52f-1ffa-47ef-8092-7efa08c2d2d2",
   "metadata": {},
   "outputs": [],
   "source": [
    "vancouver_data.drop(columns=['Year', 'Month', 'Day', 'Hour', 'Minute'], inplace=True)"
   ]
  },
  {
   "cell_type": "code",
   "execution_count": 15,
   "id": "f399650e-c38e-4a3f-815c-ea0b831af3c9",
   "metadata": {
    "collapsed": true,
    "jupyter": {
     "outputs_hidden": true
    },
    "tags": []
   },
   "outputs": [
    {
     "data": {
      "text/html": [
       "<div>\n",
       "<style scoped>\n",
       "    .dataframe tbody tr th:only-of-type {\n",
       "        vertical-align: middle;\n",
       "    }\n",
       "\n",
       "    .dataframe tbody tr th {\n",
       "        vertical-align: top;\n",
       "    }\n",
       "\n",
       "    .dataframe thead th {\n",
       "        text-align: right;\n",
       "    }\n",
       "</style>\n",
       "<table border=\"1\" class=\"dataframe\">\n",
       "  <thead>\n",
       "    <tr style=\"text-align: right;\">\n",
       "      <th></th>\n",
       "      <th>DNI</th>\n",
       "      <th>DHI</th>\n",
       "      <th>GHI</th>\n",
       "      <th>Dew Point</th>\n",
       "      <th>Temperature</th>\n",
       "      <th>Pressure</th>\n",
       "      <th>Wind Direction</th>\n",
       "      <th>Wind Speed</th>\n",
       "    </tr>\n",
       "    <tr>\n",
       "      <th>Datetime</th>\n",
       "      <th></th>\n",
       "      <th></th>\n",
       "      <th></th>\n",
       "      <th></th>\n",
       "      <th></th>\n",
       "      <th></th>\n",
       "      <th></th>\n",
       "      <th></th>\n",
       "    </tr>\n",
       "  </thead>\n",
       "  <tbody>\n",
       "    <tr>\n",
       "      <th>2011-01-01 00:30:00-08:00</th>\n",
       "      <td>0</td>\n",
       "      <td>0</td>\n",
       "      <td>0</td>\n",
       "      <td>-8</td>\n",
       "      <td>-2</td>\n",
       "      <td>1020</td>\n",
       "      <td>75</td>\n",
       "      <td>2.1</td>\n",
       "    </tr>\n",
       "    <tr>\n",
       "      <th>2011-01-01 01:30:00-08:00</th>\n",
       "      <td>0</td>\n",
       "      <td>0</td>\n",
       "      <td>0</td>\n",
       "      <td>-8</td>\n",
       "      <td>-3</td>\n",
       "      <td>1020</td>\n",
       "      <td>74</td>\n",
       "      <td>2.1</td>\n",
       "    </tr>\n",
       "    <tr>\n",
       "      <th>2011-01-01 02:30:00-08:00</th>\n",
       "      <td>0</td>\n",
       "      <td>0</td>\n",
       "      <td>0</td>\n",
       "      <td>-8</td>\n",
       "      <td>-3</td>\n",
       "      <td>1020</td>\n",
       "      <td>74</td>\n",
       "      <td>2.0</td>\n",
       "    </tr>\n",
       "    <tr>\n",
       "      <th>2011-01-01 03:30:00-08:00</th>\n",
       "      <td>0</td>\n",
       "      <td>0</td>\n",
       "      <td>0</td>\n",
       "      <td>-8</td>\n",
       "      <td>-3</td>\n",
       "      <td>1020</td>\n",
       "      <td>70</td>\n",
       "      <td>1.9</td>\n",
       "    </tr>\n",
       "    <tr>\n",
       "      <th>2011-01-01 04:30:00-08:00</th>\n",
       "      <td>0</td>\n",
       "      <td>0</td>\n",
       "      <td>0</td>\n",
       "      <td>-9</td>\n",
       "      <td>-3</td>\n",
       "      <td>1020</td>\n",
       "      <td>64</td>\n",
       "      <td>1.8</td>\n",
       "    </tr>\n",
       "    <tr>\n",
       "      <th>...</th>\n",
       "      <td>...</td>\n",
       "      <td>...</td>\n",
       "      <td>...</td>\n",
       "      <td>...</td>\n",
       "      <td>...</td>\n",
       "      <td>...</td>\n",
       "      <td>...</td>\n",
       "      <td>...</td>\n",
       "    </tr>\n",
       "    <tr>\n",
       "      <th>2011-12-31 19:30:00-08:00</th>\n",
       "      <td>0</td>\n",
       "      <td>0</td>\n",
       "      <td>0</td>\n",
       "      <td>-8</td>\n",
       "      <td>-2</td>\n",
       "      <td>1020</td>\n",
       "      <td>66</td>\n",
       "      <td>2.2</td>\n",
       "    </tr>\n",
       "    <tr>\n",
       "      <th>2011-12-31 20:30:00-08:00</th>\n",
       "      <td>0</td>\n",
       "      <td>0</td>\n",
       "      <td>0</td>\n",
       "      <td>-8</td>\n",
       "      <td>-2</td>\n",
       "      <td>1020</td>\n",
       "      <td>69</td>\n",
       "      <td>2.2</td>\n",
       "    </tr>\n",
       "    <tr>\n",
       "      <th>2011-12-31 21:30:00-08:00</th>\n",
       "      <td>0</td>\n",
       "      <td>0</td>\n",
       "      <td>0</td>\n",
       "      <td>-8</td>\n",
       "      <td>-2</td>\n",
       "      <td>1020</td>\n",
       "      <td>72</td>\n",
       "      <td>2.2</td>\n",
       "    </tr>\n",
       "    <tr>\n",
       "      <th>2011-12-31 22:30:00-08:00</th>\n",
       "      <td>0</td>\n",
       "      <td>0</td>\n",
       "      <td>0</td>\n",
       "      <td>-8</td>\n",
       "      <td>-2</td>\n",
       "      <td>1020</td>\n",
       "      <td>76</td>\n",
       "      <td>2.2</td>\n",
       "    </tr>\n",
       "    <tr>\n",
       "      <th>2011-12-31 23:30:00-08:00</th>\n",
       "      <td>0</td>\n",
       "      <td>0</td>\n",
       "      <td>0</td>\n",
       "      <td>-8</td>\n",
       "      <td>-2</td>\n",
       "      <td>1020</td>\n",
       "      <td>77</td>\n",
       "      <td>2.1</td>\n",
       "    </tr>\n",
       "  </tbody>\n",
       "</table>\n",
       "<p>8760 rows × 8 columns</p>\n",
       "</div>"
      ],
      "text/plain": [
       "                           DNI  DHI  GHI  Dew Point  Temperature  Pressure  \\\n",
       "Datetime                                                                     \n",
       "2011-01-01 00:30:00-08:00    0    0    0         -8           -2      1020   \n",
       "2011-01-01 01:30:00-08:00    0    0    0         -8           -3      1020   \n",
       "2011-01-01 02:30:00-08:00    0    0    0         -8           -3      1020   \n",
       "2011-01-01 03:30:00-08:00    0    0    0         -8           -3      1020   \n",
       "2011-01-01 04:30:00-08:00    0    0    0         -9           -3      1020   \n",
       "...                        ...  ...  ...        ...          ...       ...   \n",
       "2011-12-31 19:30:00-08:00    0    0    0         -8           -2      1020   \n",
       "2011-12-31 20:30:00-08:00    0    0    0         -8           -2      1020   \n",
       "2011-12-31 21:30:00-08:00    0    0    0         -8           -2      1020   \n",
       "2011-12-31 22:30:00-08:00    0    0    0         -8           -2      1020   \n",
       "2011-12-31 23:30:00-08:00    0    0    0         -8           -2      1020   \n",
       "\n",
       "                           Wind Direction  Wind Speed  \n",
       "Datetime                                               \n",
       "2011-01-01 00:30:00-08:00              75         2.1  \n",
       "2011-01-01 01:30:00-08:00              74         2.1  \n",
       "2011-01-01 02:30:00-08:00              74         2.0  \n",
       "2011-01-01 03:30:00-08:00              70         1.9  \n",
       "2011-01-01 04:30:00-08:00              64         1.8  \n",
       "...                                   ...         ...  \n",
       "2011-12-31 19:30:00-08:00              66         2.2  \n",
       "2011-12-31 20:30:00-08:00              69         2.2  \n",
       "2011-12-31 21:30:00-08:00              72         2.2  \n",
       "2011-12-31 22:30:00-08:00              76         2.2  \n",
       "2011-12-31 23:30:00-08:00              77         2.1  \n",
       "\n",
       "[8760 rows x 8 columns]"
      ]
     },
     "execution_count": 15,
     "metadata": {},
     "output_type": "execute_result"
    }
   ],
   "source": [
    "vancouver_data"
   ]
  },
  {
   "cell_type": "code",
   "execution_count": 16,
   "id": "e641c259-bb9e-458a-89f1-45b13c2ea618",
   "metadata": {},
   "outputs": [],
   "source": [
    "vancouver_data_ghi = vancouver_data.GHI"
   ]
  },
  {
   "cell_type": "code",
   "execution_count": 17,
   "id": "995a14d4-6b0d-465c-bc23-ccc6c29c75fa",
   "metadata": {
    "collapsed": true,
    "jupyter": {
     "outputs_hidden": true
    },
    "tags": []
   },
   "outputs": [
    {
     "data": {
      "text/plain": [
       "Datetime\n",
       "2011-01-01 00:30:00-08:00    0\n",
       "2011-01-01 01:30:00-08:00    0\n",
       "2011-01-01 02:30:00-08:00    0\n",
       "2011-01-01 03:30:00-08:00    0\n",
       "2011-01-01 04:30:00-08:00    0\n",
       "                            ..\n",
       "2011-12-31 19:30:00-08:00    0\n",
       "2011-12-31 20:30:00-08:00    0\n",
       "2011-12-31 21:30:00-08:00    0\n",
       "2011-12-31 22:30:00-08:00    0\n",
       "2011-12-31 23:30:00-08:00    0\n",
       "Name: GHI, Length: 8760, dtype: int64"
      ]
     },
     "execution_count": 17,
     "metadata": {},
     "output_type": "execute_result"
    }
   ],
   "source": [
    "vancouver_data_ghi"
   ]
  },
  {
   "cell_type": "code",
   "execution_count": 18,
   "id": "ebfae7d4-8cef-41b5-9327-00f3db2714af",
   "metadata": {},
   "outputs": [
    {
     "data": {
      "text/plain": [
       "(8760,)"
      ]
     },
     "execution_count": 18,
     "metadata": {},
     "output_type": "execute_result"
    }
   ],
   "source": [
    "vancouver_data_ghi.shape"
   ]
  },
  {
   "cell_type": "code",
   "execution_count": 19,
   "id": "0d48dab8-47e4-4b82-87d8-6f87ab136ec3",
   "metadata": {},
   "outputs": [],
   "source": [
    "vancouver_data_ghi_0706 = vancouver_data_ghi[vancouver_data_ghi.index.strftime('%m-%d')=='07-06']"
   ]
  },
  {
   "cell_type": "code",
   "execution_count": 20,
   "id": "37611a88-43d7-4392-afbf-673f2ed47188",
   "metadata": {
    "collapsed": true,
    "jupyter": {
     "outputs_hidden": true
    },
    "tags": []
   },
   "outputs": [
    {
     "data": {
      "text/plain": [
       "Datetime\n",
       "2002-07-06 00:30:00-07:00      0\n",
       "2002-07-06 01:30:00-07:00      0\n",
       "2002-07-06 02:30:00-07:00      0\n",
       "2002-07-06 03:30:00-07:00      0\n",
       "2002-07-06 04:30:00-07:00     11\n",
       "2002-07-06 05:30:00-07:00    102\n",
       "2002-07-06 06:30:00-07:00    264\n",
       "2002-07-06 07:30:00-07:00    446\n",
       "2002-07-06 08:30:00-07:00    603\n",
       "2002-07-06 09:30:00-07:00    739\n",
       "2002-07-06 10:30:00-07:00    841\n",
       "2002-07-06 11:30:00-07:00    901\n",
       "2002-07-06 12:30:00-07:00    915\n",
       "2002-07-06 13:30:00-07:00    878\n",
       "2002-07-06 14:30:00-07:00    796\n",
       "2002-07-06 15:30:00-07:00    677\n",
       "2002-07-06 16:30:00-07:00    529\n",
       "2002-07-06 17:30:00-07:00    365\n",
       "2002-07-06 18:30:00-07:00    186\n",
       "2002-07-06 19:30:00-07:00     43\n",
       "2002-07-06 20:30:00-07:00      0\n",
       "2002-07-06 21:30:00-07:00      0\n",
       "2002-07-06 22:30:00-07:00      0\n",
       "2002-07-06 23:30:00-07:00      0\n",
       "Name: GHI, dtype: int64"
      ]
     },
     "execution_count": 20,
     "metadata": {},
     "output_type": "execute_result"
    }
   ],
   "source": [
    "vancouver_data_ghi_0706"
   ]
  },
  {
   "cell_type": "code",
   "execution_count": 21,
   "id": "beea6959-239f-412e-99ba-06b974dd6dba",
   "metadata": {
    "collapsed": true,
    "jupyter": {
     "outputs_hidden": true
    },
    "tags": []
   },
   "outputs": [
    {
     "data": {
      "text/plain": [
       "<AxesSubplot:xlabel='Datetime'>"
      ]
     },
     "execution_count": 21,
     "metadata": {},
     "output_type": "execute_result"
    },
    {
     "data": {
      "image/png": "[encoded data removed]",
      "text/plain": [
       "<Figure size 432x288 with 1 Axes>"
      ]
     },
     "metadata": {
      "needs_background": "light"
     },
     "output_type": "display_data"
    }
   ],
   "source": [
    "vancouver_data_ghi_0706.plot()"
   ]
  },
  {
   "cell_type": "code",
   "execution_count": 22,
   "id": "9e1f4bf2-33fb-492f-9a6b-bfe0934265c3",
   "metadata": {},
   "outputs": [],
   "source": [
    "vancouver_data_ghi_0717 = vancouver_data_ghi[vancouver_data_ghi.index.strftime('%m-%d')=='07-17']"
   ]
  },
  {
   "cell_type": "code",
   "execution_count": 23,
   "id": "4c54fc5f-3747-4c4f-a4db-3e34d1ceb2cc",
   "metadata": {
    "collapsed": true,
    "jupyter": {
     "outputs_hidden": true
    },
    "tags": []
   },
   "outputs": [
    {
     "data": {
      "text/plain": [
       "Datetime\n",
       "2002-07-17 00:30:00-07:00      0\n",
       "2002-07-17 01:30:00-07:00      0\n",
       "2002-07-17 02:30:00-07:00      0\n",
       "2002-07-17 03:30:00-07:00      0\n",
       "2002-07-17 04:30:00-07:00      0\n",
       "2002-07-17 05:30:00-07:00     16\n",
       "2002-07-17 06:30:00-07:00      8\n",
       "2002-07-17 07:30:00-07:00    165\n",
       "2002-07-17 08:30:00-07:00    238\n",
       "2002-07-17 09:30:00-07:00    172\n",
       "2002-07-17 10:30:00-07:00    278\n",
       "2002-07-17 11:30:00-07:00    382\n",
       "2002-07-17 12:30:00-07:00    350\n",
       "2002-07-17 13:30:00-07:00    316\n",
       "2002-07-17 14:30:00-07:00    211\n",
       "2002-07-17 15:30:00-07:00    286\n",
       "2002-07-17 16:30:00-07:00    192\n",
       "2002-07-17 17:30:00-07:00     96\n",
       "2002-07-17 18:30:00-07:00     24\n",
       "2002-07-17 19:30:00-07:00      5\n",
       "2002-07-17 20:30:00-07:00      0\n",
       "2002-07-17 21:30:00-07:00      0\n",
       "2002-07-17 22:30:00-07:00      0\n",
       "2002-07-17 23:30:00-07:00      0\n",
       "Name: GHI, dtype: int64"
      ]
     },
     "execution_count": 23,
     "metadata": {},
     "output_type": "execute_result"
    }
   ],
   "source": [
    "vancouver_data_ghi_0717"
   ]
  },
  {
   "cell_type": "code",
   "execution_count": 24,
   "id": "851acedc-20e8-4e19-84f2-da50f6c32177",
   "metadata": {},
   "outputs": [
    {
     "data": {
      "text/plain": [
       "<AxesSubplot:xlabel='Datetime'>"
      ]
     },
     "execution_count": 24,
     "metadata": {},
     "output_type": "execute_result"
    },
    {
     "data": {
      "image/png": "[encoded data removed]",
      "text/plain": [
       "<Figure size 432x288 with 1 Axes>"
      ]
     },
     "metadata": {
      "needs_background": "light"
     },
     "output_type": "display_data"
    }
   ],
   "source": [
    "vancouver_data_ghi_0717.plot()"
   ]
  },
  {
   "cell_type": "markdown",
   "id": "521b54ed-8274-4dfd-a200-c05fd980fd02",
   "metadata": {},
   "source": [
    "### Get clearsky data for the same day"
   ]
  },
  {
   "cell_type": "code",
   "execution_count": 25,
   "id": "930ee4bd-830d-427c-83af-5572964ca351",
   "metadata": {
    "collapsed": true,
    "jupyter": {
     "outputs_hidden": true
    },
    "tags": []
   },
   "outputs": [
    {
     "data": {
      "text/plain": [
       "DatetimeIndex(['2002-07-17 00:30:00-07:00', '2002-07-17 01:30:00-07:00',\n",
       "               '2002-07-17 02:30:00-07:00', '2002-07-17 03:30:00-07:00',\n",
       "               '2002-07-17 04:30:00-07:00', '2002-07-17 05:30:00-07:00',\n",
       "               '2002-07-17 06:30:00-07:00', '2002-07-17 07:30:00-07:00',\n",
       "               '2002-07-17 08:30:00-07:00', '2002-07-17 09:30:00-07:00',\n",
       "               '2002-07-17 10:30:00-07:00', '2002-07-17 11:30:00-07:00',\n",
       "               '2002-07-17 12:30:00-07:00', '2002-07-17 13:30:00-07:00',\n",
       "               '2002-07-17 14:30:00-07:00', '2002-07-17 15:30:00-07:00',\n",
       "               '2002-07-17 16:30:00-07:00', '2002-07-17 17:30:00-07:00',\n",
       "               '2002-07-17 18:30:00-07:00', '2002-07-17 19:30:00-07:00',\n",
       "               '2002-07-17 20:30:00-07:00', '2002-07-17 21:30:00-07:00',\n",
       "               '2002-07-17 22:30:00-07:00', '2002-07-17 23:30:00-07:00'],\n",
       "              dtype='datetime64[ns, Canada/Pacific]', name='Datetime', freq=None)"
      ]
     },
     "execution_count": 25,
     "metadata": {},
     "output_type": "execute_result"
    }
   ],
   "source": [
    "vancouver_data_ghi_0717.index"
   ]
  },
  {
   "cell_type": "code",
   "execution_count": 26,
   "id": "817c1faf-b2d4-466a-b6f0-b9f0c5782035",
   "metadata": {},
   "outputs": [],
   "source": [
    "vancouver_clearsky_ghi_0717 = get_clearsky(49.263566, -123.138572, \n",
    "                                           'Canada/Pacific', vancouver_data_ghi_0717.index,\n",
    "                                           location_name='Vancouver, BC, Canada')['ghi']"
   ]
  },
  {
   "cell_type": "code",
   "execution_count": 27,
   "id": "ea73ab64-888e-46d1-972f-20d7a2f0a20f",
   "metadata": {
    "collapsed": true,
    "jupyter": {
     "outputs_hidden": true
    },
    "tags": []
   },
   "outputs": [
    {
     "data": {
      "text/plain": [
       "Datetime\n",
       "2002-07-17 00:30:00-07:00      0.000000\n",
       "2002-07-17 01:30:00-07:00      0.000000\n",
       "2002-07-17 02:30:00-07:00      0.000000\n",
       "2002-07-17 03:30:00-07:00      0.000000\n",
       "2002-07-17 04:30:00-07:00      0.000000\n",
       "2002-07-17 05:30:00-07:00      0.049742\n",
       "2002-07-17 06:30:00-07:00     68.561097\n",
       "2002-07-17 07:30:00-07:00    222.671380\n",
       "2002-07-17 08:30:00-07:00    391.407154\n",
       "2002-07-17 09:30:00-07:00    550.889221\n",
       "2002-07-17 10:30:00-07:00    686.901315\n",
       "2002-07-17 11:30:00-07:00    788.912796\n",
       "2002-07-17 12:30:00-07:00    849.411568\n",
       "2002-07-17 13:30:00-07:00    864.027151\n",
       "2002-07-17 14:30:00-07:00    831.702461\n",
       "2002-07-17 15:30:00-07:00    754.742638\n",
       "2002-07-17 16:30:00-07:00    638.714004\n",
       "2002-07-17 17:30:00-07:00    492.259700\n",
       "2002-07-17 18:30:00-07:00    327.127361\n",
       "2002-07-17 19:30:00-07:00    159.822949\n",
       "2002-07-17 20:30:00-07:00     25.086362\n",
       "2002-07-17 21:30:00-07:00      0.000000\n",
       "2002-07-17 22:30:00-07:00      0.000000\n",
       "2002-07-17 23:30:00-07:00      0.000000\n",
       "Name: ghi, dtype: float64"
      ]
     },
     "execution_count": 27,
     "metadata": {},
     "output_type": "execute_result"
    }
   ],
   "source": [
    "vancouver_clearsky_ghi_0717"
   ]
  },
  {
   "cell_type": "code",
   "execution_count": 28,
   "id": "38e09027-aa90-4838-86d9-4de92fc40ebc",
   "metadata": {},
   "outputs": [
    {
     "data": {
      "text/plain": [
       "<AxesSubplot:xlabel='Datetime'>"
      ]
     },
     "execution_count": 28,
     "metadata": {},
     "output_type": "execute_result"
    },
    {
     "data": {
      "image/png": "[encoded data removed]",
      "text/plain": [
       "<Figure size 432x288 with 1 Axes>"
      ]
     },
     "metadata": {
      "needs_background": "light"
     },
     "output_type": "display_data"
    }
   ],
   "source": [
    "vancouver_clearsky_ghi_0717.plot()"
   ]
  },
  {
   "cell_type": "code",
   "execution_count": 30,
   "id": "72ed1660-aed3-4b6a-9f63-ea326c46decb",
   "metadata": {},
   "outputs": [
    {
     "data": {
      "text/plain": [
       "<AxesSubplot:xlabel='Datetime'>"
      ]
     },
     "execution_count": 30,
     "metadata": {},
     "output_type": "execute_result"
    },
    {
     "data": {
      "image/png": "[encoded data removed]",
      "text/plain": [
       "<Figure size 432x288 with 1 Axes>"
      ]
     },
     "metadata": {
      "needs_background": "light"
     },
     "output_type": "display_data"
    }
   ],
   "source": [
    "(vancouver_data_ghi_0717 - vancouver_clearsky_ghi_0717).plot()"
   ]
  },
  {
   "cell_type": "code",
   "execution_count": 31,
   "id": "a341af5a-4211-4768-918f-051d35abd76f",
   "metadata": {},
   "outputs": [
    {
     "data": {
      "text/plain": [
       "864.0271509397637"
      ]
     },
     "execution_count": 31,
     "metadata": {},
     "output_type": "execute_result"
    }
   ],
   "source": [
    "vancouver_clearsky_ghi_0717.max()"
   ]
  },
  {
   "cell_type": "code",
   "execution_count": 32,
   "id": "ccebe553-c5e2-45bb-88bf-e3a33f3f4427",
   "metadata": {},
   "outputs": [
    {
     "data": {
      "text/plain": [
       "382"
      ]
     },
     "execution_count": 32,
     "metadata": {},
     "output_type": "execute_result"
    }
   ],
   "source": [
    "vancouver_data_ghi_0717.max()"
   ]
  },
  {
   "cell_type": "markdown",
   "id": "922d832e-bb78-4d17-be92-83a5b1754882",
   "metadata": {},
   "source": [
    "#### Change the clear sky data to the scale of cloudy sky data"
   ]
  },
  {
   "cell_type": "code",
   "execution_count": 35,
   "id": "fe9e76c3-2dc4-48b9-9750-821c3f5b3974",
   "metadata": {},
   "outputs": [],
   "source": [
    "vancouver_clearsky_ghi_scaled_0717 = vancouver_clearsky_ghi_0717 * (\n",
    "    vancouver_data_ghi_0717.max() / vancouver_clearsky_ghi_0717.max())"
   ]
  },
  {
   "cell_type": "code",
   "execution_count": 36,
   "id": "4e2d2386-8c7b-4c93-b096-d3c6a28bdd6e",
   "metadata": {},
   "outputs": [
    {
     "data": {
      "text/plain": [
       "<AxesSubplot:xlabel='Datetime'>"
      ]
     },
     "execution_count": 36,
     "metadata": {},
     "output_type": "execute_result"
    },
    {
     "data": {
      "image/png": "[encoded data removed]",
      "text/plain": [
       "<Figure size 432x288 with 1 Axes>"
      ]
     },
     "metadata": {
      "needs_background": "light"
     },
     "output_type": "display_data"
    }
   ],
   "source": [
    "vancouver_clearsky_ghi_scaled_0717.plot()"
   ]
  },
  {
   "cell_type": "code",
   "execution_count": 38,
   "id": "d88c4fa5-7ba4-47ce-848d-2148605e6c54",
   "metadata": {},
   "outputs": [],
   "source": [
    "vancouver_data_data_residual_0717 = vancouver_data_ghi_0717 - vancouver_clearsky_ghi_scaled_0717"
   ]
  },
  {
   "cell_type": "code",
   "execution_count": 39,
   "id": "e709eb55-fccc-44df-b749-c6ccd00a1fb0",
   "metadata": {},
   "outputs": [
    {
     "data": {
      "text/plain": [
       "<AxesSubplot:xlabel='Datetime'>"
      ]
     },
     "execution_count": 39,
     "metadata": {},
     "output_type": "execute_result"
    },
    {
     "data": {
      "image/png": "[encoded data removed]",
      "text/plain": [
       "<Figure size 432x288 with 1 Axes>"
      ]
     },
     "metadata": {
      "needs_background": "light"
     },
     "output_type": "display_data"
    }
   ],
   "source": [
    "vancouver_data_data_residual_0717.plot()"
   ]
  },
  {
   "cell_type": "markdown",
   "id": "6b66f94f-0a08-4813-8439-7bf2ea196d2c",
   "metadata": {},
   "source": [
    "### Try to apply Bayesian Time Series Analysis on this data, using PyMC3"
   ]
  },
  {
   "cell_type": "code",
   "execution_count": 1,
   "id": "d8ac049e-88de-4dea-a6c2-029eda9d30be",
   "metadata": {},
   "outputs": [],
   "source": [
    "import pymc3 as pm"
   ]
  },
  {
   "cell_type": "code",
   "execution_count": null,
   "id": "5f68264f-082a-4523-ae20-4df618bf4e8d",
   "metadata": {},
   "outputs": [],
   "source": []
  }
 ],
 "metadata": {
  "kernelspec": {
   "display_name": "Python 3 (ipykernel)",
   "language": "python",
   "name": "python3"
  },
  "language_info": {
   "codemirror_mode": {
    "name": "ipython",
    "version": 3
   },
   "file_extension": ".py",
   "mimetype": "text/x-python",
   "name": "python",
   "nbconvert_exporter": "python",
   "pygments_lexer": "ipython3",
   "version": "3.10.5"
  }
 },
 "nbformat": 4,
 "nbformat_minor": 5
}
