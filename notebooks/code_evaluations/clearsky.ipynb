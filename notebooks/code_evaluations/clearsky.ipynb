{
 "cells": [
  {
   "cell_type": "markdown",
   "id": "8c274ed0-ae46-42f6-a824-8615776e4d39",
   "metadata": {},
   "source": [
    "## To evaluate get_clearsky function"
   ]
  },
  {
   "cell_type": "code",
   "execution_count": 1,
   "id": "1eede2cf-4822-4834-ba61-181b40b2aa66",
   "metadata": {},
   "outputs": [],
   "source": [
    "%load_ext autoreload\n",
    "%autoreload 2"
   ]
  },
  {
   "cell_type": "code",
   "execution_count": 2,
   "id": "818a079c-f112-48fe-8b19-0c2859fee1bc",
   "metadata": {},
   "outputs": [],
   "source": [
    "import numpy as np\n",
    "import pandas as pd\n",
    "import matplotlib.pyplot as plt"
   ]
  },
  {
   "cell_type": "code",
   "execution_count": 13,
   "id": "18b8fd8f-bf58-4806-a2eb-f7df1a0d3a98",
   "metadata": {},
   "outputs": [],
   "source": [
    "from datetime import datetime\n",
    "from zoneinfo import ZoneInfo"
   ]
  },
  {
   "cell_type": "code",
   "execution_count": 3,
   "id": "0e8b6e23-a575-420d-b7a2-179b2949f431",
   "metadata": {},
   "outputs": [],
   "source": [
    "from agrivoltaics_supply_side_management.solar_irradiation.clearsky import get_clearsky"
   ]
  },
  {
   "cell_type": "code",
   "execution_count": 4,
   "id": "f8fb843a-f260-4957-86a8-4cd54953c9a1",
   "metadata": {},
   "outputs": [],
   "source": [
    "lattitude, longitude = 49.26757152616243, -123.25266177347093\n",
    "timezone = 'Canada/Pacific'\n",
    "times = pd.date_range('2022-07-06', '2022-07-07', freq='1T',\n",
    "                              tz=timezone)"
   ]
  },
  {
   "cell_type": "code",
   "execution_count": 5,
   "id": "4ca1810f-ea37-432b-8b42-1862d22db538",
   "metadata": {},
   "outputs": [],
   "source": [
    "clearsky_irradiance = get_clearsky(lattitude, longitude, timezone, times)"
   ]
  },
  {
   "cell_type": "code",
   "execution_count": 6,
   "id": "6550b13f-3a48-468c-90ea-27a8c7a52257",
   "metadata": {},
   "outputs": [
    {
     "data": {
      "text/html": [
       "<div>\n",
       "<style scoped>\n",
       "    .dataframe tbody tr th:only-of-type {\n",
       "        vertical-align: middle;\n",
       "    }\n",
       "\n",
       "    .dataframe tbody tr th {\n",
       "        vertical-align: top;\n",
       "    }\n",
       "\n",
       "    .dataframe thead th {\n",
       "        text-align: right;\n",
       "    }\n",
       "</style>\n",
       "<table border=\"1\" class=\"dataframe\">\n",
       "  <thead>\n",
       "    <tr style=\"text-align: right;\">\n",
       "      <th></th>\n",
       "      <th>ghi</th>\n",
       "      <th>dni</th>\n",
       "      <th>dhi</th>\n",
       "    </tr>\n",
       "  </thead>\n",
       "  <tbody>\n",
       "    <tr>\n",
       "      <th>2022-07-06 00:00:00-07:00</th>\n",
       "      <td>0.0</td>\n",
       "      <td>0.0</td>\n",
       "      <td>0.0</td>\n",
       "    </tr>\n",
       "    <tr>\n",
       "      <th>2022-07-06 00:01:00-07:00</th>\n",
       "      <td>0.0</td>\n",
       "      <td>0.0</td>\n",
       "      <td>0.0</td>\n",
       "    </tr>\n",
       "    <tr>\n",
       "      <th>2022-07-06 00:02:00-07:00</th>\n",
       "      <td>0.0</td>\n",
       "      <td>0.0</td>\n",
       "      <td>0.0</td>\n",
       "    </tr>\n",
       "    <tr>\n",
       "      <th>2022-07-06 00:03:00-07:00</th>\n",
       "      <td>0.0</td>\n",
       "      <td>0.0</td>\n",
       "      <td>0.0</td>\n",
       "    </tr>\n",
       "    <tr>\n",
       "      <th>2022-07-06 00:04:00-07:00</th>\n",
       "      <td>0.0</td>\n",
       "      <td>0.0</td>\n",
       "      <td>0.0</td>\n",
       "    </tr>\n",
       "    <tr>\n",
       "      <th>...</th>\n",
       "      <td>...</td>\n",
       "      <td>...</td>\n",
       "      <td>...</td>\n",
       "    </tr>\n",
       "    <tr>\n",
       "      <th>2022-07-06 23:56:00-07:00</th>\n",
       "      <td>0.0</td>\n",
       "      <td>0.0</td>\n",
       "      <td>0.0</td>\n",
       "    </tr>\n",
       "    <tr>\n",
       "      <th>2022-07-06 23:57:00-07:00</th>\n",
       "      <td>0.0</td>\n",
       "      <td>0.0</td>\n",
       "      <td>0.0</td>\n",
       "    </tr>\n",
       "    <tr>\n",
       "      <th>2022-07-06 23:58:00-07:00</th>\n",
       "      <td>0.0</td>\n",
       "      <td>0.0</td>\n",
       "      <td>0.0</td>\n",
       "    </tr>\n",
       "    <tr>\n",
       "      <th>2022-07-06 23:59:00-07:00</th>\n",
       "      <td>0.0</td>\n",
       "      <td>0.0</td>\n",
       "      <td>0.0</td>\n",
       "    </tr>\n",
       "    <tr>\n",
       "      <th>2022-07-07 00:00:00-07:00</th>\n",
       "      <td>0.0</td>\n",
       "      <td>0.0</td>\n",
       "      <td>0.0</td>\n",
       "    </tr>\n",
       "  </tbody>\n",
       "</table>\n",
       "<p>1441 rows × 3 columns</p>\n",
       "</div>"
      ],
      "text/plain": [
       "                           ghi  dni  dhi\n",
       "2022-07-06 00:00:00-07:00  0.0  0.0  0.0\n",
       "2022-07-06 00:01:00-07:00  0.0  0.0  0.0\n",
       "2022-07-06 00:02:00-07:00  0.0  0.0  0.0\n",
       "2022-07-06 00:03:00-07:00  0.0  0.0  0.0\n",
       "2022-07-06 00:04:00-07:00  0.0  0.0  0.0\n",
       "...                        ...  ...  ...\n",
       "2022-07-06 23:56:00-07:00  0.0  0.0  0.0\n",
       "2022-07-06 23:57:00-07:00  0.0  0.0  0.0\n",
       "2022-07-06 23:58:00-07:00  0.0  0.0  0.0\n",
       "2022-07-06 23:59:00-07:00  0.0  0.0  0.0\n",
       "2022-07-07 00:00:00-07:00  0.0  0.0  0.0\n",
       "\n",
       "[1441 rows x 3 columns]"
      ]
     },
     "execution_count": 6,
     "metadata": {},
     "output_type": "execute_result"
    }
   ],
   "source": [
    "clearsky_irradiance"
   ]
  },
  {
   "cell_type": "code",
   "execution_count": 7,
   "id": "e9c2cf89-bbac-4c78-af5e-814848e7d66e",
   "metadata": {},
   "outputs": [
    {
     "data": {
      "text/plain": [
       "<AxesSubplot:>"
      ]
     },
     "execution_count": 7,
     "metadata": {},
     "output_type": "execute_result"
    },
    {
     "data": {
      "image/png": "[encoded data removed]",
      "text/plain": [
       "<Figure size 432x288 with 1 Axes>"
      ]
     },
     "metadata": {
      "needs_background": "light"
     },
     "output_type": "display_data"
    }
   ],
   "source": [
    "clearsky_irradiance.plot()"
   ]
  },
  {
   "cell_type": "code",
   "execution_count": 14,
   "id": "0625bb16-f6ca-4db2-a172-524e0744e0ed",
   "metadata": {},
   "outputs": [],
   "source": [
    "date_time = datetime(2022, 7, 6, 12, 0, 0, tzinfo=ZoneInfo(timezone))"
   ]
  },
  {
   "cell_type": "code",
   "execution_count": 15,
   "id": "952482a0-8d80-471e-8efd-c600aceba697",
   "metadata": {},
   "outputs": [
    {
     "data": {
      "text/plain": [
       "845.3579285472217"
      ]
     },
     "execution_count": 15,
     "metadata": {},
     "output_type": "execute_result"
    }
   ],
   "source": [
    "clearsky_irradiance.loc[date_time, 'ghi']"
   ]
  },
  {
   "cell_type": "code",
   "execution_count": null,
   "id": "f8e58290-6657-4fdb-a499-61bc0fb17b1f",
   "metadata": {},
   "outputs": [],
   "source": []
  }
 ],
 "metadata": {
  "kernelspec": {
   "display_name": "Python 3 (ipykernel)",
   "language": "python",
   "name": "python3"
  },
  "language_info": {
   "codemirror_mode": {
    "name": "ipython",
    "version": 3
   },
   "file_extension": ".py",
   "mimetype": "text/x-python",
   "name": "python",
   "nbconvert_exporter": "python",
   "pygments_lexer": "ipython3",
   "version": "3.10.5"
  }
 },
 "nbformat": 4,
 "nbformat_minor": 5
}
