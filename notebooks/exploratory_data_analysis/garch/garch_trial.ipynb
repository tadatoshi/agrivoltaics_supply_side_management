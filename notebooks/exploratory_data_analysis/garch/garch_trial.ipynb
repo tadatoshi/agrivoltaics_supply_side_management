{
 "cells": [
  {
   "cell_type": "markdown",
   "id": "fbeaeb81-3b7c-4358-8a50-17860d671796",
   "metadata": {},
   "source": [
    "## Try PyFlux library"
   ]
  },
  {
   "cell_type": "markdown",
   "id": "37d7cb4b-df1a-4ab7-b94b-d7b5a35e0e76",
   "metadata": {},
   "source": [
    "#### Based on https://pyflux.readthedocs.io/en/latest/garch.html"
   ]
  },
  {
   "cell_type": "markdown",
   "id": "daa23c24-7c99-448f-88bc-b55996af16d8",
   "metadata": {},
   "source": [
    "### It turned out that the library is not maintained and thus installation failed on Python 3.10.5"
   ]
  },
  {
   "cell_type": "markdown",
   "id": "25431999-82ba-45c9-b895-7b9ac88d8671",
   "metadata": {},
   "source": [
    "## Try Arch library"
   ]
  },
  {
   "cell_type": "markdown",
   "id": "de51befe-3cb9-4143-a6ab-892dd91e395f",
   "metadata": {},
   "source": [
    "### The online article is limited and tends to be old. Put a hold on this activity. "
   ]
  },
  {
   "cell_type": "code",
   "execution_count": 1,
   "id": "af727fb3-36cf-4811-a3a0-a31fad86fe7e",
   "metadata": {},
   "outputs": [],
   "source": [
    "%load_ext autoreload\n",
    "%autoreload 2"
   ]
  },
  {
   "cell_type": "code",
   "execution_count": null,
   "id": "4dc2db4d-694e-4818-98e8-5b4740535c3d",
   "metadata": {},
   "outputs": [],
   "source": []
  },
  {
   "cell_type": "code",
   "execution_count": null,
   "id": "2487ad61-ed29-4605-9a10-bc34f1246a2e",
   "metadata": {},
   "outputs": [],
   "source": []
  }
 ],
 "metadata": {
  "kernelspec": {
   "display_name": "Python 3 (ipykernel)",
   "language": "python",
   "name": "python3"
  },
  "language_info": {
   "codemirror_mode": {
    "name": "ipython",
    "version": 3
   },
   "file_extension": ".py",
   "mimetype": "text/x-python",
   "name": "python",
   "nbconvert_exporter": "python",
   "pygments_lexer": "ipython3",
   "version": "3.10.5"
  }
 },
 "nbformat": 4,
 "nbformat_minor": 5
}
