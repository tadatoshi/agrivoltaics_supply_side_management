{
 "cells": [
  {
   "cell_type": "markdown",
   "id": "7656d0d1-5a25-4fbf-bc99-ec31f990395c",
   "metadata": {},
   "source": [
    "## Comparison of execution of VerticalPvConfiguration and DefaultConfiguration"
   ]
  },
  {
   "cell_type": "code",
   "execution_count": 1,
   "id": "402eb9e2-d856-4a10-a4e2-8b2f7798aac2",
   "metadata": {},
   "outputs": [],
   "source": [
    "%load_ext autoreload\n",
    "%autoreload 2"
   ]
  },
  {
   "cell_type": "code",
   "execution_count": 2,
   "id": "d70a765c-82b6-4bf3-9039-8b4ba99a18d3",
   "metadata": {},
   "outputs": [],
   "source": [
    "import numpy as np\n",
    "import pandas as pd\n",
    "\n",
    "from agrivoltaics_supply_side_management.agriculture.crops import Cultivation\n",
    "from agrivoltaics_supply_side_management.configuration \\\n",
    "    import BifacialVerticalPvConfiguration, DefaultBifacialConfiguration\n",
    "from agrivoltaics_supply_side_management.photovoltaics.pv_modules\\\n",
    "    import BifacialElectricityGeneration\n",
    "from agrivoltaics_supply_side_management.solar_irradiation.irradiance\\\n",
    "    import BifacialIrradianceManager"
   ]
  },
  {
   "cell_type": "code",
   "execution_count": 3,
   "id": "a35d4644-5920-4139-b949-df00643daf07",
   "metadata": {},
   "outputs": [],
   "source": [
    "phi, alpha, theta, p_max = 0.055, 0.2, 0.96, 15"
   ]
  },
  {
   "cell_type": "code",
   "execution_count": 4,
   "id": "09b88bdf-9995-487f-89d3-65ce7f41c297",
   "metadata": {},
   "outputs": [],
   "source": [
    "lattitude, longitude = 49.26757152616243, -123.25266177347093\n",
    "timezone = 'Canada/Pacific'\n",
    "time_range = pd.date_range('2022-07-06', '2022-07-07', freq='1T',\n",
    "                             tz=timezone)"
   ]
  },
  {
   "cell_type": "code",
   "execution_count": 5,
   "id": "3abb25b0-3df1-4af0-b3b3-31bf692f78f2",
   "metadata": {},
   "outputs": [],
   "source": [
    "surface_azimuth = 180\n",
    "surface_tilt = 20\n",
    "axis_azimuth = 180\n",
    "pvrow_height = 1\n",
    "pvrow_width = 4\n",
    "pitch = 10\n",
    "gcr = pvrow_width / pitch\n",
    "albedo = 0.2\n",
    "n_pvrows = 3\n",
    "index_observed_pvrow = 1\n",
    "bifaciality = 0.75"
   ]
  },
  {
   "cell_type": "code",
   "execution_count": 6,
   "id": "fe44ac92-749e-4794-840b-5acaede74598",
   "metadata": {},
   "outputs": [
    {
     "name": "stderr",
     "output_type": "stream",
     "text": [
      "/Users/tadatoshi/Documents/development/projects/tadatoshi_solar_research_society/agrivoltaics_supply_side_management/venv/lib/python3.10/site-packages/pvfactors/geometry/base.py:349: ShapelyDeprecationWarning: Setting custom attributes on geometry objects is deprecated, and will raise an AttributeError in Shapely 2.0\n",
      "  self.list_surfaces = list_surfaces\n",
      "/Users/tadatoshi/Documents/development/projects/tadatoshi_solar_research_society/agrivoltaics_supply_side_management/venv/lib/python3.10/site-packages/pvfactors/geometry/base.py:350: ShapelyDeprecationWarning: Setting custom attributes on geometry objects is deprecated, and will raise an AttributeError in Shapely 2.0\n",
      "  self.shaded = self._get_shading(shaded)\n",
      "/Users/tadatoshi/Documents/development/projects/tadatoshi_solar_research_society/agrivoltaics_supply_side_management/venv/lib/python3.10/site-packages/pvfactors/geometry/base.py:351: ShapelyDeprecationWarning: Setting custom attributes on geometry objects is deprecated, and will raise an AttributeError in Shapely 2.0\n",
      "  self.is_collinear = is_collinear(list_surfaces)\n",
      "/Users/tadatoshi/Documents/development/projects/tadatoshi_solar_research_society/agrivoltaics_supply_side_management/venv/lib/python3.10/site-packages/pvfactors/geometry/base.py:352: ShapelyDeprecationWarning: Setting custom attributes on geometry objects is deprecated, and will raise an AttributeError in Shapely 2.0\n",
      "  self.param_names = param_names\n",
      "/Users/tadatoshi/Documents/development/projects/tadatoshi_solar_research_society/agrivoltaics_supply_side_management/venv/lib/python3.10/site-packages/pvfactors/geometry/base.py:937: ShapelyDeprecationWarning: Setting custom attributes on geometry objects is deprecated, and will raise an AttributeError in Shapely 2.0\n",
      "  self.list_segments = tuple(list_segments)\n",
      "/Users/tadatoshi/Documents/development/projects/tadatoshi_solar_research_society/agrivoltaics_supply_side_management/venv/lib/python3.10/site-packages/pvfactors/geometry/base.py:938: ShapelyDeprecationWarning: Setting custom attributes on geometry objects is deprecated, and will raise an AttributeError in Shapely 2.0\n",
      "  self._all_surfaces = None\n",
      "/Users/tadatoshi/Documents/development/projects/tadatoshi_solar_research_society/agrivoltaics_supply_side_management/venv/lib/python3.10/site-packages/pvfactors/viewfactors/vfmethods.py:181: RuntimeWarning: invalid value encountered in true_divide\n",
      "  vf_pvrow_to_gnd_surf * pvrow_surf_length / gnd_surf_length, 0.)\n",
      "/Users/tadatoshi/Documents/development/projects/tadatoshi_solar_research_society/agrivoltaics_supply_side_management/venv/lib/python3.10/site-packages/pvfactors/viewfactors/vfmethods.py:181: RuntimeWarning: divide by zero encountered in true_divide\n",
      "  vf_pvrow_to_gnd_surf * pvrow_surf_length / gnd_surf_length, 0.)\n"
     ]
    }
   ],
   "source": [
    "bifacial_irradiance_manager = BifacialIrradianceManager(\n",
    "    lattitude, longitude, timezone, time_range,\n",
    "    surface_azimuth, surface_tilt, axis_azimuth, gcr,\n",
    "    pvrow_height, pvrow_width, albedo, n_pvrows, index_observed_pvrow,\n",
    "    bifaciality)"
   ]
  },
  {
   "cell_type": "code",
   "execution_count": 7,
   "id": "0e9a7199-4d6c-4cc9-b3fc-80e9507f1e98",
   "metadata": {},
   "outputs": [],
   "source": [
    "temp_model_parameters_type, module_name, inverter_name = (\n",
    "    'open_rack_glass_glass', 'Trina_Solar_TSM_300DEG5C_07_II_',\n",
    "    'ABB__MICRO_0_25_I_OUTD_US_208__208V_')"
   ]
  },
  {
   "cell_type": "code",
   "execution_count": 8,
   "id": "6ae04e8a-57bb-48c3-ac4a-edfb33214672",
   "metadata": {},
   "outputs": [],
   "source": [
    "bifacial_electricity_generation = BifacialElectricityGeneration(\n",
    "    lattitude, longitude, timezone,\n",
    "    bifacial_irradiance_manager.bifacial_irradiances,\n",
    "    temp_model_parameters_type,\n",
    "    module_name, inverter_name,\n",
    "    surface_tilt, surface_azimuth)"
   ]
  },
  {
   "cell_type": "code",
   "execution_count": 9,
   "id": "61998fc9-46e6-4cb4-8e7c-7bdbb7b380f7",
   "metadata": {},
   "outputs": [],
   "source": [
    "harvest_index = 0.95\n",
    "biomass_energy_ratio = 30\n",
    "leaf_area_index = 5\n",
    "crop_growth_regulating_factor = 0.95\n",
    "cultivation = Cultivation(harvest_index, biomass_energy_ratio,\n",
    "                          leaf_area_index, crop_growth_regulating_factor)"
   ]
  },
  {
   "cell_type": "code",
   "execution_count": 10,
   "id": "595424b2-6503-4855-8ae3-472a5b8f07bf",
   "metadata": {},
   "outputs": [],
   "source": [
    "net_photosynthetic_rate_parameters = {\n",
    "                \"phi\": phi,\n",
    "                \"alpha\": alpha,\n",
    "                \"theta\": theta,\n",
    "                \"p_max\": p_max\n",
    "            }"
   ]
  },
  {
   "cell_type": "code",
   "execution_count": 11,
   "id": "c54f3f44-8489-4b14-9897-915f23eeb232",
   "metadata": {},
   "outputs": [],
   "source": [
    "ppfd_data = np.linspace(0, 1200)"
   ]
  },
  {
   "cell_type": "code",
   "execution_count": 12,
   "id": "f692b637-6d01-4ff9-976d-b6cc241ce3fc",
   "metadata": {},
   "outputs": [],
   "source": [
    "bifacial_vertical_pv_configuration = BifacialVerticalPvConfiguration(\n",
    "    net_photosynthetic_rate_parameters, ppfd_data,\n",
    "    bifacial_irradiance_manager, None, \n",
    "    bifacial_electricity_generation,\n",
    "    cultivation)"
   ]
  },
  {
   "cell_type": "code",
   "execution_count": 13,
   "id": "4f1023b9-281f-44f1-91c5-8127818a67df",
   "metadata": {
    "tags": []
   },
   "outputs": [
    {
     "name": "stderr",
     "output_type": "stream",
     "text": [
      "/Users/tadatoshi/Documents/development/projects/tadatoshi_solar_research_society/agrivoltaics_supply_side_management/venv/lib/python3.10/site-packages/pvlib/tools.py:340: RuntimeWarning: divide by zero encountered in true_divide\n",
      "  np.trunc(np.log(atol / (df['VH'] - df['VL'])) / np.log(phim1)))\n"
     ]
    }
   ],
   "source": [
    "electricity_supply, crop_yield,\\\n",
    "    cumulative_electric_power_for_morning_peak, \\\n",
    "    cumulative_electric_power_for_afternoon_peak \\\n",
    "        = bifacial_vertical_pv_configuration.supply(time_range)"
   ]
  },
  {
   "cell_type": "code",
   "execution_count": 14,
   "id": "975c421f-f0a0-4b9c-a386-81acda3431a9",
   "metadata": {},
   "outputs": [
    {
     "data": {
      "text/plain": [
       "2222.392542730113"
      ]
     },
     "execution_count": 14,
     "metadata": {},
     "output_type": "execute_result"
    }
   ],
   "source": [
    "electricity_supply"
   ]
  },
  {
   "cell_type": "code",
   "execution_count": 15,
   "id": "a471c3b0-24bb-417d-9867-75074463a0a2",
   "metadata": {},
   "outputs": [
    {
     "data": {
      "text/plain": [
       "0.0014309542561318596"
      ]
     },
     "execution_count": 15,
     "metadata": {},
     "output_type": "execute_result"
    }
   ],
   "source": [
    "crop_yield"
   ]
  },
  {
   "cell_type": "code",
   "execution_count": 16,
   "id": "eaa97aaa-bb6e-42e2-b4ce-fe92eccbbef7",
   "metadata": {},
   "outputs": [
    {
     "data": {
      "text/plain": [
       "287.4827210603035"
      ]
     },
     "execution_count": 16,
     "metadata": {},
     "output_type": "execute_result"
    }
   ],
   "source": [
    "cumulative_electric_power_for_morning_peak"
   ]
  },
  {
   "cell_type": "code",
   "execution_count": 17,
   "id": "0dcd20f5-1775-4bf4-89ee-ce776e585556",
   "metadata": {},
   "outputs": [
    {
     "data": {
      "text/plain": [
       "548.2925089959637"
      ]
     },
     "execution_count": 17,
     "metadata": {},
     "output_type": "execute_result"
    }
   ],
   "source": [
    "cumulative_electric_power_for_afternoon_peak"
   ]
  },
  {
   "cell_type": "code",
   "execution_count": 19,
   "id": "ae5fc9d9-009b-4ecc-9ba0-23610b00efc8",
   "metadata": {},
   "outputs": [],
   "source": [
    "default_bifacial_configuration = DefaultBifacialConfiguration(\n",
    "    net_photosynthetic_rate_parameters, ppfd_data,\n",
    "    bifacial_irradiance_manager, None, \n",
    "    bifacial_electricity_generation,\n",
    "    cultivation)"
   ]
  },
  {
   "cell_type": "code",
   "execution_count": 20,
   "id": "c6c5bf72-d770-4c3b-8d71-ad39b2c8702d",
   "metadata": {
    "tags": []
   },
   "outputs": [],
   "source": [
    "default_electricity_supply, default_crop_yield, \\\n",
    "    default_cumulative_electric_power_for_morning_peak, \\\n",
    "    default_cumulative_electric_power_for_afternoon_peak \\\n",
    "        = default_bifacial_configuration.supply(time_range)"
   ]
  },
  {
   "cell_type": "code",
   "execution_count": 21,
   "id": "bbdd9ff5-a902-4934-83e3-9fa62353a863",
   "metadata": {},
   "outputs": [
    {
     "data": {
      "text/plain": [
       "2222.392542730113"
      ]
     },
     "execution_count": 21,
     "metadata": {},
     "output_type": "execute_result"
    }
   ],
   "source": [
    "default_electricity_supply"
   ]
  },
  {
   "cell_type": "code",
   "execution_count": 22,
   "id": "d8ae9064-42d1-48db-91a0-1644d7f2d24c",
   "metadata": {},
   "outputs": [
    {
     "data": {
      "text/plain": [
       "0.0018059303109211973"
      ]
     },
     "execution_count": 22,
     "metadata": {},
     "output_type": "execute_result"
    }
   ],
   "source": [
    "default_crop_yield"
   ]
  },
  {
   "cell_type": "code",
   "execution_count": 23,
   "id": "a5994f2c-7882-48df-8d39-4de61cc0d1cf",
   "metadata": {},
   "outputs": [
    {
     "data": {
      "text/plain": [
       "287.4827210603035"
      ]
     },
     "execution_count": 23,
     "metadata": {},
     "output_type": "execute_result"
    }
   ],
   "source": [
    "default_cumulative_electric_power_for_morning_peak"
   ]
  },
  {
   "cell_type": "code",
   "execution_count": 24,
   "id": "2688ecbb-7923-4769-808a-278f420d62c7",
   "metadata": {},
   "outputs": [
    {
     "data": {
      "text/plain": [
       "548.2925089959637"
      ]
     },
     "execution_count": 24,
     "metadata": {},
     "output_type": "execute_result"
    }
   ],
   "source": [
    "default_cumulative_electric_power_for_afternoon_peak"
   ]
  },
  {
   "cell_type": "code",
   "execution_count": null,
   "id": "07c6190e-860f-4ac5-9781-75ed0a0b2aa8",
   "metadata": {},
   "outputs": [],
   "source": []
  }
 ],
 "metadata": {
  "kernelspec": {
   "display_name": "Python 3 (ipykernel)",
   "language": "python",
   "name": "python3"
  },
  "language_info": {
   "codemirror_mode": {
    "name": "ipython",
    "version": 3
   },
   "file_extension": ".py",
   "mimetype": "text/x-python",
   "name": "python",
   "nbconvert_exporter": "python",
   "pygments_lexer": "ipython3",
   "version": "3.10.5"
  }
 },
 "nbformat": 4,
 "nbformat_minor": 5
}
