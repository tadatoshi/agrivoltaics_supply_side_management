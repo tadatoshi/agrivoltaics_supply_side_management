{
 "cells": [
  {
   "cell_type": "markdown",
   "id": "0a60a19a-ea42-44cb-8dd7-928bba079398",
   "metadata": {},
   "source": [
    "## Trial of Time Series Analysis by Tensorflow Probability - Autoregressive Model - Continued\n",
    "#### Based on https://bayesiancomputationbook.com/markdown/chp_06.html#autoregressive-models"
   ]
  },
  {
   "cell_type": "code",
   "execution_count": 1,
   "id": "e9864581-75d2-46b8-b8d4-2c48fb3f5c3c",
   "metadata": {},
   "outputs": [],
   "source": [
    "%load_ext autoreload\n",
    "%autoreload 2"
   ]
  },
  {
   "cell_type": "code",
   "execution_count": 2,
   "id": "3c14cf4a-223d-4b21-b3b9-f493b06342ee",
   "metadata": {},
   "outputs": [],
   "source": [
    "import numpy as np\n",
    "import pandas as pd\n",
    "import matplotlib.pyplot as plt\n",
    "\n",
    "import tensorflow as tf\n",
    "import tensorflow_probability as tfp\n",
    "import arviz as az"
   ]
  },
  {
   "cell_type": "code",
   "execution_count": 4,
   "id": "aa675799-3984-4b36-afec-d29280a2750d",
   "metadata": {},
   "outputs": [],
   "source": [
    "# %load 'co2_by_month_data.py'\n",
    "import numpy as np\n",
    "import pandas as pd\n",
    "\n",
    "def co2_by_month_data():\n",
    "\n",
    "    co2_by_month = pd.read_csv(\"../data/monthly_mauna_loa_co2_20220721.csv\", \n",
    "                               comment='#')\n",
    "    co2_by_month['year_string'] = co2_by_month['year'].astype(str)\n",
    "    co2_by_month['month_string'] = co2_by_month['month'].astype(str)\n",
    "    co2_by_month['date_month'] = pd.to_datetime(co2_by_month['year_string'] \n",
    "                                        + '/' + co2_by_month['month_string'])\n",
    "    co2_by_month.set_index('date_month', drop=True, inplace=True)\n",
    "    co2_by_month.drop(columns=['year', 'month', 'year_string', \n",
    "                               'month_string'], inplace=True)\n",
    "    co2_by_month['CO2'] = co2_by_month['average'].astype(np.float32)\n",
    "    co2_by_month.drop(columns=['decimal date', 'average', 'deseasonalized', \n",
    "                               'ndays', 'sdev', 'unc'], inplace=True)\n",
    "\n",
    "    num_forecast_steps = 12 * 10 # Forecast the final ten years\n",
    "    co2_by_month_training_data = co2_by_month[:-num_forecast_steps]\n",
    "    co2_by_month_testing_data = co2_by_month[-num_forecast_steps:]\n",
    "    \n",
    "    num_forecast_steps = 12 * 10 # Forecast the final ten years\n",
    "    trend_all = np.linspace(0., 1., len(co2_by_month))[..., None]\n",
    "    trend_all = trend_all.astype(np.float32)\n",
    "    seasonality_all = pd.get_dummies(\n",
    "       co2_by_month.index.month).values.astype(np.float32)\n",
    "    trend = trend_all[:-num_forecast_steps, :]\n",
    "    seasonality = seasonality_all[:-num_forecast_steps, :]\n",
    "    \n",
    "    return (co2_by_month, co2_by_month_training_data, \n",
    "            co2_by_month_testing_data, trend_all, seasonality_all, \n",
    "            trend, seasonality)"
   ]
  },
  {
   "cell_type": "code",
   "execution_count": 5,
   "id": "8687d8bb-69f3-4d6c-91fc-8fd2cfd367f4",
   "metadata": {},
   "outputs": [],
   "source": [
    "(co2_by_month, co2_by_month_training_data, \n",
    "co2_by_month_testing_data, trend_all, seasonality_all, \n",
    "trend, seasonality) = co2_by_month_data()"
   ]
  },
  {
   "cell_type": "markdown",
   "id": "08bd6fda-f5ec-4316-bbe2-5173e41fc0d8",
   "metadata": {},
   "source": [
    "### (S)AR(I)MA(X)"
   ]
  },
  {
   "cell_type": "markdown",
   "id": "b80bfd0d-e84a-44d6-abc7-ebea927a9b6d",
   "metadata": {},
   "source": [
    "#### Since birth rate is not available in easy to use way (The reference stores the data in R language data format), I continue to use CO2 data."
   ]
  },
  {
   "cell_type": "code",
   "execution_count": 6,
   "id": "e9b8f9b1-e408-4063-b4e1-1857621aec28",
   "metadata": {},
   "outputs": [],
   "source": [
    "p, d, q = (1, 1, 1)"
   ]
  },
  {
   "cell_type": "code",
   "execution_count": 7,
   "id": "a7daed05-e373-473a-b95b-2f6744801f76",
   "metadata": {},
   "outputs": [],
   "source": [
    "seasonal_p, seasonal_d, seasonal_q, period = (1, 1, 1, 12)"
   ]
  },
  {
   "cell_type": "code",
   "execution_count": 8,
   "id": "d46037a7-7367-440a-bfe6-dec7f96289e5",
   "metadata": {},
   "outputs": [],
   "source": [
    "observed = co2_by_month.values"
   ]
  },
  {
   "cell_type": "code",
   "execution_count": 9,
   "id": "360048a9-0cc8-43da-b5d5-8979ac284285",
   "metadata": {},
   "outputs": [],
   "source": [
    "# Integrated to seasonal order\n",
    "for _ in range(seasonal_d):\n",
    "    observed = observed[period:] - observed[:-period]"
   ]
  },
  {
   "cell_type": "code",
   "execution_count": 10,
   "id": "9438ff90-bfbf-4252-9b5f-d86173db2dac",
   "metadata": {},
   "outputs": [
    {
     "name": "stderr",
     "output_type": "stream",
     "text": [
      "2022-08-12 17:39:01.344199: I tensorflow/core/platform/cpu_feature_guard.cc:193] This TensorFlow binary is optimized with oneAPI Deep Neural Network Library (oneDNN) to use the following CPU instructions in performance-critical operations:  AVX2 FMA\n",
      "To enable them in other operations, rebuild TensorFlow with the appropriate compiler flags.\n"
     ]
    }
   ],
   "source": [
    "# Integrated to order d\n",
    "observed = tf.constant(np.diff(observed, n=d), tf.float32)"
   ]
  },
  {
   "cell_type": "code",
   "execution_count": 11,
   "id": "b87dfb3d-8049-4c8e-88b7-7174e0576586",
   "metadata": {},
   "outputs": [],
   "source": [
    "r = max(p, q, seasonal_p * period, seasonal_q * period)"
   ]
  },
  {
   "cell_type": "code",
   "execution_count": 16,
   "id": "d3a5c9c7-5b1a-4673-8706-adac7ea2bc17",
   "metadata": {},
   "outputs": [],
   "source": [
    "n_tp = seasonality_all.shape[0]"
   ]
  },
  {
   "cell_type": "code",
   "execution_count": 17,
   "id": "92d72a63-b3e0-4863-80fa-70942f0c9863",
   "metadata": {},
   "outputs": [],
   "source": [
    "t = np.linspace(0, 1, n_tp, dtype=np.float32)"
   ]
  },
  {
   "cell_type": "code",
   "execution_count": 19,
   "id": "de2cfcfa-acb6-4374-8bbe-36ec8fa84d59",
   "metadata": {},
   "outputs": [],
   "source": [
    "num_steps = 100"
   ]
  },
  {
   "cell_type": "code",
   "execution_count": 20,
   "id": "61211dd7-6d01-49b5-8b00-0381027f3a1c",
   "metadata": {},
   "outputs": [],
   "source": [
    "x = np.linspace(0, 50, num_steps)"
   ]
  },
  {
   "cell_type": "code",
   "execution_count": 27,
   "id": "69f90dcd-cf25-41d3-9004-620fc7e10acd",
   "metadata": {},
   "outputs": [],
   "source": [
    "from sarima_priors import generate_sarima_priors"
   ]
  },
  {
   "cell_type": "code",
   "execution_count": 28,
   "id": "1ba689a8-ba4b-4e7d-be46-66f054d84925",
   "metadata": {},
   "outputs": [],
   "source": [
    "sarima_priors = generate_sarima_priors(p, q, seasonal_p, seasonal_q)"
   ]
  },
  {
   "cell_type": "code",
   "execution_count": 14,
   "id": "d7887e63-848c-4570-988d-7d5fff9f6576",
   "metadata": {},
   "outputs": [],
   "source": [
    "from sarima_likelihood import generate_sarima_likelihood"
   ]
  },
  {
   "cell_type": "code",
   "execution_count": 18,
   "id": "3ed3b6ce-9ab4-4bf4-bfa5-f39e31ade3c1",
   "metadata": {},
   "outputs": [],
   "source": [
    "sarima_likelihood = generate_sarima_likelihood(observed, r, t)"
   ]
  },
  {
   "cell_type": "code",
   "execution_count": 32,
   "id": "9c77d6d8-a5ef-408f-b2d2-66f36e04033a",
   "metadata": {},
   "outputs": [],
   "source": [
    "from run_mcmc_simple import run_mcmc_simple"
   ]
  },
  {
   "cell_type": "code",
   "execution_count": 33,
   "id": "ff2c2bfc-bbad-4eba-a26c-b1e4703557b9",
   "metadata": {},
   "outputs": [
    {
     "ename": "ValueError",
     "evalue": "Shape must be rank 1 but is rank 2\n\t for 1th input and equation: ...,j->j... for '{{node mcmc_sample_chain/dual_averaging_step_size_adaptation___init__/_bootstrap_results/transformed_kernel_bootstrap_results/NoUTurnSampler/.bootstrap_results/process_args/maybe_call_fn_and_grads/value_and_gradients/value_and_gradient/einsum/Einsum}} = Einsum[N=2, T=DT_FLOAT, equation=\"...,j->j...\"](mcmc_sample_chain/dual_averaging_step_size_adaptation___init__/_bootstrap_results/transformed_kernel_bootstrap_results/NoUTurnSampler/.bootstrap_results/process_args/maybe_call_fn_and_grads/value_and_gradients/value_and_gradient/ones_like, mcmc_sample_chain/dual_averaging_step_size_adaptation___init__/_bootstrap_results/transformed_kernel_bootstrap_results/NoUTurnSampler/.bootstrap_results/process_args/maybe_call_fn_and_grads/value_and_gradients/value_and_gradient/einsum/Einsum/inputs_1)' with input shapes: [4], [760,0].",
     "output_type": "error",
     "traceback": [
      "\u001b[0;31m---------------------------------------------------------------------------\u001b[0m",
      "\u001b[0;31mValueError\u001b[0m                                Traceback (most recent call last)",
      "File \u001b[0;32m<timed exec>:3\u001b[0m, in \u001b[0;36m<module>\u001b[0;34m\u001b[0m\n",
      "File \u001b[0;32m~/Documents/development/projects/tadatoshi_solar_research_society/agrivoltaics_supply_side_management/notebooks/run_mcmc_simple.py:106\u001b[0m, in \u001b[0;36mrun_mcmc_simple\u001b[0;34m(n_draws, joint_dist, n_chains, num_adaptation_steps, return_compiled_function, target_log_prob_fn, bijector, init_state, seed, **pins)\u001b[0m\n\u001b[1;32m     97\u001b[0m     current_state \u001b[38;5;241m=\u001b[39m tf\u001b[38;5;241m.\u001b[39mnest\u001b[38;5;241m.\u001b[39mmap_structure(\u001b[38;5;28;01mlambda\u001b[39;00m x: x[\u001b[38;5;241m-\u001b[39m\u001b[38;5;241m1\u001b[39m], init_samples)\n\u001b[1;32m     98\u001b[0m     \u001b[38;5;28;01mreturn\u001b[39;00m tfp\u001b[38;5;241m.\u001b[39mmcmc\u001b[38;5;241m.\u001b[39msample_chain(\n\u001b[1;32m     99\u001b[0m         num_results\u001b[38;5;241m=\u001b[39mdraws,\n\u001b[1;32m    100\u001b[0m         num_burnin_steps\u001b[38;5;241m=\u001b[39mtune \u001b[38;5;241m/\u001b[39m\u001b[38;5;241m/\u001b[39m \u001b[38;5;241m2\u001b[39m,\n\u001b[0;32m   (...)\u001b[0m\n\u001b[1;32m    103\u001b[0m         trace_fn\u001b[38;5;241m=\u001b[39msample_trace_fn,\n\u001b[1;32m    104\u001b[0m         seed\u001b[38;5;241m=\u001b[39msample_seed)\n\u001b[0;32m--> 106\u001b[0m mcmc_samples, mcmc_diagnostic \u001b[38;5;241m=\u001b[39m \u001b[43mrun_inference_nuts\u001b[49m\u001b[43m(\u001b[49m\n\u001b[1;32m    107\u001b[0m \u001b[43m    \u001b[49m\u001b[43minit_state\u001b[49m\u001b[43m,\u001b[49m\u001b[43m \u001b[49m\u001b[43mn_draws\u001b[49m\u001b[43m,\u001b[49m\u001b[43m \u001b[49m\u001b[43mnum_adaptation_steps\u001b[49m\u001b[43m,\u001b[49m\u001b[43m \u001b[49m\u001b[43mrun_mcmc_seed\u001b[49m\u001b[43m)\u001b[49m\n\u001b[1;32m    109\u001b[0m \u001b[38;5;28;01mif\u001b[39;00m return_compiled_function:\n\u001b[1;32m    110\u001b[0m     \u001b[38;5;28;01mreturn\u001b[39;00m mcmc_samples, mcmc_diagnostic, run_inference_nuts\n",
      "File \u001b[0;32m~/.pyenv/versions/3.10.5/Library/Frameworks/Python.framework/Versions/3.10/lib/python3.10/site-packages/tensorflow/python/util/traceback_utils.py:153\u001b[0m, in \u001b[0;36mfilter_traceback.<locals>.error_handler\u001b[0;34m(*args, **kwargs)\u001b[0m\n\u001b[1;32m    151\u001b[0m \u001b[38;5;28;01mexcept\u001b[39;00m \u001b[38;5;167;01mException\u001b[39;00m \u001b[38;5;28;01mas\u001b[39;00m e:\n\u001b[1;32m    152\u001b[0m   filtered_tb \u001b[38;5;241m=\u001b[39m _process_traceback_frames(e\u001b[38;5;241m.\u001b[39m__traceback__)\n\u001b[0;32m--> 153\u001b[0m   \u001b[38;5;28;01mraise\u001b[39;00m e\u001b[38;5;241m.\u001b[39mwith_traceback(filtered_tb) \u001b[38;5;28;01mfrom\u001b[39;00m \u001b[38;5;28mNone\u001b[39m\n\u001b[1;32m    154\u001b[0m \u001b[38;5;28;01mfinally\u001b[39;00m:\n\u001b[1;32m    155\u001b[0m   \u001b[38;5;28;01mdel\u001b[39;00m filtered_tb\n",
      "File \u001b[0;32m~/Documents/development/projects/tadatoshi_solar_research_society/agrivoltaics_supply_side_management/notebooks/run_mcmc_simple.py:72\u001b[0m, in \u001b[0;36mrun_mcmc_simple.<locals>.run_inference_nuts\u001b[0;34m(init_state, draws, tune, seed)\u001b[0m\n\u001b[1;32m     68\u001b[0m step_size \u001b[38;5;241m=\u001b[39m tf\u001b[38;5;241m.\u001b[39mnest\u001b[38;5;241m.\u001b[39mmap_structure(\n\u001b[1;32m     69\u001b[0m     tf\u001b[38;5;241m.\u001b[39mones_like, bijector\u001b[38;5;241m.\u001b[39minverse(init_state))\n\u001b[1;32m     70\u001b[0m tuning_hmc \u001b[38;5;241m=\u001b[39m gen_kernel(step_size)\n\u001b[1;32m     71\u001b[0m init_samples, (sample_unbounded, tuning_step_size) \u001b[38;5;241m=\u001b[39m \\\n\u001b[0;32m---> 72\u001b[0m     \u001b[43mtfp\u001b[49m\u001b[38;5;241;43m.\u001b[39;49m\u001b[43mmcmc\u001b[49m\u001b[38;5;241;43m.\u001b[39;49m\u001b[43msample_chain\u001b[49m\u001b[43m(\u001b[49m\n\u001b[1;32m     73\u001b[0m \u001b[43m        \u001b[49m\u001b[43mnum_results\u001b[49m\u001b[38;5;241;43m=\u001b[39;49m\u001b[38;5;241;43m200\u001b[39;49m\u001b[43m,\u001b[49m\n\u001b[1;32m     74\u001b[0m \u001b[43m        \u001b[49m\u001b[43mnum_burnin_steps\u001b[49m\u001b[38;5;241;43m=\u001b[39;49m\u001b[43mtune\u001b[49m\u001b[43m \u001b[49m\u001b[38;5;241;43m/\u001b[39;49m\u001b[38;5;241;43m/\u001b[39;49m\u001b[43m \u001b[49m\u001b[38;5;241;43m2\u001b[39;49m\u001b[43m \u001b[49m\u001b[38;5;241;43m-\u001b[39;49m\u001b[43m \u001b[49m\u001b[38;5;241;43m200\u001b[39;49m\u001b[43m,\u001b[49m\n\u001b[1;32m     75\u001b[0m \u001b[43m        \u001b[49m\u001b[43mcurrent_state\u001b[49m\u001b[38;5;241;43m=\u001b[39;49m\u001b[43minit_state\u001b[49m\u001b[43m,\u001b[49m\n\u001b[1;32m     76\u001b[0m \u001b[43m        \u001b[49m\u001b[43mkernel\u001b[49m\u001b[38;5;241;43m=\u001b[39;49m\u001b[43mtuning_hmc\u001b[49m\u001b[43m,\u001b[49m\n\u001b[1;32m     77\u001b[0m \u001b[43m        \u001b[49m\u001b[43mtrace_fn\u001b[49m\u001b[38;5;241;43m=\u001b[39;49m\u001b[43mtuning_trace_fn\u001b[49m\u001b[43m,\u001b[49m\n\u001b[1;32m     78\u001b[0m \u001b[43m        \u001b[49m\u001b[43mseed\u001b[49m\u001b[38;5;241;43m=\u001b[39;49m\u001b[43mtuning_seed\u001b[49m\u001b[43m)\u001b[49m\n\u001b[1;32m     80\u001b[0m tuning_step_size \u001b[38;5;241m=\u001b[39m tf\u001b[38;5;241m.\u001b[39mnest\u001b[38;5;241m.\u001b[39mpack_sequence_as(\n\u001b[1;32m     81\u001b[0m     sample_unbounded, tuning_step_size)\n\u001b[1;32m     82\u001b[0m step_size_new \u001b[38;5;241m=\u001b[39m tf\u001b[38;5;241m.\u001b[39mnest\u001b[38;5;241m.\u001b[39mmap_structure(get_tuned_stepsize,\n\u001b[1;32m     83\u001b[0m                                       sample_unbounded,\n\u001b[1;32m     84\u001b[0m                                       tuning_step_size)\n",
      "File \u001b[0;32m~/.pyenv/versions/3.10.5/Library/Frameworks/Python.framework/Versions/3.10/lib/python3.10/site-packages/tensorflow_probability/python/mcmc/sample.py:330\u001b[0m, in \u001b[0;36msample_chain\u001b[0;34m(num_results, current_state, previous_kernel_results, kernel, num_burnin_steps, num_steps_between_results, trace_fn, return_final_kernel_results, parallel_iterations, seed, name)\u001b[0m\n\u001b[1;32m    326\u001b[0m current_state \u001b[38;5;241m=\u001b[39m tf\u001b[38;5;241m.\u001b[39mnest\u001b[38;5;241m.\u001b[39mmap_structure(\n\u001b[1;32m    327\u001b[0m     \u001b[38;5;28;01mlambda\u001b[39;00m x: tf\u001b[38;5;241m.\u001b[39mconvert_to_tensor(x, name\u001b[38;5;241m=\u001b[39m\u001b[38;5;124m'\u001b[39m\u001b[38;5;124mcurrent_state\u001b[39m\u001b[38;5;124m'\u001b[39m),\n\u001b[1;32m    328\u001b[0m     current_state)\n\u001b[1;32m    329\u001b[0m \u001b[38;5;28;01mif\u001b[39;00m previous_kernel_results \u001b[38;5;129;01mis\u001b[39;00m \u001b[38;5;28;01mNone\u001b[39;00m:\n\u001b[0;32m--> 330\u001b[0m   previous_kernel_results \u001b[38;5;241m=\u001b[39m \u001b[43mkernel\u001b[49m\u001b[38;5;241;43m.\u001b[39;49m\u001b[43mbootstrap_results\u001b[49m\u001b[43m(\u001b[49m\u001b[43mcurrent_state\u001b[49m\u001b[43m)\u001b[49m\n\u001b[1;32m    332\u001b[0m \u001b[38;5;28;01mif\u001b[39;00m trace_fn \u001b[38;5;129;01mis\u001b[39;00m \u001b[38;5;28;01mNone\u001b[39;00m:\n\u001b[1;32m    333\u001b[0m   \u001b[38;5;66;03m# It simplifies the logic to use a dummy function here.\u001b[39;00m\n\u001b[1;32m    334\u001b[0m   trace_fn \u001b[38;5;241m=\u001b[39m \u001b[38;5;28;01mlambda\u001b[39;00m \u001b[38;5;241m*\u001b[39margs: ()\n",
      "File \u001b[0;32m~/.pyenv/versions/3.10.5/Library/Frameworks/Python.framework/Versions/3.10/lib/python3.10/site-packages/tensorflow_probability/python/mcmc/dual_averaging_step_size_adaptation.py:538\u001b[0m, in \u001b[0;36mDualAveragingStepSizeAdaptation.bootstrap_results\u001b[0;34m(self, init_state)\u001b[0m\n\u001b[1;32m    534\u001b[0m \u001b[38;5;28;01mdef\u001b[39;00m \u001b[38;5;21mbootstrap_results\u001b[39m(\u001b[38;5;28mself\u001b[39m, init_state):\n\u001b[1;32m    535\u001b[0m   \u001b[38;5;28;01mwith\u001b[39;00m tf\u001b[38;5;241m.\u001b[39mname_scope(\n\u001b[1;32m    536\u001b[0m       mcmc_util\u001b[38;5;241m.\u001b[39mmake_name(\u001b[38;5;28mself\u001b[39m\u001b[38;5;241m.\u001b[39mname, \u001b[38;5;124m'\u001b[39m\u001b[38;5;124mdual_averaging_step_size_adaptation\u001b[39m\u001b[38;5;124m'\u001b[39m,\n\u001b[1;32m    537\u001b[0m                           \u001b[38;5;124m'\u001b[39m\u001b[38;5;124mbootstrap_results\u001b[39m\u001b[38;5;124m'\u001b[39m)):\n\u001b[0;32m--> 538\u001b[0m     inner_results \u001b[38;5;241m=\u001b[39m \u001b[38;5;28;43mself\u001b[39;49m\u001b[38;5;241;43m.\u001b[39;49m\u001b[43minner_kernel\u001b[49m\u001b[38;5;241;43m.\u001b[39;49m\u001b[43mbootstrap_results\u001b[49m\u001b[43m(\u001b[49m\u001b[43minit_state\u001b[49m\u001b[43m)\u001b[49m\n\u001b[1;32m    539\u001b[0m     \u001b[38;5;28;01mreturn\u001b[39;00m \u001b[38;5;28mself\u001b[39m\u001b[38;5;241m.\u001b[39m_bootstrap_from_inner_results(init_state, inner_results)\n",
      "File \u001b[0;32m~/.pyenv/versions/3.10.5/Library/Frameworks/Python.framework/Versions/3.10/lib/python3.10/site-packages/tensorflow_probability/python/mcmc/transformed_kernel.py:492\u001b[0m, in \u001b[0;36mTransformedTransitionKernel.bootstrap_results\u001b[0;34m(self, init_state, transformed_init_state)\u001b[0m\n\u001b[1;32m    487\u001b[0m   \u001b[38;5;28;01melse\u001b[39;00m:\n\u001b[1;32m    488\u001b[0m     transformed_init_state \u001b[38;5;241m=\u001b[39m tf\u001b[38;5;241m.\u001b[39mconvert_to_tensor(\n\u001b[1;32m    489\u001b[0m         value\u001b[38;5;241m=\u001b[39mtransformed_init_state, name\u001b[38;5;241m=\u001b[39m\u001b[38;5;124m'\u001b[39m\u001b[38;5;124mtransformed_init_state\u001b[39m\u001b[38;5;124m'\u001b[39m)\n\u001b[1;32m    490\u001b[0m kernel_results \u001b[38;5;241m=\u001b[39m TransformedTransitionKernelResults(\n\u001b[1;32m    491\u001b[0m     transformed_state\u001b[38;5;241m=\u001b[39mtransformed_init_state,\n\u001b[0;32m--> 492\u001b[0m     inner_results\u001b[38;5;241m=\u001b[39m\u001b[38;5;28;43mself\u001b[39;49m\u001b[38;5;241;43m.\u001b[39;49m\u001b[43m_inner_kernel\u001b[49m\u001b[38;5;241;43m.\u001b[39;49m\u001b[43mbootstrap_results\u001b[49m\u001b[43m(\u001b[49m\n\u001b[1;32m    493\u001b[0m \u001b[43m        \u001b[49m\u001b[43mtransformed_init_state\u001b[49m\u001b[43m)\u001b[49m)\n\u001b[1;32m    494\u001b[0m \u001b[38;5;28;01mreturn\u001b[39;00m kernel_results\n",
      "File \u001b[0;32m~/.pyenv/versions/3.10.5/Library/Frameworks/Python.framework/Versions/3.10/lib/python3.10/site-packages/tensorflow_probability/python/mcmc/nuts.py:468\u001b[0m, in \u001b[0;36mNoUTurnSampler.bootstrap_results\u001b[0;34m(self, init_state)\u001b[0m\n\u001b[1;32m    460\u001b[0m   init_state \u001b[38;5;241m=\u001b[39m [init_state]\n\u001b[1;32m    461\u001b[0m dummy_momentum \u001b[38;5;241m=\u001b[39m [tf\u001b[38;5;241m.\u001b[39mones_like(state) \u001b[38;5;28;01mfor\u001b[39;00m state \u001b[38;5;129;01min\u001b[39;00m init_state]\n\u001b[1;32m    463\u001b[0m [\n\u001b[1;32m    464\u001b[0m     _,\n\u001b[1;32m    465\u001b[0m     _,\n\u001b[1;32m    466\u001b[0m     current_target_log_prob,\n\u001b[1;32m    467\u001b[0m     current_grads_log_prob,\n\u001b[0;32m--> 468\u001b[0m ] \u001b[38;5;241m=\u001b[39m \u001b[43mleapfrog_impl\u001b[49m\u001b[38;5;241;43m.\u001b[39;49m\u001b[43mprocess_args\u001b[49m\u001b[43m(\u001b[49m\u001b[38;5;28;43mself\u001b[39;49m\u001b[38;5;241;43m.\u001b[39;49m\u001b[43mtarget_log_prob_fn\u001b[49m\u001b[43m,\u001b[49m\u001b[43m \u001b[49m\u001b[43mdummy_momentum\u001b[49m\u001b[43m,\u001b[49m\n\u001b[1;32m    469\u001b[0m \u001b[43m                               \u001b[49m\u001b[43minit_state\u001b[49m\u001b[43m)\u001b[49m\n\u001b[1;32m    471\u001b[0m \u001b[38;5;66;03m# Confirm that the step size is compatible with the state parts.\u001b[39;00m\n\u001b[1;32m    472\u001b[0m _ \u001b[38;5;241m=\u001b[39m _prepare_step_size(\n\u001b[1;32m    473\u001b[0m     \u001b[38;5;28mself\u001b[39m\u001b[38;5;241m.\u001b[39mstep_size, current_target_log_prob\u001b[38;5;241m.\u001b[39mdtype, \u001b[38;5;28mlen\u001b[39m(init_state))\n",
      "File \u001b[0;32m~/.pyenv/versions/3.10.5/Library/Frameworks/Python.framework/Versions/3.10/lib/python3.10/site-packages/tensorflow_probability/python/mcmc/internal/leapfrog_integrator.py:378\u001b[0m, in \u001b[0;36mprocess_args\u001b[0;34m(target_fn, momentum_parts, state_parts, target, target_grad_parts)\u001b[0m\n\u001b[1;32m    373\u001b[0m state_parts \u001b[38;5;241m=\u001b[39m [\n\u001b[1;32m    374\u001b[0m     tf\u001b[38;5;241m.\u001b[39mconvert_to_tensor(\n\u001b[1;32m    375\u001b[0m         v, dtype_hint\u001b[38;5;241m=\u001b[39mtf\u001b[38;5;241m.\u001b[39mfloat32, name\u001b[38;5;241m=\u001b[39m\u001b[38;5;124m'\u001b[39m\u001b[38;5;124mstate_parts\u001b[39m\u001b[38;5;124m'\u001b[39m)\n\u001b[1;32m    376\u001b[0m     \u001b[38;5;28;01mfor\u001b[39;00m v \u001b[38;5;129;01min\u001b[39;00m state_parts]\n\u001b[1;32m    377\u001b[0m \u001b[38;5;28;01mif\u001b[39;00m target \u001b[38;5;129;01mis\u001b[39;00m \u001b[38;5;28;01mNone\u001b[39;00m \u001b[38;5;129;01mor\u001b[39;00m target_grad_parts \u001b[38;5;129;01mis\u001b[39;00m \u001b[38;5;28;01mNone\u001b[39;00m:\n\u001b[0;32m--> 378\u001b[0m   [target, target_grad_parts] \u001b[38;5;241m=\u001b[39m \u001b[43mmcmc_util\u001b[49m\u001b[38;5;241;43m.\u001b[39;49m\u001b[43mmaybe_call_fn_and_grads\u001b[49m\u001b[43m(\u001b[49m\n\u001b[1;32m    379\u001b[0m \u001b[43m      \u001b[49m\u001b[43mtarget_fn\u001b[49m\u001b[43m,\u001b[49m\u001b[43m \u001b[49m\u001b[43mstate_parts\u001b[49m\u001b[43m)\u001b[49m\n\u001b[1;32m    380\u001b[0m \u001b[38;5;28;01melse\u001b[39;00m:\n\u001b[1;32m    381\u001b[0m   target \u001b[38;5;241m=\u001b[39m tf\u001b[38;5;241m.\u001b[39mconvert_to_tensor(\n\u001b[1;32m    382\u001b[0m       target, dtype_hint\u001b[38;5;241m=\u001b[39mtf\u001b[38;5;241m.\u001b[39mfloat32, name\u001b[38;5;241m=\u001b[39m\u001b[38;5;124m'\u001b[39m\u001b[38;5;124mtarget\u001b[39m\u001b[38;5;124m'\u001b[39m)\n",
      "File \u001b[0;32m~/.pyenv/versions/3.10.5/Library/Frameworks/Python.framework/Versions/3.10/lib/python3.10/site-packages/tensorflow_probability/python/mcmc/internal/util.py:297\u001b[0m, in \u001b[0;36mmaybe_call_fn_and_grads\u001b[0;34m(fn, fn_arg_list, result, grads, check_non_none_grads, name)\u001b[0m\n\u001b[1;32m    294\u001b[0m \u001b[38;5;28;01mwith\u001b[39;00m tf\u001b[38;5;241m.\u001b[39mname_scope(name \u001b[38;5;129;01mor\u001b[39;00m \u001b[38;5;124m'\u001b[39m\u001b[38;5;124mmaybe_call_fn_and_grads\u001b[39m\u001b[38;5;124m'\u001b[39m):\n\u001b[1;32m    295\u001b[0m   fn_arg_list \u001b[38;5;241m=\u001b[39m (\u001b[38;5;28mlist\u001b[39m(fn_arg_list) \u001b[38;5;28;01mif\u001b[39;00m is_list_like(fn_arg_list)\n\u001b[1;32m    296\u001b[0m                  \u001b[38;5;28;01melse\u001b[39;00m [fn_arg_list])\n\u001b[0;32m--> 297\u001b[0m   result, grads \u001b[38;5;241m=\u001b[39m \u001b[43m_value_and_gradients\u001b[49m\u001b[43m(\u001b[49m\u001b[43mfn\u001b[49m\u001b[43m,\u001b[49m\u001b[43m \u001b[49m\u001b[43mfn_arg_list\u001b[49m\u001b[43m,\u001b[49m\u001b[43m \u001b[49m\u001b[43mresult\u001b[49m\u001b[43m,\u001b[49m\u001b[43m \u001b[49m\u001b[43mgrads\u001b[49m\u001b[43m)\u001b[49m\n\u001b[1;32m    298\u001b[0m   \u001b[38;5;28;01mif\u001b[39;00m \u001b[38;5;129;01mnot\u001b[39;00m \u001b[38;5;28mall\u001b[39m(dtype_util\u001b[38;5;241m.\u001b[39mis_floating(r\u001b[38;5;241m.\u001b[39mdtype)\n\u001b[1;32m    299\u001b[0m              \u001b[38;5;28;01mfor\u001b[39;00m r \u001b[38;5;129;01min\u001b[39;00m (result \u001b[38;5;28;01mif\u001b[39;00m is_list_like(result) \u001b[38;5;28;01melse\u001b[39;00m [result])):  \u001b[38;5;66;03m# pylint: disable=superfluous-parens\u001b[39;00m\n\u001b[1;32m    300\u001b[0m     \u001b[38;5;28;01mraise\u001b[39;00m \u001b[38;5;167;01mTypeError\u001b[39;00m(\u001b[38;5;124m'\u001b[39m\u001b[38;5;124mFunction result must be a `Tensor` with `float` \u001b[39m\u001b[38;5;124m'\u001b[39m\n\u001b[1;32m    301\u001b[0m                     \u001b[38;5;124m'\u001b[39m\u001b[38;5;124m`dtype`.\u001b[39m\u001b[38;5;124m'\u001b[39m)\n",
      "File \u001b[0;32m~/.pyenv/versions/3.10.5/Library/Frameworks/Python.framework/Versions/3.10/lib/python3.10/site-packages/tensorflow_probability/python/mcmc/internal/util.py:265\u001b[0m, in \u001b[0;36m_value_and_gradients\u001b[0;34m(fn, fn_arg_list, result, grads, name)\u001b[0m\n\u001b[1;32m    258\u001b[0m fn_arg_list \u001b[38;5;241m=\u001b[39m _convert_to_tensor(fn_arg_list, \u001b[38;5;124m'\u001b[39m\u001b[38;5;124mfn_arg\u001b[39m\u001b[38;5;124m'\u001b[39m)\n\u001b[1;32m    260\u001b[0m \u001b[38;5;28;01mif\u001b[39;00m result \u001b[38;5;129;01mis\u001b[39;00m \u001b[38;5;28;01mNone\u001b[39;00m \u001b[38;5;129;01mand\u001b[39;00m grads \u001b[38;5;129;01mis\u001b[39;00m \u001b[38;5;28;01mNone\u001b[39;00m \u001b[38;5;129;01mand\u001b[39;00m (JAX_MODE \u001b[38;5;129;01mor\u001b[39;00m\n\u001b[1;32m    261\u001b[0m                                          \u001b[38;5;129;01mnot\u001b[39;00m tf\u001b[38;5;241m.\u001b[39mexecuting_eagerly()):\n\u001b[1;32m    262\u001b[0m   \u001b[38;5;66;03m# Currently, computing gradient is not working well with caching in\u001b[39;00m\n\u001b[1;32m    263\u001b[0m   \u001b[38;5;66;03m# tensorflow eager mode (see below), so we will handle that case\u001b[39;00m\n\u001b[1;32m    264\u001b[0m   \u001b[38;5;66;03m# separately.\u001b[39;00m\n\u001b[0;32m--> 265\u001b[0m   \u001b[38;5;28;01mreturn\u001b[39;00m \u001b[43mtfp_math_value_and_gradients\u001b[49m\u001b[43m(\u001b[49m\u001b[43mfn\u001b[49m\u001b[43m,\u001b[49m\u001b[43m \u001b[49m\u001b[43mfn_arg_list\u001b[49m\u001b[43m)\u001b[49m\n\u001b[1;32m    267\u001b[0m \u001b[38;5;28;01mif\u001b[39;00m result \u001b[38;5;129;01mis\u001b[39;00m \u001b[38;5;28;01mNone\u001b[39;00m:\n\u001b[1;32m    268\u001b[0m   result \u001b[38;5;241m=\u001b[39m fn(\u001b[38;5;241m*\u001b[39mfn_arg_list)\n",
      "File \u001b[0;32m~/.pyenv/versions/3.10.5/Library/Frameworks/Python.framework/Versions/3.10/lib/python3.10/site-packages/tensorflow_probability/python/math/gradient.py:108\u001b[0m, in \u001b[0;36mvalue_and_gradient\u001b[0;34m(f, output_gradients, use_gradient_tape, auto_unpack_single_arg, has_aux, name, *args, **kwargs)\u001b[0m\n\u001b[1;32m     36\u001b[0m \u001b[38;5;124;03m\"\"\"Computes `f(*args, **kwargs)` and its gradients wrt to `args`, `kwargs`.\u001b[39;00m\n\u001b[1;32m     37\u001b[0m \n\u001b[1;32m     38\u001b[0m \u001b[38;5;124;03mThe function `f` is invoked according to one of the following rules:\u001b[39;00m\n\u001b[0;32m   (...)\u001b[0m\n\u001b[1;32m    105\u001b[0m \u001b[38;5;124;03m    are the gradients of `y` with respect to each of `args` and `kwargs`.\u001b[39;00m\n\u001b[1;32m    106\u001b[0m \u001b[38;5;124;03m\"\"\"\u001b[39;00m\n\u001b[1;32m    107\u001b[0m \u001b[38;5;28;01mwith\u001b[39;00m tf\u001b[38;5;241m.\u001b[39mname_scope(name \u001b[38;5;129;01mor\u001b[39;00m \u001b[38;5;124m'\u001b[39m\u001b[38;5;124mvalue_and_gradient\u001b[39m\u001b[38;5;124m'\u001b[39m):\n\u001b[0;32m--> 108\u001b[0m   \u001b[38;5;28;01mreturn\u001b[39;00m \u001b[43m_value_and_grad_impl\u001b[49m\u001b[43m(\u001b[49m\n\u001b[1;32m    109\u001b[0m \u001b[43m      \u001b[49m\u001b[43mf\u001b[49m\u001b[43m,\u001b[49m\n\u001b[1;32m    110\u001b[0m \u001b[43m      \u001b[49m\u001b[43m_gradient_new\u001b[49m\u001b[43m \u001b[49m\u001b[38;5;28;43;01mif\u001b[39;49;00m\u001b[43m \u001b[49m\u001b[43mtf\u001b[49m\u001b[38;5;241;43m.\u001b[39;49m\u001b[43mexecuting_eagerly\u001b[49m\u001b[43m(\u001b[49m\u001b[43m)\u001b[49m\u001b[43m \u001b[49m\u001b[38;5;129;43;01mor\u001b[39;49;00m\u001b[43m \u001b[49m\u001b[43muse_gradient_tape\u001b[49m\u001b[43m \u001b[49m\u001b[38;5;28;43;01melse\u001b[39;49;00m\n\u001b[1;32m    111\u001b[0m \u001b[43m      \u001b[49m\u001b[43m_gradient_old\u001b[49m\u001b[43m,\u001b[49m\n\u001b[1;32m    112\u001b[0m \u001b[43m      \u001b[49m\u001b[38;5;241;43m*\u001b[39;49m\u001b[43margs\u001b[49m\u001b[43m,\u001b[49m\n\u001b[1;32m    113\u001b[0m \u001b[43m      \u001b[49m\u001b[43moutput_gradients\u001b[49m\u001b[38;5;241;43m=\u001b[39;49m\u001b[43moutput_gradients\u001b[49m\u001b[43m,\u001b[49m\n\u001b[1;32m    114\u001b[0m \u001b[43m      \u001b[49m\u001b[43mauto_unpack_single_arg\u001b[49m\u001b[38;5;241;43m=\u001b[39;49m\u001b[43mauto_unpack_single_arg\u001b[49m\u001b[43m,\u001b[49m\n\u001b[1;32m    115\u001b[0m \u001b[43m      \u001b[49m\u001b[43mexpand_tf_modules_as_trainable_vars\u001b[49m\u001b[38;5;241;43m=\u001b[39;49m\u001b[38;5;28;43;01mFalse\u001b[39;49;00m\u001b[43m,\u001b[49m\n\u001b[1;32m    116\u001b[0m \u001b[43m      \u001b[49m\u001b[43mhas_aux\u001b[49m\u001b[38;5;241;43m=\u001b[39;49m\u001b[43mhas_aux\u001b[49m\u001b[43m,\u001b[49m\n\u001b[1;32m    117\u001b[0m \u001b[43m      \u001b[49m\u001b[38;5;241;43m*\u001b[39;49m\u001b[38;5;241;43m*\u001b[39;49m\u001b[43mkwargs\u001b[49m\u001b[43m)\u001b[49m\n",
      "File \u001b[0;32m~/.pyenv/versions/3.10.5/Library/Frameworks/Python.framework/Versions/3.10/lib/python3.10/site-packages/tensorflow_probability/python/math/gradient.py:378\u001b[0m, in \u001b[0;36m_value_and_grad_impl\u001b[0;34m(f, grad_fn, output_gradients, auto_unpack_single_arg, expand_tf_modules_as_trainable_vars, has_aux, *args, **kwargs)\u001b[0m\n\u001b[1;32m    374\u001b[0m   real_f \u001b[38;5;241m=\u001b[39m f\n\u001b[1;32m    375\u001b[0m   f \u001b[38;5;241m=\u001b[39m \u001b[38;5;28;01mlambda\u001b[39;00m \u001b[38;5;241m*\u001b[39margs, \u001b[38;5;241m*\u001b[39m\u001b[38;5;241m*\u001b[39mkwargs: (real_f(\u001b[38;5;241m*\u001b[39margs, \u001b[38;5;241m*\u001b[39m\u001b[38;5;241m*\u001b[39mkwargs)  \u001b[38;5;66;03m# pylint: disable=g-long-lambda\u001b[39;00m\n\u001b[1;32m    376\u001b[0m                                \u001b[38;5;28;01mif\u001b[39;00m _has_args(real_f) \u001b[38;5;28;01melse\u001b[39;00m real_f(), ())\n\u001b[0;32m--> 378\u001b[0m y, dydx, aux \u001b[38;5;241m=\u001b[39m \u001b[43mgrad_fn\u001b[49m\u001b[43m(\u001b[49m\u001b[38;5;28;43;01mlambda\u001b[39;49;00m\u001b[43m:\u001b[49m\u001b[43m \u001b[49m\u001b[43mf\u001b[49m\u001b[43m(\u001b[49m\u001b[38;5;241;43m*\u001b[39;49m\u001b[43margs\u001b[49m\u001b[43m,\u001b[49m\u001b[43m \u001b[49m\u001b[38;5;241;43m*\u001b[39;49m\u001b[38;5;241;43m*\u001b[39;49m\u001b[43mkwargs\u001b[49m\u001b[43m)\u001b[49m\u001b[43m \u001b[49m\u001b[38;5;28;43;01mif\u001b[39;49;00m\u001b[43m \u001b[49m\u001b[43m_has_args\u001b[49m\u001b[43m(\u001b[49m\u001b[43mf\u001b[49m\u001b[43m)\u001b[49m\u001b[43m \u001b[49m\u001b[38;5;28;43;01melse\u001b[39;49;00m\u001b[43m \u001b[49m\u001b[43mf\u001b[49m\u001b[43m(\u001b[49m\u001b[43m)\u001b[49m\u001b[43m,\u001b[49m\n\u001b[1;32m    379\u001b[0m \u001b[43m                       \u001b[49m\u001b[43mtf\u001b[49m\u001b[38;5;241;43m.\u001b[39;49m\u001b[43mnest\u001b[49m\u001b[38;5;241;43m.\u001b[39;49m\u001b[43mflatten\u001b[49m\u001b[43m(\u001b[49m\u001b[43m[\u001b[49m\u001b[43mexpand_args\u001b[49m\u001b[43m,\u001b[49m\u001b[43m \u001b[49m\u001b[43mexpand_kwargs\u001b[49m\u001b[43m]\u001b[49m\u001b[43m)\u001b[49m\u001b[43m,\u001b[49m\n\u001b[1;32m    380\u001b[0m \u001b[43m                       \u001b[49m\u001b[43moutput_gradients\u001b[49m\u001b[43m)\u001b[49m\n\u001b[1;32m    381\u001b[0m dydx_args, dydx_kwargs \u001b[38;5;241m=\u001b[39m tf\u001b[38;5;241m.\u001b[39mnest\u001b[38;5;241m.\u001b[39mpack_sequence_as(\n\u001b[1;32m    382\u001b[0m     [expand_args, expand_kwargs], dydx)\n\u001b[1;32m    383\u001b[0m \u001b[38;5;28;01mif\u001b[39;00m \u001b[38;5;28mlen\u001b[39m(args) \u001b[38;5;241m==\u001b[39m \u001b[38;5;241m1\u001b[39m \u001b[38;5;129;01mand\u001b[39;00m \u001b[38;5;129;01mnot\u001b[39;00m do_unpack:\n",
      "File \u001b[0;32m~/.pyenv/versions/3.10.5/Library/Frameworks/Python.framework/Versions/3.10/lib/python3.10/site-packages/tensorflow_probability/python/math/gradient.py:330\u001b[0m, in \u001b[0;36m_gradient_old\u001b[0;34m(f, xs, grad_ys)\u001b[0m\n\u001b[1;32m    328\u001b[0m \u001b[38;5;28;01mdef\u001b[39;00m \u001b[38;5;21m_gradient_old\u001b[39m(f, xs, grad_ys):\n\u001b[1;32m    329\u001b[0m   \u001b[38;5;28;01massert\u001b[39;00m \u001b[38;5;129;01mnot\u001b[39;00m tf\u001b[38;5;241m.\u001b[39mexecuting_eagerly()\n\u001b[0;32m--> 330\u001b[0m   y, aux \u001b[38;5;241m=\u001b[39m \u001b[43mf\u001b[49m\u001b[43m(\u001b[49m\u001b[43m)\u001b[49m\n\u001b[1;32m    331\u001b[0m   \u001b[38;5;28;01mreturn\u001b[39;00m y, tf\u001b[38;5;241m.\u001b[39mgradients(y, xs, grad_ys\u001b[38;5;241m=\u001b[39mgrad_ys), aux\n",
      "File \u001b[0;32m~/.pyenv/versions/3.10.5/Library/Frameworks/Python.framework/Versions/3.10/lib/python3.10/site-packages/tensorflow_probability/python/math/gradient.py:378\u001b[0m, in \u001b[0;36m_value_and_grad_impl.<locals>.<lambda>\u001b[0;34m()\u001b[0m\n\u001b[1;32m    374\u001b[0m   real_f \u001b[38;5;241m=\u001b[39m f\n\u001b[1;32m    375\u001b[0m   f \u001b[38;5;241m=\u001b[39m \u001b[38;5;28;01mlambda\u001b[39;00m \u001b[38;5;241m*\u001b[39margs, \u001b[38;5;241m*\u001b[39m\u001b[38;5;241m*\u001b[39mkwargs: (real_f(\u001b[38;5;241m*\u001b[39margs, \u001b[38;5;241m*\u001b[39m\u001b[38;5;241m*\u001b[39mkwargs)  \u001b[38;5;66;03m# pylint: disable=g-long-lambda\u001b[39;00m\n\u001b[1;32m    376\u001b[0m                                \u001b[38;5;28;01mif\u001b[39;00m _has_args(real_f) \u001b[38;5;28;01melse\u001b[39;00m real_f(), ())\n\u001b[0;32m--> 378\u001b[0m y, dydx, aux \u001b[38;5;241m=\u001b[39m grad_fn(\u001b[38;5;28;01mlambda\u001b[39;00m: \u001b[43mf\u001b[49m\u001b[43m(\u001b[49m\u001b[38;5;241;43m*\u001b[39;49m\u001b[43margs\u001b[49m\u001b[43m,\u001b[49m\u001b[43m \u001b[49m\u001b[38;5;241;43m*\u001b[39;49m\u001b[38;5;241;43m*\u001b[39;49m\u001b[43mkwargs\u001b[49m\u001b[43m)\u001b[49m \u001b[38;5;28;01mif\u001b[39;00m _has_args(f) \u001b[38;5;28;01melse\u001b[39;00m f(),\n\u001b[1;32m    379\u001b[0m                        tf\u001b[38;5;241m.\u001b[39mnest\u001b[38;5;241m.\u001b[39mflatten([expand_args, expand_kwargs]),\n\u001b[1;32m    380\u001b[0m                        output_gradients)\n\u001b[1;32m    381\u001b[0m dydx_args, dydx_kwargs \u001b[38;5;241m=\u001b[39m tf\u001b[38;5;241m.\u001b[39mnest\u001b[38;5;241m.\u001b[39mpack_sequence_as(\n\u001b[1;32m    382\u001b[0m     [expand_args, expand_kwargs], dydx)\n\u001b[1;32m    383\u001b[0m \u001b[38;5;28;01mif\u001b[39;00m \u001b[38;5;28mlen\u001b[39m(args) \u001b[38;5;241m==\u001b[39m \u001b[38;5;241m1\u001b[39m \u001b[38;5;129;01mand\u001b[39;00m \u001b[38;5;129;01mnot\u001b[39;00m do_unpack:\n",
      "File \u001b[0;32m~/.pyenv/versions/3.10.5/Library/Frameworks/Python.framework/Versions/3.10/lib/python3.10/site-packages/tensorflow_probability/python/math/gradient.py:375\u001b[0m, in \u001b[0;36m_value_and_grad_impl.<locals>.<lambda>\u001b[0;34m(*args, **kwargs)\u001b[0m\n\u001b[1;32m    373\u001b[0m \u001b[38;5;28;01mif\u001b[39;00m \u001b[38;5;129;01mnot\u001b[39;00m has_aux:\n\u001b[1;32m    374\u001b[0m   real_f \u001b[38;5;241m=\u001b[39m f\n\u001b[0;32m--> 375\u001b[0m   f \u001b[38;5;241m=\u001b[39m \u001b[38;5;28;01mlambda\u001b[39;00m \u001b[38;5;241m*\u001b[39margs, \u001b[38;5;241m*\u001b[39m\u001b[38;5;241m*\u001b[39mkwargs: (\u001b[43mreal_f\u001b[49m\u001b[43m(\u001b[49m\u001b[38;5;241;43m*\u001b[39;49m\u001b[43margs\u001b[49m\u001b[43m,\u001b[49m\u001b[43m \u001b[49m\u001b[38;5;241;43m*\u001b[39;49m\u001b[38;5;241;43m*\u001b[39;49m\u001b[43mkwargs\u001b[49m\u001b[43m)\u001b[49m  \u001b[38;5;66;03m# pylint: disable=g-long-lambda\u001b[39;00m\n\u001b[1;32m    376\u001b[0m                                \u001b[38;5;28;01mif\u001b[39;00m _has_args(real_f) \u001b[38;5;28;01melse\u001b[39;00m real_f(), ())\n\u001b[1;32m    378\u001b[0m y, dydx, aux \u001b[38;5;241m=\u001b[39m grad_fn(\u001b[38;5;28;01mlambda\u001b[39;00m: f(\u001b[38;5;241m*\u001b[39margs, \u001b[38;5;241m*\u001b[39m\u001b[38;5;241m*\u001b[39mkwargs) \u001b[38;5;28;01mif\u001b[39;00m _has_args(f) \u001b[38;5;28;01melse\u001b[39;00m f(),\n\u001b[1;32m    379\u001b[0m                        tf\u001b[38;5;241m.\u001b[39mnest\u001b[38;5;241m.\u001b[39mflatten([expand_args, expand_kwargs]),\n\u001b[1;32m    380\u001b[0m                        output_gradients)\n\u001b[1;32m    381\u001b[0m dydx_args, dydx_kwargs \u001b[38;5;241m=\u001b[39m tf\u001b[38;5;241m.\u001b[39mnest\u001b[38;5;241m.\u001b[39mpack_sequence_as(\n\u001b[1;32m    382\u001b[0m     [expand_args, expand_kwargs], dydx)\n",
      "File \u001b[0;32m~/.pyenv/versions/3.10.5/Library/Frameworks/Python.framework/Versions/3.10/lib/python3.10/site-packages/tensorflow_probability/python/mcmc/transformed_kernel.py:123\u001b[0m, in \u001b[0;36mmake_transformed_log_prob.<locals>.transformed_log_prob_fn\u001b[0;34m(*state_parts)\u001b[0m\n\u001b[1;32m    121\u001b[0m \u001b[38;5;28;01mif\u001b[39;00m \u001b[38;5;129;01mnot\u001b[39;00m enable_bijector_caching:\n\u001b[1;32m    122\u001b[0m   state_parts \u001b[38;5;241m=\u001b[39m [tf\u001b[38;5;241m.\u001b[39midentity(sp) \u001b[38;5;28;01mfor\u001b[39;00m sp \u001b[38;5;129;01min\u001b[39;00m state_parts]\n\u001b[0;32m--> 123\u001b[0m tlp \u001b[38;5;241m=\u001b[39m \u001b[43mlog_prob_fn\u001b[49m\u001b[43m(\u001b[49m\u001b[38;5;241;43m*\u001b[39;49m\u001b[43mfn\u001b[49m\u001b[43m(\u001b[49m\u001b[43mstate_parts\u001b[49m\u001b[43m)\u001b[49m\u001b[43m)\u001b[49m\n\u001b[1;32m    124\u001b[0m tlp_rank \u001b[38;5;241m=\u001b[39m prefer_static\u001b[38;5;241m.\u001b[39mrank(tlp)\n\u001b[1;32m    125\u001b[0m event_ndims \u001b[38;5;241m=\u001b[39m [(prefer_static\u001b[38;5;241m.\u001b[39mrank(sp) \u001b[38;5;241m-\u001b[39m tlp_rank) \u001b[38;5;28;01mfor\u001b[39;00m sp \u001b[38;5;129;01min\u001b[39;00m state_parts]\n",
      "File \u001b[0;32m<timed exec>:1\u001b[0m, in \u001b[0;36m<lambda>\u001b[0;34m(*x)\u001b[0m\n",
      "File \u001b[0;32m~/Documents/development/projects/tadatoshi_solar_research_society/agrivoltaics_supply_side_management/notebooks/sarima_likelihood.py:13\u001b[0m, in \u001b[0;36mgenerate_sarima_likelihood.<locals>.sarima_likelihood\u001b[0;34m(mu0, sigma, phi, theta, sphi, stheta)\u001b[0m\n\u001b[1;32m      9\u001b[0m \u001b[38;5;28;01mdef\u001b[39;00m \u001b[38;5;21msarima_likelihood\u001b[39m(mu0, sigma, phi, theta, sphi, stheta):\n\u001b[1;32m     10\u001b[0m     batch_shape \u001b[38;5;241m=\u001b[39m tf\u001b[38;5;241m.\u001b[39mshape(mu0)\n\u001b[1;32m     11\u001b[0m     y_extended \u001b[38;5;241m=\u001b[39m tf\u001b[38;5;241m.\u001b[39mconcat(\n\u001b[1;32m     12\u001b[0m         [tf\u001b[38;5;241m.\u001b[39mzeros(tf\u001b[38;5;241m.\u001b[39mconcat([[r], batch_shape], axis\u001b[38;5;241m=\u001b[39m\u001b[38;5;241m0\u001b[39m), dtype\u001b[38;5;241m=\u001b[39mmu0\u001b[38;5;241m.\u001b[39mdtype),\n\u001b[0;32m---> 13\u001b[0m          \u001b[43mtf\u001b[49m\u001b[38;5;241;43m.\u001b[39;49m\u001b[43meinsum\u001b[49m\u001b[43m(\u001b[49m\u001b[38;5;124;43m'\u001b[39;49m\u001b[38;5;124;43m...,j->j...\u001b[39;49m\u001b[38;5;124;43m'\u001b[39;49m\u001b[43m,\u001b[49m\n\u001b[1;32m     14\u001b[0m \u001b[43m                  \u001b[49m\u001b[43mtf\u001b[49m\u001b[38;5;241;43m.\u001b[39;49m\u001b[43mones_like\u001b[49m\u001b[43m(\u001b[49m\u001b[43mmu0\u001b[49m\u001b[43m,\u001b[49m\u001b[43m \u001b[49m\u001b[43mdtype\u001b[49m\u001b[38;5;241;43m=\u001b[39;49m\u001b[43mobserved\u001b[49m\u001b[38;5;241;43m.\u001b[39;49m\u001b[43mdtype\u001b[49m\u001b[43m)\u001b[49m\u001b[43m,\u001b[49m\n\u001b[1;32m     15\u001b[0m \u001b[43m                  \u001b[49m\u001b[43mobserved\u001b[49m\u001b[43m)\u001b[49m],\n\u001b[1;32m     16\u001b[0m         axis\u001b[38;5;241m=\u001b[39m\u001b[38;5;241m0\u001b[39m)\n\u001b[1;32m     17\u001b[0m     eps_t \u001b[38;5;241m=\u001b[39m tf\u001b[38;5;241m.\u001b[39mzeros_like(y_extended, dtype\u001b[38;5;241m=\u001b[39mobserved\u001b[38;5;241m.\u001b[39mdtype)\n\u001b[1;32m     19\u001b[0m     \u001b[38;5;28;01mdef\u001b[39;00m \u001b[38;5;21marma_onestep\u001b[39m(t, eps_t):\n",
      "\u001b[0;31mValueError\u001b[0m: Shape must be rank 1 but is rank 2\n\t for 1th input and equation: ...,j->j... for '{{node mcmc_sample_chain/dual_averaging_step_size_adaptation___init__/_bootstrap_results/transformed_kernel_bootstrap_results/NoUTurnSampler/.bootstrap_results/process_args/maybe_call_fn_and_grads/value_and_gradients/value_and_gradient/einsum/Einsum}} = Einsum[N=2, T=DT_FLOAT, equation=\"...,j->j...\"](mcmc_sample_chain/dual_averaging_step_size_adaptation___init__/_bootstrap_results/transformed_kernel_bootstrap_results/NoUTurnSampler/.bootstrap_results/process_args/maybe_call_fn_and_grads/value_and_gradients/value_and_gradient/ones_like, mcmc_sample_chain/dual_averaging_step_size_adaptation___init__/_bootstrap_results/transformed_kernel_bootstrap_results/NoUTurnSampler/.bootstrap_results/process_args/maybe_call_fn_and_grads/value_and_gradients/value_and_gradient/einsum/Einsum/inputs_1)' with input shapes: [4], [760,0]."
     ]
    }
   ],
   "source": [
    "%%time\n",
    "target_log_prob_fn = lambda *x: sarima_priors.log_prob(*x) + sarima_likelihood(*x)\n",
    "\n",
    "mcmc_samples, sampler_stats = run_mcmc_simple(\n",
    "    1000, sarima_priors, n_chains=4, num_adaptation_steps=1000,\n",
    "    target_log_prob_fn=target_log_prob_fn,\n",
    "    seed=tf.constant([623453, 456345], dtype=tf.int32),\n",
    ")"
   ]
  },
  {
   "cell_type": "code",
   "execution_count": 34,
   "id": "3c05763e-da7e-478c-bfac-95463c6b71dc",
   "metadata": {},
   "outputs": [],
   "source": [
    "run_mcmc = tf.function(tfp.experimental.mcmc.windowed_adaptive_nuts, autograph=False, jit_compile=True)"
   ]
  },
  {
   "cell_type": "code",
   "execution_count": null,
   "id": "5af508c3-d938-459a-9979-4566e4828de1",
   "metadata": {},
   "outputs": [],
   "source": []
  }
 ],
 "metadata": {
  "kernelspec": {
   "display_name": "Python 3 (ipykernel)",
   "language": "python",
   "name": "python3"
  },
  "language_info": {
   "codemirror_mode": {
    "name": "ipython",
    "version": 3
   },
   "file_extension": ".py",
   "mimetype": "text/x-python",
   "name": "python",
   "nbconvert_exporter": "python",
   "pygments_lexer": "ipython3",
   "version": "3.10.5"
  }
 },
 "nbformat": 4,
 "nbformat_minor": 5
}
