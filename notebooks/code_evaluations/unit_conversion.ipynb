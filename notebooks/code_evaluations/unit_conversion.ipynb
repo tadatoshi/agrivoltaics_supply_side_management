{
 "cells": [
  {
   "cell_type": "markdown",
   "id": "c8f0a0db-902f-49dd-9e4e-241a6c663006",
   "metadata": {},
   "source": [
    "## Notebook to use unit conversion"
   ]
  },
  {
   "cell_type": "code",
   "execution_count": 1,
   "id": "7350bbda-0e45-4185-a667-d9043f07c4e4",
   "metadata": {},
   "outputs": [],
   "source": [
    "%load_ext autoreload\n",
    "%autoreload 2"
   ]
  },
  {
   "cell_type": "code",
   "execution_count": 2,
   "id": "bcd3173d-dc1a-4a8a-9dca-4b8b1cf953af",
   "metadata": {},
   "outputs": [],
   "source": [
    "import numpy as np\n",
    "import pandas as pd\n",
    "import matplotlib.pyplot as plt"
   ]
  },
  {
   "cell_type": "code",
   "execution_count": 3,
   "id": "866668e2-b23e-4a1b-a3ed-c3517a2dbbd0",
   "metadata": {},
   "outputs": [],
   "source": [
    "from agrivoltaics_supply_side_management.agriculture.unit_conversion import UnitConversion"
   ]
  },
  {
   "cell_type": "code",
   "execution_count": 4,
   "id": "59bb5bc6-3fda-4e18-a99c-bb96b7ab0306",
   "metadata": {},
   "outputs": [
    {
     "data": {
      "text/plain": [
       "371.9912472647702"
      ]
     },
     "execution_count": 4,
     "metadata": {},
     "output_type": "execute_result"
    }
   ],
   "source": [
    "UnitConversion.par_to_irradiance(1700)"
   ]
  },
  {
   "cell_type": "code",
   "execution_count": 5,
   "id": "d6ce41e8-3292-4406-9b95-7fe252e7e9d8",
   "metadata": {},
   "outputs": [
    {
     "data": {
      "text/plain": [
       "266.9584245076586"
      ]
     },
     "execution_count": 5,
     "metadata": {},
     "output_type": "execute_result"
    }
   ],
   "source": [
    "UnitConversion.par_to_irradiance(1220)"
   ]
  },
  {
   "cell_type": "code",
   "execution_count": 6,
   "id": "d4b32dbd-bf0f-4062-849f-9b3db813b809",
   "metadata": {},
   "outputs": [
    {
     "data": {
      "text/plain": [
       "398.24945295404814"
      ]
     },
     "execution_count": 6,
     "metadata": {},
     "output_type": "execute_result"
    }
   ],
   "source": [
    "UnitConversion.par_to_irradiance(1820)"
   ]
  },
  {
   "cell_type": "code",
   "execution_count": null,
   "id": "4826e1af-b80b-4aec-9618-38d733d8ab2e",
   "metadata": {},
   "outputs": [],
   "source": []
  }
 ],
 "metadata": {
  "kernelspec": {
   "display_name": "Python 3 (ipykernel)",
   "language": "python",
   "name": "python3"
  },
  "language_info": {
   "codemirror_mode": {
    "name": "ipython",
    "version": 3
   },
   "file_extension": ".py",
   "mimetype": "text/x-python",
   "name": "python",
   "nbconvert_exporter": "python",
   "pygments_lexer": "ipython3",
   "version": "3.10.5"
  }
 },
 "nbformat": 4,
 "nbformat_minor": 5
}
