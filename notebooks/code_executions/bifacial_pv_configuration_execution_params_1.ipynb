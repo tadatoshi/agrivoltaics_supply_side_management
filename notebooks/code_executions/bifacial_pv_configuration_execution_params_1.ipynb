{
 "cells": [
  {
   "cell_type": "markdown",
   "id": "7656d0d1-5a25-4fbf-bc99-ec31f990395c",
   "metadata": {},
   "source": [
    "## Comparison of execution of VerticalPvConfiguration and DefaultConfiguration\n",
    "\n",
    "In this notebook, the values from the literature for phi, alpha, theta, and p_max are used."
   ]
  },
  {
   "cell_type": "code",
   "execution_count": 1,
   "id": "402eb9e2-d856-4a10-a4e2-8b2f7798aac2",
   "metadata": {},
   "outputs": [],
   "source": [
    "%load_ext autoreload\n",
    "%autoreload 2"
   ]
  },
  {
   "cell_type": "code",
   "execution_count": 2,
   "id": "d70a765c-82b6-4bf3-9039-8b4ba99a18d3",
   "metadata": {},
   "outputs": [],
   "source": [
    "import numpy as np\n",
    "import pandas as pd\n",
    "\n",
    "from agrivoltaics_supply_side_management.agriculture.crops import Cultivation\n",
    "from agrivoltaics_supply_side_management.configuration \\\n",
    "    import BifacialVerticalPvConfiguration, DefaultBifacialConfiguration\n",
    "from agrivoltaics_supply_side_management.optimization.convex_optimization\\\n",
    "    import ConvexOptimization\n",
    "from agrivoltaics_supply_side_management.photovoltaics.pv_modules\\\n",
    "    import BifacialElectricityGeneration\n",
    "from agrivoltaics_supply_side_management.solar_irradiation.irradiance\\\n",
    "    import BifacialIrradianceManager"
   ]
  },
  {
   "cell_type": "code",
   "execution_count": 3,
   "id": "ba3ea25c-7888-4e35-beac-bdf2897d64a0",
   "metadata": {},
   "outputs": [],
   "source": [
    "import warnings\n",
    "warnings.filterwarnings('ignore')\n",
    "warnings.simplefilter(action='ignore', category=FutureWarning)"
   ]
  },
  {
   "cell_type": "code",
   "execution_count": 4,
   "id": "c88ca9b3-83a7-4938-8368-da628c1e6ebd",
   "metadata": {},
   "outputs": [],
   "source": [
    "monocropping_phi, monocropping_alpha, monocropping_theta, monocropping_p_max = \\\n",
    "    0.03442841710379512, 0.09510809834054065, 1.327579142408395, 25.0"
   ]
  },
  {
   "cell_type": "code",
   "execution_count": 5,
   "id": "159b20b2-bca3-4a5d-989c-71155b67edb1",
   "metadata": {},
   "outputs": [],
   "source": [
    "monocropping_net_photosynthetic_rate_parameters = {\n",
    "                \"phi\": monocropping_phi,\n",
    "                \"alpha\": monocropping_alpha,\n",
    "                \"theta\": monocropping_theta,\n",
    "                \"p_max\": monocropping_p_max\n",
    "            }"
   ]
  },
  {
   "cell_type": "code",
   "execution_count": 6,
   "id": "79e255a8-2a4d-4a2d-9c57-e8f51a6f8364",
   "metadata": {},
   "outputs": [],
   "source": [
    "intercropping_phi, intercropping_alpha, intercropping_theta, intercropping_p_max = \\\n",
    "    0.05498625745316387, 0.12013631354448669, 0.7442598071555129, 17.0"
   ]
  },
  {
   "cell_type": "code",
   "execution_count": 7,
   "id": "1a3e5927-798e-4547-8e05-4f458ac255ea",
   "metadata": {},
   "outputs": [],
   "source": [
    "intercropping_net_photosynthetic_rate_parameters = {\n",
    "                \"phi\": intercropping_phi,\n",
    "                \"alpha\": intercropping_alpha,\n",
    "                \"theta\": intercropping_theta,\n",
    "                \"p_max\": intercropping_p_max\n",
    "            }"
   ]
  },
  {
   "cell_type": "code",
   "execution_count": 8,
   "id": "e80a630c-46a4-4fbf-aae5-477cf80d4825",
   "metadata": {},
   "outputs": [],
   "source": [
    "posterior_intercropping_phi, posterior_intercropping_alpha, posterior_intercropping_theta, posterior_intercropping_p_max = \\\n",
    "    0.18, 0.14, -0.34, 17.0"
   ]
  },
  {
   "cell_type": "code",
   "execution_count": 9,
   "id": "d84f83c5-7192-4702-aa86-c56f5630add0",
   "metadata": {},
   "outputs": [],
   "source": [
    "posterior_intercropping_net_photosynthetic_rate_parameters = {\n",
    "                \"phi\": posterior_intercropping_phi,\n",
    "                \"alpha\": posterior_intercropping_alpha,\n",
    "                \"theta\": posterior_intercropping_theta,\n",
    "                \"p_max\": posterior_intercropping_p_max\n",
    "            }"
   ]
  },
  {
   "cell_type": "code",
   "execution_count": 10,
   "id": "09b88bdf-9995-487f-89d3-65ce7f41c297",
   "metadata": {},
   "outputs": [],
   "source": [
    "lattitude, longitude = 49.26757152616243, -123.25266177347093\n",
    "timezone = 'Canada/Pacific'\n",
    "time_range = pd.date_range('2022-07-06', '2022-07-07', freq='1T',\n",
    "                             tz=timezone)"
   ]
  },
  {
   "cell_type": "code",
   "execution_count": 11,
   "id": "3abb25b0-3df1-4af0-b3b3-31bf692f78f2",
   "metadata": {},
   "outputs": [],
   "source": [
    "surface_azimuth = 180\n",
    "surface_tilt = 20\n",
    "axis_azimuth = 180\n",
    "pvrow_height = 1\n",
    "pvrow_width = 4\n",
    "pitch = 10\n",
    "gcr = pvrow_width / pitch\n",
    "albedo = 0.2\n",
    "n_pvrows = 3\n",
    "index_observed_pvrow = 1\n",
    "bifaciality = 0.75"
   ]
  },
  {
   "cell_type": "code",
   "execution_count": 12,
   "id": "fe44ac92-749e-4794-840b-5acaede74598",
   "metadata": {},
   "outputs": [],
   "source": [
    "bifacial_irradiance_manager = BifacialIrradianceManager(\n",
    "    lattitude, longitude, timezone, time_range,\n",
    "    surface_azimuth, surface_tilt, axis_azimuth, gcr,\n",
    "    pvrow_height, pvrow_width, albedo, n_pvrows, index_observed_pvrow,\n",
    "    bifaciality)"
   ]
  },
  {
   "cell_type": "code",
   "execution_count": 13,
   "id": "e26d2daa-fbd5-40ea-b71a-a64a2b30b3b8",
   "metadata": {},
   "outputs": [],
   "source": [
    "optimization = ConvexOptimization()"
   ]
  },
  {
   "cell_type": "code",
   "execution_count": 14,
   "id": "0e9a7199-4d6c-4cc9-b3fc-80e9507f1e98",
   "metadata": {},
   "outputs": [],
   "source": [
    "temp_model_parameters_type, module_name, inverter_name = (\n",
    "    'open_rack_glass_glass', 'Trina_Solar_TSM_300DEG5C_07_II_',\n",
    "    'ABB__MICRO_0_25_I_OUTD_US_208__208V_')"
   ]
  },
  {
   "cell_type": "code",
   "execution_count": 15,
   "id": "6ae04e8a-57bb-48c3-ac4a-edfb33214672",
   "metadata": {},
   "outputs": [],
   "source": [
    "bifacial_electricity_generation = BifacialElectricityGeneration(\n",
    "    lattitude, longitude, timezone,\n",
    "    bifacial_irradiance_manager.bifacial_irradiances,\n",
    "    temp_model_parameters_type,\n",
    "    module_name, inverter_name,\n",
    "    surface_tilt, surface_azimuth, \n",
    "    bifaciality)"
   ]
  },
  {
   "cell_type": "code",
   "execution_count": 16,
   "id": "61998fc9-46e6-4cb4-8e7c-7bdbb7b380f7",
   "metadata": {},
   "outputs": [],
   "source": [
    "harvest_index = 0.95\n",
    "biomass_energy_ratio = 30\n",
    "leaf_area_index = 5"
   ]
  },
  {
   "cell_type": "code",
   "execution_count": 17,
   "id": "9eecf250-3080-4e34-a1ca-4096bd8b3c0c",
   "metadata": {},
   "outputs": [],
   "source": [
    "default_crop_growth_regulating_factor = 0.95\n",
    "default_cultivation = Cultivation(harvest_index, biomass_energy_ratio,\n",
    "                    leaf_area_index, default_crop_growth_regulating_factor)"
   ]
  },
  {
   "cell_type": "markdown",
   "id": "70c9d107-0ea8-48d4-9ccb-d304f1c96d9c",
   "metadata": {},
   "source": [
    "##### Take into account the difference in net photosynthetic rate at light saturation point"
   ]
  },
  {
   "cell_type": "code",
   "execution_count": 18,
   "id": "f11217c4-43d6-47b1-86ba-24b7f8abf655",
   "metadata": {},
   "outputs": [],
   "source": [
    "monocropping_net_photosynthetic_rate_at_light_saturation_point = 12.5\n",
    "intercropping_net_photosynthetic_rate_at_light_saturation_point = 11.0\n",
    "\n",
    "intercropping_crop_growth_regulating_factor =\\\n",
    "    default_crop_growth_regulating_factor * (\n",
    "        intercropping_net_photosynthetic_rate_at_light_saturation_point /\\\n",
    "        monocropping_net_photosynthetic_rate_at_light_saturation_point)"
   ]
  },
  {
   "cell_type": "code",
   "execution_count": 19,
   "id": "c80f76f5-a07c-4dd2-9541-8e2bb78e4c37",
   "metadata": {},
   "outputs": [
    {
     "data": {
      "text/plain": [
       "0.836"
      ]
     },
     "execution_count": 19,
     "metadata": {},
     "output_type": "execute_result"
    }
   ],
   "source": [
    "intercropping_crop_growth_regulating_factor"
   ]
  },
  {
   "cell_type": "code",
   "execution_count": 20,
   "id": "6db97807-c2c7-4a58-9568-73d971a73fc9",
   "metadata": {
    "tags": []
   },
   "outputs": [],
   "source": [
    "intercropping_cultivation = Cultivation(harvest_index, biomass_energy_ratio,\n",
    "                leaf_area_index, intercropping_crop_growth_regulating_factor)"
   ]
  },
  {
   "cell_type": "code",
   "execution_count": 21,
   "id": "725c448e-bbaa-4d44-b37e-7ae4fe81ab4e",
   "metadata": {},
   "outputs": [],
   "source": [
    "ppfd_data = np.linspace(0, 1500)"
   ]
  },
  {
   "cell_type": "markdown",
   "id": "65b6ba94-4f4d-4925-9ed0-c342491d05a2",
   "metadata": {},
   "source": [
    "### Default configuration"
   ]
  },
  {
   "cell_type": "code",
   "execution_count": 22,
   "id": "8d0a0696-4c8a-488f-be7d-e4b25d47f6c2",
   "metadata": {},
   "outputs": [],
   "source": [
    "default_bifacial_configuration = DefaultBifacialConfiguration(\n",
    "    monocropping_net_photosynthetic_rate_parameters, ppfd_data,\n",
    "    bifacial_irradiance_manager, optimization, \n",
    "    bifacial_electricity_generation,\n",
    "    default_cultivation)"
   ]
  },
  {
   "cell_type": "code",
   "execution_count": 23,
   "id": "8f6cfd58-4c16-409d-ae86-4362e8130bc9",
   "metadata": {
    "tags": []
   },
   "outputs": [],
   "source": [
    "default_electricity_supply, default_crop_yield, \\\n",
    "    default_cumulative_electric_power_for_morning_peak, \\\n",
    "    default_cumulative_electric_power_for_afternoon_peak \\\n",
    "        = default_bifacial_configuration.supply(time_range)"
   ]
  },
  {
   "cell_type": "code",
   "execution_count": 24,
   "id": "a9eb1b7d-e21c-443a-980f-35129ae06dc4",
   "metadata": {},
   "outputs": [
    {
     "data": {
      "text/plain": [
       "1846.9871799090927"
      ]
     },
     "execution_count": 24,
     "metadata": {},
     "output_type": "execute_result"
    }
   ],
   "source": [
    "default_electricity_supply"
   ]
  },
  {
   "cell_type": "code",
   "execution_count": 25,
   "id": "1c8e5409-0e1a-4669-b6d8-9aa6b183386a",
   "metadata": {},
   "outputs": [
    {
     "data": {
      "text/plain": [
       "0.0027915385983769895"
      ]
     },
     "execution_count": 25,
     "metadata": {},
     "output_type": "execute_result"
    }
   ],
   "source": [
    "default_crop_yield"
   ]
  },
  {
   "cell_type": "code",
   "execution_count": 26,
   "id": "7973eb5c-c153-49c4-9377-999b2b045fa2",
   "metadata": {},
   "outputs": [
    {
     "data": {
      "text/plain": [
       "284.4088536020805"
      ]
     },
     "execution_count": 26,
     "metadata": {},
     "output_type": "execute_result"
    }
   ],
   "source": [
    "default_cumulative_electric_power_for_morning_peak"
   ]
  },
  {
   "cell_type": "code",
   "execution_count": 27,
   "id": "64307756-ca9c-4549-a152-7b5da97c3c82",
   "metadata": {
    "tags": []
   },
   "outputs": [
    {
     "data": {
      "text/plain": [
       "408.6670461434379"
      ]
     },
     "execution_count": 27,
     "metadata": {},
     "output_type": "execute_result"
    }
   ],
   "source": [
    "default_cumulative_electric_power_for_afternoon_peak"
   ]
  },
  {
   "cell_type": "markdown",
   "id": "445e6140-b6ea-40d0-ab9c-7023605c6a09",
   "metadata": {
    "tags": []
   },
   "source": [
    "### Vertical configuration with prior values"
   ]
  },
  {
   "cell_type": "code",
   "execution_count": 28,
   "id": "c7efd2b8-1b84-433a-8c1e-76f312f38b67",
   "metadata": {},
   "outputs": [],
   "source": [
    "bifacial_vertical_pv_configuration = BifacialVerticalPvConfiguration(\n",
    "    intercropping_net_photosynthetic_rate_parameters, ppfd_data,\n",
    "    bifacial_irradiance_manager, optimization, \n",
    "    bifacial_electricity_generation,\n",
    "    intercropping_cultivation)"
   ]
  },
  {
   "cell_type": "code",
   "execution_count": 29,
   "id": "a7259810-88d2-4c4c-895a-3af2bec86071",
   "metadata": {
    "tags": []
   },
   "outputs": [],
   "source": [
    "vertical_electricity_supply, vertical_crop_yield,\\\n",
    "    vertical_cumulative_electric_power_for_morning_peak, \\\n",
    "    vertical_cumulative_electric_power_for_afternoon_peak \\\n",
    "        = bifacial_vertical_pv_configuration.supply(time_range)"
   ]
  },
  {
   "cell_type": "code",
   "execution_count": 30,
   "id": "423dd9a5-1ef1-4a94-80b4-1c4695f137f3",
   "metadata": {},
   "outputs": [
    {
     "data": {
      "text/plain": [
       "1690.1325454027615"
      ]
     },
     "execution_count": 30,
     "metadata": {},
     "output_type": "execute_result"
    }
   ],
   "source": [
    "vertical_electricity_supply"
   ]
  },
  {
   "cell_type": "code",
   "execution_count": 31,
   "id": "99af2824-65be-4a5a-b81b-0c0eb9de0ca0",
   "metadata": {},
   "outputs": [
    {
     "data": {
      "text/plain": [
       "0.0028000904376386413"
      ]
     },
     "execution_count": 31,
     "metadata": {},
     "output_type": "execute_result"
    }
   ],
   "source": [
    "vertical_crop_yield"
   ]
  },
  {
   "cell_type": "code",
   "execution_count": 32,
   "id": "6cd512be-4af4-460b-8e95-f7ff911fb3e7",
   "metadata": {},
   "outputs": [
    {
     "data": {
      "text/plain": [
       "287.4827210603035"
      ]
     },
     "execution_count": 32,
     "metadata": {},
     "output_type": "execute_result"
    }
   ],
   "source": [
    "vertical_cumulative_electric_power_for_morning_peak"
   ]
  },
  {
   "cell_type": "code",
   "execution_count": 33,
   "id": "56defdd9-2afc-4337-a59b-0e31cef94231",
   "metadata": {},
   "outputs": [
    {
     "data": {
      "text/plain": [
       "548.2925089959637"
      ]
     },
     "execution_count": 33,
     "metadata": {},
     "output_type": "execute_result"
    }
   ],
   "source": [
    "vertical_cumulative_electric_power_for_afternoon_peak"
   ]
  },
  {
   "cell_type": "markdown",
   "id": "17b6e2a3-d098-41e2-abd8-12bd070cf325",
   "metadata": {},
   "source": [
    "### Vertical configuration with posterior values"
   ]
  },
  {
   "cell_type": "code",
   "execution_count": 34,
   "id": "76c77d26-4271-4b9f-a2c6-7f915603f2e9",
   "metadata": {},
   "outputs": [],
   "source": [
    "posterior_bifacial_vertical_pv_configuration =\\\n",
    "    BifacialVerticalPvConfiguration(\n",
    "        posterior_intercropping_net_photosynthetic_rate_parameters, ppfd_data,\n",
    "        bifacial_irradiance_manager, optimization, \n",
    "        bifacial_electricity_generation,\n",
    "        intercropping_cultivation)"
   ]
  },
  {
   "cell_type": "code",
   "execution_count": 35,
   "id": "1c617634-e594-479a-b2fb-81b3f1c6e2d6",
   "metadata": {
    "tags": []
   },
   "outputs": [],
   "source": [
    "posterior_vertical_electricity_supply, posterior_vertical_crop_yield,\\\n",
    "    posterior_vertical_cumulative_electric_power_for_morning_peak, \\\n",
    "    posterior_vertical_cumulative_electric_power_for_afternoon_peak \\\n",
    "        = posterior_bifacial_vertical_pv_configuration.supply(time_range)"
   ]
  },
  {
   "cell_type": "code",
   "execution_count": 36,
   "id": "c0ed9d08-fb15-46f7-a1cf-17a37d25d5b4",
   "metadata": {},
   "outputs": [
    {
     "data": {
      "text/plain": [
       "1881.0909798283963"
      ]
     },
     "execution_count": 36,
     "metadata": {},
     "output_type": "execute_result"
    }
   ],
   "source": [
    "posterior_vertical_electricity_supply"
   ]
  },
  {
   "cell_type": "code",
   "execution_count": 37,
   "id": "b70f9a2e-ffd9-4ef0-8455-fd34d559be58",
   "metadata": {},
   "outputs": [
    {
     "data": {
      "text/plain": [
       "0.0022176375616646832"
      ]
     },
     "execution_count": 37,
     "metadata": {},
     "output_type": "execute_result"
    }
   ],
   "source": [
    "posterior_vertical_crop_yield"
   ]
  },
  {
   "cell_type": "code",
   "execution_count": 38,
   "id": "df390ac8-a9ec-45c1-aaab-1b8e5bc04635",
   "metadata": {},
   "outputs": [
    {
     "data": {
      "text/plain": [
       "287.4827210603035"
      ]
     },
     "execution_count": 38,
     "metadata": {},
     "output_type": "execute_result"
    }
   ],
   "source": [
    "posterior_vertical_cumulative_electric_power_for_morning_peak"
   ]
  },
  {
   "cell_type": "code",
   "execution_count": 39,
   "id": "d24341b9-db14-40de-a2d3-6215049bab82",
   "metadata": {
    "tags": []
   },
   "outputs": [
    {
     "data": {
      "text/plain": [
       "548.2925089959637"
      ]
     },
     "execution_count": 39,
     "metadata": {},
     "output_type": "execute_result"
    }
   ],
   "source": [
    "posterior_vertical_cumulative_electric_power_for_afternoon_peak"
   ]
  },
  {
   "cell_type": "markdown",
   "id": "72ab0e74-19e1-4817-87c4-f9c91d4fa29f",
   "metadata": {},
   "source": [
    "### Comparison"
   ]
  },
  {
   "cell_type": "code",
   "execution_count": 40,
   "id": "2259a2d7-03b0-4fac-bd64-fd5ce15d61b3",
   "metadata": {},
   "outputs": [
    {
     "data": {
      "text/plain": [
       "0.9150754070128134"
      ]
     },
     "execution_count": 40,
     "metadata": {},
     "output_type": "execute_result"
    }
   ],
   "source": [
    "vertical_electricity_supply / default_electricity_supply"
   ]
  },
  {
   "cell_type": "code",
   "execution_count": 41,
   "id": "f8acac5b-fc03-4fd3-bb93-0a97d60c98b9",
   "metadata": {},
   "outputs": [
    {
     "data": {
      "text/plain": [
       "1.0030634859452146"
      ]
     },
     "execution_count": 41,
     "metadata": {},
     "output_type": "execute_result"
    }
   ],
   "source": [
    "vertical_crop_yield / default_crop_yield"
   ]
  },
  {
   "cell_type": "code",
   "execution_count": 42,
   "id": "3ef023b2-bcf3-4827-825f-c48230e0df96",
   "metadata": {},
   "outputs": [
    {
     "data": {
      "text/plain": [
       "1.0108079176132951"
      ]
     },
     "execution_count": 42,
     "metadata": {},
     "output_type": "execute_result"
    }
   ],
   "source": [
    "vertical_cumulative_electric_power_for_morning_peak / default_cumulative_electric_power_for_morning_peak"
   ]
  },
  {
   "cell_type": "code",
   "execution_count": 43,
   "id": "3e535187-ee03-4b84-a9b2-7ccbfbb4b53b",
   "metadata": {},
   "outputs": [
    {
     "data": {
      "text/plain": [
       "1.3416606848292794"
      ]
     },
     "execution_count": 43,
     "metadata": {},
     "output_type": "execute_result"
    }
   ],
   "source": [
    "vertical_cumulative_electric_power_for_afternoon_peak / default_cumulative_electric_power_for_afternoon_peak"
   ]
  },
  {
   "cell_type": "code",
   "execution_count": 44,
   "id": "042e6cec-0fc9-4123-9210-0a56cbc55936",
   "metadata": {},
   "outputs": [
    {
     "data": {
      "text/plain": [
       "1.018464556922903"
      ]
     },
     "execution_count": 44,
     "metadata": {},
     "output_type": "execute_result"
    }
   ],
   "source": [
    "posterior_vertical_electricity_supply / default_electricity_supply"
   ]
  },
  {
   "cell_type": "code",
   "execution_count": 45,
   "id": "6ecbe727-b135-41b4-9afa-e2b4c1b2da14",
   "metadata": {},
   "outputs": [
    {
     "data": {
      "text/plain": [
       "0.7944140779403966"
      ]
     },
     "execution_count": 45,
     "metadata": {},
     "output_type": "execute_result"
    }
   ],
   "source": [
    "posterior_vertical_crop_yield / default_crop_yield"
   ]
  },
  {
   "cell_type": "code",
   "execution_count": 46,
   "id": "620281cd-a6c5-470c-b051-4cc4b2866990",
   "metadata": {},
   "outputs": [
    {
     "data": {
      "text/plain": [
       "1.0108079176132951"
      ]
     },
     "execution_count": 46,
     "metadata": {},
     "output_type": "execute_result"
    }
   ],
   "source": [
    "posterior_vertical_cumulative_electric_power_for_morning_peak / default_cumulative_electric_power_for_morning_peak"
   ]
  },
  {
   "cell_type": "code",
   "execution_count": 47,
   "id": "63f9004f-c223-4d93-b84f-a07739675133",
   "metadata": {
    "tags": []
   },
   "outputs": [
    {
     "data": {
      "text/plain": [
       "1.3416606848292794"
      ]
     },
     "execution_count": 47,
     "metadata": {},
     "output_type": "execute_result"
    }
   ],
   "source": [
    "posterior_vertical_cumulative_electric_power_for_afternoon_peak / default_cumulative_electric_power_for_afternoon_peak"
   ]
  },
  {
   "cell_type": "code",
   "execution_count": null,
   "id": "2071af45-e1c8-4a5c-bf43-b1ef45eaa91b",
   "metadata": {},
   "outputs": [],
   "source": []
  }
 ],
 "metadata": {
  "kernelspec": {
   "display_name": "Python 3 (ipykernel)",
   "language": "python",
   "name": "python3"
  },
  "language_info": {
   "codemirror_mode": {
    "name": "ipython",
    "version": 3
   },
   "file_extension": ".py",
   "mimetype": "text/x-python",
   "name": "python",
   "nbconvert_exporter": "python",
   "pygments_lexer": "ipython3",
   "version": "3.10.5"
  }
 },
 "nbformat": 4,
 "nbformat_minor": 5
}
