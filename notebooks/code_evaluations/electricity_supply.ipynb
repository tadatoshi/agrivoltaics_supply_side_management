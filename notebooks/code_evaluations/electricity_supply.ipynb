{
 "cells": [
  {
   "cell_type": "markdown",
   "id": "e524e90c-6486-4ae7-bd91-8cc30a50fadc",
   "metadata": {},
   "source": [
    "## Various codes related to electricity supply calculation"
   ]
  },
  {
   "cell_type": "code",
   "execution_count": 1,
   "id": "5f8ed3d3-de72-4935-a61a-50cbd3973496",
   "metadata": {},
   "outputs": [],
   "source": [
    "%load_ext autoreload\n",
    "%autoreload 2"
   ]
  },
  {
   "cell_type": "code",
   "execution_count": 2,
   "id": "775e03c3-797a-4047-bd71-91733e1652dc",
   "metadata": {},
   "outputs": [],
   "source": [
    "import numpy as np\n",
    "import pandas as pd\n",
    "import matplotlib.pyplot as plt"
   ]
  },
  {
   "cell_type": "code",
   "execution_count": 3,
   "id": "0f09db15-2ee3-43fe-84a8-920fd63d57e7",
   "metadata": {},
   "outputs": [],
   "source": [
    "times = pd.date_range('2022-07-06', '2022-07-07', freq='1T',\n",
    "                             tz='Canada/Pacific')"
   ]
  },
  {
   "cell_type": "code",
   "execution_count": 4,
   "id": "fa0107dd-5be6-4f3f-81d3-0714cab07815",
   "metadata": {},
   "outputs": [
    {
     "data": {
      "text/plain": [
       "<Minute>"
      ]
     },
     "execution_count": 4,
     "metadata": {},
     "output_type": "execute_result"
    }
   ],
   "source": [
    "times.freq"
   ]
  },
  {
   "cell_type": "code",
   "execution_count": 5,
   "id": "aeefd837-9e73-4230-8ce1-9b4a9488d415",
   "metadata": {},
   "outputs": [
    {
     "data": {
      "text/plain": [
       "False"
      ]
     },
     "execution_count": 5,
     "metadata": {},
     "output_type": "execute_result"
    }
   ],
   "source": [
    "times.freq == '<Minute>'"
   ]
  },
  {
   "cell_type": "code",
   "execution_count": 6,
   "id": "36d627b1-616a-496d-ae13-4339ab6234b0",
   "metadata": {},
   "outputs": [
    {
     "data": {
      "text/plain": [
       "False"
      ]
     },
     "execution_count": 6,
     "metadata": {},
     "output_type": "execute_result"
    }
   ],
   "source": [
    "times.freq == 'Minute'"
   ]
  },
  {
   "cell_type": "code",
   "execution_count": 7,
   "id": "b5a37827-520b-459b-842e-463864057fd7",
   "metadata": {},
   "outputs": [
    {
     "data": {
      "text/plain": [
       "True"
      ]
     },
     "execution_count": 7,
     "metadata": {},
     "output_type": "execute_result"
    }
   ],
   "source": [
    "times.freq == '1T'"
   ]
  },
  {
   "cell_type": "code",
   "execution_count": 8,
   "id": "dcf16f32-202c-4ac4-8d68-08d7f48dad61",
   "metadata": {},
   "outputs": [
    {
     "data": {
      "text/plain": [
       "True"
      ]
     },
     "execution_count": 8,
     "metadata": {},
     "output_type": "execute_result"
    }
   ],
   "source": [
    "times.freq == 'T'"
   ]
  },
  {
   "cell_type": "code",
   "execution_count": 12,
   "id": "2d98c02f-b55d-40e8-baad-2906c6201e28",
   "metadata": {},
   "outputs": [
    {
     "ename": "TypeError",
     "evalue": "argument of type 'pandas._libs.tslibs.offsets.Minute' is not iterable",
     "output_type": "error",
     "traceback": [
      "\u001b[0;31m---------------------------------------------------------------------------\u001b[0m",
      "\u001b[0;31mTypeError\u001b[0m                                 Traceback (most recent call last)",
      "Input \u001b[0;32mIn [12]\u001b[0m, in \u001b[0;36m<cell line: 1>\u001b[0;34m()\u001b[0m\n\u001b[0;32m----> 1\u001b[0m \u001b[38;5;28;01mif\u001b[39;00m \u001b[38;5;124;43m'\u001b[39;49m\u001b[38;5;124;43mT\u001b[39;49m\u001b[38;5;124;43m'\u001b[39;49m\u001b[43m \u001b[49m\u001b[38;5;129;43;01min\u001b[39;49;00m\u001b[43m \u001b[49m\u001b[43mtimes\u001b[49m\u001b[38;5;241;43m.\u001b[39;49m\u001b[43mfreq\u001b[49m:\n\u001b[1;32m      2\u001b[0m     duration \u001b[38;5;241m=\u001b[39m \u001b[38;5;124m'\u001b[39m\u001b[38;5;124mmin\u001b[39m\u001b[38;5;124m'\u001b[39m\n",
      "\u001b[0;31mTypeError\u001b[0m: argument of type 'pandas._libs.tslibs.offsets.Minute' is not iterable"
     ]
    }
   ],
   "source": [
    "if 'T' in times.freq:\n",
    "    duration = 'min'"
   ]
  },
  {
   "cell_type": "code",
   "execution_count": 13,
   "id": "acab086c-30c5-4276-aec5-ccd8a5acca00",
   "metadata": {},
   "outputs": [
    {
     "data": {
      "text/plain": [
       "pandas._libs.tslibs.offsets.Minute"
      ]
     },
     "execution_count": 13,
     "metadata": {},
     "output_type": "execute_result"
    }
   ],
   "source": [
    "type(times.freq)"
   ]
  },
  {
   "cell_type": "code",
   "execution_count": 16,
   "id": "2e9336d1-dfe8-4702-886d-64b35b01a9e7",
   "metadata": {},
   "outputs": [
    {
     "data": {
      "text/plain": [
       "'<Minute>'"
      ]
     },
     "execution_count": 16,
     "metadata": {},
     "output_type": "execute_result"
    }
   ],
   "source": [
    "str(times.freq)"
   ]
  },
  {
   "cell_type": "code",
   "execution_count": 17,
   "id": "f96e41f0-ad90-41f9-86c0-ed6f35752ac7",
   "metadata": {},
   "outputs": [
    {
     "data": {
      "text/plain": [
       "Timedelta('0 days 00:01:00')"
      ]
     },
     "execution_count": 17,
     "metadata": {},
     "output_type": "execute_result"
    }
   ],
   "source": [
    "pd.to_timedelta(times.freq)"
   ]
  },
  {
   "cell_type": "code",
   "execution_count": 19,
   "id": "5e81c8c1-7acf-4bbd-897a-fd6057f7f82d",
   "metadata": {},
   "outputs": [
    {
     "data": {
      "text/plain": [
       "60.0"
      ]
     },
     "execution_count": 19,
     "metadata": {},
     "output_type": "execute_result"
    }
   ],
   "source": [
    "pd.to_timedelta(times.freq).total_seconds()"
   ]
  },
  {
   "cell_type": "code",
   "execution_count": null,
   "id": "24196508-ad33-4fe7-b0a7-ee28d3e7a182",
   "metadata": {},
   "outputs": [],
   "source": []
  }
 ],
 "metadata": {
  "kernelspec": {
   "display_name": "Python 3 (ipykernel)",
   "language": "python",
   "name": "python3"
  },
  "language_info": {
   "codemirror_mode": {
    "name": "ipython",
    "version": 3
   },
   "file_extension": ".py",
   "mimetype": "text/x-python",
   "name": "python",
   "nbconvert_exporter": "python",
   "pygments_lexer": "ipython3",
   "version": "3.10.5"
  }
 },
 "nbformat": 4,
 "nbformat_minor": 5
}
