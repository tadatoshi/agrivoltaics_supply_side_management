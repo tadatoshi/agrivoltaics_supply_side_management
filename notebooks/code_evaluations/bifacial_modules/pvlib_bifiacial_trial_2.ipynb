{
 "cells": [
  {
   "cell_type": "markdown",
   "id": "39dbb330-b11c-4a63-a201-20462efcecb9",
   "metadata": {},
   "source": [
    "## Fixed-tilt Bifacial Modeling - modelchain, in order to find a way to calculate irradiance over crops between bifacial modules\n",
    "\n",
    "Use location of Vancouver here."
   ]
  },
  {
   "cell_type": "markdown",
   "id": "1193556b-cb41-44df-b207-c151cd0b9fc6",
   "metadata": {},
   "source": [
    "##### Based on https://pvlib-python.readthedocs.io/en/stable/gallery/bifacial/plot_pvfactors_fixed_tilt.html#sphx-glr-gallery-bifacial-plot-pvfactors-fixed-tilt-py and https://pvlib-python.readthedocs.io/en/stable/gallery/bifacial/plot_bifi_model_mc.html"
   ]
  },
  {
   "cell_type": "code",
   "execution_count": 1,
   "id": "a13fc6a6-a838-4504-a89c-877c8f07141f",
   "metadata": {},
   "outputs": [],
   "source": [
    "%load_ext autoreload\n",
    "%autoreload 2"
   ]
  },
  {
   "cell_type": "code",
   "execution_count": 2,
   "id": "ec3c9976-dacf-418b-8730-498c4ee52137",
   "metadata": {},
   "outputs": [],
   "source": [
    "import numpy as np"
   ]
  },
  {
   "cell_type": "code",
   "execution_count": 3,
   "id": "699da5e9-1b29-4576-a80d-e3f5442290c3",
   "metadata": {},
   "outputs": [],
   "source": [
    "import pandas as pd\n",
    "from pvlib import location\n",
    "from pvlib.bifacial.pvfactors import pvfactors_timeseries\n",
    "import matplotlib.pyplot as plt\n",
    "import warnings\n",
    "\n",
    "# supressing shapely warnings that occur on import of pvfactors\n",
    "warnings.filterwarnings(action='ignore', module='pvfactors')"
   ]
  },
  {
   "cell_type": "code",
   "execution_count": 4,
   "id": "dbd5fdfb-33f7-4c07-a8ba-33b9007dc39c",
   "metadata": {},
   "outputs": [],
   "source": [
    "from pvlib import pvsystem\n",
    "from pvlib import modelchain\n",
    "from pvlib.temperature import TEMPERATURE_MODEL_PARAMETERS as PARAMS"
   ]
  },
  {
   "cell_type": "markdown",
   "id": "4b8ea8ab-9a86-42b9-9a78-0c56be1f727a",
   "metadata": {},
   "source": [
    "### Get irradiance"
   ]
  },
  {
   "cell_type": "code",
   "execution_count": 5,
   "id": "6aaa760a-11d1-42d0-9aad-3293d4ffba79",
   "metadata": {},
   "outputs": [],
   "source": [
    "times = pd.date_range('2022-07-06', '2022-07-07', freq='1T', \n",
    "                      tz='Canada/Pacific')\n",
    "#times = pd.date_range('2022-07-06', '2022-07-07', freq='1T', tz='Etc/GMT+7')\n",
    "loc = location.Location(latitude=49.26757152616243, \n",
    "                        longitude=-123.25266177347093, tz=times.tz)\n",
    "sp = loc.get_solarposition(times)\n",
    "cs = loc.get_clearsky(times)\n",
    "\n",
    "# example array geometry\n",
    "pvrow_height = 1\n",
    "pvrow_width = 4\n",
    "pitch = 10\n",
    "gcr = pvrow_width / pitch\n",
    "axis_azimuth = 180\n",
    "albedo = 0.2"
   ]
  },
  {
   "cell_type": "code",
   "execution_count": 6,
   "id": "6f85881b-bb18-4ca4-a5b0-492b6811e847",
   "metadata": {},
   "outputs": [
    {
     "data": {
      "text/plain": [
       "pandas.core.indexes.datetimes.DatetimeIndex"
      ]
     },
     "execution_count": 6,
     "metadata": {},
     "output_type": "execute_result"
    }
   ],
   "source": [
    "type(times)"
   ]
  },
  {
   "cell_type": "code",
   "execution_count": 7,
   "id": "f2146497-0b71-4998-a948-4d75daf7975a",
   "metadata": {},
   "outputs": [
    {
     "data": {
      "text/plain": [
       "DatetimeIndex(['2022-07-06 00:00:00-07:00', '2022-07-06 00:01:00-07:00',\n",
       "               '2022-07-06 00:02:00-07:00', '2022-07-06 00:03:00-07:00',\n",
       "               '2022-07-06 00:04:00-07:00', '2022-07-06 00:05:00-07:00',\n",
       "               '2022-07-06 00:06:00-07:00', '2022-07-06 00:07:00-07:00',\n",
       "               '2022-07-06 00:08:00-07:00', '2022-07-06 00:09:00-07:00',\n",
       "               ...\n",
       "               '2022-07-06 23:51:00-07:00', '2022-07-06 23:52:00-07:00',\n",
       "               '2022-07-06 23:53:00-07:00', '2022-07-06 23:54:00-07:00',\n",
       "               '2022-07-06 23:55:00-07:00', '2022-07-06 23:56:00-07:00',\n",
       "               '2022-07-06 23:57:00-07:00', '2022-07-06 23:58:00-07:00',\n",
       "               '2022-07-06 23:59:00-07:00', '2022-07-07 00:00:00-07:00'],\n",
       "              dtype='datetime64[ns, Canada/Pacific]', length=1441, freq='T')"
      ]
     },
     "execution_count": 7,
     "metadata": {},
     "output_type": "execute_result"
    }
   ],
   "source": [
    "times"
   ]
  },
  {
   "cell_type": "code",
   "execution_count": 8,
   "id": "58df0826-0bd2-477b-b730-03d6e93f8c67",
   "metadata": {},
   "outputs": [
    {
     "data": {
      "text/plain": [
       "<DstTzInfo 'Canada/Pacific' LMT-1 day, 15:48:00 STD>"
      ]
     },
     "execution_count": 8,
     "metadata": {},
     "output_type": "execute_result"
    }
   ],
   "source": [
    "times.tz"
   ]
  },
  {
   "cell_type": "code",
   "execution_count": 9,
   "id": "4a289697-6189-401d-8d08-81c4280bdd35",
   "metadata": {},
   "outputs": [
    {
     "data": {
      "text/html": [
       "<div>\n",
       "<style scoped>\n",
       "    .dataframe tbody tr th:only-of-type {\n",
       "        vertical-align: middle;\n",
       "    }\n",
       "\n",
       "    .dataframe tbody tr th {\n",
       "        vertical-align: top;\n",
       "    }\n",
       "\n",
       "    .dataframe thead th {\n",
       "        text-align: right;\n",
       "    }\n",
       "</style>\n",
       "<table border=\"1\" class=\"dataframe\">\n",
       "  <thead>\n",
       "    <tr style=\"text-align: right;\">\n",
       "      <th></th>\n",
       "      <th>apparent_zenith</th>\n",
       "      <th>zenith</th>\n",
       "      <th>apparent_elevation</th>\n",
       "      <th>elevation</th>\n",
       "      <th>azimuth</th>\n",
       "      <th>equation_of_time</th>\n",
       "    </tr>\n",
       "  </thead>\n",
       "  <tbody>\n",
       "    <tr>\n",
       "      <th>2022-07-06 00:00:00-07:00</th>\n",
       "      <td>105.997064</td>\n",
       "      <td>105.997064</td>\n",
       "      <td>-15.997064</td>\n",
       "      <td>-15.997064</td>\n",
       "      <td>341.362505</td>\n",
       "      <td>-4.778212</td>\n",
       "    </tr>\n",
       "    <tr>\n",
       "      <th>2022-07-06 00:01:00-07:00</th>\n",
       "      <td>106.048944</td>\n",
       "      <td>106.048944</td>\n",
       "      <td>-16.048944</td>\n",
       "      <td>-16.048944</td>\n",
       "      <td>341.596318</td>\n",
       "      <td>-4.778328</td>\n",
       "    </tr>\n",
       "    <tr>\n",
       "      <th>2022-07-06 00:02:00-07:00</th>\n",
       "      <td>106.100192</td>\n",
       "      <td>106.100192</td>\n",
       "      <td>-16.100192</td>\n",
       "      <td>-16.100192</td>\n",
       "      <td>341.830342</td>\n",
       "      <td>-4.778444</td>\n",
       "    </tr>\n",
       "    <tr>\n",
       "      <th>2022-07-06 00:03:00-07:00</th>\n",
       "      <td>106.150806</td>\n",
       "      <td>106.150806</td>\n",
       "      <td>-16.150806</td>\n",
       "      <td>-16.150806</td>\n",
       "      <td>342.064576</td>\n",
       "      <td>-4.778561</td>\n",
       "    </tr>\n",
       "    <tr>\n",
       "      <th>2022-07-06 00:04:00-07:00</th>\n",
       "      <td>106.200787</td>\n",
       "      <td>106.200787</td>\n",
       "      <td>-16.200787</td>\n",
       "      <td>-16.200787</td>\n",
       "      <td>342.299017</td>\n",
       "      <td>-4.778677</td>\n",
       "    </tr>\n",
       "    <tr>\n",
       "      <th>...</th>\n",
       "      <td>...</td>\n",
       "      <td>...</td>\n",
       "      <td>...</td>\n",
       "      <td>...</td>\n",
       "      <td>...</td>\n",
       "      <td>...</td>\n",
       "    </tr>\n",
       "    <tr>\n",
       "      <th>2022-07-06 23:56:00-07:00</th>\n",
       "      <td>105.875532</td>\n",
       "      <td>105.875532</td>\n",
       "      <td>-15.875532</td>\n",
       "      <td>-15.875532</td>\n",
       "      <td>340.365441</td>\n",
       "      <td>-4.941988</td>\n",
       "    </tr>\n",
       "    <tr>\n",
       "      <th>2022-07-06 23:57:00-07:00</th>\n",
       "      <td>105.930100</td>\n",
       "      <td>105.930100</td>\n",
       "      <td>-15.930100</td>\n",
       "      <td>-15.930100</td>\n",
       "      <td>340.598639</td>\n",
       "      <td>-4.942100</td>\n",
       "    </tr>\n",
       "    <tr>\n",
       "      <th>2022-07-06 23:58:00-07:00</th>\n",
       "      <td>105.984042</td>\n",
       "      <td>105.984042</td>\n",
       "      <td>-15.984042</td>\n",
       "      <td>-15.984042</td>\n",
       "      <td>340.832057</td>\n",
       "      <td>-4.942212</td>\n",
       "    </tr>\n",
       "    <tr>\n",
       "      <th>2022-07-06 23:59:00-07:00</th>\n",
       "      <td>106.037357</td>\n",
       "      <td>106.037357</td>\n",
       "      <td>-16.037357</td>\n",
       "      <td>-16.037357</td>\n",
       "      <td>341.065694</td>\n",
       "      <td>-4.942323</td>\n",
       "    </tr>\n",
       "    <tr>\n",
       "      <th>2022-07-07 00:00:00-07:00</th>\n",
       "      <td>106.090042</td>\n",
       "      <td>106.090042</td>\n",
       "      <td>-16.090042</td>\n",
       "      <td>-16.090042</td>\n",
       "      <td>341.299548</td>\n",
       "      <td>-4.942435</td>\n",
       "    </tr>\n",
       "  </tbody>\n",
       "</table>\n",
       "<p>1441 rows × 6 columns</p>\n",
       "</div>"
      ],
      "text/plain": [
       "                           apparent_zenith      zenith  apparent_elevation   \n",
       "2022-07-06 00:00:00-07:00       105.997064  105.997064          -15.997064  \\\n",
       "2022-07-06 00:01:00-07:00       106.048944  106.048944          -16.048944   \n",
       "2022-07-06 00:02:00-07:00       106.100192  106.100192          -16.100192   \n",
       "2022-07-06 00:03:00-07:00       106.150806  106.150806          -16.150806   \n",
       "2022-07-06 00:04:00-07:00       106.200787  106.200787          -16.200787   \n",
       "...                                    ...         ...                 ...   \n",
       "2022-07-06 23:56:00-07:00       105.875532  105.875532          -15.875532   \n",
       "2022-07-06 23:57:00-07:00       105.930100  105.930100          -15.930100   \n",
       "2022-07-06 23:58:00-07:00       105.984042  105.984042          -15.984042   \n",
       "2022-07-06 23:59:00-07:00       106.037357  106.037357          -16.037357   \n",
       "2022-07-07 00:00:00-07:00       106.090042  106.090042          -16.090042   \n",
       "\n",
       "                           elevation     azimuth  equation_of_time  \n",
       "2022-07-06 00:00:00-07:00 -15.997064  341.362505         -4.778212  \n",
       "2022-07-06 00:01:00-07:00 -16.048944  341.596318         -4.778328  \n",
       "2022-07-06 00:02:00-07:00 -16.100192  341.830342         -4.778444  \n",
       "2022-07-06 00:03:00-07:00 -16.150806  342.064576         -4.778561  \n",
       "2022-07-06 00:04:00-07:00 -16.200787  342.299017         -4.778677  \n",
       "...                              ...         ...               ...  \n",
       "2022-07-06 23:56:00-07:00 -15.875532  340.365441         -4.941988  \n",
       "2022-07-06 23:57:00-07:00 -15.930100  340.598639         -4.942100  \n",
       "2022-07-06 23:58:00-07:00 -15.984042  340.832057         -4.942212  \n",
       "2022-07-06 23:59:00-07:00 -16.037357  341.065694         -4.942323  \n",
       "2022-07-07 00:00:00-07:00 -16.090042  341.299548         -4.942435  \n",
       "\n",
       "[1441 rows x 6 columns]"
      ]
     },
     "execution_count": 9,
     "metadata": {},
     "output_type": "execute_result"
    }
   ],
   "source": [
    "sp"
   ]
  },
  {
   "cell_type": "code",
   "execution_count": 10,
   "id": "891e9cff-1081-4c52-adb6-9ab485ee4a26",
   "metadata": {},
   "outputs": [
    {
     "data": {
      "text/plain": [
       "<AxesSubplot:>"
      ]
     },
     "execution_count": 10,
     "metadata": {},
     "output_type": "execute_result"
    },
    {
     "data": {
      "image/png": "[encoded data removed]",
      "text/plain": [
       "<Figure size 432x288 with 1 Axes>"
      ]
     },
     "metadata": {
      "needs_background": "light"
     },
     "output_type": "display_data"
    }
   ],
   "source": [
    "sp['azimuth'].plot()"
   ]
  },
  {
   "cell_type": "code",
   "execution_count": 11,
   "id": "4c351664-d692-4492-a6d2-4fceda0d4c16",
   "metadata": {},
   "outputs": [
    {
     "data": {
      "text/html": [
       "<div>\n",
       "<style scoped>\n",
       "    .dataframe tbody tr th:only-of-type {\n",
       "        vertical-align: middle;\n",
       "    }\n",
       "\n",
       "    .dataframe tbody tr th {\n",
       "        vertical-align: top;\n",
       "    }\n",
       "\n",
       "    .dataframe thead th {\n",
       "        text-align: right;\n",
       "    }\n",
       "</style>\n",
       "<table border=\"1\" class=\"dataframe\">\n",
       "  <thead>\n",
       "    <tr style=\"text-align: right;\">\n",
       "      <th></th>\n",
       "      <th>ghi</th>\n",
       "      <th>dni</th>\n",
       "      <th>dhi</th>\n",
       "    </tr>\n",
       "  </thead>\n",
       "  <tbody>\n",
       "    <tr>\n",
       "      <th>2022-07-06 00:00:00-07:00</th>\n",
       "      <td>0.0</td>\n",
       "      <td>0.0</td>\n",
       "      <td>0.0</td>\n",
       "    </tr>\n",
       "    <tr>\n",
       "      <th>2022-07-06 00:01:00-07:00</th>\n",
       "      <td>0.0</td>\n",
       "      <td>0.0</td>\n",
       "      <td>0.0</td>\n",
       "    </tr>\n",
       "    <tr>\n",
       "      <th>2022-07-06 00:02:00-07:00</th>\n",
       "      <td>0.0</td>\n",
       "      <td>0.0</td>\n",
       "      <td>0.0</td>\n",
       "    </tr>\n",
       "    <tr>\n",
       "      <th>2022-07-06 00:03:00-07:00</th>\n",
       "      <td>0.0</td>\n",
       "      <td>0.0</td>\n",
       "      <td>0.0</td>\n",
       "    </tr>\n",
       "    <tr>\n",
       "      <th>2022-07-06 00:04:00-07:00</th>\n",
       "      <td>0.0</td>\n",
       "      <td>0.0</td>\n",
       "      <td>0.0</td>\n",
       "    </tr>\n",
       "    <tr>\n",
       "      <th>...</th>\n",
       "      <td>...</td>\n",
       "      <td>...</td>\n",
       "      <td>...</td>\n",
       "    </tr>\n",
       "    <tr>\n",
       "      <th>2022-07-06 23:56:00-07:00</th>\n",
       "      <td>0.0</td>\n",
       "      <td>0.0</td>\n",
       "      <td>0.0</td>\n",
       "    </tr>\n",
       "    <tr>\n",
       "      <th>2022-07-06 23:57:00-07:00</th>\n",
       "      <td>0.0</td>\n",
       "      <td>0.0</td>\n",
       "      <td>0.0</td>\n",
       "    </tr>\n",
       "    <tr>\n",
       "      <th>2022-07-06 23:58:00-07:00</th>\n",
       "      <td>0.0</td>\n",
       "      <td>0.0</td>\n",
       "      <td>0.0</td>\n",
       "    </tr>\n",
       "    <tr>\n",
       "      <th>2022-07-06 23:59:00-07:00</th>\n",
       "      <td>0.0</td>\n",
       "      <td>0.0</td>\n",
       "      <td>0.0</td>\n",
       "    </tr>\n",
       "    <tr>\n",
       "      <th>2022-07-07 00:00:00-07:00</th>\n",
       "      <td>0.0</td>\n",
       "      <td>0.0</td>\n",
       "      <td>0.0</td>\n",
       "    </tr>\n",
       "  </tbody>\n",
       "</table>\n",
       "<p>1441 rows × 3 columns</p>\n",
       "</div>"
      ],
      "text/plain": [
       "                           ghi  dni  dhi\n",
       "2022-07-06 00:00:00-07:00  0.0  0.0  0.0\n",
       "2022-07-06 00:01:00-07:00  0.0  0.0  0.0\n",
       "2022-07-06 00:02:00-07:00  0.0  0.0  0.0\n",
       "2022-07-06 00:03:00-07:00  0.0  0.0  0.0\n",
       "2022-07-06 00:04:00-07:00  0.0  0.0  0.0\n",
       "...                        ...  ...  ...\n",
       "2022-07-06 23:56:00-07:00  0.0  0.0  0.0\n",
       "2022-07-06 23:57:00-07:00  0.0  0.0  0.0\n",
       "2022-07-06 23:58:00-07:00  0.0  0.0  0.0\n",
       "2022-07-06 23:59:00-07:00  0.0  0.0  0.0\n",
       "2022-07-07 00:00:00-07:00  0.0  0.0  0.0\n",
       "\n",
       "[1441 rows x 3 columns]"
      ]
     },
     "execution_count": 11,
     "metadata": {},
     "output_type": "execute_result"
    }
   ],
   "source": [
    "cs"
   ]
  },
  {
   "cell_type": "code",
   "execution_count": 12,
   "id": "fdc1156c-65c3-4ca1-a548-c076de9f5123",
   "metadata": {},
   "outputs": [
    {
     "data": {
      "text/plain": [
       "<AxesSubplot:>"
      ]
     },
     "execution_count": 12,
     "metadata": {},
     "output_type": "execute_result"
    },
    {
     "data": {
      "image/png": "[encoded data removed]",
      "text/plain": [
       "<Figure size 432x288 with 1 Axes>"
      ]
     },
     "metadata": {
      "needs_background": "light"
     },
     "output_type": "display_data"
    }
   ],
   "source": [
    "cs.plot()"
   ]
  },
  {
   "cell_type": "code",
   "execution_count": 13,
   "id": "f514730f-4b99-46d5-bb20-e4bd3c53ec4e",
   "metadata": {},
   "outputs": [],
   "source": [
    "irrad = pvfactors_timeseries(\n",
    "    solar_azimuth=sp['azimuth'],\n",
    "    solar_zenith=sp['apparent_zenith'],\n",
    "    surface_azimuth=180,  # south-facing array\n",
    "    surface_tilt=20,\n",
    "    axis_azimuth=90,  # 90 degrees off from surface_azimuth.  270 is ok too\n",
    "    timestamps=times,\n",
    "    dni=cs['dni'],\n",
    "    dhi=cs['dhi'],\n",
    "    gcr=gcr,\n",
    "    pvrow_height=pvrow_height,\n",
    "    pvrow_width=pvrow_width,\n",
    "    albedo=albedo,\n",
    "    n_pvrows=3,\n",
    "    index_observed_pvrow=1\n",
    ")"
   ]
  },
  {
   "cell_type": "code",
   "execution_count": 14,
   "id": "bd71f79a-3aa1-4bb9-9859-66bfef4bbf4c",
   "metadata": {
    "tags": []
   },
   "outputs": [
    {
     "data": {
      "text/plain": [
       "(2022-07-06 00:00:00-07:00    0.0\n",
       " 2022-07-06 00:01:00-07:00    0.0\n",
       " 2022-07-06 00:02:00-07:00    0.0\n",
       " 2022-07-06 00:03:00-07:00    0.0\n",
       " 2022-07-06 00:04:00-07:00    0.0\n",
       "                             ... \n",
       " 2022-07-06 23:56:00-07:00    0.0\n",
       " 2022-07-06 23:57:00-07:00    0.0\n",
       " 2022-07-06 23:58:00-07:00    0.0\n",
       " 2022-07-06 23:59:00-07:00    0.0\n",
       " 2022-07-07 00:00:00-07:00    0.0\n",
       " Freq: T, Name: total_inc_front, Length: 1441, dtype: float64,\n",
       " 2022-07-06 00:00:00-07:00    0.0\n",
       " 2022-07-06 00:01:00-07:00    0.0\n",
       " 2022-07-06 00:02:00-07:00    0.0\n",
       " 2022-07-06 00:03:00-07:00    0.0\n",
       " 2022-07-06 00:04:00-07:00    0.0\n",
       "                             ... \n",
       " 2022-07-06 23:56:00-07:00    0.0\n",
       " 2022-07-06 23:57:00-07:00    0.0\n",
       " 2022-07-06 23:58:00-07:00    0.0\n",
       " 2022-07-06 23:59:00-07:00    0.0\n",
       " 2022-07-07 00:00:00-07:00    0.0\n",
       " Freq: T, Name: total_inc_back, Length: 1441, dtype: float64,\n",
       " 2022-07-06 00:00:00-07:00    0.0\n",
       " 2022-07-06 00:01:00-07:00    0.0\n",
       " 2022-07-06 00:02:00-07:00    0.0\n",
       " 2022-07-06 00:03:00-07:00    0.0\n",
       " 2022-07-06 00:04:00-07:00    0.0\n",
       "                             ... \n",
       " 2022-07-06 23:56:00-07:00    0.0\n",
       " 2022-07-06 23:57:00-07:00    0.0\n",
       " 2022-07-06 23:58:00-07:00    0.0\n",
       " 2022-07-06 23:59:00-07:00    0.0\n",
       " 2022-07-07 00:00:00-07:00    0.0\n",
       " Freq: T, Name: total_abs_front, Length: 1441, dtype: float64,\n",
       " 2022-07-06 00:00:00-07:00    0.0\n",
       " 2022-07-06 00:01:00-07:00    0.0\n",
       " 2022-07-06 00:02:00-07:00    0.0\n",
       " 2022-07-06 00:03:00-07:00    0.0\n",
       " 2022-07-06 00:04:00-07:00    0.0\n",
       "                             ... \n",
       " 2022-07-06 23:56:00-07:00    0.0\n",
       " 2022-07-06 23:57:00-07:00    0.0\n",
       " 2022-07-06 23:58:00-07:00    0.0\n",
       " 2022-07-06 23:59:00-07:00    0.0\n",
       " 2022-07-07 00:00:00-07:00    0.0\n",
       " Freq: T, Name: total_abs_back, Length: 1441, dtype: float64)"
      ]
     },
     "execution_count": 14,
     "metadata": {},
     "output_type": "execute_result"
    }
   ],
   "source": [
    "irrad"
   ]
  },
  {
   "cell_type": "code",
   "execution_count": 15,
   "id": "6590a5b6-a687-4004-bc17-dc3a888f7032",
   "metadata": {},
   "outputs": [
    {
     "data": {
      "text/plain": [
       "4"
      ]
     },
     "execution_count": 15,
     "metadata": {},
     "output_type": "execute_result"
    }
   ],
   "source": [
    "len(irrad)"
   ]
  },
  {
   "cell_type": "code",
   "execution_count": 16,
   "id": "f606c5bd-2ab8-4b64-b258-8c52b6c73541",
   "metadata": {},
   "outputs": [
    {
     "data": {
      "text/plain": [
       "tuple"
      ]
     },
     "execution_count": 16,
     "metadata": {},
     "output_type": "execute_result"
    }
   ],
   "source": [
    "type(irrad)"
   ]
  },
  {
   "cell_type": "code",
   "execution_count": 17,
   "id": "d006c7b4-5a27-49d6-aa67-32aa65e8190a",
   "metadata": {
    "tags": []
   },
   "outputs": [
    {
     "data": {
      "text/plain": [
       "2022-07-06 00:00:00-07:00    0.0\n",
       "2022-07-06 00:01:00-07:00    0.0\n",
       "2022-07-06 00:02:00-07:00    0.0\n",
       "2022-07-06 00:03:00-07:00    0.0\n",
       "2022-07-06 00:04:00-07:00    0.0\n",
       "                            ... \n",
       "2022-07-06 23:56:00-07:00    0.0\n",
       "2022-07-06 23:57:00-07:00    0.0\n",
       "2022-07-06 23:58:00-07:00    0.0\n",
       "2022-07-06 23:59:00-07:00    0.0\n",
       "2022-07-07 00:00:00-07:00    0.0\n",
       "Freq: T, Name: total_inc_front, Length: 1441, dtype: float64"
      ]
     },
     "execution_count": 17,
     "metadata": {},
     "output_type": "execute_result"
    }
   ],
   "source": [
    "irrad[0]"
   ]
  },
  {
   "cell_type": "code",
   "execution_count": 18,
   "id": "c2d3e211-72ef-49eb-ade8-bdd79c3c9c36",
   "metadata": {},
   "outputs": [
    {
     "data": {
      "text/plain": [
       "pandas.core.series.Series"
      ]
     },
     "execution_count": 18,
     "metadata": {},
     "output_type": "execute_result"
    }
   ],
   "source": [
    "type(irrad[0])"
   ]
  },
  {
   "cell_type": "code",
   "execution_count": 19,
   "id": "8baad3f0-23ca-4248-aac5-89c4ab04fbdb",
   "metadata": {
    "tags": []
   },
   "outputs": [
    {
     "data": {
      "text/plain": [
       "2022-07-06 00:00:00-07:00    0.0\n",
       "2022-07-06 00:01:00-07:00    0.0\n",
       "2022-07-06 00:02:00-07:00    0.0\n",
       "2022-07-06 00:03:00-07:00    0.0\n",
       "2022-07-06 00:04:00-07:00    0.0\n",
       "                            ... \n",
       "2022-07-06 23:56:00-07:00    0.0\n",
       "2022-07-06 23:57:00-07:00    0.0\n",
       "2022-07-06 23:58:00-07:00    0.0\n",
       "2022-07-06 23:59:00-07:00    0.0\n",
       "2022-07-07 00:00:00-07:00    0.0\n",
       "Freq: T, Name: total_inc_back, Length: 1441, dtype: float64"
      ]
     },
     "execution_count": 19,
     "metadata": {},
     "output_type": "execute_result"
    }
   ],
   "source": [
    "irrad[1]"
   ]
  },
  {
   "cell_type": "code",
   "execution_count": 20,
   "id": "8f3c9615-5ea5-44b1-8796-e964da89fbc9",
   "metadata": {},
   "outputs": [],
   "source": [
    "# turn into pandas DataFrame\n",
    "irrad_df = pd.concat(irrad, axis=1)"
   ]
  },
  {
   "cell_type": "code",
   "execution_count": 21,
   "id": "4ec02581-d422-434e-b04d-cb43e05571bb",
   "metadata": {
    "tags": []
   },
   "outputs": [
    {
     "data": {
      "text/html": [
       "<div>\n",
       "<style scoped>\n",
       "    .dataframe tbody tr th:only-of-type {\n",
       "        vertical-align: middle;\n",
       "    }\n",
       "\n",
       "    .dataframe tbody tr th {\n",
       "        vertical-align: top;\n",
       "    }\n",
       "\n",
       "    .dataframe thead th {\n",
       "        text-align: right;\n",
       "    }\n",
       "</style>\n",
       "<table border=\"1\" class=\"dataframe\">\n",
       "  <thead>\n",
       "    <tr style=\"text-align: right;\">\n",
       "      <th></th>\n",
       "      <th>total_inc_front</th>\n",
       "      <th>total_inc_back</th>\n",
       "      <th>total_abs_front</th>\n",
       "      <th>total_abs_back</th>\n",
       "    </tr>\n",
       "  </thead>\n",
       "  <tbody>\n",
       "    <tr>\n",
       "      <th>2022-07-06 00:00:00-07:00</th>\n",
       "      <td>0.0</td>\n",
       "      <td>0.0</td>\n",
       "      <td>0.0</td>\n",
       "      <td>0.0</td>\n",
       "    </tr>\n",
       "    <tr>\n",
       "      <th>2022-07-06 00:01:00-07:00</th>\n",
       "      <td>0.0</td>\n",
       "      <td>0.0</td>\n",
       "      <td>0.0</td>\n",
       "      <td>0.0</td>\n",
       "    </tr>\n",
       "    <tr>\n",
       "      <th>2022-07-06 00:02:00-07:00</th>\n",
       "      <td>0.0</td>\n",
       "      <td>0.0</td>\n",
       "      <td>0.0</td>\n",
       "      <td>0.0</td>\n",
       "    </tr>\n",
       "    <tr>\n",
       "      <th>2022-07-06 00:03:00-07:00</th>\n",
       "      <td>0.0</td>\n",
       "      <td>0.0</td>\n",
       "      <td>0.0</td>\n",
       "      <td>0.0</td>\n",
       "    </tr>\n",
       "    <tr>\n",
       "      <th>2022-07-06 00:04:00-07:00</th>\n",
       "      <td>0.0</td>\n",
       "      <td>0.0</td>\n",
       "      <td>0.0</td>\n",
       "      <td>0.0</td>\n",
       "    </tr>\n",
       "    <tr>\n",
       "      <th>...</th>\n",
       "      <td>...</td>\n",
       "      <td>...</td>\n",
       "      <td>...</td>\n",
       "      <td>...</td>\n",
       "    </tr>\n",
       "    <tr>\n",
       "      <th>2022-07-06 23:56:00-07:00</th>\n",
       "      <td>0.0</td>\n",
       "      <td>0.0</td>\n",
       "      <td>0.0</td>\n",
       "      <td>0.0</td>\n",
       "    </tr>\n",
       "    <tr>\n",
       "      <th>2022-07-06 23:57:00-07:00</th>\n",
       "      <td>0.0</td>\n",
       "      <td>0.0</td>\n",
       "      <td>0.0</td>\n",
       "      <td>0.0</td>\n",
       "    </tr>\n",
       "    <tr>\n",
       "      <th>2022-07-06 23:58:00-07:00</th>\n",
       "      <td>0.0</td>\n",
       "      <td>0.0</td>\n",
       "      <td>0.0</td>\n",
       "      <td>0.0</td>\n",
       "    </tr>\n",
       "    <tr>\n",
       "      <th>2022-07-06 23:59:00-07:00</th>\n",
       "      <td>0.0</td>\n",
       "      <td>0.0</td>\n",
       "      <td>0.0</td>\n",
       "      <td>0.0</td>\n",
       "    </tr>\n",
       "    <tr>\n",
       "      <th>2022-07-07 00:00:00-07:00</th>\n",
       "      <td>0.0</td>\n",
       "      <td>0.0</td>\n",
       "      <td>0.0</td>\n",
       "      <td>0.0</td>\n",
       "    </tr>\n",
       "  </tbody>\n",
       "</table>\n",
       "<p>1441 rows × 4 columns</p>\n",
       "</div>"
      ],
      "text/plain": [
       "                           total_inc_front  total_inc_back  total_abs_front   \n",
       "2022-07-06 00:00:00-07:00              0.0             0.0              0.0  \\\n",
       "2022-07-06 00:01:00-07:00              0.0             0.0              0.0   \n",
       "2022-07-06 00:02:00-07:00              0.0             0.0              0.0   \n",
       "2022-07-06 00:03:00-07:00              0.0             0.0              0.0   \n",
       "2022-07-06 00:04:00-07:00              0.0             0.0              0.0   \n",
       "...                                    ...             ...              ...   \n",
       "2022-07-06 23:56:00-07:00              0.0             0.0              0.0   \n",
       "2022-07-06 23:57:00-07:00              0.0             0.0              0.0   \n",
       "2022-07-06 23:58:00-07:00              0.0             0.0              0.0   \n",
       "2022-07-06 23:59:00-07:00              0.0             0.0              0.0   \n",
       "2022-07-07 00:00:00-07:00              0.0             0.0              0.0   \n",
       "\n",
       "                           total_abs_back  \n",
       "2022-07-06 00:00:00-07:00             0.0  \n",
       "2022-07-06 00:01:00-07:00             0.0  \n",
       "2022-07-06 00:02:00-07:00             0.0  \n",
       "2022-07-06 00:03:00-07:00             0.0  \n",
       "2022-07-06 00:04:00-07:00             0.0  \n",
       "...                                   ...  \n",
       "2022-07-06 23:56:00-07:00             0.0  \n",
       "2022-07-06 23:57:00-07:00             0.0  \n",
       "2022-07-06 23:58:00-07:00             0.0  \n",
       "2022-07-06 23:59:00-07:00             0.0  \n",
       "2022-07-07 00:00:00-07:00             0.0  \n",
       "\n",
       "[1441 rows x 4 columns]"
      ]
     },
     "execution_count": 21,
     "metadata": {},
     "output_type": "execute_result"
    }
   ],
   "source": [
    "irrad_df"
   ]
  },
  {
   "cell_type": "code",
   "execution_count": 22,
   "id": "21372df7-2e32-4d8d-83db-153b3fb2b0b1",
   "metadata": {},
   "outputs": [
    {
     "data": {
      "text/plain": [
       "Text(0, 0.5, 'Irradiance [W m$^{-2}$]')"
      ]
     },
     "execution_count": 22,
     "metadata": {},
     "output_type": "execute_result"
    },
    {
     "data": {
      "image/png": "[encoded data removed]",
      "text/plain": [
       "<Figure size 432x288 with 1 Axes>"
      ]
     },
     "metadata": {
      "needs_background": "light"
     },
     "output_type": "display_data"
    }
   ],
   "source": [
    "irrad_df[['total_inc_back', 'total_abs_back']].plot()\n",
    "plt.ylabel('Irradiance [W m$^{-2}$]')"
   ]
  },
  {
   "cell_type": "code",
   "execution_count": 23,
   "id": "8d541617-ef28-4495-bbf5-f4628d17baa7",
   "metadata": {},
   "outputs": [
    {
     "data": {
      "text/plain": [
       "Text(0, 0.5, 'Irradiance [W m$^{-2}$]')"
      ]
     },
     "execution_count": 23,
     "metadata": {},
     "output_type": "execute_result"
    },
    {
     "data": {
      "image/png": "[encoded data removed]",
      "text/plain": [
       "<Figure size 432x288 with 1 Axes>"
      ]
     },
     "metadata": {
      "needs_background": "light"
     },
     "output_type": "display_data"
    }
   ],
   "source": [
    "irrad_df[['total_inc_front', 'total_abs_front']].plot()\n",
    "plt.ylabel('Irradiance [W m$^{-2}$]')"
   ]
  },
  {
   "cell_type": "code",
   "execution_count": 24,
   "id": "6a3621d9-13d6-408a-adcd-0539d89c8af2",
   "metadata": {},
   "outputs": [],
   "source": [
    "bifaciality = 0.75"
   ]
  },
  {
   "cell_type": "code",
   "execution_count": 25,
   "id": "d22b7481-5b46-4170-8737-310a1aaab0dc",
   "metadata": {},
   "outputs": [],
   "source": [
    "# create bifacial effective irradiance using aoi-corrected timeseries values\n",
    "irrad_df['effective_irradiance'] = (\n",
    "    irrad_df['total_abs_front'] + (irrad_df['total_abs_back'] * bifaciality)\n",
    ")"
   ]
  },
  {
   "cell_type": "code",
   "execution_count": 26,
   "id": "82e94e79-5086-4ef7-a877-a9c50cfad122",
   "metadata": {
    "tags": []
   },
   "outputs": [
    {
     "data": {
      "text/html": [
       "<div>\n",
       "<style scoped>\n",
       "    .dataframe tbody tr th:only-of-type {\n",
       "        vertical-align: middle;\n",
       "    }\n",
       "\n",
       "    .dataframe tbody tr th {\n",
       "        vertical-align: top;\n",
       "    }\n",
       "\n",
       "    .dataframe thead th {\n",
       "        text-align: right;\n",
       "    }\n",
       "</style>\n",
       "<table border=\"1\" class=\"dataframe\">\n",
       "  <thead>\n",
       "    <tr style=\"text-align: right;\">\n",
       "      <th></th>\n",
       "      <th>total_inc_front</th>\n",
       "      <th>total_inc_back</th>\n",
       "      <th>total_abs_front</th>\n",
       "      <th>total_abs_back</th>\n",
       "      <th>effective_irradiance</th>\n",
       "    </tr>\n",
       "  </thead>\n",
       "  <tbody>\n",
       "    <tr>\n",
       "      <th>2022-07-06 00:00:00-07:00</th>\n",
       "      <td>0.0</td>\n",
       "      <td>0.0</td>\n",
       "      <td>0.0</td>\n",
       "      <td>0.0</td>\n",
       "      <td>0.0</td>\n",
       "    </tr>\n",
       "    <tr>\n",
       "      <th>2022-07-06 00:01:00-07:00</th>\n",
       "      <td>0.0</td>\n",
       "      <td>0.0</td>\n",
       "      <td>0.0</td>\n",
       "      <td>0.0</td>\n",
       "      <td>0.0</td>\n",
       "    </tr>\n",
       "    <tr>\n",
       "      <th>2022-07-06 00:02:00-07:00</th>\n",
       "      <td>0.0</td>\n",
       "      <td>0.0</td>\n",
       "      <td>0.0</td>\n",
       "      <td>0.0</td>\n",
       "      <td>0.0</td>\n",
       "    </tr>\n",
       "    <tr>\n",
       "      <th>2022-07-06 00:03:00-07:00</th>\n",
       "      <td>0.0</td>\n",
       "      <td>0.0</td>\n",
       "      <td>0.0</td>\n",
       "      <td>0.0</td>\n",
       "      <td>0.0</td>\n",
       "    </tr>\n",
       "    <tr>\n",
       "      <th>2022-07-06 00:04:00-07:00</th>\n",
       "      <td>0.0</td>\n",
       "      <td>0.0</td>\n",
       "      <td>0.0</td>\n",
       "      <td>0.0</td>\n",
       "      <td>0.0</td>\n",
       "    </tr>\n",
       "    <tr>\n",
       "      <th>...</th>\n",
       "      <td>...</td>\n",
       "      <td>...</td>\n",
       "      <td>...</td>\n",
       "      <td>...</td>\n",
       "      <td>...</td>\n",
       "    </tr>\n",
       "    <tr>\n",
       "      <th>2022-07-06 23:56:00-07:00</th>\n",
       "      <td>0.0</td>\n",
       "      <td>0.0</td>\n",
       "      <td>0.0</td>\n",
       "      <td>0.0</td>\n",
       "      <td>0.0</td>\n",
       "    </tr>\n",
       "    <tr>\n",
       "      <th>2022-07-06 23:57:00-07:00</th>\n",
       "      <td>0.0</td>\n",
       "      <td>0.0</td>\n",
       "      <td>0.0</td>\n",
       "      <td>0.0</td>\n",
       "      <td>0.0</td>\n",
       "    </tr>\n",
       "    <tr>\n",
       "      <th>2022-07-06 23:58:00-07:00</th>\n",
       "      <td>0.0</td>\n",
       "      <td>0.0</td>\n",
       "      <td>0.0</td>\n",
       "      <td>0.0</td>\n",
       "      <td>0.0</td>\n",
       "    </tr>\n",
       "    <tr>\n",
       "      <th>2022-07-06 23:59:00-07:00</th>\n",
       "      <td>0.0</td>\n",
       "      <td>0.0</td>\n",
       "      <td>0.0</td>\n",
       "      <td>0.0</td>\n",
       "      <td>0.0</td>\n",
       "    </tr>\n",
       "    <tr>\n",
       "      <th>2022-07-07 00:00:00-07:00</th>\n",
       "      <td>0.0</td>\n",
       "      <td>0.0</td>\n",
       "      <td>0.0</td>\n",
       "      <td>0.0</td>\n",
       "      <td>0.0</td>\n",
       "    </tr>\n",
       "  </tbody>\n",
       "</table>\n",
       "<p>1441 rows × 5 columns</p>\n",
       "</div>"
      ],
      "text/plain": [
       "                           total_inc_front  total_inc_back  total_abs_front   \n",
       "2022-07-06 00:00:00-07:00              0.0             0.0              0.0  \\\n",
       "2022-07-06 00:01:00-07:00              0.0             0.0              0.0   \n",
       "2022-07-06 00:02:00-07:00              0.0             0.0              0.0   \n",
       "2022-07-06 00:03:00-07:00              0.0             0.0              0.0   \n",
       "2022-07-06 00:04:00-07:00              0.0             0.0              0.0   \n",
       "...                                    ...             ...              ...   \n",
       "2022-07-06 23:56:00-07:00              0.0             0.0              0.0   \n",
       "2022-07-06 23:57:00-07:00              0.0             0.0              0.0   \n",
       "2022-07-06 23:58:00-07:00              0.0             0.0              0.0   \n",
       "2022-07-06 23:59:00-07:00              0.0             0.0              0.0   \n",
       "2022-07-07 00:00:00-07:00              0.0             0.0              0.0   \n",
       "\n",
       "                           total_abs_back  effective_irradiance  \n",
       "2022-07-06 00:00:00-07:00             0.0                   0.0  \n",
       "2022-07-06 00:01:00-07:00             0.0                   0.0  \n",
       "2022-07-06 00:02:00-07:00             0.0                   0.0  \n",
       "2022-07-06 00:03:00-07:00             0.0                   0.0  \n",
       "2022-07-06 00:04:00-07:00             0.0                   0.0  \n",
       "...                                   ...                   ...  \n",
       "2022-07-06 23:56:00-07:00             0.0                   0.0  \n",
       "2022-07-06 23:57:00-07:00             0.0                   0.0  \n",
       "2022-07-06 23:58:00-07:00             0.0                   0.0  \n",
       "2022-07-06 23:59:00-07:00             0.0                   0.0  \n",
       "2022-07-07 00:00:00-07:00             0.0                   0.0  \n",
       "\n",
       "[1441 rows x 5 columns]"
      ]
     },
     "execution_count": 26,
     "metadata": {},
     "output_type": "execute_result"
    }
   ],
   "source": [
    "irrad_df"
   ]
  },
  {
   "cell_type": "code",
   "execution_count": 27,
   "id": "940ef63e-4fe7-40b6-a8da-6cd46d8b6212",
   "metadata": {},
   "outputs": [
    {
     "data": {
      "text/plain": [
       "Text(0, 0.5, 'Irradiance [W m$^{-2}$]')"
      ]
     },
     "execution_count": 27,
     "metadata": {},
     "output_type": "execute_result"
    },
    {
     "data": {
      "image/png": "[encoded data removed]",
      "text/plain": [
       "<Figure size 432x288 with 1 Axes>"
      ]
     },
     "metadata": {
      "needs_background": "light"
     },
     "output_type": "display_data"
    }
   ],
   "source": [
    "irrad_df[['total_inc_front', 'total_abs_front', 'effective_irradiance']\n",
    "        ].plot()\n",
    "plt.ylabel('Irradiance [W m$^{-2}$]')"
   ]
  },
  {
   "cell_type": "code",
   "execution_count": 28,
   "id": "8a5bed35-feb1-4975-8acc-fa44e1b96f74",
   "metadata": {},
   "outputs": [
    {
     "data": {
      "text/html": [
       "<div>\n",
       "<style scoped>\n",
       "    .dataframe tbody tr th:only-of-type {\n",
       "        vertical-align: middle;\n",
       "    }\n",
       "\n",
       "    .dataframe tbody tr th {\n",
       "        vertical-align: top;\n",
       "    }\n",
       "\n",
       "    .dataframe thead th {\n",
       "        text-align: right;\n",
       "    }\n",
       "</style>\n",
       "<table border=\"1\" class=\"dataframe\">\n",
       "  <thead>\n",
       "    <tr style=\"text-align: right;\">\n",
       "      <th></th>\n",
       "      <th>total_inc_front</th>\n",
       "      <th>total_inc_back</th>\n",
       "      <th>total_abs_front</th>\n",
       "      <th>total_abs_back</th>\n",
       "      <th>effective_irradiance</th>\n",
       "    </tr>\n",
       "  </thead>\n",
       "  <tbody>\n",
       "    <tr>\n",
       "      <th>2022-07-06 11:40:00-07:00</th>\n",
       "      <td>903.295998</td>\n",
       "      <td>34.399309</td>\n",
       "      <td>876.197118</td>\n",
       "      <td>32.679343</td>\n",
       "      <td>900.706625</td>\n",
       "    </tr>\n",
       "    <tr>\n",
       "      <th>2022-07-06 11:41:00-07:00</th>\n",
       "      <td>904.872874</td>\n",
       "      <td>34.418901</td>\n",
       "      <td>877.726688</td>\n",
       "      <td>32.697956</td>\n",
       "      <td>902.250155</td>\n",
       "    </tr>\n",
       "    <tr>\n",
       "      <th>2022-07-06 11:42:00-07:00</th>\n",
       "      <td>906.434674</td>\n",
       "      <td>34.438232</td>\n",
       "      <td>879.241634</td>\n",
       "      <td>32.716321</td>\n",
       "      <td>903.778875</td>\n",
       "    </tr>\n",
       "    <tr>\n",
       "      <th>2022-07-06 11:43:00-07:00</th>\n",
       "      <td>907.981362</td>\n",
       "      <td>34.457305</td>\n",
       "      <td>880.741921</td>\n",
       "      <td>32.734440</td>\n",
       "      <td>905.292751</td>\n",
       "    </tr>\n",
       "  </tbody>\n",
       "</table>\n",
       "</div>"
      ],
      "text/plain": [
       "                           total_inc_front  total_inc_back  total_abs_front   \n",
       "2022-07-06 11:40:00-07:00       903.295998       34.399309       876.197118  \\\n",
       "2022-07-06 11:41:00-07:00       904.872874       34.418901       877.726688   \n",
       "2022-07-06 11:42:00-07:00       906.434674       34.438232       879.241634   \n",
       "2022-07-06 11:43:00-07:00       907.981362       34.457305       880.741921   \n",
       "\n",
       "                           total_abs_back  effective_irradiance  \n",
       "2022-07-06 11:40:00-07:00       32.679343            900.706625  \n",
       "2022-07-06 11:41:00-07:00       32.697956            902.250155  \n",
       "2022-07-06 11:42:00-07:00       32.716321            903.778875  \n",
       "2022-07-06 11:43:00-07:00       32.734440            905.292751  "
      ]
     },
     "execution_count": 28,
     "metadata": {},
     "output_type": "execute_result"
    }
   ],
   "source": [
    "irrad_df[700:704]"
   ]
  },
  {
   "cell_type": "code",
   "execution_count": 29,
   "id": "e6cbd09e-0975-48aa-b8d3-08218dfa33c8",
   "metadata": {},
   "outputs": [
    {
     "data": {
      "text/plain": [
       "DatetimeIndex(['2022-07-06 11:40:00-07:00', '2022-07-06 11:41:00-07:00',\n",
       "               '2022-07-06 11:42:00-07:00', '2022-07-06 11:43:00-07:00'],\n",
       "              dtype='datetime64[ns, Canada/Pacific]', freq='T')"
      ]
     },
     "execution_count": 29,
     "metadata": {},
     "output_type": "execute_result"
    }
   ],
   "source": [
    "times[700:704]"
   ]
  },
  {
   "cell_type": "code",
   "execution_count": 30,
   "id": "83eaea53-e59a-454b-ae08-cd1f3677e35b",
   "metadata": {},
   "outputs": [
    {
     "data": {
      "text/html": [
       "<div>\n",
       "<style scoped>\n",
       "    .dataframe tbody tr th:only-of-type {\n",
       "        vertical-align: middle;\n",
       "    }\n",
       "\n",
       "    .dataframe tbody tr th {\n",
       "        vertical-align: top;\n",
       "    }\n",
       "\n",
       "    .dataframe thead th {\n",
       "        text-align: right;\n",
       "    }\n",
       "</style>\n",
       "<table border=\"1\" class=\"dataframe\">\n",
       "  <thead>\n",
       "    <tr style=\"text-align: right;\">\n",
       "      <th></th>\n",
       "      <th>total_inc_front</th>\n",
       "      <th>total_inc_back</th>\n",
       "      <th>total_abs_front</th>\n",
       "      <th>total_abs_back</th>\n",
       "      <th>effective_irradiance</th>\n",
       "    </tr>\n",
       "  </thead>\n",
       "  <tbody>\n",
       "    <tr>\n",
       "      <th>2022-07-06 11:40:00-07:00</th>\n",
       "      <td>903.2</td>\n",
       "      <td>34.3</td>\n",
       "      <td>876.1</td>\n",
       "      <td>32.6</td>\n",
       "      <td>900.7</td>\n",
       "    </tr>\n",
       "    <tr>\n",
       "      <th>2022-07-06 11:41:00-07:00</th>\n",
       "      <td>904.8</td>\n",
       "      <td>34.4</td>\n",
       "      <td>877.7</td>\n",
       "      <td>32.6</td>\n",
       "      <td>902.2</td>\n",
       "    </tr>\n",
       "    <tr>\n",
       "      <th>2022-07-06 11:42:00-07:00</th>\n",
       "      <td>906.4</td>\n",
       "      <td>34.4</td>\n",
       "      <td>879.2</td>\n",
       "      <td>32.7</td>\n",
       "      <td>903.7</td>\n",
       "    </tr>\n",
       "    <tr>\n",
       "      <th>2022-07-06 11:43:00-07:00</th>\n",
       "      <td>907.9</td>\n",
       "      <td>34.4</td>\n",
       "      <td>880.7</td>\n",
       "      <td>32.7</td>\n",
       "      <td>905.2</td>\n",
       "    </tr>\n",
       "  </tbody>\n",
       "</table>\n",
       "</div>"
      ],
      "text/plain": [
       "                           total_inc_front  total_inc_back  total_abs_front   \n",
       "2022-07-06 11:40:00-07:00            903.2            34.3            876.1  \\\n",
       "2022-07-06 11:41:00-07:00            904.8            34.4            877.7   \n",
       "2022-07-06 11:42:00-07:00            906.4            34.4            879.2   \n",
       "2022-07-06 11:43:00-07:00            907.9            34.4            880.7   \n",
       "\n",
       "                           total_abs_back  effective_irradiance  \n",
       "2022-07-06 11:40:00-07:00            32.6                 900.7  \n",
       "2022-07-06 11:41:00-07:00            32.6                 902.2  \n",
       "2022-07-06 11:42:00-07:00            32.7                 903.7  \n",
       "2022-07-06 11:43:00-07:00            32.7                 905.2  "
      ]
     },
     "execution_count": 30,
     "metadata": {},
     "output_type": "execute_result"
    }
   ],
   "source": [
    "index = times[700:704]\n",
    "data = {'total_inc_front': [903.2, 904.8, 906.4, 907.9],\n",
    "        'total_inc_back': [34.3, 34.4, 34.4, 34.4],\n",
    "        'total_abs_front': [876.1, 877.7, 879.2, 880.7],\n",
    "        'total_abs_back': [32.6, 32.6, 32.7, 32.7],\n",
    "        'effective_irradiance': [900.7, 902.2, 903.7, 905.2]}\n",
    "bifacial_irradiances_2 = pd.DataFrame(data, index=index)\n",
    "bifacial_irradiances_2"
   ]
  },
  {
   "cell_type": "code",
   "execution_count": 31,
   "id": "33b44c0a-6f18-4464-b774-7bb860129019",
   "metadata": {},
   "outputs": [
    {
     "data": {
      "text/plain": [
       "2022-07-06 11:40:00-07:00    137.2\n",
       "2022-07-06 11:41:00-07:00    137.6\n",
       "2022-07-06 11:42:00-07:00    137.6\n",
       "2022-07-06 11:43:00-07:00    137.6\n",
       "Freq: T, Name: total_inc_back, dtype: float64"
      ]
     },
     "execution_count": 31,
     "metadata": {},
     "output_type": "execute_result"
    }
   ],
   "source": [
    "bifacial_irradiances_2['total_inc_back'] / albedo * (1 - albedo)"
   ]
  },
  {
   "cell_type": "code",
   "execution_count": 32,
   "id": "825a0ec1-b30c-48a3-9aae-d9e49050ebb0",
   "metadata": {},
   "outputs": [
    {
     "data": {
      "text/html": [
       "<div>\n",
       "<style scoped>\n",
       "    .dataframe tbody tr th:only-of-type {\n",
       "        vertical-align: middle;\n",
       "    }\n",
       "\n",
       "    .dataframe tbody tr th {\n",
       "        vertical-align: top;\n",
       "    }\n",
       "\n",
       "    .dataframe thead th {\n",
       "        text-align: right;\n",
       "    }\n",
       "</style>\n",
       "<table border=\"1\" class=\"dataframe\">\n",
       "  <thead>\n",
       "    <tr style=\"text-align: right;\">\n",
       "      <th></th>\n",
       "      <th>ground_absorbed_irradiance</th>\n",
       "    </tr>\n",
       "  </thead>\n",
       "  <tbody>\n",
       "    <tr>\n",
       "      <th>2022-07-06 11:40:00-07:00</th>\n",
       "      <td>32.231457</td>\n",
       "    </tr>\n",
       "    <tr>\n",
       "      <th>2022-07-06 11:41:00-07:00</th>\n",
       "      <td>32.325426</td>\n",
       "    </tr>\n",
       "    <tr>\n",
       "      <th>2022-07-06 11:42:00-07:00</th>\n",
       "      <td>32.325426</td>\n",
       "    </tr>\n",
       "    <tr>\n",
       "      <th>2022-07-06 11:43:00-07:00</th>\n",
       "      <td>32.325426</td>\n",
       "    </tr>\n",
       "  </tbody>\n",
       "</table>\n",
       "</div>"
      ],
      "text/plain": [
       "                           ground_absorbed_irradiance\n",
       "2022-07-06 11:40:00-07:00                   32.231457\n",
       "2022-07-06 11:41:00-07:00                   32.325426\n",
       "2022-07-06 11:42:00-07:00                   32.325426\n",
       "2022-07-06 11:43:00-07:00                   32.325426"
      ]
     },
     "execution_count": 32,
     "metadata": {},
     "output_type": "execute_result"
    }
   ],
   "source": [
    "surface_tilt = np.radians(20)\n",
    "(bifacial_irradiances_2['total_inc_back'] * np.cos(surface_tilt)).to_frame(\n",
    "    name='ground_absorbed_irradiance')"
   ]
  },
  {
   "cell_type": "code",
   "execution_count": 33,
   "id": "b39f9ddc-47b9-4627-ab99-2a8dd1348194",
   "metadata": {},
   "outputs": [
    {
     "data": {
      "text/plain": [
       "137.2"
      ]
     },
     "execution_count": 33,
     "metadata": {},
     "output_type": "execute_result"
    }
   ],
   "source": [
    "(bifacial_irradiances_2['total_inc_back'] / albedo * (1 - albedo)).to_frame(\n",
    "    name='ground_absorbed_irradiance').iloc[0][\n",
    "            'ground_absorbed_irradiance']"
   ]
  },
  {
   "cell_type": "code",
   "execution_count": 34,
   "id": "217c81e9-ccd6-4df4-8ddb-bf0133c8470f",
   "metadata": {},
   "outputs": [
    {
     "data": {
      "text/plain": [
       "0.3490658503988659"
      ]
     },
     "execution_count": 34,
     "metadata": {},
     "output_type": "execute_result"
    }
   ],
   "source": [
    "surface_tilt"
   ]
  },
  {
   "cell_type": "code",
   "execution_count": 35,
   "id": "9faf9eec-67b0-4c93-a682-e14cc59050d2",
   "metadata": {},
   "outputs": [
    {
     "data": {
      "text/plain": [
       "0.9396926207859084"
      ]
     },
     "execution_count": 35,
     "metadata": {},
     "output_type": "execute_result"
    }
   ],
   "source": [
    "np.cos(surface_tilt)"
   ]
  },
  {
   "cell_type": "markdown",
   "id": "304e84b2-ce77-4af9-a437-a1a062380eb6",
   "metadata": {},
   "source": [
    "### Get module and inverter related data"
   ]
  },
  {
   "cell_type": "code",
   "execution_count": 36,
   "id": "09045879-cdd5-414a-8dba-9d2afc0af176",
   "metadata": {},
   "outputs": [],
   "source": [
    "latitude=49.26757152616243\n",
    "longitude=-123.25266177347093"
   ]
  },
  {
   "cell_type": "code",
   "execution_count": 37,
   "id": "3e28c6d1-427d-444e-ac28-3467306ff3d9",
   "metadata": {},
   "outputs": [],
   "source": [
    "# load temperature parameters and module/inverter specifications\n",
    "temp_model_parameters = PARAMS['sapm']['open_rack_glass_glass']\n",
    "cec_modules = pvsystem.retrieve_sam('CECMod')\n",
    "cec_module = cec_modules['Trina_Solar_TSM_300DEG5C_07_II_']\n",
    "cec_inverters = pvsystem.retrieve_sam('cecinverter')\n",
    "cec_inverter = cec_inverters['ABB__MICRO_0_25_I_OUTD_US_208__208V_']"
   ]
  },
  {
   "cell_type": "code",
   "execution_count": 38,
   "id": "f1f31e43-750d-448f-aa3f-2addf40710ca",
   "metadata": {
    "tags": []
   },
   "outputs": [
    {
     "data": {
      "text/plain": [
       "{'a': -3.47, 'b': -0.0594, 'deltaT': 3}"
      ]
     },
     "execution_count": 38,
     "metadata": {},
     "output_type": "execute_result"
    }
   ],
   "source": [
    "temp_model_parameters"
   ]
  },
  {
   "cell_type": "code",
   "execution_count": 39,
   "id": "40c99828-2592-43c8-b438-db30c13714a4",
   "metadata": {
    "tags": []
   },
   "outputs": [
    {
     "data": {
      "text/plain": [
       "Technology            Mono-c-Si\n",
       "Bifacial                      1\n",
       "STC                     300.217\n",
       "PTC                       278.9\n",
       "A_c                        1.65\n",
       "Length                      NaN\n",
       "Width                       NaN\n",
       "N_s                          60\n",
       "I_sc_ref                   9.68\n",
       "V_oc_ref                   40.1\n",
       "I_mp_ref                   9.07\n",
       "V_mp_ref                   33.1\n",
       "alpha_sc               0.003775\n",
       "beta_oc               -0.109874\n",
       "T_NOCT                     43.4\n",
       "a_ref                  1.545676\n",
       "I_L_ref                 9.69201\n",
       "I_o_ref                     0.0\n",
       "R_s                    0.251086\n",
       "R_sh_ref             202.374603\n",
       "Adjust                13.491088\n",
       "gamma_r                  -0.384\n",
       "BIPV                          N\n",
       "Version       SAM 2018.11.11 r2\n",
       "Date                   1/3/2019\n",
       "Name: Trina_Solar_TSM_300DEG5C_07_II_, dtype: object"
      ]
     },
     "execution_count": 39,
     "metadata": {},
     "output_type": "execute_result"
    }
   ],
   "source": [
    "cec_module"
   ]
  },
  {
   "cell_type": "code",
   "execution_count": 40,
   "id": "473c8650-f59c-4fb7-9ca7-7fc3c97d768b",
   "metadata": {
    "tags": []
   },
   "outputs": [
    {
     "data": {
      "text/plain": [
       "Vac                          208\n",
       "Pso                     2.089607\n",
       "Paco                       250.0\n",
       "Pdco                  259.588593\n",
       "Vdco                        40.0\n",
       "C0                     -0.000041\n",
       "C1                     -0.000091\n",
       "C2                      0.000494\n",
       "C3                     -0.013171\n",
       "Pnt                        0.075\n",
       "Vdcmax                      50.0\n",
       "Idcmax                  6.489715\n",
       "Mppt_low                    30.0\n",
       "Mppt_high                   50.0\n",
       "CEC_Date                     NaN\n",
       "CEC_Type     Utility Interactive\n",
       "Name: ABB__MICRO_0_25_I_OUTD_US_208__208V_, dtype: object"
      ]
     },
     "execution_count": 40,
     "metadata": {},
     "output_type": "execute_result"
    }
   ],
   "source": [
    "cec_inverter"
   ]
  },
  {
   "cell_type": "markdown",
   "id": "4baaa2dd-294c-4299-822d-57e06b9b05b4",
   "metadata": {},
   "source": [
    "### Get model and perform bifacial simulation"
   ]
  },
  {
   "cell_type": "code",
   "execution_count": 41,
   "id": "0f481d2a-5252-4ef0-9245-a2ec89b80730",
   "metadata": {},
   "outputs": [],
   "source": [
    "surface_tilt=20\n",
    "surface_azimuth=180"
   ]
  },
  {
   "cell_type": "code",
   "execution_count": 42,
   "id": "d38e0707-dac9-4889-8e98-5b6cf373e7b7",
   "metadata": {},
   "outputs": [],
   "source": [
    "fixed_mount = pvsystem.FixedMount(surface_tilt, surface_azimuth)"
   ]
  },
  {
   "cell_type": "code",
   "execution_count": 43,
   "id": "fe877444-cde6-4dcc-a8e0-91962ae68d73",
   "metadata": {},
   "outputs": [],
   "source": [
    "# dc arrays\n",
    "array = pvsystem.Array(mount=fixed_mount,\n",
    "                       module_parameters=cec_module,\n",
    "                       temperature_model_parameters=temp_model_parameters)"
   ]
  },
  {
   "cell_type": "code",
   "execution_count": 44,
   "id": "25c47ebb-2016-4f0e-b149-58bf47b5c148",
   "metadata": {},
   "outputs": [],
   "source": [
    "# create system object\n",
    "system = pvsystem.PVSystem(arrays=[array],\n",
    "                           inverter_parameters=cec_inverter)"
   ]
  },
  {
   "cell_type": "code",
   "execution_count": 47,
   "id": "a5a11993-0303-40db-8651-08915eea7e5a",
   "metadata": {},
   "outputs": [],
   "source": [
    "site_location = loc\n",
    "# ModelChain requires the parameter aoi_loss to have a value. pvfactors\n",
    "# applies surface reflection models in the calculation of front and back\n",
    "# irradiance, so assign aoi_model='no_loss' to avoid double counting\n",
    "# reflections.\n",
    "mc_bifi = modelchain.ModelChain(system, site_location, aoi_model='no_loss')"
   ]
  },
  {
   "cell_type": "code",
   "execution_count": 48,
   "id": "2a9888eb-e2ea-4626-8f54-61853412f2e4",
   "metadata": {},
   "outputs": [
    {
     "data": {
      "text/plain": [
       "ModelChain: \n",
       "  name: None\n",
       "  clearsky_model: ineichen\n",
       "  transposition_model: haydavies\n",
       "  solar_position_method: nrel_numpy\n",
       "  airmass_model: kastenyoung1989\n",
       "  dc_model: cec\n",
       "  ac_model: sandia_inverter\n",
       "  aoi_model: no_aoi_loss\n",
       "  spectral_model: first_solar_spectral_loss\n",
       "  temperature_model: sapm_temp\n",
       "  losses_model: no_extra_losses"
      ]
     },
     "execution_count": 48,
     "metadata": {},
     "output_type": "execute_result"
    }
   ],
   "source": [
    "mc_bifi"
   ]
  },
  {
   "cell_type": "code",
   "execution_count": 49,
   "id": "a891f0d0-d99e-40f4-8622-1ec5c871a6d7",
   "metadata": {},
   "outputs": [
    {
     "name": "stderr",
     "output_type": "stream",
     "text": [
      "/Users/tadatoshi/Documents/development/projects/tadatoshi_solar_research_society/agrivoltaics_supply_side_management/venv/lib/python3.10/site-packages/pvlib/tools.py:340: RuntimeWarning: divide by zero encountered in true_divide\n",
      "  np.trunc(np.log(atol / (df['VH'] - df['VL'])) / np.log(phim1)))\n"
     ]
    },
    {
     "data": {
      "text/plain": [
       "ModelChain: \n",
       "  name: None\n",
       "  clearsky_model: ineichen\n",
       "  transposition_model: haydavies\n",
       "  solar_position_method: nrel_numpy\n",
       "  airmass_model: kastenyoung1989\n",
       "  dc_model: cec\n",
       "  ac_model: sandia_inverter\n",
       "  aoi_model: no_aoi_loss\n",
       "  spectral_model: first_solar_spectral_loss\n",
       "  temperature_model: sapm_temp\n",
       "  losses_model: no_extra_losses"
      ]
     },
     "execution_count": 49,
     "metadata": {},
     "output_type": "execute_result"
    }
   ],
   "source": [
    "mc_bifi.run_model_from_effective_irradiance(irrad_df)"
   ]
  },
  {
   "cell_type": "code",
   "execution_count": 50,
   "id": "21a97971-a34d-4d3a-8851-0df1011ba0b7",
   "metadata": {},
   "outputs": [
    {
     "data": {
      "text/plain": [
       "<AxesSubplot:title={'center':'Bifacial Simulation on June Solstice'}, ylabel='AC Power'>"
      ]
     },
     "execution_count": 50,
     "metadata": {},
     "output_type": "execute_result"
    },
    {
     "data": {
      "image/png": "[encoded data removed]",
      "text/plain": [
       "<Figure size 432x288 with 1 Axes>"
      ]
     },
     "metadata": {
      "needs_background": "light"
     },
     "output_type": "display_data"
    }
   ],
   "source": [
    "# plot results\n",
    "mc_bifi.results.ac.plot(title='Bifacial Simulation on June Solstice',\n",
    "                        ylabel='AC Power')"
   ]
  },
  {
   "cell_type": "code",
   "execution_count": 51,
   "id": "c886403d-043b-4b5c-99df-18ffeb8d28b4",
   "metadata": {},
   "outputs": [
    {
     "data": {
      "text/plain": [
       "ModelChainResult(_singleton_tuples=False, solar_position=None, airmass=None, ac=2022-07-06 00:00:00-07:00   -0.075\n",
       "2022-07-06 00:01:00-07:00   -0.075\n",
       "2022-07-06 00:02:00-07:00   -0.075\n",
       "2022-07-06 00:03:00-07:00   -0.075\n",
       "2022-07-06 00:04:00-07:00   -0.075\n",
       "                             ...  \n",
       "2022-07-06 23:56:00-07:00   -0.075\n",
       "2022-07-06 23:57:00-07:00   -0.075\n",
       "2022-07-06 23:58:00-07:00   -0.075\n",
       "2022-07-06 23:59:00-07:00   -0.075\n",
       "2022-07-07 00:00:00-07:00   -0.075\n",
       "Freq: T, Length: 1441, dtype: float64, tracking=None, losses=1, total_irrad=Empty DataFrame\n",
       "Columns: []\n",
       "Index: [2022-07-06 00:00:00-07:00, 2022-07-06 00:01:00-07:00, 2022-07-06 00:02:00-07:00, 2022-07-06 00:03:00-07:00, 2022-07-06 00:04:00-07:00, 2022-07-06 00:05:00-07:00, 2022-07-06 00:06:00-07:00, 2022-07-06 00:07:00-07:00, 2022-07-06 00:08:00-07:00, 2022-07-06 00:09:00-07:00, 2022-07-06 00:10:00-07:00, 2022-07-06 00:11:00-07:00, 2022-07-06 00:12:00-07:00, 2022-07-06 00:13:00-07:00, 2022-07-06 00:14:00-07:00, 2022-07-06 00:15:00-07:00, 2022-07-06 00:16:00-07:00, 2022-07-06 00:17:00-07:00, 2022-07-06 00:18:00-07:00, 2022-07-06 00:19:00-07:00, 2022-07-06 00:20:00-07:00, 2022-07-06 00:21:00-07:00, 2022-07-06 00:22:00-07:00, 2022-07-06 00:23:00-07:00, 2022-07-06 00:24:00-07:00, 2022-07-06 00:25:00-07:00, 2022-07-06 00:26:00-07:00, 2022-07-06 00:27:00-07:00, 2022-07-06 00:28:00-07:00, 2022-07-06 00:29:00-07:00, 2022-07-06 00:30:00-07:00, 2022-07-06 00:31:00-07:00, 2022-07-06 00:32:00-07:00, 2022-07-06 00:33:00-07:00, 2022-07-06 00:34:00-07:00, 2022-07-06 00:35:00-07:00, 2022-07-06 00:36:00-07:00, 2022-07-06 00:37:00-07:00, 2022-07-06 00:38:00-07:00, 2022-07-06 00:39:00-07:00, 2022-07-06 00:40:00-07:00, 2022-07-06 00:41:00-07:00, 2022-07-06 00:42:00-07:00, 2022-07-06 00:43:00-07:00, 2022-07-06 00:44:00-07:00, 2022-07-06 00:45:00-07:00, 2022-07-06 00:46:00-07:00, 2022-07-06 00:47:00-07:00, 2022-07-06 00:48:00-07:00, 2022-07-06 00:49:00-07:00, 2022-07-06 00:50:00-07:00, 2022-07-06 00:51:00-07:00, 2022-07-06 00:52:00-07:00, 2022-07-06 00:53:00-07:00, 2022-07-06 00:54:00-07:00, 2022-07-06 00:55:00-07:00, 2022-07-06 00:56:00-07:00, 2022-07-06 00:57:00-07:00, 2022-07-06 00:58:00-07:00, 2022-07-06 00:59:00-07:00, 2022-07-06 01:00:00-07:00, 2022-07-06 01:01:00-07:00, 2022-07-06 01:02:00-07:00, 2022-07-06 01:03:00-07:00, 2022-07-06 01:04:00-07:00, 2022-07-06 01:05:00-07:00, 2022-07-06 01:06:00-07:00, 2022-07-06 01:07:00-07:00, 2022-07-06 01:08:00-07:00, 2022-07-06 01:09:00-07:00, 2022-07-06 01:10:00-07:00, 2022-07-06 01:11:00-07:00, 2022-07-06 01:12:00-07:00, 2022-07-06 01:13:00-07:00, 2022-07-06 01:14:00-07:00, 2022-07-06 01:15:00-07:00, 2022-07-06 01:16:00-07:00, 2022-07-06 01:17:00-07:00, 2022-07-06 01:18:00-07:00, 2022-07-06 01:19:00-07:00, 2022-07-06 01:20:00-07:00, 2022-07-06 01:21:00-07:00, 2022-07-06 01:22:00-07:00, 2022-07-06 01:23:00-07:00, 2022-07-06 01:24:00-07:00, 2022-07-06 01:25:00-07:00, 2022-07-06 01:26:00-07:00, 2022-07-06 01:27:00-07:00, 2022-07-06 01:28:00-07:00, 2022-07-06 01:29:00-07:00, 2022-07-06 01:30:00-07:00, 2022-07-06 01:31:00-07:00, 2022-07-06 01:32:00-07:00, 2022-07-06 01:33:00-07:00, 2022-07-06 01:34:00-07:00, 2022-07-06 01:35:00-07:00, 2022-07-06 01:36:00-07:00, 2022-07-06 01:37:00-07:00, 2022-07-06 01:38:00-07:00, 2022-07-06 01:39:00-07:00, ...]\n",
       "\n",
       "[1441 rows x 0 columns], aoi=None, aoi_modifier=None, spectral_modifier=None, cell_temperature=2022-07-06 00:00:00-07:00    20.0\n",
       "2022-07-06 00:01:00-07:00    20.0\n",
       "2022-07-06 00:02:00-07:00    20.0\n",
       "2022-07-06 00:03:00-07:00    20.0\n",
       "2022-07-06 00:04:00-07:00    20.0\n",
       "                             ... \n",
       "2022-07-06 23:56:00-07:00    20.0\n",
       "2022-07-06 23:57:00-07:00    20.0\n",
       "2022-07-06 23:58:00-07:00    20.0\n",
       "2022-07-06 23:59:00-07:00    20.0\n",
       "2022-07-07 00:00:00-07:00    20.0\n",
       "Freq: T, Length: 1441, dtype: float64, effective_irradiance=2022-07-06 00:00:00-07:00    0.0\n",
       "2022-07-06 00:01:00-07:00    0.0\n",
       "2022-07-06 00:02:00-07:00    0.0\n",
       "2022-07-06 00:03:00-07:00    0.0\n",
       "2022-07-06 00:04:00-07:00    0.0\n",
       "                            ... \n",
       "2022-07-06 23:56:00-07:00    0.0\n",
       "2022-07-06 23:57:00-07:00    0.0\n",
       "2022-07-06 23:58:00-07:00    0.0\n",
       "2022-07-06 23:59:00-07:00    0.0\n",
       "2022-07-07 00:00:00-07:00    0.0\n",
       "Freq: T, Name: effective_irradiance, Length: 1441, dtype: float64, dc=                                   i_sc  v_oc          i_mp  v_mp  p_mp   \n",
       "2022-07-06 00:00:00-07:00  3.231174e-27   0.0  3.231174e-27   0.0   0.0  \\\n",
       "2022-07-06 00:01:00-07:00  3.231174e-27   0.0  3.231174e-27   0.0   0.0   \n",
       "2022-07-06 00:02:00-07:00  3.231174e-27   0.0  3.231174e-27   0.0   0.0   \n",
       "2022-07-06 00:03:00-07:00  3.231174e-27   0.0  3.231174e-27   0.0   0.0   \n",
       "2022-07-06 00:04:00-07:00  3.231174e-27   0.0  3.231174e-27   0.0   0.0   \n",
       "...                                 ...   ...           ...   ...   ...   \n",
       "2022-07-06 23:56:00-07:00  3.231174e-27   0.0  3.231174e-27   0.0   0.0   \n",
       "2022-07-06 23:57:00-07:00  3.231174e-27   0.0  3.231174e-27   0.0   0.0   \n",
       "2022-07-06 23:58:00-07:00  3.231174e-27   0.0  3.231174e-27   0.0   0.0   \n",
       "2022-07-06 23:59:00-07:00  3.231174e-27   0.0  3.231174e-27   0.0   0.0   \n",
       "2022-07-07 00:00:00-07:00  3.231174e-27   0.0  3.231174e-27   0.0   0.0   \n",
       "\n",
       "                                    i_x          i_xx  \n",
       "2022-07-06 00:00:00-07:00  3.231174e-27  3.231174e-27  \n",
       "2022-07-06 00:01:00-07:00  3.231174e-27  3.231174e-27  \n",
       "2022-07-06 00:02:00-07:00  3.231174e-27  3.231174e-27  \n",
       "2022-07-06 00:03:00-07:00  3.231174e-27  3.231174e-27  \n",
       "2022-07-06 00:04:00-07:00  3.231174e-27  3.231174e-27  \n",
       "...                                 ...           ...  \n",
       "2022-07-06 23:56:00-07:00  3.231174e-27  3.231174e-27  \n",
       "2022-07-06 23:57:00-07:00  3.231174e-27  3.231174e-27  \n",
       "2022-07-06 23:58:00-07:00  3.231174e-27  3.231174e-27  \n",
       "2022-07-06 23:59:00-07:00  3.231174e-27  3.231174e-27  \n",
       "2022-07-07 00:00:00-07:00  3.231174e-27  3.231174e-27  \n",
       "\n",
       "[1441 rows x 7 columns], diode_params=                           I_L           I_o       R_s  R_sh    nNsVth\n",
       "2022-07-06 00:00:00-07:00  0.0  2.184607e-11  0.251086   inf  1.519755\n",
       "2022-07-06 00:01:00-07:00  0.0  2.184607e-11  0.251086   inf  1.519755\n",
       "2022-07-06 00:02:00-07:00  0.0  2.184607e-11  0.251086   inf  1.519755\n",
       "2022-07-06 00:03:00-07:00  0.0  2.184607e-11  0.251086   inf  1.519755\n",
       "2022-07-06 00:04:00-07:00  0.0  2.184607e-11  0.251086   inf  1.519755\n",
       "...                        ...           ...       ...   ...       ...\n",
       "2022-07-06 23:56:00-07:00  0.0  2.184607e-11  0.251086   inf  1.519755\n",
       "2022-07-06 23:57:00-07:00  0.0  2.184607e-11  0.251086   inf  1.519755\n",
       "2022-07-06 23:58:00-07:00  0.0  2.184607e-11  0.251086   inf  1.519755\n",
       "2022-07-06 23:59:00-07:00  0.0  2.184607e-11  0.251086   inf  1.519755\n",
       "2022-07-07 00:00:00-07:00  0.0  2.184607e-11  0.251086   inf  1.519755\n",
       "\n",
       "[1441 rows x 5 columns], dc_ohmic_losses=None, weather=                           wind_speed  temp_air\n",
       "2022-07-06 00:00:00-07:00           0        20\n",
       "2022-07-06 00:01:00-07:00           0        20\n",
       "2022-07-06 00:02:00-07:00           0        20\n",
       "2022-07-06 00:03:00-07:00           0        20\n",
       "2022-07-06 00:04:00-07:00           0        20\n",
       "...                               ...       ...\n",
       "2022-07-06 23:56:00-07:00           0        20\n",
       "2022-07-06 23:57:00-07:00           0        20\n",
       "2022-07-06 23:58:00-07:00           0        20\n",
       "2022-07-06 23:59:00-07:00           0        20\n",
       "2022-07-07 00:00:00-07:00           0        20\n",
       "\n",
       "[1441 rows x 2 columns], times=DatetimeIndex(['2022-07-06 00:00:00-07:00', '2022-07-06 00:01:00-07:00',\n",
       "               '2022-07-06 00:02:00-07:00', '2022-07-06 00:03:00-07:00',\n",
       "               '2022-07-06 00:04:00-07:00', '2022-07-06 00:05:00-07:00',\n",
       "               '2022-07-06 00:06:00-07:00', '2022-07-06 00:07:00-07:00',\n",
       "               '2022-07-06 00:08:00-07:00', '2022-07-06 00:09:00-07:00',\n",
       "               ...\n",
       "               '2022-07-06 23:51:00-07:00', '2022-07-06 23:52:00-07:00',\n",
       "               '2022-07-06 23:53:00-07:00', '2022-07-06 23:54:00-07:00',\n",
       "               '2022-07-06 23:55:00-07:00', '2022-07-06 23:56:00-07:00',\n",
       "               '2022-07-06 23:57:00-07:00', '2022-07-06 23:58:00-07:00',\n",
       "               '2022-07-06 23:59:00-07:00', '2022-07-07 00:00:00-07:00'],\n",
       "              dtype='datetime64[ns, Canada/Pacific]', length=1441, freq='T'))"
      ]
     },
     "execution_count": 51,
     "metadata": {},
     "output_type": "execute_result"
    }
   ],
   "source": [
    "mc_bifi.results"
   ]
  },
  {
   "cell_type": "code",
   "execution_count": 52,
   "id": "fd4c44c9-376c-40d7-b581-29c0e0045458",
   "metadata": {},
   "outputs": [
    {
     "data": {
      "text/plain": [
       "pvlib.modelchain.ModelChainResult"
      ]
     },
     "execution_count": 52,
     "metadata": {},
     "output_type": "execute_result"
    }
   ],
   "source": [
    "type(mc_bifi.results)"
   ]
  },
  {
   "cell_type": "code",
   "execution_count": 53,
   "id": "782f664a-6efb-4957-b47e-4f4246e6145b",
   "metadata": {},
   "outputs": [
    {
     "data": {
      "text/plain": [
       "pandas.core.series.Series"
      ]
     },
     "execution_count": 53,
     "metadata": {},
     "output_type": "execute_result"
    }
   ],
   "source": [
    "type(mc_bifi.results.ac)"
   ]
  },
  {
   "cell_type": "code",
   "execution_count": null,
   "id": "5654802b-b5e5-4a7d-a9e7-26a16ab79e49",
   "metadata": {},
   "outputs": [],
   "source": []
  }
 ],
 "metadata": {
  "kernelspec": {
   "display_name": "Python 3 (ipykernel)",
   "language": "python",
   "name": "python3"
  },
  "language_info": {
   "codemirror_mode": {
    "name": "ipython",
    "version": 3
   },
   "file_extension": ".py",
   "mimetype": "text/x-python",
   "name": "python",
   "nbconvert_exporter": "python",
   "pygments_lexer": "ipython3",
   "version": "3.10.5"
  }
 },
 "nbformat": 4,
 "nbformat_minor": 5
}
